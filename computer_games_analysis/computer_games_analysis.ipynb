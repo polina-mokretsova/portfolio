{
 "cells": [
  {
   "cell_type": "markdown",
   "metadata": {},
   "source": [
    "# Исследование компьютерных игр\n",
    "\n",
    "Мы проведём исследование для интернет-магазина «Стримчик», который продаёт по всему миру компьютерные игры. Из открытых источников доступны исторические данные о продажах игр, оценки пользователей и экспертов, жанры и платформы. Нам нужно выявить определяющие успешность игры закономерности. Это позволит нам сделать ставку на потенциально популярный продукт и спланировать рекламные кампании.\n"
   ]
  },
  {
   "cell_type": "markdown",
   "metadata": {},
   "source": [
    "**Цель исследования** – выявить закономерности, определяющие успешность игры, которые позволят сделать ставку на потенциально популярный продукт и спланировать рекламные кампании."
   ]
  },
  {
   "cell_type": "markdown",
   "metadata": {},
   "source": [
    "**Гипотезы исследования:** \n",
    "1. Средние пользовательские рейтинги платформ Xbox One и PC одинаковые.\n",
    "2. Средние пользовательские рейтинги жанров Action (англ. «действие», экшен-игры) и Sports (англ. «спортивные соревнования») разные.\n",
    "\n",
    "**Мы посмотрим:**\n",
    "* Сколько игр выпускалось в разные годы и узнаем, важны ли данные за все периоды.\n",
    "* Как менялись продажи по платформам – выберем платформы с наибольшими суммарными продажами и построим распределение по годам.\n",
    "* Какой период для нашего исследования будет актуальным – данные за этот период помогут построить прогноз на 2017 год.\n",
    "* Какие платформы лидируют по продажам и выберем несколько потенциально прибыльных платформ.\n",
    "* Как влияют на продажи внутри одной популярной платформы отзывы пользователей и критиков.\n",
    "* На общее распределение игр по жанрам – узнаем, что можно сказать о самых прибыльных жанрах и выделяются ли жанры с высокими и низкими продажами.\n",
    "* Портреты пользователей.\n",
    "* Подтвердятся ли гипотезы."
   ]
  },
  {
   "cell_type": "markdown",
   "metadata": {},
   "source": [
    "**Ход исследования** \n",
    "1. Обзор данных.\n",
    "2. Предобработка данных.\n",
    "3. Исследовательский анализ данных.\n",
    "4. Статистический анализ данных – проверка гипотез.\n",
    "5. Подведение итогов и формулирование общего вывода."
   ]
  },
  {
   "cell_type": "markdown",
   "metadata": {},
   "source": [
    "**Описание данных:**\n",
    "\n",
    "`Name` — название игры \\\n",
    "`Platform` — платформа \\\n",
    "`Year_of_Release` — год выпуска \\\n",
    "`Genre` — жанр игры \\\n",
    "`NA_sales` — продажи в Северной Америке (миллионы проданных копий) \\\n",
    "`EU_sales` — продажи в Европе (миллионы проданных копий) \\\n",
    "`JP_sales` — продажи в Японии (миллионы проданных копий) \\\n",
    "`Other_sales` — продажи в других странах (миллионы проданных копий) \\\n",
    "`Critic_Score` — оценка критиков (максимум 100) \\\n",
    "`User_Score` — оценка пользователей (максимум 10) \\\n",
    "`Rating` — рейтинг от организации ESRB (англ. Entertainment Software Rating Board). Эта ассоциация определяет рейтинг компьютерных игр и присваивает им подходящую возрастную категорию.\n"
   ]
  },
  {
   "cell_type": "markdown",
   "metadata": {},
   "source": [
    "## 1. Обзор данных"
   ]
  },
  {
   "cell_type": "code",
   "execution_count": 1,
   "metadata": {
    "scrolled": true
   },
   "outputs": [
    {
     "name": "stdout",
     "output_type": "stream",
     "text": [
      "Note: you may need to restart the kernel to use updated packages.\n"
     ]
    }
   ],
   "source": [
    "# настроим нашу тетрадку так, чтобы все графики были картинками (пригодится для github)\n",
    "%pip install -U kaleido -q\n",
    "import plotly.io as pio\n",
    "pio.renderers.default = \"png\"\n",
    "\n",
    "# импортируем библиотеки, которые пригодятся нам в ходе анализа\n",
    "import pandas as pd\n",
    "import numpy as np\n",
    "import matplotlib.pyplot as plt\n",
    "import plotly.express as px\n",
    "import seaborn as sns\n",
    "from scipy import stats as st"
   ]
  },
  {
   "cell_type": "markdown",
   "metadata": {},
   "source": [
    "Откроем файл с данными и изучим общую информацию."
   ]
  },
  {
   "cell_type": "code",
   "execution_count": 2,
   "metadata": {},
   "outputs": [
    {
     "name": "stdout",
     "output_type": "stream",
     "text": [
      "<class 'pandas.core.frame.DataFrame'>\n",
      "RangeIndex: 16715 entries, 0 to 16714\n",
      "Data columns (total 11 columns):\n",
      " #   Column           Non-Null Count  Dtype  \n",
      "---  ------           --------------  -----  \n",
      " 0   Name             16713 non-null  object \n",
      " 1   Platform         16715 non-null  object \n",
      " 2   Year_of_Release  16446 non-null  float64\n",
      " 3   Genre            16713 non-null  object \n",
      " 4   NA_sales         16715 non-null  float64\n",
      " 5   EU_sales         16715 non-null  float64\n",
      " 6   JP_sales         16715 non-null  float64\n",
      " 7   Other_sales      16715 non-null  float64\n",
      " 8   Critic_Score     8137 non-null   float64\n",
      " 9   User_Score       10014 non-null  object \n",
      " 10  Rating           9949 non-null   object \n",
      "dtypes: float64(6), object(5)\n",
      "memory usage: 1.4+ MB\n"
     ]
    }
   ],
   "source": [
    "df = pd.read_csv('/Users/polinamokretsova/games.csv')\n",
    "df.info() # выводим общую информацию о датафрэйме"
   ]
  },
  {
   "cell_type": "code",
   "execution_count": 3,
   "metadata": {},
   "outputs": [
    {
     "data": {
      "text/html": [
       "<div>\n",
       "<style scoped>\n",
       "    .dataframe tbody tr th:only-of-type {\n",
       "        vertical-align: middle;\n",
       "    }\n",
       "\n",
       "    .dataframe tbody tr th {\n",
       "        vertical-align: top;\n",
       "    }\n",
       "\n",
       "    .dataframe thead th {\n",
       "        text-align: right;\n",
       "    }\n",
       "</style>\n",
       "<table border=\"1\" class=\"dataframe\">\n",
       "  <thead>\n",
       "    <tr style=\"text-align: right;\">\n",
       "      <th></th>\n",
       "      <th>Name</th>\n",
       "      <th>Platform</th>\n",
       "      <th>Year_of_Release</th>\n",
       "      <th>Genre</th>\n",
       "      <th>NA_sales</th>\n",
       "      <th>EU_sales</th>\n",
       "      <th>JP_sales</th>\n",
       "      <th>Other_sales</th>\n",
       "      <th>Critic_Score</th>\n",
       "      <th>User_Score</th>\n",
       "      <th>Rating</th>\n",
       "    </tr>\n",
       "  </thead>\n",
       "  <tbody>\n",
       "    <tr>\n",
       "      <th>0</th>\n",
       "      <td>Wii Sports</td>\n",
       "      <td>Wii</td>\n",
       "      <td>2006.0</td>\n",
       "      <td>Sports</td>\n",
       "      <td>41.36</td>\n",
       "      <td>28.96</td>\n",
       "      <td>3.77</td>\n",
       "      <td>8.45</td>\n",
       "      <td>76.0</td>\n",
       "      <td>8</td>\n",
       "      <td>E</td>\n",
       "    </tr>\n",
       "    <tr>\n",
       "      <th>1</th>\n",
       "      <td>Super Mario Bros.</td>\n",
       "      <td>NES</td>\n",
       "      <td>1985.0</td>\n",
       "      <td>Platform</td>\n",
       "      <td>29.08</td>\n",
       "      <td>3.58</td>\n",
       "      <td>6.81</td>\n",
       "      <td>0.77</td>\n",
       "      <td>NaN</td>\n",
       "      <td>NaN</td>\n",
       "      <td>NaN</td>\n",
       "    </tr>\n",
       "    <tr>\n",
       "      <th>2</th>\n",
       "      <td>Mario Kart Wii</td>\n",
       "      <td>Wii</td>\n",
       "      <td>2008.0</td>\n",
       "      <td>Racing</td>\n",
       "      <td>15.68</td>\n",
       "      <td>12.76</td>\n",
       "      <td>3.79</td>\n",
       "      <td>3.29</td>\n",
       "      <td>82.0</td>\n",
       "      <td>8.3</td>\n",
       "      <td>E</td>\n",
       "    </tr>\n",
       "    <tr>\n",
       "      <th>3</th>\n",
       "      <td>Wii Sports Resort</td>\n",
       "      <td>Wii</td>\n",
       "      <td>2009.0</td>\n",
       "      <td>Sports</td>\n",
       "      <td>15.61</td>\n",
       "      <td>10.93</td>\n",
       "      <td>3.28</td>\n",
       "      <td>2.95</td>\n",
       "      <td>80.0</td>\n",
       "      <td>8</td>\n",
       "      <td>E</td>\n",
       "    </tr>\n",
       "    <tr>\n",
       "      <th>4</th>\n",
       "      <td>Pokemon Red/Pokemon Blue</td>\n",
       "      <td>GB</td>\n",
       "      <td>1996.0</td>\n",
       "      <td>Role-Playing</td>\n",
       "      <td>11.27</td>\n",
       "      <td>8.89</td>\n",
       "      <td>10.22</td>\n",
       "      <td>1.00</td>\n",
       "      <td>NaN</td>\n",
       "      <td>NaN</td>\n",
       "      <td>NaN</td>\n",
       "    </tr>\n",
       "    <tr>\n",
       "      <th>5</th>\n",
       "      <td>Tetris</td>\n",
       "      <td>GB</td>\n",
       "      <td>1989.0</td>\n",
       "      <td>Puzzle</td>\n",
       "      <td>23.20</td>\n",
       "      <td>2.26</td>\n",
       "      <td>4.22</td>\n",
       "      <td>0.58</td>\n",
       "      <td>NaN</td>\n",
       "      <td>NaN</td>\n",
       "      <td>NaN</td>\n",
       "    </tr>\n",
       "    <tr>\n",
       "      <th>6</th>\n",
       "      <td>New Super Mario Bros.</td>\n",
       "      <td>DS</td>\n",
       "      <td>2006.0</td>\n",
       "      <td>Platform</td>\n",
       "      <td>11.28</td>\n",
       "      <td>9.14</td>\n",
       "      <td>6.50</td>\n",
       "      <td>2.88</td>\n",
       "      <td>89.0</td>\n",
       "      <td>8.5</td>\n",
       "      <td>E</td>\n",
       "    </tr>\n",
       "    <tr>\n",
       "      <th>7</th>\n",
       "      <td>Wii Play</td>\n",
       "      <td>Wii</td>\n",
       "      <td>2006.0</td>\n",
       "      <td>Misc</td>\n",
       "      <td>13.96</td>\n",
       "      <td>9.18</td>\n",
       "      <td>2.93</td>\n",
       "      <td>2.84</td>\n",
       "      <td>58.0</td>\n",
       "      <td>6.6</td>\n",
       "      <td>E</td>\n",
       "    </tr>\n",
       "    <tr>\n",
       "      <th>8</th>\n",
       "      <td>New Super Mario Bros. Wii</td>\n",
       "      <td>Wii</td>\n",
       "      <td>2009.0</td>\n",
       "      <td>Platform</td>\n",
       "      <td>14.44</td>\n",
       "      <td>6.94</td>\n",
       "      <td>4.70</td>\n",
       "      <td>2.24</td>\n",
       "      <td>87.0</td>\n",
       "      <td>8.4</td>\n",
       "      <td>E</td>\n",
       "    </tr>\n",
       "    <tr>\n",
       "      <th>9</th>\n",
       "      <td>Duck Hunt</td>\n",
       "      <td>NES</td>\n",
       "      <td>1984.0</td>\n",
       "      <td>Shooter</td>\n",
       "      <td>26.93</td>\n",
       "      <td>0.63</td>\n",
       "      <td>0.28</td>\n",
       "      <td>0.47</td>\n",
       "      <td>NaN</td>\n",
       "      <td>NaN</td>\n",
       "      <td>NaN</td>\n",
       "    </tr>\n",
       "  </tbody>\n",
       "</table>\n",
       "</div>"
      ],
      "text/plain": [
       "                        Name Platform  Year_of_Release         Genre  \\\n",
       "0                 Wii Sports      Wii           2006.0        Sports   \n",
       "1          Super Mario Bros.      NES           1985.0      Platform   \n",
       "2             Mario Kart Wii      Wii           2008.0        Racing   \n",
       "3          Wii Sports Resort      Wii           2009.0        Sports   \n",
       "4   Pokemon Red/Pokemon Blue       GB           1996.0  Role-Playing   \n",
       "5                     Tetris       GB           1989.0        Puzzle   \n",
       "6      New Super Mario Bros.       DS           2006.0      Platform   \n",
       "7                   Wii Play      Wii           2006.0          Misc   \n",
       "8  New Super Mario Bros. Wii      Wii           2009.0      Platform   \n",
       "9                  Duck Hunt      NES           1984.0       Shooter   \n",
       "\n",
       "   NA_sales  EU_sales  JP_sales  Other_sales  Critic_Score User_Score Rating  \n",
       "0     41.36     28.96      3.77         8.45          76.0          8      E  \n",
       "1     29.08      3.58      6.81         0.77           NaN        NaN    NaN  \n",
       "2     15.68     12.76      3.79         3.29          82.0        8.3      E  \n",
       "3     15.61     10.93      3.28         2.95          80.0          8      E  \n",
       "4     11.27      8.89     10.22         1.00           NaN        NaN    NaN  \n",
       "5     23.20      2.26      4.22         0.58           NaN        NaN    NaN  \n",
       "6     11.28      9.14      6.50         2.88          89.0        8.5      E  \n",
       "7     13.96      9.18      2.93         2.84          58.0        6.6      E  \n",
       "8     14.44      6.94      4.70         2.24          87.0        8.4      E  \n",
       "9     26.93      0.63      0.28         0.47           NaN        NaN    NaN  "
      ]
     },
     "execution_count": 3,
     "metadata": {},
     "output_type": "execute_result"
    }
   ],
   "source": [
    "# изучим первые 10 строк датафрэйма\n",
    "df.head(10) "
   ]
  },
  {
   "cell_type": "code",
   "execution_count": 4,
   "metadata": {},
   "outputs": [
    {
     "data": {
      "text/html": [
       "<div>\n",
       "<style scoped>\n",
       "    .dataframe tbody tr th:only-of-type {\n",
       "        vertical-align: middle;\n",
       "    }\n",
       "\n",
       "    .dataframe tbody tr th {\n",
       "        vertical-align: top;\n",
       "    }\n",
       "\n",
       "    .dataframe thead th {\n",
       "        text-align: right;\n",
       "    }\n",
       "</style>\n",
       "<table border=\"1\" class=\"dataframe\">\n",
       "  <thead>\n",
       "    <tr style=\"text-align: right;\">\n",
       "      <th></th>\n",
       "      <th>Year_of_Release</th>\n",
       "      <th>NA_sales</th>\n",
       "      <th>EU_sales</th>\n",
       "      <th>JP_sales</th>\n",
       "      <th>Other_sales</th>\n",
       "      <th>Critic_Score</th>\n",
       "    </tr>\n",
       "  </thead>\n",
       "  <tbody>\n",
       "    <tr>\n",
       "      <th>count</th>\n",
       "      <td>16446.000000</td>\n",
       "      <td>16715.000000</td>\n",
       "      <td>16715.000000</td>\n",
       "      <td>16715.000000</td>\n",
       "      <td>16715.000000</td>\n",
       "      <td>8137.000000</td>\n",
       "    </tr>\n",
       "    <tr>\n",
       "      <th>mean</th>\n",
       "      <td>2006.484616</td>\n",
       "      <td>0.263377</td>\n",
       "      <td>0.145060</td>\n",
       "      <td>0.077617</td>\n",
       "      <td>0.047342</td>\n",
       "      <td>68.967679</td>\n",
       "    </tr>\n",
       "    <tr>\n",
       "      <th>std</th>\n",
       "      <td>5.877050</td>\n",
       "      <td>0.813604</td>\n",
       "      <td>0.503339</td>\n",
       "      <td>0.308853</td>\n",
       "      <td>0.186731</td>\n",
       "      <td>13.938165</td>\n",
       "    </tr>\n",
       "    <tr>\n",
       "      <th>min</th>\n",
       "      <td>1980.000000</td>\n",
       "      <td>0.000000</td>\n",
       "      <td>0.000000</td>\n",
       "      <td>0.000000</td>\n",
       "      <td>0.000000</td>\n",
       "      <td>13.000000</td>\n",
       "    </tr>\n",
       "    <tr>\n",
       "      <th>25%</th>\n",
       "      <td>2003.000000</td>\n",
       "      <td>0.000000</td>\n",
       "      <td>0.000000</td>\n",
       "      <td>0.000000</td>\n",
       "      <td>0.000000</td>\n",
       "      <td>60.000000</td>\n",
       "    </tr>\n",
       "    <tr>\n",
       "      <th>50%</th>\n",
       "      <td>2007.000000</td>\n",
       "      <td>0.080000</td>\n",
       "      <td>0.020000</td>\n",
       "      <td>0.000000</td>\n",
       "      <td>0.010000</td>\n",
       "      <td>71.000000</td>\n",
       "    </tr>\n",
       "    <tr>\n",
       "      <th>75%</th>\n",
       "      <td>2010.000000</td>\n",
       "      <td>0.240000</td>\n",
       "      <td>0.110000</td>\n",
       "      <td>0.040000</td>\n",
       "      <td>0.030000</td>\n",
       "      <td>79.000000</td>\n",
       "    </tr>\n",
       "    <tr>\n",
       "      <th>max</th>\n",
       "      <td>2016.000000</td>\n",
       "      <td>41.360000</td>\n",
       "      <td>28.960000</td>\n",
       "      <td>10.220000</td>\n",
       "      <td>10.570000</td>\n",
       "      <td>98.000000</td>\n",
       "    </tr>\n",
       "  </tbody>\n",
       "</table>\n",
       "</div>"
      ],
      "text/plain": [
       "       Year_of_Release      NA_sales      EU_sales      JP_sales  \\\n",
       "count     16446.000000  16715.000000  16715.000000  16715.000000   \n",
       "mean       2006.484616      0.263377      0.145060      0.077617   \n",
       "std           5.877050      0.813604      0.503339      0.308853   \n",
       "min        1980.000000      0.000000      0.000000      0.000000   \n",
       "25%        2003.000000      0.000000      0.000000      0.000000   \n",
       "50%        2007.000000      0.080000      0.020000      0.000000   \n",
       "75%        2010.000000      0.240000      0.110000      0.040000   \n",
       "max        2016.000000     41.360000     28.960000     10.220000   \n",
       "\n",
       "        Other_sales  Critic_Score  \n",
       "count  16715.000000   8137.000000  \n",
       "mean       0.047342     68.967679  \n",
       "std        0.186731     13.938165  \n",
       "min        0.000000     13.000000  \n",
       "25%        0.000000     60.000000  \n",
       "50%        0.010000     71.000000  \n",
       "75%        0.030000     79.000000  \n",
       "max       10.570000     98.000000  "
      ]
     },
     "execution_count": 4,
     "metadata": {},
     "output_type": "execute_result"
    }
   ],
   "source": [
    "# получим список характерных значений для наших данных\n",
    "df.describe()"
   ]
  },
  {
   "cell_type": "code",
   "execution_count": 5,
   "metadata": {},
   "outputs": [
    {
     "data": {
      "image/png": "[encoded data removed]",
      "text/plain": [
       "<Figure size 1080x1440 with 6 Axes>"
      ]
     },
     "metadata": {
      "needs_background": "light"
     },
     "output_type": "display_data"
    }
   ],
   "source": [
    "# построим гистограммы\n",
    "df.hist(figsize=(15, 20)) \n",
    "plt.show()"
   ]
  },
  {
   "cell_type": "markdown",
   "metadata": {},
   "source": [
    "**Мы получили данные и ознакомились с ними.** \\\n",
    "Нам предстоит поработать с данными, а именно – провести их предобработку для предстоящего анализа. В следующем шаге мы приведем данные к единому регистру, заменим типы данных, обработаем пропуски в данных, исключим аномальные значения, если такие будут выявлены."
   ]
  },
  {
   "cell_type": "markdown",
   "metadata": {},
   "source": [
    "## 2. Предобработка данных"
   ]
  },
  {
   "cell_type": "markdown",
   "metadata": {},
   "source": [
    "### 2.1. Приведем названия всех столбцов в датафрэйме к змеиному регистру"
   ]
  },
  {
   "cell_type": "code",
   "execution_count": 6,
   "metadata": {},
   "outputs": [],
   "source": [
    "# приведем названия всех столбцов в датафрэйме к змеиному регистру\n",
    "df.columns = df.columns.str.lower() "
   ]
  },
  {
   "cell_type": "markdown",
   "metadata": {},
   "source": [
    "### 2.2. Проверим данные на пропуски"
   ]
  },
  {
   "cell_type": "code",
   "execution_count": 7,
   "metadata": {},
   "outputs": [
    {
     "data": {
      "text/plain": [
       "name                  2\n",
       "platform              0\n",
       "year_of_release     269\n",
       "genre                 2\n",
       "na_sales              0\n",
       "eu_sales              0\n",
       "jp_sales              0\n",
       "other_sales           0\n",
       "critic_score       8578\n",
       "user_score         6701\n",
       "rating             6766\n",
       "dtype: int64"
      ]
     },
     "execution_count": 7,
     "metadata": {},
     "output_type": "execute_result"
    }
   ],
   "source": [
    "df.isna().sum()"
   ]
  },
  {
   "cell_type": "markdown",
   "metadata": {},
   "source": [
    "### 2.2.1. Обработаем пропуски в столбцах name, genre, year_of_release"
   ]
  },
  {
   "cell_type": "code",
   "execution_count": 8,
   "metadata": {},
   "outputs": [],
   "source": [
    "# удалим строки, где не указаны данные и их количество незначительно\n",
    "df = df.dropna(subset=['name'])\n",
    "df = df.dropna(subset=['genre'])\n",
    "df = df.dropna(subset=['year_of_release'])"
   ]
  },
  {
   "cell_type": "markdown",
   "metadata": {},
   "source": [
    "### 2.2.2. Обработаем пропуски в столбцах critic_score и user_score"
   ]
  },
  {
   "cell_type": "code",
   "execution_count": 9,
   "metadata": {},
   "outputs": [],
   "source": [
    "# заменим пропущенные значения в столбцах 'critic_score' и 'user_score' на маркер \"-1\" \n",
    "# так мы будем отличать игры, где оценки были не указаны\n",
    "df['critic_score'] = df['critic_score'].fillna(-1) \n",
    "df['user_score'] = df['user_score'].fillna(-1) \n",
    "\n",
    "# заменим пропущенные значения в столбце 'rating' на маркер \"no rating\"\n",
    "# так мы будем отличать игры, где не указан рейтинг ESRB\n",
    "\n",
    "df['rating'] = df['rating'].fillna('no rating')"
   ]
  },
  {
   "cell_type": "markdown",
   "metadata": {},
   "source": [
    "### 2.2.3. Рассмотрим подробнее столбец с оценками пользователей"
   ]
  },
  {
   "cell_type": "code",
   "execution_count": 10,
   "metadata": {
    "scrolled": false
   },
   "outputs": [
    {
     "data": {
      "text/plain": [
       "array(['8', -1, '8.3', '8.5', '6.6', '8.4', '8.6', '7.7', '6.3', '7.4',\n",
       "       '8.2', '9', '7.9', '8.1', '8.7', '7.1', '3.4', '5.3', '4.8', '3.2',\n",
       "       '8.9', '6.4', '7.8', '7.5', '2.6', '7.2', '9.2', '7', '7.3', '4.3',\n",
       "       '7.6', '5.7', '5', '9.1', '6.5', 'tbd', '8.8', '6.9', '9.4', '6.8',\n",
       "       '6.1', '6.7', '5.4', '4', '4.9', '4.5', '9.3', '6.2', '4.2', '6',\n",
       "       '3.7', '4.1', '5.8', '5.6', '5.5', '4.4', '4.6', '5.9', '3.9',\n",
       "       '3.1', '2.9', '5.2', '3.3', '4.7', '5.1', '3.5', '2.5', '1.9', '3',\n",
       "       '2.7', '2.2', '2', '9.5', '2.1', '3.6', '2.8', '1.8', '3.8', '0',\n",
       "       '1.6', '9.6', '2.4', '1.7', '1.1', '0.3', '1.5', '0.7', '1.2',\n",
       "       '2.3', '0.5', '1.3', '0.2', '0.6', '1.4', '0.9', '1', '9.7'],\n",
       "      dtype=object)"
      ]
     },
     "execution_count": 10,
     "metadata": {},
     "output_type": "execute_result"
    }
   ],
   "source": [
    "df['user_score'].unique()"
   ]
  },
  {
   "cell_type": "markdown",
   "metadata": {},
   "source": [
    "Среди числовых оценок видим 'tbd', что означает to be determined, то есть оценка еще не определена."
   ]
  },
  {
   "cell_type": "code",
   "execution_count": 11,
   "metadata": {},
   "outputs": [
    {
     "data": {
      "text/plain": [
       "2376"
      ]
     },
     "execution_count": 11,
     "metadata": {},
     "output_type": "execute_result"
    }
   ],
   "source": [
    "# посмотрим, сколько таких оценок tbd\n",
    "df[df['user_score'] == 'tbd']['user_score'].count()"
   ]
  },
  {
   "cell_type": "markdown",
   "metadata": {},
   "source": [
    "Эти данные мы не сможем заполнить корректно, поэтому в этом случае их лучше заменить на маркеры, как мы делали с остальными пропусками в данном столбце."
   ]
  },
  {
   "cell_type": "code",
   "execution_count": 12,
   "metadata": {},
   "outputs": [],
   "source": [
    "df.loc[df['user_score'] == 'tbd','user_score'] = -1"
   ]
  },
  {
   "cell_type": "code",
   "execution_count": 13,
   "metadata": {
    "scrolled": true
   },
   "outputs": [
    {
     "data": {
      "text/plain": [
       "name               0\n",
       "platform           0\n",
       "year_of_release    0\n",
       "genre              0\n",
       "na_sales           0\n",
       "eu_sales           0\n",
       "jp_sales           0\n",
       "other_sales        0\n",
       "critic_score       0\n",
       "user_score         0\n",
       "rating             0\n",
       "dtype: int64"
      ]
     },
     "execution_count": 13,
     "metadata": {},
     "output_type": "execute_result"
    }
   ],
   "source": [
    "# проверим результат заполнения пропусков\n",
    "df.isna().sum()"
   ]
  },
  {
   "cell_type": "markdown",
   "metadata": {},
   "source": [
    "Мы заполнили пропуски в данных, теперь можем изменить типы данных, где это необходимо."
   ]
  },
  {
   "cell_type": "markdown",
   "metadata": {},
   "source": [
    "### 2.3. Изменим типы данных"
   ]
  },
  {
   "cell_type": "code",
   "execution_count": 14,
   "metadata": {},
   "outputs": [],
   "source": [
    "df['year_of_release']=df['year_of_release'].astype('int')\n",
    "df['user_score']=df['user_score'].astype('float64')"
   ]
  },
  {
   "cell_type": "code",
   "execution_count": 15,
   "metadata": {
    "scrolled": true
   },
   "outputs": [
    {
     "name": "stdout",
     "output_type": "stream",
     "text": [
      "<class 'pandas.core.frame.DataFrame'>\n",
      "Int64Index: 16444 entries, 0 to 16714\n",
      "Data columns (total 11 columns):\n",
      " #   Column           Non-Null Count  Dtype  \n",
      "---  ------           --------------  -----  \n",
      " 0   name             16444 non-null  object \n",
      " 1   platform         16444 non-null  object \n",
      " 2   year_of_release  16444 non-null  int64  \n",
      " 3   genre            16444 non-null  object \n",
      " 4   na_sales         16444 non-null  float64\n",
      " 5   eu_sales         16444 non-null  float64\n",
      " 6   jp_sales         16444 non-null  float64\n",
      " 7   other_sales      16444 non-null  float64\n",
      " 8   critic_score     16444 non-null  float64\n",
      " 9   user_score       16444 non-null  float64\n",
      " 10  rating           16444 non-null  object \n",
      "dtypes: float64(6), int64(1), object(4)\n",
      "memory usage: 1.5+ MB\n"
     ]
    }
   ],
   "source": [
    "# проверим корректность преобразований\n",
    "df.info()"
   ]
  },
  {
   "cell_type": "markdown",
   "metadata": {},
   "source": [
    "**Мы заменили типы данных:**\n",
    "* на 'int' в столбцах года выпуска, так как данные в этом столбце – это целые числа\n",
    "* на 'float' в столбце с оценкой пользователей, так как это число, а не строка"
   ]
  },
  {
   "cell_type": "markdown",
   "metadata": {},
   "source": [
    "### 2.4. Добавим новый столбец с суммарными продажами во всех регионах"
   ]
  },
  {
   "cell_type": "code",
   "execution_count": 16,
   "metadata": {},
   "outputs": [],
   "source": [
    "df['total_sales'] = df[['na_sales','eu_sales','jp_sales', 'other_sales']].sum(axis = 1)"
   ]
  },
  {
   "cell_type": "code",
   "execution_count": 17,
   "metadata": {},
   "outputs": [
    {
     "data": {
      "text/html": [
       "<div>\n",
       "<style scoped>\n",
       "    .dataframe tbody tr th:only-of-type {\n",
       "        vertical-align: middle;\n",
       "    }\n",
       "\n",
       "    .dataframe tbody tr th {\n",
       "        vertical-align: top;\n",
       "    }\n",
       "\n",
       "    .dataframe thead th {\n",
       "        text-align: right;\n",
       "    }\n",
       "</style>\n",
       "<table border=\"1\" class=\"dataframe\">\n",
       "  <thead>\n",
       "    <tr style=\"text-align: right;\">\n",
       "      <th></th>\n",
       "      <th>name</th>\n",
       "      <th>platform</th>\n",
       "      <th>year_of_release</th>\n",
       "      <th>genre</th>\n",
       "      <th>na_sales</th>\n",
       "      <th>eu_sales</th>\n",
       "      <th>jp_sales</th>\n",
       "      <th>other_sales</th>\n",
       "      <th>critic_score</th>\n",
       "      <th>user_score</th>\n",
       "      <th>rating</th>\n",
       "      <th>total_sales</th>\n",
       "    </tr>\n",
       "  </thead>\n",
       "  <tbody>\n",
       "    <tr>\n",
       "      <th>0</th>\n",
       "      <td>Wii Sports</td>\n",
       "      <td>Wii</td>\n",
       "      <td>2006</td>\n",
       "      <td>Sports</td>\n",
       "      <td>41.36</td>\n",
       "      <td>28.96</td>\n",
       "      <td>3.77</td>\n",
       "      <td>8.45</td>\n",
       "      <td>76.0</td>\n",
       "      <td>8.0</td>\n",
       "      <td>E</td>\n",
       "      <td>82.54</td>\n",
       "    </tr>\n",
       "    <tr>\n",
       "      <th>1</th>\n",
       "      <td>Super Mario Bros.</td>\n",
       "      <td>NES</td>\n",
       "      <td>1985</td>\n",
       "      <td>Platform</td>\n",
       "      <td>29.08</td>\n",
       "      <td>3.58</td>\n",
       "      <td>6.81</td>\n",
       "      <td>0.77</td>\n",
       "      <td>-1.0</td>\n",
       "      <td>-1.0</td>\n",
       "      <td>no rating</td>\n",
       "      <td>40.24</td>\n",
       "    </tr>\n",
       "    <tr>\n",
       "      <th>2</th>\n",
       "      <td>Mario Kart Wii</td>\n",
       "      <td>Wii</td>\n",
       "      <td>2008</td>\n",
       "      <td>Racing</td>\n",
       "      <td>15.68</td>\n",
       "      <td>12.76</td>\n",
       "      <td>3.79</td>\n",
       "      <td>3.29</td>\n",
       "      <td>82.0</td>\n",
       "      <td>8.3</td>\n",
       "      <td>E</td>\n",
       "      <td>35.52</td>\n",
       "    </tr>\n",
       "    <tr>\n",
       "      <th>3</th>\n",
       "      <td>Wii Sports Resort</td>\n",
       "      <td>Wii</td>\n",
       "      <td>2009</td>\n",
       "      <td>Sports</td>\n",
       "      <td>15.61</td>\n",
       "      <td>10.93</td>\n",
       "      <td>3.28</td>\n",
       "      <td>2.95</td>\n",
       "      <td>80.0</td>\n",
       "      <td>8.0</td>\n",
       "      <td>E</td>\n",
       "      <td>32.77</td>\n",
       "    </tr>\n",
       "    <tr>\n",
       "      <th>4</th>\n",
       "      <td>Pokemon Red/Pokemon Blue</td>\n",
       "      <td>GB</td>\n",
       "      <td>1996</td>\n",
       "      <td>Role-Playing</td>\n",
       "      <td>11.27</td>\n",
       "      <td>8.89</td>\n",
       "      <td>10.22</td>\n",
       "      <td>1.00</td>\n",
       "      <td>-1.0</td>\n",
       "      <td>-1.0</td>\n",
       "      <td>no rating</td>\n",
       "      <td>31.38</td>\n",
       "    </tr>\n",
       "  </tbody>\n",
       "</table>\n",
       "</div>"
      ],
      "text/plain": [
       "                       name platform  year_of_release         genre  na_sales  \\\n",
       "0                Wii Sports      Wii             2006        Sports     41.36   \n",
       "1         Super Mario Bros.      NES             1985      Platform     29.08   \n",
       "2            Mario Kart Wii      Wii             2008        Racing     15.68   \n",
       "3         Wii Sports Resort      Wii             2009        Sports     15.61   \n",
       "4  Pokemon Red/Pokemon Blue       GB             1996  Role-Playing     11.27   \n",
       "\n",
       "   eu_sales  jp_sales  other_sales  critic_score  user_score     rating  \\\n",
       "0     28.96      3.77         8.45          76.0         8.0          E   \n",
       "1      3.58      6.81         0.77          -1.0        -1.0  no rating   \n",
       "2     12.76      3.79         3.29          82.0         8.3          E   \n",
       "3     10.93      3.28         2.95          80.0         8.0          E   \n",
       "4      8.89     10.22         1.00          -1.0        -1.0  no rating   \n",
       "\n",
       "   total_sales  \n",
       "0        82.54  \n",
       "1        40.24  \n",
       "2        35.52  \n",
       "3        32.77  \n",
       "4        31.38  "
      ]
     },
     "execution_count": 17,
     "metadata": {},
     "output_type": "execute_result"
    }
   ],
   "source": [
    "# убедимся, что столбец добавлен\n",
    "df.head()"
   ]
  },
  {
   "cell_type": "markdown",
   "metadata": {},
   "source": [
    "**Мы провели предобработку данных:**\n",
    "1. Нашли пропуски – они могли появиться из-за ошибок при выгрузке данных или на момент сбора данных информация отсутствовала.  \n",
    "2. Удалили те строки, количество которых было незначительно. Это не повлияет на дальнейший ход анализа.\n",
    "3. Заменили на маркеры те пропуски, которые мы не смогли бы заполнить достоверно:\n",
    "   * Медианными значениями заполнять оценки критиков и пользователей было бы некорректно, так как на оценку влияют различные факторы. \n",
    "   * Рейтинг от организации ESRB самостоятельно мы могли бы заполнить неверно, что могло бы привести к ошибочным выводам.\n",
    "4. Изменили типы данных, где это было необходимо.\n",
    "5. Добавили в датафрэйм столбец с суммарными продажами во всех регионах. Это нам пригодится для дальнейшего исследования."
   ]
  },
  {
   "cell_type": "markdown",
   "metadata": {},
   "source": [
    "# 3. Исследовательский анализ"
   ]
  },
  {
   "cell_type": "markdown",
   "metadata": {},
   "source": [
    "### 3.1. Посмотрим, сколько игр выпускалось в разные годы"
   ]
  },
  {
   "cell_type": "code",
   "execution_count": 18,
   "metadata": {},
   "outputs": [
    {
     "data": {
      "image/png": "[encoded data removed]"
     },
     "metadata": {},
     "output_type": "display_data"
    }
   ],
   "source": [
    "fig = px.histogram(df, x=\"year_of_release\", title='Распределение количества выпускаемых игр по годам')\n",
    "fig.update_layout(bargap=0.3)\n",
    "fig.update_xaxes(title_text='Год выпуска')\n",
    "fig.update_yaxes(title_text='Количество выпущенных игр')\n",
    "fig.show()"
   ]
  },
  {
   "cell_type": "markdown",
   "metadata": {},
   "source": [
    "Как мы видим по гистограмме, в период 1980-1994 гг. игр выпускалось не так много. Начиная с 1994 года, популярность компьютерных игр росла и их выпускали всё чаще. Однако заметен резкий спад после 2010 года. Рынок компьютерных игр развивается, они становятся всё более профессиональными и интересными. Всё это наталкивает на мысль, что данные за все периоды нам будут не нужны – только те, что будут актуальны на 2016 год."
   ]
  },
  {
   "cell_type": "markdown",
   "metadata": {},
   "source": [
    "### 3.1. Посмотрим на суммарные продажи в разбивке по платформам"
   ]
  },
  {
   "cell_type": "code",
   "execution_count": 19,
   "metadata": {
    "scrolled": false
   },
   "outputs": [
    {
     "data": {
      "text/html": [
       "<div>\n",
       "<style scoped>\n",
       "    .dataframe tbody tr th:only-of-type {\n",
       "        vertical-align: middle;\n",
       "    }\n",
       "\n",
       "    .dataframe tbody tr th {\n",
       "        vertical-align: top;\n",
       "    }\n",
       "\n",
       "    .dataframe thead th {\n",
       "        text-align: right;\n",
       "    }\n",
       "</style>\n",
       "<table border=\"1\" class=\"dataframe\">\n",
       "  <thead>\n",
       "    <tr style=\"text-align: right;\">\n",
       "      <th></th>\n",
       "      <th>platform</th>\n",
       "      <th>total_sales</th>\n",
       "    </tr>\n",
       "  </thead>\n",
       "  <tbody>\n",
       "    <tr>\n",
       "      <th>0</th>\n",
       "      <td>PS2</td>\n",
       "      <td>1233.56</td>\n",
       "    </tr>\n",
       "    <tr>\n",
       "      <th>1</th>\n",
       "      <td>X360</td>\n",
       "      <td>961.24</td>\n",
       "    </tr>\n",
       "    <tr>\n",
       "      <th>2</th>\n",
       "      <td>PS3</td>\n",
       "      <td>931.34</td>\n",
       "    </tr>\n",
       "    <tr>\n",
       "      <th>3</th>\n",
       "      <td>Wii</td>\n",
       "      <td>891.18</td>\n",
       "    </tr>\n",
       "    <tr>\n",
       "      <th>4</th>\n",
       "      <td>DS</td>\n",
       "      <td>802.78</td>\n",
       "    </tr>\n",
       "    <tr>\n",
       "      <th>5</th>\n",
       "      <td>PS</td>\n",
       "      <td>727.58</td>\n",
       "    </tr>\n",
       "    <tr>\n",
       "      <th>6</th>\n",
       "      <td>PS4</td>\n",
       "      <td>314.14</td>\n",
       "    </tr>\n",
       "    <tr>\n",
       "      <th>7</th>\n",
       "      <td>GBA</td>\n",
       "      <td>312.88</td>\n",
       "    </tr>\n",
       "    <tr>\n",
       "      <th>8</th>\n",
       "      <td>PSP</td>\n",
       "      <td>289.53</td>\n",
       "    </tr>\n",
       "    <tr>\n",
       "      <th>9</th>\n",
       "      <td>3DS</td>\n",
       "      <td>257.81</td>\n",
       "    </tr>\n",
       "  </tbody>\n",
       "</table>\n",
       "</div>"
      ],
      "text/plain": [
       "  platform  total_sales\n",
       "0      PS2      1233.56\n",
       "1     X360       961.24\n",
       "2      PS3       931.34\n",
       "3      Wii       891.18\n",
       "4       DS       802.78\n",
       "5       PS       727.58\n",
       "6      PS4       314.14\n",
       "7      GBA       312.88\n",
       "8      PSP       289.53\n",
       "9      3DS       257.81"
      ]
     },
     "execution_count": 19,
     "metadata": {},
     "output_type": "execute_result"
    }
   ],
   "source": [
    "# построим сводную таблицу с платформами и их суммарными продажами, выделим лидирующие платформы по продажам\n",
    "\n",
    "top10_platform = df.pivot_table(index='platform', values='total_sales', aggfunc='sum').nlargest(10, 'total_sales').reset_index()\n",
    "top10_platform"
   ]
  },
  {
   "cell_type": "code",
   "execution_count": 20,
   "metadata": {},
   "outputs": [],
   "source": [
    "# отберем имена платформ в список\n",
    "top10_platform_name = top10_platform['platform'].to_list()"
   ]
  },
  {
   "cell_type": "code",
   "execution_count": 21,
   "metadata": {
    "scrolled": true
   },
   "outputs": [
    {
     "data": {
      "text/html": [
       "<div>\n",
       "<style scoped>\n",
       "    .dataframe tbody tr th:only-of-type {\n",
       "        vertical-align: middle;\n",
       "    }\n",
       "\n",
       "    .dataframe tbody tr th {\n",
       "        vertical-align: top;\n",
       "    }\n",
       "\n",
       "    .dataframe thead th {\n",
       "        text-align: right;\n",
       "    }\n",
       "</style>\n",
       "<table border=\"1\" class=\"dataframe\">\n",
       "  <thead>\n",
       "    <tr style=\"text-align: right;\">\n",
       "      <th></th>\n",
       "      <th>year_of_release</th>\n",
       "      <th>platform</th>\n",
       "      <th>total_sales</th>\n",
       "    </tr>\n",
       "  </thead>\n",
       "  <tbody>\n",
       "    <tr>\n",
       "      <th>0</th>\n",
       "      <td>1980</td>\n",
       "      <td>2600</td>\n",
       "      <td>11.38</td>\n",
       "    </tr>\n",
       "    <tr>\n",
       "      <th>1</th>\n",
       "      <td>1981</td>\n",
       "      <td>2600</td>\n",
       "      <td>35.68</td>\n",
       "    </tr>\n",
       "    <tr>\n",
       "      <th>2</th>\n",
       "      <td>1982</td>\n",
       "      <td>2600</td>\n",
       "      <td>28.88</td>\n",
       "    </tr>\n",
       "    <tr>\n",
       "      <th>3</th>\n",
       "      <td>1983</td>\n",
       "      <td>2600</td>\n",
       "      <td>5.84</td>\n",
       "    </tr>\n",
       "    <tr>\n",
       "      <th>4</th>\n",
       "      <td>1983</td>\n",
       "      <td>NES</td>\n",
       "      <td>10.96</td>\n",
       "    </tr>\n",
       "    <tr>\n",
       "      <th>5</th>\n",
       "      <td>1984</td>\n",
       "      <td>2600</td>\n",
       "      <td>0.27</td>\n",
       "    </tr>\n",
       "    <tr>\n",
       "      <th>6</th>\n",
       "      <td>1984</td>\n",
       "      <td>NES</td>\n",
       "      <td>50.08</td>\n",
       "    </tr>\n",
       "    <tr>\n",
       "      <th>7</th>\n",
       "      <td>1985</td>\n",
       "      <td>2600</td>\n",
       "      <td>0.45</td>\n",
       "    </tr>\n",
       "    <tr>\n",
       "      <th>8</th>\n",
       "      <td>1985</td>\n",
       "      <td>DS</td>\n",
       "      <td>0.02</td>\n",
       "    </tr>\n",
       "    <tr>\n",
       "      <th>9</th>\n",
       "      <td>1985</td>\n",
       "      <td>NES</td>\n",
       "      <td>53.44</td>\n",
       "    </tr>\n",
       "  </tbody>\n",
       "</table>\n",
       "</div>"
      ],
      "text/plain": [
       "   year_of_release platform  total_sales\n",
       "0             1980     2600        11.38\n",
       "1             1981     2600        35.68\n",
       "2             1982     2600        28.88\n",
       "3             1983     2600         5.84\n",
       "4             1983      NES        10.96\n",
       "5             1984     2600         0.27\n",
       "6             1984      NES        50.08\n",
       "7             1985     2600         0.45\n",
       "8             1985       DS         0.02\n",
       "9             1985      NES        53.44"
      ]
     },
     "execution_count": 21,
     "metadata": {},
     "output_type": "execute_result"
    }
   ],
   "source": [
    "# построим сводную таблицу для всех платформ и их суммарных продаж\n",
    "platform_totalsales = df.groupby(['year_of_release', 'platform'], as_index=False).agg(total_sales=('total_sales','sum'))\n",
    "platform_totalsales.head(10)"
   ]
  },
  {
   "cell_type": "code",
   "execution_count": 22,
   "metadata": {},
   "outputs": [],
   "source": [
    "# отберем платформы из списка top10_platform_name\n",
    "platform_totalsales = platform_totalsales[platform_totalsales['platform'].isin(top10_platform_name)]"
   ]
  },
  {
   "cell_type": "code",
   "execution_count": 23,
   "metadata": {},
   "outputs": [
    {
     "data": {
      "image/png": "[encoded data removed]"
     },
     "metadata": {},
     "output_type": "display_data"
    }
   ],
   "source": [
    "# визуализируем результат\n",
    "fig = px.bar(platform_totalsales, x=\"year_of_release\", y=\"total_sales\", color=\"platform\", title='Распределение количества выпускаемых игр по платформам и годам')\n",
    "fig.update_xaxes(title_text='Год выпуска')\n",
    "fig.update_yaxes(title_text='Количество выпущенных игр')\n",
    "fig.show()"
   ]
  },
  {
   "cell_type": "markdown",
   "metadata": {},
   "source": [
    "Как было видно на гистограмме ранее, в период 1980-1994 года игр производилось максимально мало (среди отобранных топ-10 платформ - не было почти ни одной). Исключим эти года для лучшего ознакомления с характерными сроками, когда появляются и исчезают новые платформы."
   ]
  },
  {
   "cell_type": "code",
   "execution_count": 24,
   "metadata": {},
   "outputs": [
    {
     "data": {
      "image/png": "[encoded data removed]"
     },
     "metadata": {},
     "output_type": "display_data"
    }
   ],
   "source": [
    "platform_totalsales = platform_totalsales[platform_totalsales['year_of_release'] >= 1994]\n",
    "# визуализируем результат\n",
    "fig = px.bar(platform_totalsales, x=\"year_of_release\", y=\"total_sales\", color=\"platform\", title=\"Распределение количества выпускаемых игр по платформам и годам\")\n",
    "fig.update_xaxes(title_text='Год выпуска')\n",
    "fig.update_yaxes(title_text='Количество выпущенных игр')\n",
    "fig.show()"
   ]
  },
  {
   "cell_type": "markdown",
   "metadata": {},
   "source": [
    "**Сроки появления и исчезновения платформ:**\\\n",
    "\\\n",
    "**PS:** 1994-2003 (9 лет)\\\n",
    "**GBA:** 2001-2007 (6 лет)\\\n",
    "**PS2:** 2000-2009 (9 лет)\\\n",
    "**DS:** 2004-2013 (9 лет)\\\n",
    "**PSP:** 2005-2012 (7 лет)\\\n",
    "**PS3:** 2006-2016 (10 лет)\\\n",
    "**Wii:** 2006-2014 (8 лет)\\\n",
    "**X360:** 2005-2016 (11 лет)\\\n",
    "**3DS:** 2011-2016 (5 лет)\\\n",
    "**PS4:** 2013-2016 (3 года - на момент 2016 года была еще популярна)\n",
    "\n",
    "Посчитав среднее среди сроков существования платформ, получаем 7,7 лет.\\\n",
    "**7-8 лет - характерный срок существования платформ.**\n",
    "\n",
    "Самая популярная платформа на момент исследования – PS4. **Актуальным для исследования будем считать срок, начиная с года выпуска этой платформы (2013-2016 гг.)**"
   ]
  },
  {
   "cell_type": "markdown",
   "metadata": {},
   "source": [
    "### 3.2. Выделим актуальный период"
   ]
  },
  {
   "cell_type": "code",
   "execution_count": 25,
   "metadata": {},
   "outputs": [
    {
     "data": {
      "image/png": "[encoded data removed]"
     },
     "metadata": {},
     "output_type": "display_data"
    }
   ],
   "source": [
    "# выделим актуальный период для нашего исследования – 2013-2016 гг.\n",
    "platform_totalsales = platform_totalsales[platform_totalsales['year_of_release'] >= 2013]\n",
    "\n",
    "# визуализируем результат\n",
    "fig = px.bar(platform_totalsales, x=\"year_of_release\", y=\"total_sales\", color=\"platform\", barmode=\"group\", title=\"Распределение количества выпускаемых игр по платформам и годам\")\n",
    "fig.update_xaxes(title_text='Год выпуска')\n",
    "fig.update_yaxes(title_text='Количество выпущенных игр')\n",
    "fig.show()"
   ]
  },
  {
   "cell_type": "markdown",
   "metadata": {},
   "source": [
    "Как мы видим по нашей гистограмме:\n",
    "* Продажи постепенно увеличивались у PS4, так что ее можно считать потенциально прибильной.\n",
    "* Уменьшались постепенно продажи у 3DS, PS3, X360, но их также можно рассматривать, как актуальные на этот период."
   ]
  },
  {
   "cell_type": "markdown",
   "metadata": {},
   "source": [
    "### 3.3. Построим график «ящик с усами» по глобальным продажам игр в разбивке по платформам"
   ]
  },
  {
   "cell_type": "code",
   "execution_count": 26,
   "metadata": {},
   "outputs": [],
   "source": [
    "# создадим датафрэйм с данными за период 2013-2016гг\n",
    "df_after_2013 = df.query('year_of_release >= 2013')"
   ]
  },
  {
   "cell_type": "code",
   "execution_count": 27,
   "metadata": {
    "scrolled": false
   },
   "outputs": [
    {
     "data": {
      "text/plain": [
       "<AxesSubplot:xlabel='platform', ylabel='total_sales'>"
      ]
     },
     "execution_count": 27,
     "metadata": {},
     "output_type": "execute_result"
    },
    {
     "data": {
      "image/png": "[encoded data removed]",
      "text/plain": [
       "<Figure size 1080x504 with 1 Axes>"
      ]
     },
     "metadata": {
      "needs_background": "light"
     },
     "output_type": "display_data"
    }
   ],
   "source": [
    "# визуализируем\n",
    "plt.figure(figsize=(15,7))\n",
    "sns.boxplot(\n",
    "    data = df_after_2013,\n",
    "    x = 'platform',\n",
    "    y = 'total_sales',\n",
    ")"
   ]
  },
  {
   "cell_type": "markdown",
   "metadata": {},
   "source": [
    "По такому графике мы, конечно, не сможем сделать выводов, так как их сложно интерпретировать из-за большого количества выбросов. Но зато мы видим, что некоторые платформы были особенно популярными – например, PS3, у которой было продано 20 миллионов копий."
   ]
  },
  {
   "cell_type": "code",
   "execution_count": 28,
   "metadata": {
    "scrolled": true
   },
   "outputs": [
    {
     "data": {
      "text/plain": [
       "<AxesSubplot:xlabel='platform', ylabel='total_sales'>"
      ]
     },
     "execution_count": 28,
     "metadata": {},
     "output_type": "execute_result"
    },
    {
     "data": {
      "image/png": "[encoded data removed]",
      "text/plain": [
       "<Figure size 1080x504 with 1 Axes>"
      ]
     },
     "metadata": {
      "needs_background": "light"
     },
     "output_type": "display_data"
    }
   ],
   "source": [
    "# зададим границы, чтобы лучше рассмотреть график\n",
    "\n",
    "plt.figure(figsize=(15,7))\n",
    "plt.ylim(0, 0.85)\n",
    "sns.boxplot(\n",
    "    data = df_after_2013,\n",
    "    x = 'platform',\n",
    "    y = 'total_sales',\n",
    ")"
   ]
  },
  {
   "cell_type": "code",
   "execution_count": 29,
   "metadata": {
    "scrolled": false
   },
   "outputs": [
    {
     "data": {
      "text/html": [
       "<div>\n",
       "<style scoped>\n",
       "    .dataframe tbody tr th:only-of-type {\n",
       "        vertical-align: middle;\n",
       "    }\n",
       "\n",
       "    .dataframe tbody tr th {\n",
       "        vertical-align: top;\n",
       "    }\n",
       "\n",
       "    .dataframe thead th {\n",
       "        text-align: right;\n",
       "    }\n",
       "</style>\n",
       "<table border=\"1\" class=\"dataframe\">\n",
       "  <thead>\n",
       "    <tr style=\"text-align: right;\">\n",
       "      <th></th>\n",
       "      <th>total_sales</th>\n",
       "    </tr>\n",
       "    <tr>\n",
       "      <th>platform</th>\n",
       "      <th></th>\n",
       "    </tr>\n",
       "  </thead>\n",
       "  <tbody>\n",
       "    <tr>\n",
       "      <th>PS4</th>\n",
       "      <td>314.14</td>\n",
       "    </tr>\n",
       "    <tr>\n",
       "      <th>PS3</th>\n",
       "      <td>181.43</td>\n",
       "    </tr>\n",
       "    <tr>\n",
       "      <th>XOne</th>\n",
       "      <td>159.32</td>\n",
       "    </tr>\n",
       "    <tr>\n",
       "      <th>3DS</th>\n",
       "      <td>143.25</td>\n",
       "    </tr>\n",
       "    <tr>\n",
       "      <th>X360</th>\n",
       "      <td>136.80</td>\n",
       "    </tr>\n",
       "    <tr>\n",
       "      <th>WiiU</th>\n",
       "      <td>64.63</td>\n",
       "    </tr>\n",
       "    <tr>\n",
       "      <th>PC</th>\n",
       "      <td>39.43</td>\n",
       "    </tr>\n",
       "    <tr>\n",
       "      <th>PSV</th>\n",
       "      <td>32.99</td>\n",
       "    </tr>\n",
       "    <tr>\n",
       "      <th>Wii</th>\n",
       "      <td>13.66</td>\n",
       "    </tr>\n",
       "    <tr>\n",
       "      <th>PSP</th>\n",
       "      <td>3.50</td>\n",
       "    </tr>\n",
       "  </tbody>\n",
       "</table>\n",
       "</div>"
      ],
      "text/plain": [
       "          total_sales\n",
       "platform             \n",
       "PS4            314.14\n",
       "PS3            181.43\n",
       "XOne           159.32\n",
       "3DS            143.25\n",
       "X360           136.80\n",
       "WiiU            64.63\n",
       "PC              39.43\n",
       "PSV             32.99\n",
       "Wii             13.66\n",
       "PSP              3.50"
      ]
     },
     "execution_count": 29,
     "metadata": {},
     "output_type": "execute_result"
    }
   ],
   "source": [
    "df_after_2013.pivot_table(index='platform', values='total_sales', aggfunc='sum').nlargest(10, 'total_sales')"
   ]
  },
  {
   "cell_type": "markdown",
   "metadata": {},
   "source": [
    "По диаграмме размаха мы видим, что значения достаточно сильно скошены вправо. Это может быть из-за особенно популярных игр для данных платформ, и эта особенность увеличивает суммарные продажи. PS4 лидирует и по суммарным продажам, и по средним (количество копий за игру). Также по средним продажам не сильно отстают X360 и Wii, чего не скажешь о суммарных продажах.\n",
    "\n",
    "Если рассматривать медианные продажи, то тут лидируют X360, Wii,  XOne и WiiU."
   ]
  },
  {
   "cell_type": "markdown",
   "metadata": {},
   "source": [
    "### 3.4. Посмотрим, как влияют на продажи отзывы пользователей и критиков внутри популярной платформы PS4"
   ]
  },
  {
   "cell_type": "code",
   "execution_count": 30,
   "metadata": {
    "scrolled": true
   },
   "outputs": [
    {
     "data": {
      "image/png": "[encoded data removed]"
     },
     "metadata": {},
     "output_type": "display_data"
    }
   ],
   "source": [
    "# постром диаграмму рассеяния и посчитаем корреляцию между отзывами и продажами\n",
    "\n",
    "# возьмём актуальные данные по PS4 и отссем оценки критиков и пользователей, которые мы пометили маркером \"-1\"\n",
    "games_ps4 = df_after_2013.loc[(df_after_2013['platform'] == 'PS4')&(df_after_2013['user_score'] != -1)&(df_after_2013['critic_score'] != -1)]\n",
    "\n",
    "fig = px.scatter(games_ps4, x=\"user_score\", y=\"total_sales\", title=\"Зависимость продажи игр от оценки пользователей\")\n",
    "fig.update_xaxes(title_text='Оценка пользователей')\n",
    "fig.update_yaxes(title_text='Количество проданных копий')\n",
    "fig.show()"
   ]
  },
  {
   "cell_type": "code",
   "execution_count": 31,
   "metadata": {},
   "outputs": [
    {
     "data": {
      "image/png": "[encoded data removed]"
     },
     "metadata": {},
     "output_type": "display_data"
    }
   ],
   "source": [
    "# постром диаграмму рассеяния и посчитаем корреляцию между оценками критиков и продажами\n",
    "fig = px.scatter(games_ps4, x=\"critic_score\", y=\"total_sales\", title=\"Зависимость продажи игр от оценки критиков\")\n",
    "fig.update_xaxes(title_text='Оценка критиков')\n",
    "fig.update_yaxes(title_text='Количество проданных копий')\n",
    "fig.show()"
   ]
  },
  {
   "cell_type": "code",
   "execution_count": 32,
   "metadata": {
    "scrolled": false
   },
   "outputs": [
    {
     "data": {
      "text/html": [
       "<div>\n",
       "<style scoped>\n",
       "    .dataframe tbody tr th:only-of-type {\n",
       "        vertical-align: middle;\n",
       "    }\n",
       "\n",
       "    .dataframe tbody tr th {\n",
       "        vertical-align: top;\n",
       "    }\n",
       "\n",
       "    .dataframe thead th {\n",
       "        text-align: right;\n",
       "    }\n",
       "</style>\n",
       "<table border=\"1\" class=\"dataframe\">\n",
       "  <thead>\n",
       "    <tr style=\"text-align: right;\">\n",
       "      <th></th>\n",
       "      <th>critic_score</th>\n",
       "      <th>user_score</th>\n",
       "      <th>total_sales</th>\n",
       "    </tr>\n",
       "  </thead>\n",
       "  <tbody>\n",
       "    <tr>\n",
       "      <th>critic_score</th>\n",
       "      <td>1.000000</td>\n",
       "      <td>0.557654</td>\n",
       "      <td>0.405895</td>\n",
       "    </tr>\n",
       "    <tr>\n",
       "      <th>user_score</th>\n",
       "      <td>0.557654</td>\n",
       "      <td>1.000000</td>\n",
       "      <td>-0.033625</td>\n",
       "    </tr>\n",
       "    <tr>\n",
       "      <th>total_sales</th>\n",
       "      <td>0.405895</td>\n",
       "      <td>-0.033625</td>\n",
       "      <td>1.000000</td>\n",
       "    </tr>\n",
       "  </tbody>\n",
       "</table>\n",
       "</div>"
      ],
      "text/plain": [
       "              critic_score  user_score  total_sales\n",
       "critic_score      1.000000    0.557654     0.405895\n",
       "user_score        0.557654    1.000000    -0.033625\n",
       "total_sales       0.405895   -0.033625     1.000000"
      ]
     },
     "execution_count": 32,
     "metadata": {},
     "output_type": "execute_result"
    }
   ],
   "source": [
    "games_ps4[['critic_score','user_score','total_sales']].corr()"
   ]
  },
  {
   "cell_type": "code",
   "execution_count": 33,
   "metadata": {},
   "outputs": [
    {
     "data": {
      "image/png": "[encoded data removed]",
      "text/plain": [
       "<Figure size 432x288 with 2 Axes>"
      ]
     },
     "metadata": {
      "needs_background": "light"
     },
     "output_type": "display_data"
    }
   ],
   "source": [
    "sns.heatmap(games_ps4[['critic_score','user_score','total_sales']].corr(), annot=True)\n",
    "plt.show()"
   ]
  },
  {
   "cell_type": "markdown",
   "metadata": {},
   "source": [
    "Как мы видим по диаграммам рассеяния и значениям корреляции, **связь между оценками критиков и продажами игра на PS4 есть, но небольшая** – 0.4.\\\n",
    "А вот **между оценками пользователей и продажами связи нет**, корреляция отрицательная (-0.03)."
   ]
  },
  {
   "cell_type": "markdown",
   "metadata": {},
   "source": [
    "### 3.5. Посмотрим, как влияют на продажи отзывы пользователей и критиков внутри других популярных платформ: X360, 3DS, PS3"
   ]
  },
  {
   "cell_type": "code",
   "execution_count": 34,
   "metadata": {
    "scrolled": false
   },
   "outputs": [
    {
     "data": {
      "image/png": "[encoded data removed]",
      "text/plain": [
       "<Figure size 432x288 with 2 Axes>"
      ]
     },
     "metadata": {
      "needs_background": "light"
     },
     "output_type": "display_data"
    }
   ],
   "source": [
    "# корреляция – X360\n",
    "games_x360 = df_after_2013.loc[(df_after_2013['platform'] == 'X360')&(df_after_2013['user_score'] != -1)&(df_after_2013['critic_score'] != -1)]\n",
    "sns.heatmap(games_x360[['critic_score','user_score','total_sales']].corr(), annot=True)\n",
    "plt.show()"
   ]
  },
  {
   "cell_type": "markdown",
   "metadata": {},
   "source": [
    "Значения корреляции на X360 почти аналогичны. Оценка критиков – 0.35, а оценка пользователей отрицательная -0,006."
   ]
  },
  {
   "cell_type": "code",
   "execution_count": 35,
   "metadata": {
    "scrolled": false
   },
   "outputs": [
    {
     "data": {
      "image/png": "[encoded data removed]",
      "text/plain": [
       "<Figure size 432x288 with 2 Axes>"
      ]
     },
     "metadata": {
      "needs_background": "light"
     },
     "output_type": "display_data"
    }
   ],
   "source": [
    "# корреляция – 3DS\n",
    "games_3ds = df_after_2013.loc[(df_after_2013['platform'] == '3DS')&(df_after_2013['user_score'] != -1)&(df_after_2013['critic_score'] != -1)]\n",
    "sns.heatmap(games_3ds[['critic_score','user_score','total_sales']].corr(), annot=True)\n",
    "plt.show()"
   ]
  },
  {
   "cell_type": "markdown",
   "metadata": {},
   "source": [
    "Значения корреляции на 3DS у оценки критиков почти аналогичны – 0.34, а корреляция у оценки пользователей выше, но все равно небольшая – 0,27."
   ]
  },
  {
   "cell_type": "code",
   "execution_count": 36,
   "metadata": {
    "scrolled": true
   },
   "outputs": [
    {
     "data": {
      "image/png": "[encoded data removed]",
      "text/plain": [
       "<Figure size 432x288 with 2 Axes>"
      ]
     },
     "metadata": {
      "needs_background": "light"
     },
     "output_type": "display_data"
    }
   ],
   "source": [
    "# корреляция – PS3\n",
    "games_ps3 = df_after_2013.loc[(df_after_2013['platform'] == 'PS3')&(df_after_2013['user_score'] != -1)&(df_after_2013['critic_score'] != -1)]\n",
    "sns.heatmap(games_ps3[['critic_score','user_score','total_sales']].corr(), annot=True)\n",
    "plt.show()"
   ]
  },
  {
   "cell_type": "markdown",
   "metadata": {},
   "source": [
    "Значения корреляции на PS3 у оценки критиков почти аналогичны – 0.33, оценка пользователей – 0,023."
   ]
  },
  {
   "cell_type": "markdown",
   "metadata": {},
   "source": [
    "### 3.6. Посмотрим корелляцию на других платформах вместе взятых (кроме PS4)"
   ]
  },
  {
   "cell_type": "code",
   "execution_count": 37,
   "metadata": {},
   "outputs": [
    {
     "data": {
      "text/html": [
       "<div>\n",
       "<style scoped>\n",
       "    .dataframe tbody tr th:only-of-type {\n",
       "        vertical-align: middle;\n",
       "    }\n",
       "\n",
       "    .dataframe tbody tr th {\n",
       "        vertical-align: top;\n",
       "    }\n",
       "\n",
       "    .dataframe thead th {\n",
       "        text-align: right;\n",
       "    }\n",
       "</style>\n",
       "<table border=\"1\" class=\"dataframe\">\n",
       "  <thead>\n",
       "    <tr style=\"text-align: right;\">\n",
       "      <th></th>\n",
       "      <th>critic_score</th>\n",
       "      <th>user_score</th>\n",
       "      <th>total_sales</th>\n",
       "    </tr>\n",
       "  </thead>\n",
       "  <tbody>\n",
       "    <tr>\n",
       "      <th>critic_score</th>\n",
       "      <td>1.000000</td>\n",
       "      <td>0.484554</td>\n",
       "      <td>0.278749</td>\n",
       "    </tr>\n",
       "    <tr>\n",
       "      <th>user_score</th>\n",
       "      <td>0.484554</td>\n",
       "      <td>1.000000</td>\n",
       "      <td>0.006805</td>\n",
       "    </tr>\n",
       "    <tr>\n",
       "      <th>total_sales</th>\n",
       "      <td>0.278749</td>\n",
       "      <td>0.006805</td>\n",
       "      <td>1.000000</td>\n",
       "    </tr>\n",
       "  </tbody>\n",
       "</table>\n",
       "</div>"
      ],
      "text/plain": [
       "              critic_score  user_score  total_sales\n",
       "critic_score      1.000000    0.484554     0.278749\n",
       "user_score        0.484554    1.000000     0.006805\n",
       "total_sales       0.278749    0.006805     1.000000"
      ]
     },
     "execution_count": 37,
     "metadata": {},
     "output_type": "execute_result"
    }
   ],
   "source": [
    "games_rest = df_after_2013.loc[(df_after_2013['platform'] != 'PS4')&(df_after_2013['user_score'] != -1)&(df_after_2013['critic_score'] != -1)]\n",
    "games_rest[['critic_score','user_score','total_sales']].corr()"
   ]
  },
  {
   "cell_type": "code",
   "execution_count": 38,
   "metadata": {},
   "outputs": [
    {
     "data": {
      "image/png": "[encoded data removed]",
      "text/plain": [
       "<Figure size 432x288 with 2 Axes>"
      ]
     },
     "metadata": {
      "needs_background": "light"
     },
     "output_type": "display_data"
    }
   ],
   "source": [
    "sns.heatmap(games_rest[['critic_score','user_score','total_sales']].corr(), annot=True)\n",
    "plt.show()"
   ]
  },
  {
   "cell_type": "markdown",
   "metadata": {},
   "source": [
    "Значения корреляции на других платформах почти аналогичны. Оценка критиков – 0.2, а оценка пользователей – 0.007."
   ]
  },
  {
   "cell_type": "markdown",
   "metadata": {},
   "source": [
    "### 3.7. Посмотрим на общее распределение игр по жанрам"
   ]
  },
  {
   "cell_type": "code",
   "execution_count": 39,
   "metadata": {
    "scrolled": true
   },
   "outputs": [
    {
     "data": {
      "text/html": [
       "<div>\n",
       "<style scoped>\n",
       "    .dataframe tbody tr th:only-of-type {\n",
       "        vertical-align: middle;\n",
       "    }\n",
       "\n",
       "    .dataframe tbody tr th {\n",
       "        vertical-align: top;\n",
       "    }\n",
       "\n",
       "    .dataframe thead th {\n",
       "        text-align: right;\n",
       "    }\n",
       "</style>\n",
       "<table border=\"1\" class=\"dataframe\">\n",
       "  <thead>\n",
       "    <tr style=\"text-align: right;\">\n",
       "      <th></th>\n",
       "      <th>genre</th>\n",
       "      <th>total_sales</th>\n",
       "    </tr>\n",
       "  </thead>\n",
       "  <tbody>\n",
       "    <tr>\n",
       "      <th>0</th>\n",
       "      <td>Shooter</td>\n",
       "      <td>1.245882</td>\n",
       "    </tr>\n",
       "    <tr>\n",
       "      <th>1</th>\n",
       "      <td>Sports</td>\n",
       "      <td>0.703972</td>\n",
       "    </tr>\n",
       "    <tr>\n",
       "      <th>2</th>\n",
       "      <td>Platform</td>\n",
       "      <td>0.576081</td>\n",
       "    </tr>\n",
       "    <tr>\n",
       "      <th>3</th>\n",
       "      <td>Role-Playing</td>\n",
       "      <td>0.499623</td>\n",
       "    </tr>\n",
       "    <tr>\n",
       "      <th>4</th>\n",
       "      <td>Racing</td>\n",
       "      <td>0.469294</td>\n",
       "    </tr>\n",
       "    <tr>\n",
       "      <th>5</th>\n",
       "      <td>Fighting</td>\n",
       "      <td>0.441375</td>\n",
       "    </tr>\n",
       "    <tr>\n",
       "      <th>6</th>\n",
       "      <td>Action</td>\n",
       "      <td>0.420196</td>\n",
       "    </tr>\n",
       "    <tr>\n",
       "      <th>7</th>\n",
       "      <td>Misc</td>\n",
       "      <td>0.405290</td>\n",
       "    </tr>\n",
       "    <tr>\n",
       "      <th>8</th>\n",
       "      <td>Simulation</td>\n",
       "      <td>0.350968</td>\n",
       "    </tr>\n",
       "    <tr>\n",
       "      <th>9</th>\n",
       "      <td>Puzzle</td>\n",
       "      <td>0.186471</td>\n",
       "    </tr>\n",
       "    <tr>\n",
       "      <th>10</th>\n",
       "      <td>Strategy</td>\n",
       "      <td>0.180000</td>\n",
       "    </tr>\n",
       "    <tr>\n",
       "      <th>11</th>\n",
       "      <td>Adventure</td>\n",
       "      <td>0.096490</td>\n",
       "    </tr>\n",
       "  </tbody>\n",
       "</table>\n",
       "</div>"
      ],
      "text/plain": [
       "           genre  total_sales\n",
       "0        Shooter     1.245882\n",
       "1         Sports     0.703972\n",
       "2       Platform     0.576081\n",
       "3   Role-Playing     0.499623\n",
       "4         Racing     0.469294\n",
       "5       Fighting     0.441375\n",
       "6         Action     0.420196\n",
       "7           Misc     0.405290\n",
       "8     Simulation     0.350968\n",
       "9         Puzzle     0.186471\n",
       "10      Strategy     0.180000\n",
       "11     Adventure     0.096490"
      ]
     },
     "metadata": {},
     "output_type": "display_data"
    }
   ],
   "source": [
    "# Соберём датафрэйм с жанрами и количеством медианных продаж \n",
    "genre_total_sales = df_after_2013.pivot_table(index='genre', values='total_sales', aggfunc='mean'\n",
    "                                    ).sort_values(by='total_sales',ascending=False).reset_index()\n",
    "\n",
    "display(genre_total_sales)"
   ]
  },
  {
   "cell_type": "code",
   "execution_count": 40,
   "metadata": {},
   "outputs": [
    {
     "data": {
      "image/png": "[encoded data removed]"
     },
     "metadata": {},
     "output_type": "display_data"
    }
   ],
   "source": [
    "fig = px.bar(genre_total_sales, x=\"genre\", y=\"total_sales\", color=\"genre\", title='Распределение игр по жанрам')\n",
    "fig.update_xaxes(title_text='Жанр')\n",
    "fig.update_yaxes(title_text='Количество проданных копий')\n",
    "fig.show()"
   ]
  },
  {
   "cell_type": "markdown",
   "metadata": {},
   "source": [
    "**Самый популярный жанр компьютерных игр, который отличается высокими медианными продажами** – Shooter.\\\n",
    "**Средние показатели по продажам** у жанров Sports и Platform.\\\n",
    "**Самые низкие продажи** у жанра Adventure."
   ]
  },
  {
   "cell_type": "markdown",
   "metadata": {},
   "source": [
    "### 3.8. Составим портрет пользователя каждого региона (Северная Америка, Европа, Япония)\n",
    "\n",
    "Узнаем:\n",
    "* Самые популярные платформы (топ-5). Опишем различия в долях продаж.\n",
    "* Самые популярные жанры (топ-5). Поясним разницу.\n",
    "* Влияет ли рейтинг ESRB на продажи в отдельном регионе?\n"
   ]
  },
  {
   "cell_type": "markdown",
   "metadata": {},
   "source": [
    "#### 3.8.1. Самые популярные платформы в регионах"
   ]
  },
  {
   "cell_type": "code",
   "execution_count": 41,
   "metadata": {
    "scrolled": true
   },
   "outputs": [
    {
     "data": {
      "text/html": [
       "<div>\n",
       "<style scoped>\n",
       "    .dataframe tbody tr th:only-of-type {\n",
       "        vertical-align: middle;\n",
       "    }\n",
       "\n",
       "    .dataframe tbody tr th {\n",
       "        vertical-align: top;\n",
       "    }\n",
       "\n",
       "    .dataframe thead th {\n",
       "        text-align: right;\n",
       "    }\n",
       "</style>\n",
       "<table border=\"1\" class=\"dataframe\">\n",
       "  <thead>\n",
       "    <tr style=\"text-align: right;\">\n",
       "      <th></th>\n",
       "      <th>na_sales</th>\n",
       "    </tr>\n",
       "    <tr>\n",
       "      <th>platform</th>\n",
       "      <th></th>\n",
       "    </tr>\n",
       "  </thead>\n",
       "  <tbody>\n",
       "    <tr>\n",
       "      <th>PS4</th>\n",
       "      <td>108.74</td>\n",
       "    </tr>\n",
       "    <tr>\n",
       "      <th>XOne</th>\n",
       "      <td>93.12</td>\n",
       "    </tr>\n",
       "    <tr>\n",
       "      <th>X360</th>\n",
       "      <td>81.66</td>\n",
       "    </tr>\n",
       "    <tr>\n",
       "      <th>PS3</th>\n",
       "      <td>63.50</td>\n",
       "    </tr>\n",
       "    <tr>\n",
       "      <th>3DS</th>\n",
       "      <td>38.20</td>\n",
       "    </tr>\n",
       "  </tbody>\n",
       "</table>\n",
       "</div>"
      ],
      "text/plain": [
       "          na_sales\n",
       "platform          \n",
       "PS4         108.74\n",
       "XOne         93.12\n",
       "X360         81.66\n",
       "PS3          63.50\n",
       "3DS          38.20"
      ]
     },
     "metadata": {},
     "output_type": "display_data"
    },
    {
     "data": {
      "text/html": [
       "<div>\n",
       "<style scoped>\n",
       "    .dataframe tbody tr th:only-of-type {\n",
       "        vertical-align: middle;\n",
       "    }\n",
       "\n",
       "    .dataframe tbody tr th {\n",
       "        vertical-align: top;\n",
       "    }\n",
       "\n",
       "    .dataframe thead th {\n",
       "        text-align: right;\n",
       "    }\n",
       "</style>\n",
       "<table border=\"1\" class=\"dataframe\">\n",
       "  <thead>\n",
       "    <tr style=\"text-align: right;\">\n",
       "      <th></th>\n",
       "      <th>eu_sales</th>\n",
       "    </tr>\n",
       "    <tr>\n",
       "      <th>platform</th>\n",
       "      <th></th>\n",
       "    </tr>\n",
       "  </thead>\n",
       "  <tbody>\n",
       "    <tr>\n",
       "      <th>PS4</th>\n",
       "      <td>141.09</td>\n",
       "    </tr>\n",
       "    <tr>\n",
       "      <th>PS3</th>\n",
       "      <td>67.81</td>\n",
       "    </tr>\n",
       "    <tr>\n",
       "      <th>XOne</th>\n",
       "      <td>51.59</td>\n",
       "    </tr>\n",
       "    <tr>\n",
       "      <th>X360</th>\n",
       "      <td>42.52</td>\n",
       "    </tr>\n",
       "    <tr>\n",
       "      <th>3DS</th>\n",
       "      <td>30.96</td>\n",
       "    </tr>\n",
       "  </tbody>\n",
       "</table>\n",
       "</div>"
      ],
      "text/plain": [
       "          eu_sales\n",
       "platform          \n",
       "PS4         141.09\n",
       "PS3          67.81\n",
       "XOne         51.59\n",
       "X360         42.52\n",
       "3DS          30.96"
      ]
     },
     "metadata": {},
     "output_type": "display_data"
    },
    {
     "data": {
      "text/html": [
       "<div>\n",
       "<style scoped>\n",
       "    .dataframe tbody tr th:only-of-type {\n",
       "        vertical-align: middle;\n",
       "    }\n",
       "\n",
       "    .dataframe tbody tr th {\n",
       "        vertical-align: top;\n",
       "    }\n",
       "\n",
       "    .dataframe thead th {\n",
       "        text-align: right;\n",
       "    }\n",
       "</style>\n",
       "<table border=\"1\" class=\"dataframe\">\n",
       "  <thead>\n",
       "    <tr style=\"text-align: right;\">\n",
       "      <th></th>\n",
       "      <th>jp_sales</th>\n",
       "    </tr>\n",
       "    <tr>\n",
       "      <th>platform</th>\n",
       "      <th></th>\n",
       "    </tr>\n",
       "  </thead>\n",
       "  <tbody>\n",
       "    <tr>\n",
       "      <th>3DS</th>\n",
       "      <td>67.81</td>\n",
       "    </tr>\n",
       "    <tr>\n",
       "      <th>PS3</th>\n",
       "      <td>23.35</td>\n",
       "    </tr>\n",
       "    <tr>\n",
       "      <th>PSV</th>\n",
       "      <td>18.59</td>\n",
       "    </tr>\n",
       "    <tr>\n",
       "      <th>PS4</th>\n",
       "      <td>15.96</td>\n",
       "    </tr>\n",
       "    <tr>\n",
       "      <th>WiiU</th>\n",
       "      <td>10.88</td>\n",
       "    </tr>\n",
       "  </tbody>\n",
       "</table>\n",
       "</div>"
      ],
      "text/plain": [
       "          jp_sales\n",
       "platform          \n",
       "3DS          67.81\n",
       "PS3          23.35\n",
       "PSV          18.59\n",
       "PS4          15.96\n",
       "WiiU         10.88"
      ]
     },
     "metadata": {},
     "output_type": "display_data"
    }
   ],
   "source": [
    "# топ-5 популярных платформ в Северной Америке\n",
    "top5_platform_na = df_after_2013.pivot_table(index='platform', values='na_sales', aggfunc='sum').sort_values(by='na_sales',ascending=False).nlargest(5, 'na_sales')\n",
    "\n",
    "\n",
    "# топ-5 популярных платформ в Европе\n",
    "top5_platform_eu = df_after_2013.pivot_table(index='platform', values='eu_sales', aggfunc='sum').sort_values(by='eu_sales',ascending=False).nlargest(5, 'eu_sales')\n",
    "\n",
    "\n",
    "# топ-5 популярных платформ в Японии\n",
    "top5_platform_jp = df_after_2013.pivot_table(index='platform', values='jp_sales', aggfunc='sum').sort_values(by='jp_sales',ascending=False).nlargest(5, 'jp_sales')\n",
    "\n",
    "display(top5_platform_na)\n",
    "display(top5_platform_eu)\n",
    "display(top5_platform_jp)"
   ]
  },
  {
   "cell_type": "markdown",
   "metadata": {},
   "source": [
    "#### 3.8.2. Самые популярные жанры в регионах"
   ]
  },
  {
   "cell_type": "code",
   "execution_count": 42,
   "metadata": {
    "scrolled": false
   },
   "outputs": [
    {
     "data": {
      "text/html": [
       "<div>\n",
       "<style scoped>\n",
       "    .dataframe tbody tr th:only-of-type {\n",
       "        vertical-align: middle;\n",
       "    }\n",
       "\n",
       "    .dataframe tbody tr th {\n",
       "        vertical-align: top;\n",
       "    }\n",
       "\n",
       "    .dataframe thead th {\n",
       "        text-align: right;\n",
       "    }\n",
       "</style>\n",
       "<table border=\"1\" class=\"dataframe\">\n",
       "  <thead>\n",
       "    <tr style=\"text-align: right;\">\n",
       "      <th></th>\n",
       "      <th>na_sales</th>\n",
       "    </tr>\n",
       "    <tr>\n",
       "      <th>genre</th>\n",
       "      <th></th>\n",
       "    </tr>\n",
       "  </thead>\n",
       "  <tbody>\n",
       "    <tr>\n",
       "      <th>Action</th>\n",
       "      <td>126.05</td>\n",
       "    </tr>\n",
       "    <tr>\n",
       "      <th>Shooter</th>\n",
       "      <td>109.74</td>\n",
       "    </tr>\n",
       "    <tr>\n",
       "      <th>Sports</th>\n",
       "      <td>65.27</td>\n",
       "    </tr>\n",
       "    <tr>\n",
       "      <th>Role-Playing</th>\n",
       "      <td>46.40</td>\n",
       "    </tr>\n",
       "    <tr>\n",
       "      <th>Misc</th>\n",
       "      <td>27.49</td>\n",
       "    </tr>\n",
       "  </tbody>\n",
       "</table>\n",
       "</div>"
      ],
      "text/plain": [
       "              na_sales\n",
       "genre                 \n",
       "Action          126.05\n",
       "Shooter         109.74\n",
       "Sports           65.27\n",
       "Role-Playing     46.40\n",
       "Misc             27.49"
      ]
     },
     "metadata": {},
     "output_type": "display_data"
    },
    {
     "data": {
      "text/html": [
       "<div>\n",
       "<style scoped>\n",
       "    .dataframe tbody tr th:only-of-type {\n",
       "        vertical-align: middle;\n",
       "    }\n",
       "\n",
       "    .dataframe tbody tr th {\n",
       "        vertical-align: top;\n",
       "    }\n",
       "\n",
       "    .dataframe thead th {\n",
       "        text-align: right;\n",
       "    }\n",
       "</style>\n",
       "<table border=\"1\" class=\"dataframe\">\n",
       "  <thead>\n",
       "    <tr style=\"text-align: right;\">\n",
       "      <th></th>\n",
       "      <th>eu_sales</th>\n",
       "    </tr>\n",
       "    <tr>\n",
       "      <th>genre</th>\n",
       "      <th></th>\n",
       "    </tr>\n",
       "  </thead>\n",
       "  <tbody>\n",
       "    <tr>\n",
       "      <th>Action</th>\n",
       "      <td>118.13</td>\n",
       "    </tr>\n",
       "    <tr>\n",
       "      <th>Shooter</th>\n",
       "      <td>87.86</td>\n",
       "    </tr>\n",
       "    <tr>\n",
       "      <th>Sports</th>\n",
       "      <td>60.52</td>\n",
       "    </tr>\n",
       "    <tr>\n",
       "      <th>Role-Playing</th>\n",
       "      <td>36.97</td>\n",
       "    </tr>\n",
       "    <tr>\n",
       "      <th>Racing</th>\n",
       "      <td>20.19</td>\n",
       "    </tr>\n",
       "  </tbody>\n",
       "</table>\n",
       "</div>"
      ],
      "text/plain": [
       "              eu_sales\n",
       "genre                 \n",
       "Action          118.13\n",
       "Shooter          87.86\n",
       "Sports           60.52\n",
       "Role-Playing     36.97\n",
       "Racing           20.19"
      ]
     },
     "metadata": {},
     "output_type": "display_data"
    },
    {
     "data": {
      "text/html": [
       "<div>\n",
       "<style scoped>\n",
       "    .dataframe tbody tr th:only-of-type {\n",
       "        vertical-align: middle;\n",
       "    }\n",
       "\n",
       "    .dataframe tbody tr th {\n",
       "        vertical-align: top;\n",
       "    }\n",
       "\n",
       "    .dataframe thead th {\n",
       "        text-align: right;\n",
       "    }\n",
       "</style>\n",
       "<table border=\"1\" class=\"dataframe\">\n",
       "  <thead>\n",
       "    <tr style=\"text-align: right;\">\n",
       "      <th></th>\n",
       "      <th>jp_sales</th>\n",
       "    </tr>\n",
       "    <tr>\n",
       "      <th>genre</th>\n",
       "      <th></th>\n",
       "    </tr>\n",
       "  </thead>\n",
       "  <tbody>\n",
       "    <tr>\n",
       "      <th>Role-Playing</th>\n",
       "      <td>51.04</td>\n",
       "    </tr>\n",
       "    <tr>\n",
       "      <th>Action</th>\n",
       "      <td>40.49</td>\n",
       "    </tr>\n",
       "    <tr>\n",
       "      <th>Misc</th>\n",
       "      <td>9.20</td>\n",
       "    </tr>\n",
       "    <tr>\n",
       "      <th>Fighting</th>\n",
       "      <td>7.65</td>\n",
       "    </tr>\n",
       "    <tr>\n",
       "      <th>Shooter</th>\n",
       "      <td>6.61</td>\n",
       "    </tr>\n",
       "  </tbody>\n",
       "</table>\n",
       "</div>"
      ],
      "text/plain": [
       "              jp_sales\n",
       "genre                 \n",
       "Role-Playing     51.04\n",
       "Action           40.49\n",
       "Misc              9.20\n",
       "Fighting          7.65\n",
       "Shooter           6.61"
      ]
     },
     "metadata": {},
     "output_type": "display_data"
    }
   ],
   "source": [
    "# топ-5 популярных жанров в Северной Америке\n",
    "top5_genres_na = df_after_2013.pivot_table(index='genre', values='na_sales', aggfunc='sum').sort_values(by='na_sales',ascending=False).nlargest(5, 'na_sales')\n",
    "\n",
    "# топ-5 популярных жанров в Европе\n",
    "top5_genres_eu = df_after_2013.pivot_table(index='genre', values='eu_sales', aggfunc='sum').sort_values(by='eu_sales',ascending=False).nlargest(5, 'eu_sales')\n",
    "\n",
    "# топ-5 популярных жанров в Европе\n",
    "top5_genres_jp = df_after_2013.pivot_table(index='genre', values='jp_sales', aggfunc='sum').sort_values(by='jp_sales',ascending=False).nlargest(5, 'jp_sales')\n",
    "\n",
    "display(top5_genres_na)\n",
    "display(top5_genres_eu)\n",
    "display(top5_genres_jp)"
   ]
  },
  {
   "cell_type": "markdown",
   "metadata": {},
   "source": [
    "#### 3.8.3.  Рейтинг ESRB и продажи в регионах"
   ]
  },
  {
   "cell_type": "markdown",
   "metadata": {},
   "source": [
    "Рейтинг ESRB:\n",
    "* «EC» («Early childhood») — «Для детей младшего возраста»\n",
    "* «E» («Everyone») — «Для всех»\n",
    "* «E10+» («Everyone 10 and older») — «Для всех старше 10 лет»\n",
    "* «T» («Teen») — «Подросткам»\n",
    "* «M» («Mature») — «Для взрослых»\n",
    "* «AO» («Adults Only 18+») — «Только для взрослых»\n",
    "* «RP» («Rating Pending») — «Рейтинг ожидается»"
   ]
  },
  {
   "cell_type": "code",
   "execution_count": 43,
   "metadata": {},
   "outputs": [
    {
     "data": {
      "text/plain": [
       "array(['M', 'no rating', 'E', 'T', 'E10+'], dtype=object)"
      ]
     },
     "execution_count": 43,
     "metadata": {},
     "output_type": "execute_result"
    }
   ],
   "source": [
    "df_after_2013['rating'].unique()"
   ]
  },
  {
   "cell_type": "code",
   "execution_count": 44,
   "metadata": {
    "scrolled": true
   },
   "outputs": [
    {
     "data": {
      "text/html": [
       "<div>\n",
       "<style scoped>\n",
       "    .dataframe tbody tr th:only-of-type {\n",
       "        vertical-align: middle;\n",
       "    }\n",
       "\n",
       "    .dataframe tbody tr th {\n",
       "        vertical-align: top;\n",
       "    }\n",
       "\n",
       "    .dataframe thead th {\n",
       "        text-align: right;\n",
       "    }\n",
       "</style>\n",
       "<table border=\"1\" class=\"dataframe\">\n",
       "  <thead>\n",
       "    <tr style=\"text-align: right;\">\n",
       "      <th></th>\n",
       "      <th>na_sales</th>\n",
       "    </tr>\n",
       "    <tr>\n",
       "      <th>rating</th>\n",
       "      <th></th>\n",
       "    </tr>\n",
       "  </thead>\n",
       "  <tbody>\n",
       "    <tr>\n",
       "      <th>M</th>\n",
       "      <td>165.21</td>\n",
       "    </tr>\n",
       "    <tr>\n",
       "      <th>no rating</th>\n",
       "      <td>89.42</td>\n",
       "    </tr>\n",
       "    <tr>\n",
       "      <th>E</th>\n",
       "      <td>79.05</td>\n",
       "    </tr>\n",
       "    <tr>\n",
       "      <th>E10+</th>\n",
       "      <td>54.24</td>\n",
       "    </tr>\n",
       "    <tr>\n",
       "      <th>T</th>\n",
       "      <td>49.79</td>\n",
       "    </tr>\n",
       "  </tbody>\n",
       "</table>\n",
       "</div>"
      ],
      "text/plain": [
       "           na_sales\n",
       "rating             \n",
       "M            165.21\n",
       "no rating     89.42\n",
       "E             79.05\n",
       "E10+          54.24\n",
       "T             49.79"
      ]
     },
     "metadata": {},
     "output_type": "display_data"
    },
    {
     "data": {
      "text/html": [
       "<div>\n",
       "<style scoped>\n",
       "    .dataframe tbody tr th:only-of-type {\n",
       "        vertical-align: middle;\n",
       "    }\n",
       "\n",
       "    .dataframe tbody tr th {\n",
       "        vertical-align: top;\n",
       "    }\n",
       "\n",
       "    .dataframe thead th {\n",
       "        text-align: right;\n",
       "    }\n",
       "</style>\n",
       "<table border=\"1\" class=\"dataframe\">\n",
       "  <thead>\n",
       "    <tr style=\"text-align: right;\">\n",
       "      <th></th>\n",
       "      <th>eu_sales</th>\n",
       "    </tr>\n",
       "    <tr>\n",
       "      <th>rating</th>\n",
       "      <th></th>\n",
       "    </tr>\n",
       "  </thead>\n",
       "  <tbody>\n",
       "    <tr>\n",
       "      <th>M</th>\n",
       "      <td>145.32</td>\n",
       "    </tr>\n",
       "    <tr>\n",
       "      <th>E</th>\n",
       "      <td>83.36</td>\n",
       "    </tr>\n",
       "    <tr>\n",
       "      <th>no rating</th>\n",
       "      <td>78.91</td>\n",
       "    </tr>\n",
       "    <tr>\n",
       "      <th>E10+</th>\n",
       "      <td>42.69</td>\n",
       "    </tr>\n",
       "    <tr>\n",
       "      <th>T</th>\n",
       "      <td>41.95</td>\n",
       "    </tr>\n",
       "  </tbody>\n",
       "</table>\n",
       "</div>"
      ],
      "text/plain": [
       "           eu_sales\n",
       "rating             \n",
       "M            145.32\n",
       "E             83.36\n",
       "no rating     78.91\n",
       "E10+          42.69\n",
       "T             41.95"
      ]
     },
     "metadata": {},
     "output_type": "display_data"
    },
    {
     "data": {
      "text/html": [
       "<div>\n",
       "<style scoped>\n",
       "    .dataframe tbody tr th:only-of-type {\n",
       "        vertical-align: middle;\n",
       "    }\n",
       "\n",
       "    .dataframe tbody tr th {\n",
       "        vertical-align: top;\n",
       "    }\n",
       "\n",
       "    .dataframe thead th {\n",
       "        text-align: right;\n",
       "    }\n",
       "</style>\n",
       "<table border=\"1\" class=\"dataframe\">\n",
       "  <thead>\n",
       "    <tr style=\"text-align: right;\">\n",
       "      <th></th>\n",
       "      <th>jp_sales</th>\n",
       "    </tr>\n",
       "    <tr>\n",
       "      <th>rating</th>\n",
       "      <th></th>\n",
       "    </tr>\n",
       "  </thead>\n",
       "  <tbody>\n",
       "    <tr>\n",
       "      <th>no rating</th>\n",
       "      <td>85.05</td>\n",
       "    </tr>\n",
       "    <tr>\n",
       "      <th>T</th>\n",
       "      <td>20.59</td>\n",
       "    </tr>\n",
       "    <tr>\n",
       "      <th>E</th>\n",
       "      <td>15.14</td>\n",
       "    </tr>\n",
       "    <tr>\n",
       "      <th>M</th>\n",
       "      <td>14.11</td>\n",
       "    </tr>\n",
       "    <tr>\n",
       "      <th>E10+</th>\n",
       "      <td>5.89</td>\n",
       "    </tr>\n",
       "  </tbody>\n",
       "</table>\n",
       "</div>"
      ],
      "text/plain": [
       "           jp_sales\n",
       "rating             \n",
       "no rating     85.05\n",
       "T             20.59\n",
       "E             15.14\n",
       "M             14.11\n",
       "E10+           5.89"
      ]
     },
     "metadata": {},
     "output_type": "display_data"
    }
   ],
   "source": [
    "# распределение по популярности рейтингов игр в Северной Америке\n",
    "rating_na = df_after_2013.pivot_table(index='rating', values='na_sales', aggfunc='sum').sort_values(by='na_sales',ascending=False)\n",
    "\n",
    "# распределение по популярности рейтингов игр в Европе\n",
    "rating_eu = df_after_2013.pivot_table(index='rating', values='eu_sales', aggfunc='sum').sort_values(by='eu_sales',ascending=False)\n",
    "\n",
    "# распределение по популярности рейтингов игр в Японии\n",
    "rating_jp = df_after_2013.pivot_table(index='rating', values='jp_sales', aggfunc='sum').sort_values(by='jp_sales',ascending=False)\n",
    "\n",
    "display(rating_na)\n",
    "display(rating_eu)\n",
    "display(rating_jp)"
   ]
  },
  {
   "cell_type": "code",
   "execution_count": 45,
   "metadata": {},
   "outputs": [
    {
     "data": {
      "text/html": [
       "<div>\n",
       "<style scoped>\n",
       "    .dataframe tbody tr th:only-of-type {\n",
       "        vertical-align: middle;\n",
       "    }\n",
       "\n",
       "    .dataframe tbody tr th {\n",
       "        vertical-align: top;\n",
       "    }\n",
       "\n",
       "    .dataframe thead th {\n",
       "        text-align: right;\n",
       "    }\n",
       "</style>\n",
       "<table border=\"1\" class=\"dataframe\">\n",
       "  <thead>\n",
       "    <tr style=\"text-align: right;\">\n",
       "      <th></th>\n",
       "      <th>name</th>\n",
       "      <th>platform</th>\n",
       "      <th>year_of_release</th>\n",
       "      <th>genre</th>\n",
       "      <th>na_sales</th>\n",
       "      <th>eu_sales</th>\n",
       "      <th>jp_sales</th>\n",
       "      <th>other_sales</th>\n",
       "      <th>critic_score</th>\n",
       "      <th>user_score</th>\n",
       "      <th>rating</th>\n",
       "      <th>total_sales</th>\n",
       "    </tr>\n",
       "  </thead>\n",
       "  <tbody>\n",
       "    <tr>\n",
       "      <th>738</th>\n",
       "      <td>Forza Motorsport 5</td>\n",
       "      <td>XOne</td>\n",
       "      <td>2013</td>\n",
       "      <td>Racing</td>\n",
       "      <td>1.21</td>\n",
       "      <td>0.79</td>\n",
       "      <td>0.01</td>\n",
       "      <td>0.19</td>\n",
       "      <td>79.0</td>\n",
       "      <td>5.9</td>\n",
       "      <td>E</td>\n",
       "      <td>2.20</td>\n",
       "    </tr>\n",
       "    <tr>\n",
       "      <th>3381</th>\n",
       "      <td>FIFA 15</td>\n",
       "      <td>PSV</td>\n",
       "      <td>2014</td>\n",
       "      <td>Sports</td>\n",
       "      <td>0.08</td>\n",
       "      <td>0.35</td>\n",
       "      <td>0.05</td>\n",
       "      <td>0.12</td>\n",
       "      <td>-1.0</td>\n",
       "      <td>3.1</td>\n",
       "      <td>E</td>\n",
       "      <td>0.60</td>\n",
       "    </tr>\n",
       "    <tr>\n",
       "      <th>9179</th>\n",
       "      <td>Homefront: The Revolution</td>\n",
       "      <td>XOne</td>\n",
       "      <td>2016</td>\n",
       "      <td>Shooter</td>\n",
       "      <td>0.06</td>\n",
       "      <td>0.07</td>\n",
       "      <td>0.00</td>\n",
       "      <td>0.01</td>\n",
       "      <td>49.0</td>\n",
       "      <td>4.1</td>\n",
       "      <td>M</td>\n",
       "      <td>0.14</td>\n",
       "    </tr>\n",
       "    <tr>\n",
       "      <th>16158</th>\n",
       "      <td>Raven's Cry</td>\n",
       "      <td>PS4</td>\n",
       "      <td>2015</td>\n",
       "      <td>Role-Playing</td>\n",
       "      <td>0.00</td>\n",
       "      <td>0.01</td>\n",
       "      <td>0.00</td>\n",
       "      <td>0.00</td>\n",
       "      <td>-1.0</td>\n",
       "      <td>-1.0</td>\n",
       "      <td>no rating</td>\n",
       "      <td>0.01</td>\n",
       "    </tr>\n",
       "    <tr>\n",
       "      <th>8072</th>\n",
       "      <td>Super Robot Taisen UX</td>\n",
       "      <td>3DS</td>\n",
       "      <td>2013</td>\n",
       "      <td>Role-Playing</td>\n",
       "      <td>0.00</td>\n",
       "      <td>0.00</td>\n",
       "      <td>0.18</td>\n",
       "      <td>0.00</td>\n",
       "      <td>-1.0</td>\n",
       "      <td>-1.0</td>\n",
       "      <td>no rating</td>\n",
       "      <td>0.18</td>\n",
       "    </tr>\n",
       "  </tbody>\n",
       "</table>\n",
       "</div>"
      ],
      "text/plain": [
       "                            name platform  year_of_release         genre  \\\n",
       "738           Forza Motorsport 5     XOne             2013        Racing   \n",
       "3381                     FIFA 15      PSV             2014        Sports   \n",
       "9179   Homefront: The Revolution     XOne             2016       Shooter   \n",
       "16158                Raven's Cry      PS4             2015  Role-Playing   \n",
       "8072       Super Robot Taisen UX      3DS             2013  Role-Playing   \n",
       "\n",
       "       na_sales  eu_sales  jp_sales  other_sales  critic_score  user_score  \\\n",
       "738        1.21      0.79      0.01         0.19          79.0         5.9   \n",
       "3381       0.08      0.35      0.05         0.12          -1.0         3.1   \n",
       "9179       0.06      0.07      0.00         0.01          49.0         4.1   \n",
       "16158      0.00      0.01      0.00         0.00          -1.0        -1.0   \n",
       "8072       0.00      0.00      0.18         0.00          -1.0        -1.0   \n",
       "\n",
       "          rating  total_sales  \n",
       "738            E         2.20  \n",
       "3381           E         0.60  \n",
       "9179           M         0.14  \n",
       "16158  no rating         0.01  \n",
       "8072   no rating         0.18  "
      ]
     },
     "execution_count": 45,
     "metadata": {},
     "output_type": "execute_result"
    }
   ],
   "source": [
    "df_after_2013.sample(5)"
   ]
  },
  {
   "cell_type": "code",
   "execution_count": 46,
   "metadata": {},
   "outputs": [
    {
     "data": {
      "image/png": "[encoded data removed]",
      "text/plain": [
       "<Figure size 1080x360 with 3 Axes>"
      ]
     },
     "metadata": {},
     "output_type": "display_data"
    }
   ],
   "source": [
    "# визуализируем с помощью диаграмм\n",
    "\n",
    "countries = df_after_2013.columns[4:7]\n",
    "# начертим круговую диаграмму для каждого региона\n",
    "fig, axs = plt.subplots(1, 3, figsize=(15, 5))\n",
    "fig.suptitle('Влияние рейтинга ESRB на продажи в регионах')\n",
    "for i in range(3):\n",
    "  # выберем 5 самых продающих платформ\n",
    "    df_i = (df_after_2013.groupby('rating')[countries[i]].sum().\n",
    "                reset_index().\n",
    "                 sort_values(countries[i], ascending = False, ignore_index = True))\n",
    "\n",
    "    axs[i].pie(df_i[countries[i]], labels = df_i['rating'])\n",
    "  # зададим название региона\n",
    "    axs[i].set_title(df_i.columns[1].split('_')[0].upper())\n",
    "plt.show()"
   ]
  },
  {
   "cell_type": "markdown",
   "metadata": {},
   "source": [
    "Основываясь на полученные данные по пользователям различных регионов, можем сделать вывод.\n",
    "\n",
    "**1. Популярные платформы.**\\\n",
    "Топ-5 популярных платформ в Северной Америке и Европе открывает PS4. Следующие 3 места в разном порядке занимают: PS3, XOne, X360, а закрывает пятёрку лучших – 3DS. В Японии же наоборот самой популярной платформой является 3DS.\n",
    "\n",
    "**2. Популярные жанры.**\\\n",
    "Топ-5 популярных жанров в Северной Америке и Европе почти полностью совпадает. На первом месте Action, затем – Shooter, Sports, Role-Playing. В Японии же лидирует жанр Role-Playing, затем Action, Misc, Fighting и Shooter.\n",
    "\n",
    "**3. Рейтинг ESRB.**\\\n",
    "Популярные рейтинги в Северной Америке и Европе похожи. Самым популярным являетя «M» — «Для взрослых», «E» — «Для всех» и игры без рейтинга. В то время, как в Японии самыми популярными являются игры без рейтинга, а также для подростков («T»).\n",
    "\n",
    "**Вывод:** эта часть исследования показала различие между запросами пользователей в регионах. Если в Северной Америке и Европе запросы схожи, то в Японии популярны другие платформы и жанры компьютерных игр, а также преобладают игры без рейтинга. Рейтинг ESRB – американский, и вполне вероятно, что у японцев свои рейтинги и свои игры. Это может быть обусловлено менталитетом и различными интересами."
   ]
  },
  {
   "cell_type": "markdown",
   "metadata": {},
   "source": [
    "## 4. Статистический анализ данных – проверка гипотез"
   ]
  },
  {
   "cell_type": "markdown",
   "metadata": {},
   "source": [
    "**Перейдём к проверке гипотез:**\n",
    "1. Средние пользовательские рейтинги платформ Xbox One и PC одинаковые.\n",
    "2. Средние пользовательские рейтинги жанров Action и Sports разные.\n"
   ]
  },
  {
   "cell_type": "markdown",
   "metadata": {},
   "source": [
    "**Гипотеза №1 – Средние пользовательские рейтинги платформ Xbox One и PC одинаковые**\n",
    "\n",
    "Нулевая гипотеза H_0: Средние пользовательские рейтинги платформ Xbox One и PC равны.\\\n",
    "Альтернативная гипотеза H_1: Средние пользовательские рейтинги платформ Xbox One и PC не равны."
   ]
  },
  {
   "cell_type": "code",
   "execution_count": 47,
   "metadata": {},
   "outputs": [
    {
     "name": "stdout",
     "output_type": "stream",
     "text": [
      "p-значение: 0.14759594013430463\n",
      "Не удалось отвергнуть нулевую гипотезу\n"
     ]
    }
   ],
   "source": [
    "#  cохраним в переменные данные из нашего актуального датафрэйма отдельно по XOne и PC\n",
    "\n",
    "xone = df_after_2013.loc[(df_after_2013['platform'] == 'XOne')&(df_after_2013['user_score'] != -1)]['user_score']\n",
    "pc = df_after_2013.loc[(df_after_2013['platform'] == 'PC')&(df_after_2013['user_score'] != -1)]['user_score']\n",
    "\n",
    "alpha = .05 # критический уровень статичтической значимости\n",
    "\n",
    "results = st.ttest_ind(\n",
    "    xone,\n",
    "    pc,\n",
    "    equal_var=False)\n",
    "\n",
    "print('p-значение:', results.pvalue)\n",
    "\n",
    "if results.pvalue < alpha:\n",
    "    print('Отвергаем нулевую гипотезу')\n",
    "else:\n",
    "    print('Не удалось отвергнуть нулевую гипотезу')"
   ]
  },
  {
   "cell_type": "markdown",
   "metadata": {},
   "source": [
    "**Гипотеза №2 – Средние пользовательские рейтинги жанров Action и Sports разные**\n",
    "\n",
    "Нулевая гипотеза H_0: Средние пользовательские рейтинги платформ жанров Action и Sports равны.\\\n",
    "Альтернативная гипотеза H_1: Средние пользовательские рейтинги платформ жанров Action и Sports не равны."
   ]
  },
  {
   "cell_type": "code",
   "execution_count": 48,
   "metadata": {},
   "outputs": [
    {
     "name": "stdout",
     "output_type": "stream",
     "text": [
      "p-значение: 1.4460039700704315e-20\n",
      "Отвергаем нулевую гипотезу\n"
     ]
    }
   ],
   "source": [
    "action = df_after_2013.loc[(df_after_2013['genre'] == 'Action')&(df_after_2013['user_score'] != -1)]['user_score']\n",
    "sports = df_after_2013.loc[(df_after_2013['genre'] == 'Sports')&(df_after_2013['user_score'] != -1)]['user_score']\n",
    "\n",
    "alpha = .05 # критический уровень статистической значимости\n",
    "\n",
    "results = st.ttest_ind(\n",
    "    action,\n",
    "    sports,\n",
    "    equal_var=False)\n",
    "\n",
    "print('p-значение:', results.pvalue)\n",
    "\n",
    "if results.pvalue < alpha:\n",
    "    print('Отвергаем нулевую гипотезу')\n",
    "else:\n",
    "    print('Не удалось отвергнуть нулевую гипотезу')"
   ]
  },
  {
   "cell_type": "markdown",
   "metadata": {},
   "source": [
    "**Вывод:**\n",
    "1. Гипотеза о том, что средние пользовательские рейтинги платформ Xbox One и PC одинаковые оказалась верна. \n",
    "2. Гипотеза о том, что средние пользовательские рейтинги жанров Action и Sports разные также оказалась верна."
   ]
  },
  {
   "cell_type": "markdown",
   "metadata": {},
   "source": [
    "# 5. Подведение итогов и формулирование общего вывода"
   ]
  },
  {
   "cell_type": "markdown",
   "metadata": {},
   "source": [
    "**Целью нашего исследования** было выявить закономерности, определяющие успешность игры, которые позволят сделать ставку на потенциально популярный продукт и спланировать рекламные кампании.\n",
    "\n",
    "**Нашими задачами было, узнать**:\n",
    "1. Сколько игр выпускалось в разные годы и понять, важны ли данные за все периоды.\n",
    "2. Как менялись продажи по платформам.\n",
    "3. Какой период для нашего исследования будет актуальным – данные за этот период помогут построить прогноз на 2017 год.\n",
    "4. Какие платформы лидируют по продажам и выберем несколько потенциально прибыльных платформ.\n",
    "5. Как влияют на продажи внутри одной популярной платформы отзывы пользователей и критиков.\n",
    "6. Самые прибыльные жанры и выделяются ли жанры с высокими и низкими продажами.\n",
    "7. Портреты пользователей.\n",
    "8. Подтвердятся ли гипотезы.\n",
    "\n",
    "**В ходе исследования** мы ознакомились с данными, нашли в них проблемы и провели предобработку данных (привели к нижнему регистру названия столбцов, заменили пропуски на маркеры, где это было возможно, удалили те строки с пропусками, количество которых было не критичным, изменили типы данных, где это требовалось), провели исследовательский анализ данных, составили портрет пользователя каждого региона (Северная Америка, Европа, Япония), провели статистический анализ для проверки гипотез. Мы готовы сделать финальные выводы и предложить рекомендации для планирования рекламных кампаний.\n",
    "\n",
    "**Мы получили следующие результаты:**\n",
    "\n",
    "1. В период 1980-1994гг. компьютерных игр выпускалось мало. Начиная с 1994 года, популярность игр росла, и их выпускали всё больше. Однако был заметен резкий спад после 2010 года, который возможно был связан с развитием игр на мобильных телефонах (с появлением iPhone началась новая эра развития мобильных игр). Но рынок компьютерных игр развивался дальше и продолжает это делать до сих пор, игры становятся всё более профессиональными и интересными. Всё это наталкнуло на мысль, что данные за все периоды нам будут не нужны и в нам нужно оставить только те, что будут актуальны на 2016 год.\n",
    "2. Выбрав 10 платформ с наибольшими суммарными продажами и построив распределение по годам, мы узнали, что 7-8 лет – характерный срок существования платформ. А самой популярной платформой на момент нашего исследования является – PS4. \n",
    "3. Актуальным для исследования в итоге мы выбрали период 2013-2016, так как именно в 2013 году была выпущена платформа PS4. Данные за этот период позволят сделать прогноз на 2017 год.\n",
    "4. По глобальным продажам за актуальный период лидирует PS4. Платформы, которые тоже приносили большой доход по медианным продажам –  X360, Wii,  XOne и WiiU.\n",
    "5. Мы выяснили, что особой зависимости между продажами игр и оценками пользователей нет. Однако небольшая зависимость прослеживается между продажами и оценками критиков. Есть вероятность, что некоторые покупатели сначала изучают рецензии критиков, после чего только приобретают игру.\n",
    "6. Самыми популярными жанрами компьютерных игр, которые отличаются высокими продажами являются Shooter. Средние показатели по продажам – Sports и Platform. Самые низкие продажи – Adventure.\n",
    "7. Портреты пользователей разных регионов показали различие между ними. Если в Северной Америке и Европе запросы схожи, то в Японии популярны другие платформы и жанры компьютерных игр, а также преобладают игры без рейтинга. Это может быть обусловлено менталитетом и различными интересами народов.\n",
    "8. Гипотезы, которые были обозначены в начале исследования, оказались верны. Средние пользовательские рейтинги платформ Xbox One и PC одинаковые, а жанров Action и Sports – разные.\n",
    "\n",
    "**Рекомендации на 2017 год**\n",
    "\n",
    "Мы выяснили, что портреты пользователей различаются в зависимости от региона, где они проживают. Отсюда следуют такие рекомендации: \n",
    "1. Игры стоит продвигать, которые выходят на платформах PS4, PS3 и XOne для Северной Америки и Европы. На платформе 3DS - для Японии.\n",
    "2.  В Северной Америке и Европе пользуются спросом игры с рейтингом ESRB «M», а в Японии более популярными являются игры без рейтинга или для подростков («T»).\n",
    "3. Предпочтительным жанром Северной Америке и Европе является Action, а для Японии – Role-Playing."
   ]
  }
 ],
 "metadata": {
  "ExecuteTimeLog": [
   {
    "duration": 489,
    "start_time": "2022-07-11T10:37:24.277Z"
   },
   {
    "duration": 22,
    "start_time": "2022-07-11T10:37:47.768Z"
   },
   {
    "duration": 28,
    "start_time": "2022-07-11T10:38:17.735Z"
   },
   {
    "duration": 1127,
    "start_time": "2022-07-11T10:39:57.613Z"
   },
   {
    "duration": 87,
    "start_time": "2022-07-11T10:57:03.282Z"
   },
   {
    "duration": 9,
    "start_time": "2022-07-11T10:57:11.173Z"
   },
   {
    "duration": 4,
    "start_time": "2022-07-11T10:59:00.163Z"
   },
   {
    "duration": 4,
    "start_time": "2022-07-11T10:59:02.758Z"
   },
   {
    "duration": 16,
    "start_time": "2022-07-11T10:59:20.814Z"
   },
   {
    "duration": 16,
    "start_time": "2022-07-11T11:06:57.907Z"
   },
   {
    "duration": 455,
    "start_time": "2022-07-11T11:13:07.344Z"
   },
   {
    "duration": 20,
    "start_time": "2022-07-11T11:13:07.801Z"
   },
   {
    "duration": 33,
    "start_time": "2022-07-11T11:13:07.823Z"
   },
   {
    "duration": 986,
    "start_time": "2022-07-11T11:13:07.858Z"
   },
   {
    "duration": 16,
    "start_time": "2022-07-11T11:13:08.845Z"
   },
   {
    "duration": 104,
    "start_time": "2022-07-11T11:13:08.862Z"
   },
   {
    "duration": 4,
    "start_time": "2022-07-11T11:15:34.619Z"
   },
   {
    "duration": 10,
    "start_time": "2022-07-11T11:15:39.893Z"
   },
   {
    "duration": 10,
    "start_time": "2022-07-11T11:18:52.816Z"
   },
   {
    "duration": 11,
    "start_time": "2022-07-11T11:19:54.852Z"
   },
   {
    "duration": 7,
    "start_time": "2022-07-11T11:20:39.511Z"
   },
   {
    "duration": 12,
    "start_time": "2022-07-11T11:21:14.917Z"
   },
   {
    "duration": 54,
    "start_time": "2022-07-11T11:28:46.239Z"
   },
   {
    "duration": 450,
    "start_time": "2022-07-11T11:28:55.648Z"
   },
   {
    "duration": 19,
    "start_time": "2022-07-11T11:28:56.100Z"
   },
   {
    "duration": 29,
    "start_time": "2022-07-11T11:28:56.120Z"
   },
   {
    "duration": 965,
    "start_time": "2022-07-11T11:28:56.151Z"
   },
   {
    "duration": 5,
    "start_time": "2022-07-11T11:28:57.118Z"
   },
   {
    "duration": 58,
    "start_time": "2022-07-11T11:28:57.124Z"
   },
   {
    "duration": 7,
    "start_time": "2022-07-11T11:28:57.184Z"
   },
   {
    "duration": 14,
    "start_time": "2022-07-11T11:28:57.192Z"
   },
   {
    "duration": 426,
    "start_time": "2022-07-11T11:29:38.063Z"
   },
   {
    "duration": 20,
    "start_time": "2022-07-11T11:29:38.491Z"
   },
   {
    "duration": 29,
    "start_time": "2022-07-11T11:29:38.513Z"
   },
   {
    "duration": 1013,
    "start_time": "2022-07-11T11:29:38.543Z"
   },
   {
    "duration": 4,
    "start_time": "2022-07-11T11:29:39.558Z"
   },
   {
    "duration": 77,
    "start_time": "2022-07-11T11:29:39.564Z"
   },
   {
    "duration": 8,
    "start_time": "2022-07-11T11:29:39.643Z"
   },
   {
    "duration": 13,
    "start_time": "2022-07-11T11:29:39.653Z"
   },
   {
    "duration": 8145,
    "start_time": "2022-07-11T11:30:37.637Z"
   },
   {
    "duration": 494,
    "start_time": "2022-07-11T11:32:23.507Z"
   },
   {
    "duration": 23,
    "start_time": "2022-07-11T11:32:24.003Z"
   },
   {
    "duration": 30,
    "start_time": "2022-07-11T11:32:24.027Z"
   },
   {
    "duration": 1095,
    "start_time": "2022-07-11T11:32:24.059Z"
   },
   {
    "duration": 3,
    "start_time": "2022-07-11T11:32:25.156Z"
   },
   {
    "duration": 7441,
    "start_time": "2022-07-11T11:32:25.161Z"
   },
   {
    "duration": 20,
    "start_time": "2022-07-11T11:32:32.605Z"
   },
   {
    "duration": 20,
    "start_time": "2022-07-11T11:32:32.628Z"
   },
   {
    "duration": 7865,
    "start_time": "2022-07-11T11:33:10.422Z"
   },
   {
    "duration": 10,
    "start_time": "2022-07-11T11:33:59.315Z"
   },
   {
    "duration": 429,
    "start_time": "2022-07-11T11:37:20.384Z"
   },
   {
    "duration": 21,
    "start_time": "2022-07-11T11:37:20.815Z"
   },
   {
    "duration": 31,
    "start_time": "2022-07-11T11:37:20.837Z"
   },
   {
    "duration": 992,
    "start_time": "2022-07-11T11:37:20.870Z"
   },
   {
    "duration": 4,
    "start_time": "2022-07-11T11:37:21.863Z"
   },
   {
    "duration": 15,
    "start_time": "2022-07-11T11:37:21.869Z"
   },
   {
    "duration": 12,
    "start_time": "2022-07-11T11:37:21.886Z"
   },
   {
    "duration": 28,
    "start_time": "2022-07-11T11:37:21.899Z"
   },
   {
    "duration": 565,
    "start_time": "2022-07-11T11:49:54.096Z"
   },
   {
    "duration": 25,
    "start_time": "2022-07-11T11:49:54.663Z"
   },
   {
    "duration": 47,
    "start_time": "2022-07-11T11:49:54.691Z"
   },
   {
    "duration": 1101,
    "start_time": "2022-07-11T11:49:54.740Z"
   },
   {
    "duration": 4,
    "start_time": "2022-07-11T11:49:55.844Z"
   },
   {
    "duration": 26,
    "start_time": "2022-07-11T11:49:55.850Z"
   },
   {
    "duration": 28,
    "start_time": "2022-07-11T11:49:55.878Z"
   },
   {
    "duration": 45867,
    "start_time": "2022-07-11T11:49:55.908Z"
   },
   {
    "duration": 15,
    "start_time": "2022-07-11T11:50:41.789Z"
   },
   {
    "duration": 490,
    "start_time": "2022-07-11T11:51:02.616Z"
   },
   {
    "duration": 23,
    "start_time": "2022-07-11T11:51:03.108Z"
   },
   {
    "duration": 34,
    "start_time": "2022-07-11T11:51:03.133Z"
   },
   {
    "duration": 1016,
    "start_time": "2022-07-11T11:51:03.169Z"
   },
   {
    "duration": 4,
    "start_time": "2022-07-11T11:51:04.187Z"
   },
   {
    "duration": 16,
    "start_time": "2022-07-11T11:51:04.192Z"
   },
   {
    "duration": 21,
    "start_time": "2022-07-11T11:51:04.209Z"
   },
   {
    "duration": 32745,
    "start_time": "2022-07-11T11:51:04.231Z"
   },
   {
    "duration": 10,
    "start_time": "2022-07-11T11:51:36.978Z"
   },
   {
    "duration": 74,
    "start_time": "2022-07-11T12:09:42.321Z"
   },
   {
    "duration": 11,
    "start_time": "2022-07-11T12:09:58.875Z"
   },
   {
    "duration": 540,
    "start_time": "2022-07-11T12:10:04.322Z"
   },
   {
    "duration": 23,
    "start_time": "2022-07-11T12:10:04.865Z"
   },
   {
    "duration": 54,
    "start_time": "2022-07-11T12:10:04.891Z"
   },
   {
    "duration": 1110,
    "start_time": "2022-07-11T12:10:04.948Z"
   },
   {
    "duration": 3,
    "start_time": "2022-07-11T12:10:06.062Z"
   },
   {
    "duration": 30,
    "start_time": "2022-07-11T12:10:06.068Z"
   },
   {
    "duration": 10,
    "start_time": "2022-07-11T12:10:06.100Z"
   },
   {
    "duration": 80,
    "start_time": "2022-07-11T12:10:06.112Z"
   },
   {
    "duration": 0,
    "start_time": "2022-07-11T12:10:06.194Z"
   },
   {
    "duration": 11,
    "start_time": "2022-07-11T12:10:56.247Z"
   },
   {
    "duration": 11,
    "start_time": "2022-07-11T12:11:05.444Z"
   },
   {
    "duration": 13,
    "start_time": "2022-07-11T12:11:15.117Z"
   },
   {
    "duration": 15,
    "start_time": "2022-07-11T12:11:23.209Z"
   },
   {
    "duration": 584,
    "start_time": "2022-07-11T12:11:30.053Z"
   },
   {
    "duration": 28,
    "start_time": "2022-07-11T12:11:30.640Z"
   },
   {
    "duration": 64,
    "start_time": "2022-07-11T12:11:30.670Z"
   },
   {
    "duration": 1155,
    "start_time": "2022-07-11T12:11:30.736Z"
   },
   {
    "duration": 4,
    "start_time": "2022-07-11T12:11:31.899Z"
   },
   {
    "duration": 50,
    "start_time": "2022-07-11T12:11:31.905Z"
   },
   {
    "duration": 28,
    "start_time": "2022-07-11T12:11:31.957Z"
   },
   {
    "duration": 99,
    "start_time": "2022-07-11T12:11:31.987Z"
   },
   {
    "duration": 0,
    "start_time": "2022-07-11T12:11:32.088Z"
   },
   {
    "duration": 5,
    "start_time": "2022-07-11T12:12:45.408Z"
   },
   {
    "duration": 8,
    "start_time": "2022-07-11T12:13:06.757Z"
   },
   {
    "duration": 5,
    "start_time": "2022-07-11T12:13:25.517Z"
   },
   {
    "duration": 15,
    "start_time": "2022-07-11T12:14:01.656Z"
   },
   {
    "duration": 9,
    "start_time": "2022-07-11T12:14:13.014Z"
   },
   {
    "duration": 4,
    "start_time": "2022-07-11T12:15:11.037Z"
   },
   {
    "duration": 466,
    "start_time": "2022-07-11T12:15:25.341Z"
   },
   {
    "duration": 22,
    "start_time": "2022-07-11T12:15:25.809Z"
   },
   {
    "duration": 39,
    "start_time": "2022-07-11T12:15:25.833Z"
   },
   {
    "duration": 1007,
    "start_time": "2022-07-11T12:15:25.874Z"
   },
   {
    "duration": 3,
    "start_time": "2022-07-11T12:15:26.884Z"
   },
   {
    "duration": 34,
    "start_time": "2022-07-11T12:15:26.888Z"
   },
   {
    "duration": 29,
    "start_time": "2022-07-11T12:15:26.924Z"
   },
   {
    "duration": 15,
    "start_time": "2022-07-11T12:15:26.955Z"
   },
   {
    "duration": 35,
    "start_time": "2022-07-11T12:15:26.972Z"
   },
   {
    "duration": 80,
    "start_time": "2022-07-11T12:17:30.087Z"
   },
   {
    "duration": 23,
    "start_time": "2022-07-11T12:19:07.518Z"
   },
   {
    "duration": 6,
    "start_time": "2022-07-11T12:21:02.287Z"
   },
   {
    "duration": 7,
    "start_time": "2022-07-11T12:21:37.496Z"
   },
   {
    "duration": 22,
    "start_time": "2022-07-11T12:21:40.515Z"
   },
   {
    "duration": 10,
    "start_time": "2022-07-11T12:22:02.396Z"
   },
   {
    "duration": 9,
    "start_time": "2022-07-11T12:22:08.261Z"
   },
   {
    "duration": 22,
    "start_time": "2022-07-11T12:24:01.582Z"
   },
   {
    "duration": 9,
    "start_time": "2022-07-11T12:24:14.339Z"
   },
   {
    "duration": 1273,
    "start_time": "2022-07-11T12:24:26.909Z"
   },
   {
    "duration": 21,
    "start_time": "2022-07-11T12:24:35.593Z"
   },
   {
    "duration": 115,
    "start_time": "2022-07-11T12:26:19.843Z"
   },
   {
    "duration": 6,
    "start_time": "2022-07-11T12:32:52.864Z"
   },
   {
    "duration": 7,
    "start_time": "2022-07-11T12:34:55.791Z"
   },
   {
    "duration": 5,
    "start_time": "2022-07-11T12:35:43.975Z"
   },
   {
    "duration": 4,
    "start_time": "2022-07-11T12:49:55.232Z"
   },
   {
    "duration": 4,
    "start_time": "2022-07-11T12:50:04.306Z"
   },
   {
    "duration": 8,
    "start_time": "2022-07-11T12:53:18.062Z"
   },
   {
    "duration": 433,
    "start_time": "2022-07-11T12:54:03.775Z"
   },
   {
    "duration": 19,
    "start_time": "2022-07-11T12:54:04.210Z"
   },
   {
    "duration": 34,
    "start_time": "2022-07-11T12:54:04.231Z"
   },
   {
    "duration": 1055,
    "start_time": "2022-07-11T12:54:04.267Z"
   },
   {
    "duration": 4,
    "start_time": "2022-07-11T12:54:05.324Z"
   },
   {
    "duration": 17,
    "start_time": "2022-07-11T12:54:05.329Z"
   },
   {
    "duration": 14,
    "start_time": "2022-07-11T12:54:05.347Z"
   },
   {
    "duration": 86,
    "start_time": "2022-07-11T12:54:05.362Z"
   },
   {
    "duration": 0,
    "start_time": "2022-07-11T12:54:05.449Z"
   },
   {
    "duration": 6841,
    "start_time": "2022-07-11T12:54:34.305Z"
   },
   {
    "duration": 6968,
    "start_time": "2022-07-11T12:54:46.113Z"
   },
   {
    "duration": 10,
    "start_time": "2022-07-11T12:57:40.150Z"
   },
   {
    "duration": 10,
    "start_time": "2022-07-11T12:57:49.541Z"
   },
   {
    "duration": 18,
    "start_time": "2022-07-11T12:57:54.015Z"
   },
   {
    "duration": 16,
    "start_time": "2022-07-11T13:02:06.926Z"
   },
   {
    "duration": 15,
    "start_time": "2022-07-11T13:02:28.883Z"
   },
   {
    "duration": 3,
    "start_time": "2022-07-11T13:24:16.450Z"
   },
   {
    "duration": 7,
    "start_time": "2022-07-11T13:25:48.421Z"
   },
   {
    "duration": 13,
    "start_time": "2022-07-11T13:28:45.259Z"
   },
   {
    "duration": 465,
    "start_time": "2022-07-11T13:35:01.663Z"
   },
   {
    "duration": 23,
    "start_time": "2022-07-11T13:35:02.131Z"
   },
   {
    "duration": 37,
    "start_time": "2022-07-11T13:35:02.156Z"
   },
   {
    "duration": 1068,
    "start_time": "2022-07-11T13:35:02.195Z"
   },
   {
    "duration": 3,
    "start_time": "2022-07-11T13:35:03.265Z"
   },
   {
    "duration": 25,
    "start_time": "2022-07-11T13:35:03.270Z"
   },
   {
    "duration": 16,
    "start_time": "2022-07-11T13:35:03.297Z"
   },
   {
    "duration": 64451,
    "start_time": "2022-07-11T13:35:03.323Z"
   },
   {
    "duration": 2,
    "start_time": "2022-07-11T13:36:07.776Z"
   },
   {
    "duration": 36,
    "start_time": "2022-07-11T13:36:07.781Z"
   },
   {
    "duration": 453,
    "start_time": "2022-07-11T13:38:45.442Z"
   },
   {
    "duration": 21,
    "start_time": "2022-07-11T13:38:45.898Z"
   },
   {
    "duration": 29,
    "start_time": "2022-07-11T13:38:45.920Z"
   },
   {
    "duration": 1030,
    "start_time": "2022-07-11T13:38:45.951Z"
   },
   {
    "duration": 4,
    "start_time": "2022-07-11T13:38:46.984Z"
   },
   {
    "duration": 13,
    "start_time": "2022-07-11T13:38:46.990Z"
   },
   {
    "duration": 27,
    "start_time": "2022-07-11T13:38:47.005Z"
   },
   {
    "duration": 64588,
    "start_time": "2022-07-11T13:38:47.034Z"
   },
   {
    "duration": 11,
    "start_time": "2022-07-11T13:39:51.624Z"
   },
   {
    "duration": 504,
    "start_time": "2022-07-11T13:40:53.802Z"
   },
   {
    "duration": 21,
    "start_time": "2022-07-11T13:40:54.308Z"
   },
   {
    "duration": 35,
    "start_time": "2022-07-11T13:40:54.331Z"
   },
   {
    "duration": 1120,
    "start_time": "2022-07-11T13:40:54.368Z"
   },
   {
    "duration": 3,
    "start_time": "2022-07-11T13:40:55.490Z"
   },
   {
    "duration": 28,
    "start_time": "2022-07-11T13:40:55.495Z"
   },
   {
    "duration": 18,
    "start_time": "2022-07-11T13:40:55.525Z"
   },
   {
    "duration": 45232,
    "start_time": "2022-07-11T13:40:55.545Z"
   },
   {
    "duration": 8,
    "start_time": "2022-07-11T13:41:40.779Z"
   },
   {
    "duration": 44812,
    "start_time": "2022-07-11T13:42:54.272Z"
   },
   {
    "duration": 10,
    "start_time": "2022-07-11T13:43:39.086Z"
   },
   {
    "duration": 272,
    "start_time": "2022-07-11T14:30:42.632Z"
   },
   {
    "duration": 87,
    "start_time": "2022-07-11T14:30:53.499Z"
   },
   {
    "duration": 26,
    "start_time": "2022-07-11T14:35:39.721Z"
   },
   {
    "duration": 24,
    "start_time": "2022-07-11T14:45:15.371Z"
   },
   {
    "duration": 89,
    "start_time": "2022-07-11T15:18:34.363Z"
   },
   {
    "duration": 24,
    "start_time": "2022-07-11T15:18:40.123Z"
   },
   {
    "duration": 26,
    "start_time": "2022-07-11T15:22:56.102Z"
   },
   {
    "duration": 15,
    "start_time": "2022-07-11T15:25:40.857Z"
   },
   {
    "duration": 23,
    "start_time": "2022-07-11T15:27:28.869Z"
   },
   {
    "duration": 48,
    "start_time": "2022-07-11T15:29:25.245Z"
   },
   {
    "duration": 62,
    "start_time": "2022-07-11T15:30:27.915Z"
   },
   {
    "duration": 13,
    "start_time": "2022-07-11T15:32:46.473Z"
   },
   {
    "duration": 48,
    "start_time": "2022-07-12T10:04:17.193Z"
   },
   {
    "duration": 465,
    "start_time": "2022-07-12T10:04:23.381Z"
   },
   {
    "duration": 21,
    "start_time": "2022-07-12T10:04:23.848Z"
   },
   {
    "duration": 39,
    "start_time": "2022-07-12T10:04:23.871Z"
   },
   {
    "duration": 1102,
    "start_time": "2022-07-12T10:04:23.912Z"
   },
   {
    "duration": 4,
    "start_time": "2022-07-12T10:04:25.015Z"
   },
   {
    "duration": 15,
    "start_time": "2022-07-12T10:04:25.021Z"
   },
   {
    "duration": 31,
    "start_time": "2022-07-12T10:04:25.038Z"
   },
   {
    "duration": 7,
    "start_time": "2022-07-12T10:04:25.071Z"
   },
   {
    "duration": 38,
    "start_time": "2022-07-12T10:04:25.080Z"
   },
   {
    "duration": 10,
    "start_time": "2022-07-12T10:12:00.316Z"
   },
   {
    "duration": 5,
    "start_time": "2022-07-12T10:12:10.479Z"
   },
   {
    "duration": 5,
    "start_time": "2022-07-12T10:12:54.492Z"
   },
   {
    "duration": 6,
    "start_time": "2022-07-12T10:21:32.948Z"
   },
   {
    "duration": 8,
    "start_time": "2022-07-12T10:21:56.128Z"
   },
   {
    "duration": 10,
    "start_time": "2022-07-12T10:24:42.974Z"
   },
   {
    "duration": 7,
    "start_time": "2022-07-12T10:25:30.096Z"
   },
   {
    "duration": 6,
    "start_time": "2022-07-12T10:25:41.635Z"
   },
   {
    "duration": 4,
    "start_time": "2022-07-12T10:26:02.815Z"
   },
   {
    "duration": 9,
    "start_time": "2022-07-12T10:28:15.119Z"
   },
   {
    "duration": 74,
    "start_time": "2022-07-12T10:30:28.135Z"
   },
   {
    "duration": 11,
    "start_time": "2022-07-12T10:30:44.570Z"
   },
   {
    "duration": 78,
    "start_time": "2022-07-12T10:31:01.111Z"
   },
   {
    "duration": 418,
    "start_time": "2022-07-12T10:38:47.600Z"
   },
   {
    "duration": 19,
    "start_time": "2022-07-12T10:38:48.020Z"
   },
   {
    "duration": 27,
    "start_time": "2022-07-12T10:38:48.040Z"
   },
   {
    "duration": 942,
    "start_time": "2022-07-12T10:38:48.069Z"
   },
   {
    "duration": 3,
    "start_time": "2022-07-12T10:38:49.013Z"
   },
   {
    "duration": 22,
    "start_time": "2022-07-12T10:38:49.018Z"
   },
   {
    "duration": 36,
    "start_time": "2022-07-12T10:38:49.041Z"
   },
   {
    "duration": 7,
    "start_time": "2022-07-12T10:38:49.079Z"
   },
   {
    "duration": 17,
    "start_time": "2022-07-12T10:38:49.087Z"
   },
   {
    "duration": 21,
    "start_time": "2022-07-12T10:38:49.106Z"
   },
   {
    "duration": 8,
    "start_time": "2022-07-12T10:38:49.129Z"
   },
   {
    "duration": 22,
    "start_time": "2022-07-12T10:38:49.139Z"
   },
   {
    "duration": 13,
    "start_time": "2022-07-12T10:38:49.163Z"
   },
   {
    "duration": 28,
    "start_time": "2022-07-12T10:38:49.178Z"
   },
   {
    "duration": 69,
    "start_time": "2022-07-12T10:47:57.439Z"
   },
   {
    "duration": 2,
    "start_time": "2022-07-12T10:48:48.611Z"
   },
   {
    "duration": 577,
    "start_time": "2022-07-12T10:49:37.093Z"
   },
   {
    "duration": 54,
    "start_time": "2022-07-12T10:49:37.671Z"
   },
   {
    "duration": 18,
    "start_time": "2022-07-12T10:49:37.727Z"
   },
   {
    "duration": 28,
    "start_time": "2022-07-12T10:49:37.747Z"
   },
   {
    "duration": 732,
    "start_time": "2022-07-12T10:49:37.776Z"
   },
   {
    "duration": 3,
    "start_time": "2022-07-12T10:49:38.510Z"
   },
   {
    "duration": 16,
    "start_time": "2022-07-12T10:49:38.515Z"
   },
   {
    "duration": 17,
    "start_time": "2022-07-12T10:49:38.533Z"
   },
   {
    "duration": 6,
    "start_time": "2022-07-12T10:49:38.561Z"
   },
   {
    "duration": 5,
    "start_time": "2022-07-12T10:49:38.569Z"
   },
   {
    "duration": 10,
    "start_time": "2022-07-12T10:49:38.575Z"
   },
   {
    "duration": 10,
    "start_time": "2022-07-12T10:49:38.587Z"
   },
   {
    "duration": 11,
    "start_time": "2022-07-12T10:49:38.598Z"
   },
   {
    "duration": 6,
    "start_time": "2022-07-12T10:49:38.610Z"
   },
   {
    "duration": 81,
    "start_time": "2022-07-12T10:49:38.617Z"
   },
   {
    "duration": 87,
    "start_time": "2022-07-12T10:49:38.700Z"
   },
   {
    "duration": 4,
    "start_time": "2022-07-12T10:51:47.296Z"
   },
   {
    "duration": 9,
    "start_time": "2022-07-12T10:51:49.335Z"
   },
   {
    "duration": 4,
    "start_time": "2022-07-12T10:51:51.594Z"
   },
   {
    "duration": 11,
    "start_time": "2022-07-12T10:51:52.872Z"
   },
   {
    "duration": 573,
    "start_time": "2022-07-12T10:51:57.105Z"
   },
   {
    "duration": 49,
    "start_time": "2022-07-12T10:51:57.681Z"
   },
   {
    "duration": 29,
    "start_time": "2022-07-12T10:51:57.731Z"
   },
   {
    "duration": 28,
    "start_time": "2022-07-12T10:51:57.761Z"
   },
   {
    "duration": 711,
    "start_time": "2022-07-12T10:51:57.791Z"
   },
   {
    "duration": 3,
    "start_time": "2022-07-12T10:51:58.504Z"
   },
   {
    "duration": 12,
    "start_time": "2022-07-12T10:51:58.508Z"
   },
   {
    "duration": 14,
    "start_time": "2022-07-12T10:51:58.522Z"
   },
   {
    "duration": 23,
    "start_time": "2022-07-12T10:51:58.537Z"
   },
   {
    "duration": 5,
    "start_time": "2022-07-12T10:51:58.562Z"
   },
   {
    "duration": 12,
    "start_time": "2022-07-12T10:51:58.568Z"
   },
   {
    "duration": 5,
    "start_time": "2022-07-12T10:51:58.582Z"
   },
   {
    "duration": 13,
    "start_time": "2022-07-12T10:51:58.588Z"
   },
   {
    "duration": 6,
    "start_time": "2022-07-12T10:51:58.603Z"
   },
   {
    "duration": 37,
    "start_time": "2022-07-12T10:51:58.610Z"
   },
   {
    "duration": 138,
    "start_time": "2022-07-12T10:51:58.648Z"
   },
   {
    "duration": 5,
    "start_time": "2022-07-12T10:53:44.031Z"
   },
   {
    "duration": 16,
    "start_time": "2022-07-12T10:55:52.537Z"
   },
   {
    "duration": 8,
    "start_time": "2022-07-12T11:08:52.260Z"
   },
   {
    "duration": 167,
    "start_time": "2022-07-12T11:08:58.863Z"
   },
   {
    "duration": 141,
    "start_time": "2022-07-12T11:09:07.167Z"
   },
   {
    "duration": 140,
    "start_time": "2022-07-12T11:09:21.610Z"
   },
   {
    "duration": 139,
    "start_time": "2022-07-12T11:09:25.923Z"
   },
   {
    "duration": 197,
    "start_time": "2022-07-12T11:13:27.199Z"
   },
   {
    "duration": 215,
    "start_time": "2022-07-12T11:14:15.741Z"
   },
   {
    "duration": 234,
    "start_time": "2022-07-12T11:14:21.776Z"
   },
   {
    "duration": 185,
    "start_time": "2022-07-12T11:14:25.701Z"
   },
   {
    "duration": 196,
    "start_time": "2022-07-12T11:14:47.308Z"
   },
   {
    "duration": 255,
    "start_time": "2022-07-12T11:15:41.558Z"
   },
   {
    "duration": 18,
    "start_time": "2022-07-12T13:03:10.780Z"
   },
   {
    "duration": 15,
    "start_time": "2022-07-12T13:03:56.007Z"
   },
   {
    "duration": 14,
    "start_time": "2022-07-12T13:04:03.004Z"
   },
   {
    "duration": 599,
    "start_time": "2022-07-12T13:04:50.192Z"
   },
   {
    "duration": 51,
    "start_time": "2022-07-12T13:04:50.793Z"
   },
   {
    "duration": 21,
    "start_time": "2022-07-12T13:04:50.846Z"
   },
   {
    "duration": 27,
    "start_time": "2022-07-12T13:04:50.869Z"
   },
   {
    "duration": 713,
    "start_time": "2022-07-12T13:04:50.897Z"
   },
   {
    "duration": 4,
    "start_time": "2022-07-12T13:04:51.612Z"
   },
   {
    "duration": 12,
    "start_time": "2022-07-12T13:04:51.617Z"
   },
   {
    "duration": 30,
    "start_time": "2022-07-12T13:04:51.630Z"
   },
   {
    "duration": 7,
    "start_time": "2022-07-12T13:04:51.662Z"
   },
   {
    "duration": 6,
    "start_time": "2022-07-12T13:04:51.671Z"
   },
   {
    "duration": 11,
    "start_time": "2022-07-12T13:04:51.678Z"
   },
   {
    "duration": 9,
    "start_time": "2022-07-12T13:04:51.690Z"
   },
   {
    "duration": 13,
    "start_time": "2022-07-12T13:04:51.700Z"
   },
   {
    "duration": 7,
    "start_time": "2022-07-12T13:04:51.715Z"
   },
   {
    "duration": 88,
    "start_time": "2022-07-12T13:04:51.723Z"
   },
   {
    "duration": 4,
    "start_time": "2022-07-12T13:04:51.813Z"
   },
   {
    "duration": 25,
    "start_time": "2022-07-12T13:04:51.818Z"
   },
   {
    "duration": 176,
    "start_time": "2022-07-12T13:04:51.844Z"
   },
   {
    "duration": 14,
    "start_time": "2022-07-12T13:04:52.022Z"
   },
   {
    "duration": 82,
    "start_time": "2022-07-12T13:05:18.975Z"
   },
   {
    "duration": 21,
    "start_time": "2022-07-12T13:05:35.747Z"
   },
   {
    "duration": 46,
    "start_time": "2022-07-12T13:06:31.584Z"
   },
   {
    "duration": 24,
    "start_time": "2022-07-12T13:06:42.474Z"
   },
   {
    "duration": 32,
    "start_time": "2022-07-12T13:06:58.725Z"
   },
   {
    "duration": 30,
    "start_time": "2022-07-12T13:09:40.259Z"
   },
   {
    "duration": 13,
    "start_time": "2022-07-12T13:10:50.391Z"
   },
   {
    "duration": 13,
    "start_time": "2022-07-12T13:12:01.286Z"
   },
   {
    "duration": 16,
    "start_time": "2022-07-12T13:13:38.525Z"
   },
   {
    "duration": 10,
    "start_time": "2022-07-12T13:14:55.044Z"
   },
   {
    "duration": 11,
    "start_time": "2022-07-12T13:15:00.160Z"
   },
   {
    "duration": 15,
    "start_time": "2022-07-12T13:15:14.066Z"
   },
   {
    "duration": 13,
    "start_time": "2022-07-12T13:24:00.335Z"
   },
   {
    "duration": 64,
    "start_time": "2022-07-12T13:24:05.208Z"
   },
   {
    "duration": 13,
    "start_time": "2022-07-12T13:25:23.136Z"
   },
   {
    "duration": 15,
    "start_time": "2022-07-12T13:27:47.455Z"
   },
   {
    "duration": 54,
    "start_time": "2022-07-12T13:27:52.953Z"
   },
   {
    "duration": 13,
    "start_time": "2022-07-12T13:28:13.994Z"
   },
   {
    "duration": 60,
    "start_time": "2022-07-12T13:28:19.434Z"
   },
   {
    "duration": 60,
    "start_time": "2022-07-12T13:28:51.880Z"
   },
   {
    "duration": 795,
    "start_time": "2022-07-12T13:31:17.003Z"
   },
   {
    "duration": 884,
    "start_time": "2022-07-12T13:31:25.253Z"
   },
   {
    "duration": 14,
    "start_time": "2022-07-12T13:31:37.839Z"
   },
   {
    "duration": 13,
    "start_time": "2022-07-12T13:31:42.972Z"
   },
   {
    "duration": 22,
    "start_time": "2022-07-12T13:33:35.587Z"
   },
   {
    "duration": 46,
    "start_time": "2022-07-12T13:33:45.946Z"
   },
   {
    "duration": 218,
    "start_time": "2022-07-12T13:34:28.311Z"
   },
   {
    "duration": 8,
    "start_time": "2022-07-12T13:47:59.638Z"
   },
   {
    "duration": 9,
    "start_time": "2022-07-12T13:48:10.186Z"
   },
   {
    "duration": 510,
    "start_time": "2022-07-12T13:48:18.894Z"
   },
   {
    "duration": 14,
    "start_time": "2022-07-12T13:48:36.082Z"
   },
   {
    "duration": 491,
    "start_time": "2022-07-12T13:48:53.611Z"
   },
   {
    "duration": 507,
    "start_time": "2022-07-12T13:54:07.873Z"
   },
   {
    "duration": 234,
    "start_time": "2022-07-12T13:56:20.391Z"
   },
   {
    "duration": 35,
    "start_time": "2022-07-12T14:02:31.536Z"
   },
   {
    "duration": 276,
    "start_time": "2022-07-12T14:02:53.196Z"
   },
   {
    "duration": 346,
    "start_time": "2022-07-12T14:03:23.351Z"
   },
   {
    "duration": 12,
    "start_time": "2022-07-12T14:03:31.005Z"
   },
   {
    "duration": 598,
    "start_time": "2022-07-12T14:04:07.369Z"
   },
   {
    "duration": 52,
    "start_time": "2022-07-12T14:04:07.969Z"
   },
   {
    "duration": 18,
    "start_time": "2022-07-12T14:04:08.023Z"
   },
   {
    "duration": 32,
    "start_time": "2022-07-12T14:04:08.043Z"
   },
   {
    "duration": 743,
    "start_time": "2022-07-12T14:04:08.076Z"
   },
   {
    "duration": 3,
    "start_time": "2022-07-12T14:04:08.821Z"
   },
   {
    "duration": 29,
    "start_time": "2022-07-12T14:04:08.826Z"
   },
   {
    "duration": 55,
    "start_time": "2022-07-12T14:04:08.857Z"
   },
   {
    "duration": 35,
    "start_time": "2022-07-12T14:04:08.914Z"
   },
   {
    "duration": 28,
    "start_time": "2022-07-12T14:04:08.952Z"
   },
   {
    "duration": 27,
    "start_time": "2022-07-12T14:04:08.982Z"
   },
   {
    "duration": 34,
    "start_time": "2022-07-12T14:04:09.010Z"
   },
   {
    "duration": 28,
    "start_time": "2022-07-12T14:04:09.045Z"
   },
   {
    "duration": 44,
    "start_time": "2022-07-12T14:04:09.075Z"
   },
   {
    "duration": 104,
    "start_time": "2022-07-12T14:04:09.120Z"
   },
   {
    "duration": 4,
    "start_time": "2022-07-12T14:04:09.226Z"
   },
   {
    "duration": 65,
    "start_time": "2022-07-12T14:04:09.232Z"
   },
   {
    "duration": 177,
    "start_time": "2022-07-12T14:04:09.299Z"
   },
   {
    "duration": 76,
    "start_time": "2022-07-12T14:04:09.478Z"
   },
   {
    "duration": 0,
    "start_time": "2022-07-12T14:04:09.560Z"
   },
   {
    "duration": 15,
    "start_time": "2022-07-12T14:04:16.693Z"
   },
   {
    "duration": 234,
    "start_time": "2022-07-12T14:04:20.854Z"
   },
   {
    "duration": 976,
    "start_time": "2022-07-12T14:08:28.681Z"
   },
   {
    "duration": 241,
    "start_time": "2022-07-12T14:11:10.674Z"
   },
   {
    "duration": 243,
    "start_time": "2022-07-12T14:14:08.181Z"
   },
   {
    "duration": 226,
    "start_time": "2022-07-12T14:15:39.363Z"
   },
   {
    "duration": 1098,
    "start_time": "2022-07-12T14:15:45.655Z"
   },
   {
    "duration": 646,
    "start_time": "2022-07-12T14:16:00.631Z"
   },
   {
    "duration": 1116,
    "start_time": "2022-07-12T14:16:38.172Z"
   },
   {
    "duration": 3,
    "start_time": "2022-07-12T14:45:24.872Z"
   },
   {
    "duration": 239,
    "start_time": "2022-07-12T14:45:50.637Z"
   },
   {
    "duration": 238,
    "start_time": "2022-07-12T14:46:26.715Z"
   },
   {
    "duration": 6,
    "start_time": "2022-07-12T15:09:05.102Z"
   },
   {
    "duration": 56476,
    "start_time": "2022-07-12T15:09:18.417Z"
   },
   {
    "duration": 21,
    "start_time": "2022-07-12T15:14:45.403Z"
   },
   {
    "duration": 5,
    "start_time": "2022-07-12T15:22:05.365Z"
   },
   {
    "duration": 207,
    "start_time": "2022-07-12T15:24:02.633Z"
   },
   {
    "duration": 244,
    "start_time": "2022-07-12T15:31:46.092Z"
   },
   {
    "duration": 223,
    "start_time": "2022-07-12T15:33:06.685Z"
   },
   {
    "duration": 214,
    "start_time": "2022-07-12T15:33:57.085Z"
   },
   {
    "duration": 213,
    "start_time": "2022-07-12T15:35:20.732Z"
   },
   {
    "duration": 218,
    "start_time": "2022-07-12T15:35:47.769Z"
   },
   {
    "duration": 294,
    "start_time": "2022-07-12T15:36:06.343Z"
   },
   {
    "duration": 46,
    "start_time": "2022-07-13T09:42:41.907Z"
   },
   {
    "duration": 1267,
    "start_time": "2022-07-13T09:42:48.089Z"
   },
   {
    "duration": 87,
    "start_time": "2022-07-13T09:42:49.358Z"
   },
   {
    "duration": 19,
    "start_time": "2022-07-13T09:42:49.447Z"
   },
   {
    "duration": 28,
    "start_time": "2022-07-13T09:42:49.467Z"
   },
   {
    "duration": 718,
    "start_time": "2022-07-13T09:42:49.497Z"
   },
   {
    "duration": 4,
    "start_time": "2022-07-13T09:42:50.216Z"
   },
   {
    "duration": 12,
    "start_time": "2022-07-13T09:42:50.221Z"
   },
   {
    "duration": 15,
    "start_time": "2022-07-13T09:42:50.234Z"
   },
   {
    "duration": 7,
    "start_time": "2022-07-13T09:42:50.263Z"
   },
   {
    "duration": 5,
    "start_time": "2022-07-13T09:42:50.272Z"
   },
   {
    "duration": 12,
    "start_time": "2022-07-13T09:42:50.278Z"
   },
   {
    "duration": 5,
    "start_time": "2022-07-13T09:42:50.292Z"
   },
   {
    "duration": 11,
    "start_time": "2022-07-13T09:42:50.298Z"
   },
   {
    "duration": 6,
    "start_time": "2022-07-13T09:42:50.311Z"
   },
   {
    "duration": 12,
    "start_time": "2022-07-13T09:42:50.319Z"
   },
   {
    "duration": 5,
    "start_time": "2022-07-13T09:42:50.363Z"
   },
   {
    "duration": 24,
    "start_time": "2022-07-13T09:42:50.370Z"
   },
   {
    "duration": 186,
    "start_time": "2022-07-13T09:42:50.396Z"
   },
   {
    "duration": 15,
    "start_time": "2022-07-13T09:42:50.583Z"
   },
   {
    "duration": 1035,
    "start_time": "2022-07-13T09:42:50.600Z"
   },
   {
    "duration": 606,
    "start_time": "2022-07-13T09:42:51.637Z"
   },
   {
    "duration": 3,
    "start_time": "2022-07-13T09:42:52.245Z"
   },
   {
    "duration": 256,
    "start_time": "2022-07-13T09:42:52.249Z"
   },
   {
    "duration": 16,
    "start_time": "2022-07-13T09:42:52.507Z"
   },
   {
    "duration": 104,
    "start_time": "2022-07-13T09:44:33.953Z"
   },
   {
    "duration": 59,
    "start_time": "2022-07-13T09:45:50.655Z"
   },
   {
    "duration": 216,
    "start_time": "2022-07-13T09:46:06.820Z"
   },
   {
    "duration": 67,
    "start_time": "2022-07-13T09:46:42.495Z"
   },
   {
    "duration": 244,
    "start_time": "2022-07-13T09:46:46.696Z"
   },
   {
    "duration": 335,
    "start_time": "2022-07-13T09:48:47.561Z"
   },
   {
    "duration": 271,
    "start_time": "2022-07-13T09:48:55.230Z"
   },
   {
    "duration": 59,
    "start_time": "2022-07-13T09:49:16.855Z"
   },
   {
    "duration": 234,
    "start_time": "2022-07-13T09:49:23.289Z"
   },
   {
    "duration": 6,
    "start_time": "2022-07-13T09:55:50.563Z"
   },
   {
    "duration": 244,
    "start_time": "2022-07-13T09:57:13.309Z"
   },
   {
    "duration": 9,
    "start_time": "2022-07-13T09:57:15.488Z"
   },
   {
    "duration": 12,
    "start_time": "2022-07-13T09:57:35.260Z"
   },
   {
    "duration": 18,
    "start_time": "2022-07-13T09:58:00.369Z"
   },
   {
    "duration": 28,
    "start_time": "2022-07-13T09:58:17.164Z"
   },
   {
    "duration": 764,
    "start_time": "2022-07-13T10:15:49.200Z"
   },
   {
    "duration": 983,
    "start_time": "2022-07-13T10:16:02.762Z"
   },
   {
    "duration": 1261,
    "start_time": "2022-07-13T10:16:29.462Z"
   },
   {
    "duration": 1014,
    "start_time": "2022-07-13T10:16:37.217Z"
   },
   {
    "duration": 119,
    "start_time": "2022-07-13T10:16:47.691Z"
   },
   {
    "duration": 134,
    "start_time": "2022-07-13T10:18:21.108Z"
   },
   {
    "duration": 252,
    "start_time": "2022-07-13T10:18:55.974Z"
   },
   {
    "duration": 376,
    "start_time": "2022-07-13T10:19:39.510Z"
   },
   {
    "duration": 278,
    "start_time": "2022-07-13T10:19:57.403Z"
   },
   {
    "duration": 334,
    "start_time": "2022-07-13T10:20:02.900Z"
   },
   {
    "duration": 273,
    "start_time": "2022-07-13T10:20:08.428Z"
   },
   {
    "duration": 310,
    "start_time": "2022-07-13T10:20:14.208Z"
   },
   {
    "duration": 238,
    "start_time": "2022-07-13T10:20:17.923Z"
   },
   {
    "duration": 278,
    "start_time": "2022-07-13T10:20:24.224Z"
   },
   {
    "duration": 408,
    "start_time": "2022-07-13T10:20:35.907Z"
   },
   {
    "duration": 259,
    "start_time": "2022-07-13T10:20:42.109Z"
   },
   {
    "duration": 290,
    "start_time": "2022-07-13T10:20:46.597Z"
   },
   {
    "duration": 259,
    "start_time": "2022-07-13T10:21:08.152Z"
   },
   {
    "duration": 248,
    "start_time": "2022-07-13T10:21:14.867Z"
   },
   {
    "duration": 232,
    "start_time": "2022-07-13T10:21:21.633Z"
   },
   {
    "duration": 241,
    "start_time": "2022-07-13T10:21:25.468Z"
   },
   {
    "duration": 357,
    "start_time": "2022-07-13T10:21:36.161Z"
   },
   {
    "duration": 247,
    "start_time": "2022-07-13T10:21:41.961Z"
   },
   {
    "duration": 447,
    "start_time": "2022-07-13T10:21:50.070Z"
   },
   {
    "duration": 222,
    "start_time": "2022-07-13T10:24:38.065Z"
   },
   {
    "duration": 149,
    "start_time": "2022-07-13T10:25:15.336Z"
   },
   {
    "duration": 280,
    "start_time": "2022-07-13T10:40:42.611Z"
   },
   {
    "duration": 237,
    "start_time": "2022-07-13T10:40:56.285Z"
   },
   {
    "duration": 238,
    "start_time": "2022-07-13T10:41:04.878Z"
   },
   {
    "duration": 14,
    "start_time": "2022-07-13T10:49:19.587Z"
   },
   {
    "duration": 13,
    "start_time": "2022-07-13T11:02:05.632Z"
   },
   {
    "duration": 48,
    "start_time": "2022-07-13T13:23:42.514Z"
   },
   {
    "duration": 1287,
    "start_time": "2022-07-13T13:23:52.056Z"
   },
   {
    "duration": 91,
    "start_time": "2022-07-13T13:23:53.345Z"
   },
   {
    "duration": 36,
    "start_time": "2022-07-13T13:23:53.438Z"
   },
   {
    "duration": 28,
    "start_time": "2022-07-13T13:23:53.476Z"
   },
   {
    "duration": 768,
    "start_time": "2022-07-13T13:23:53.506Z"
   },
   {
    "duration": 3,
    "start_time": "2022-07-13T13:23:54.275Z"
   },
   {
    "duration": 10,
    "start_time": "2022-07-13T13:23:54.280Z"
   },
   {
    "duration": 15,
    "start_time": "2022-07-13T13:23:54.292Z"
   },
   {
    "duration": 6,
    "start_time": "2022-07-13T13:23:54.309Z"
   },
   {
    "duration": 38,
    "start_time": "2022-07-13T13:23:54.316Z"
   },
   {
    "duration": 13,
    "start_time": "2022-07-13T13:23:54.356Z"
   },
   {
    "duration": 7,
    "start_time": "2022-07-13T13:23:54.370Z"
   },
   {
    "duration": 18,
    "start_time": "2022-07-13T13:23:54.379Z"
   },
   {
    "duration": 17,
    "start_time": "2022-07-13T13:23:54.401Z"
   },
   {
    "duration": 23,
    "start_time": "2022-07-13T13:23:54.419Z"
   },
   {
    "duration": 6,
    "start_time": "2022-07-13T13:23:54.447Z"
   },
   {
    "duration": 40,
    "start_time": "2022-07-13T13:23:54.455Z"
   },
   {
    "duration": 221,
    "start_time": "2022-07-13T13:23:54.499Z"
   },
   {
    "duration": 33,
    "start_time": "2022-07-13T13:23:54.722Z"
   },
   {
    "duration": 1114,
    "start_time": "2022-07-13T13:23:54.760Z"
   },
   {
    "duration": 651,
    "start_time": "2022-07-13T13:23:55.876Z"
   },
   {
    "duration": 3,
    "start_time": "2022-07-13T13:23:56.528Z"
   },
   {
    "duration": 292,
    "start_time": "2022-07-13T13:23:56.533Z"
   },
   {
    "duration": 267,
    "start_time": "2022-07-13T13:23:56.827Z"
   },
   {
    "duration": 17,
    "start_time": "2022-07-13T13:23:57.095Z"
   },
   {
    "duration": 166,
    "start_time": "2022-07-13T13:23:57.113Z"
   },
   {
    "duration": 161,
    "start_time": "2022-07-13T13:23:57.281Z"
   },
   {
    "duration": 19,
    "start_time": "2022-07-13T13:23:57.443Z"
   },
   {
    "duration": 5,
    "start_time": "2022-07-13T13:24:59.714Z"
   },
   {
    "duration": 5,
    "start_time": "2022-07-13T13:25:15.786Z"
   },
   {
    "duration": 1525,
    "start_time": "2022-07-13T13:27:24.747Z"
   },
   {
    "duration": 10,
    "start_time": "2022-07-13T13:27:39.124Z"
   },
   {
    "duration": 10,
    "start_time": "2022-07-13T13:32:05.673Z"
   },
   {
    "duration": 1126,
    "start_time": "2022-07-13T13:32:21.603Z"
   },
   {
    "duration": 77,
    "start_time": "2022-07-13T13:32:22.731Z"
   },
   {
    "duration": 18,
    "start_time": "2022-07-13T13:32:22.810Z"
   },
   {
    "duration": 34,
    "start_time": "2022-07-13T13:32:22.830Z"
   },
   {
    "duration": 825,
    "start_time": "2022-07-13T13:32:22.872Z"
   },
   {
    "duration": 4,
    "start_time": "2022-07-13T13:32:23.698Z"
   },
   {
    "duration": 17,
    "start_time": "2022-07-13T13:32:23.703Z"
   },
   {
    "duration": 26,
    "start_time": "2022-07-13T13:32:23.721Z"
   },
   {
    "duration": 24,
    "start_time": "2022-07-13T13:32:23.749Z"
   },
   {
    "duration": 9,
    "start_time": "2022-07-13T13:32:23.775Z"
   },
   {
    "duration": 9,
    "start_time": "2022-07-13T13:32:23.786Z"
   },
   {
    "duration": 7,
    "start_time": "2022-07-13T13:32:23.796Z"
   },
   {
    "duration": 10,
    "start_time": "2022-07-13T13:32:23.804Z"
   },
   {
    "duration": 6,
    "start_time": "2022-07-13T13:32:23.816Z"
   },
   {
    "duration": 37,
    "start_time": "2022-07-13T13:32:23.823Z"
   },
   {
    "duration": 4,
    "start_time": "2022-07-13T13:32:23.862Z"
   },
   {
    "duration": 24,
    "start_time": "2022-07-13T13:32:23.872Z"
   },
   {
    "duration": 196,
    "start_time": "2022-07-13T13:32:23.898Z"
   },
   {
    "duration": 18,
    "start_time": "2022-07-13T13:32:24.097Z"
   },
   {
    "duration": 1233,
    "start_time": "2022-07-13T13:32:24.117Z"
   },
   {
    "duration": 680,
    "start_time": "2022-07-13T13:32:25.353Z"
   },
   {
    "duration": 3,
    "start_time": "2022-07-13T13:32:26.035Z"
   },
   {
    "duration": 295,
    "start_time": "2022-07-13T13:32:26.039Z"
   },
   {
    "duration": 269,
    "start_time": "2022-07-13T13:32:26.336Z"
   },
   {
    "duration": 14,
    "start_time": "2022-07-13T13:32:26.606Z"
   },
   {
    "duration": 169,
    "start_time": "2022-07-13T13:32:26.621Z"
   },
   {
    "duration": 149,
    "start_time": "2022-07-13T13:32:26.792Z"
   },
   {
    "duration": 10,
    "start_time": "2022-07-13T13:32:26.944Z"
   },
   {
    "duration": 29,
    "start_time": "2022-07-13T13:32:26.956Z"
   },
   {
    "duration": 106,
    "start_time": "2022-07-13T13:34:25.617Z"
   },
   {
    "duration": 19,
    "start_time": "2022-07-13T13:34:33.911Z"
   },
   {
    "duration": 15,
    "start_time": "2022-07-13T13:36:19.360Z"
   },
   {
    "duration": 11,
    "start_time": "2022-07-13T13:37:34.271Z"
   },
   {
    "duration": 83,
    "start_time": "2022-07-13T13:39:00.428Z"
   },
   {
    "duration": 19,
    "start_time": "2022-07-13T13:41:08.909Z"
   },
   {
    "duration": 8,
    "start_time": "2022-07-13T13:43:16.285Z"
   },
   {
    "duration": 5,
    "start_time": "2022-07-13T13:43:33.621Z"
   },
   {
    "duration": 10,
    "start_time": "2022-07-13T13:43:37.957Z"
   },
   {
    "duration": 9,
    "start_time": "2022-07-13T13:44:10.366Z"
   },
   {
    "duration": 107,
    "start_time": "2022-07-13T13:44:32.954Z"
   },
   {
    "duration": 9,
    "start_time": "2022-07-13T13:44:51.356Z"
   },
   {
    "duration": 7,
    "start_time": "2022-07-13T13:45:03.528Z"
   },
   {
    "duration": 8,
    "start_time": "2022-07-13T13:45:13.423Z"
   },
   {
    "duration": 9,
    "start_time": "2022-07-13T13:45:29.376Z"
   },
   {
    "duration": 9,
    "start_time": "2022-07-13T13:46:07.714Z"
   },
   {
    "duration": 6,
    "start_time": "2022-07-13T13:46:13.097Z"
   },
   {
    "duration": 5,
    "start_time": "2022-07-13T13:46:19.663Z"
   },
   {
    "duration": 1134,
    "start_time": "2022-07-13T13:46:57.333Z"
   },
   {
    "duration": 50,
    "start_time": "2022-07-13T13:46:58.469Z"
   },
   {
    "duration": 19,
    "start_time": "2022-07-13T13:46:58.521Z"
   },
   {
    "duration": 43,
    "start_time": "2022-07-13T13:46:58.541Z"
   },
   {
    "duration": 846,
    "start_time": "2022-07-13T13:46:58.587Z"
   },
   {
    "duration": 13,
    "start_time": "2022-07-13T13:46:59.434Z"
   },
   {
    "duration": 11,
    "start_time": "2022-07-13T13:46:59.453Z"
   },
   {
    "duration": 14,
    "start_time": "2022-07-13T13:46:59.466Z"
   },
   {
    "duration": 6,
    "start_time": "2022-07-13T13:46:59.481Z"
   },
   {
    "duration": 10,
    "start_time": "2022-07-13T13:46:59.488Z"
   },
   {
    "duration": 10,
    "start_time": "2022-07-13T13:46:59.499Z"
   },
   {
    "duration": 6,
    "start_time": "2022-07-13T13:46:59.511Z"
   },
   {
    "duration": 33,
    "start_time": "2022-07-13T13:46:59.518Z"
   },
   {
    "duration": 9,
    "start_time": "2022-07-13T13:46:59.554Z"
   },
   {
    "duration": 20,
    "start_time": "2022-07-13T13:46:59.565Z"
   },
   {
    "duration": 6,
    "start_time": "2022-07-13T13:46:59.586Z"
   },
   {
    "duration": 18,
    "start_time": "2022-07-13T13:46:59.593Z"
   },
   {
    "duration": 242,
    "start_time": "2022-07-13T13:46:59.613Z"
   },
   {
    "duration": 18,
    "start_time": "2022-07-13T13:46:59.856Z"
   },
   {
    "duration": 1093,
    "start_time": "2022-07-13T13:46:59.875Z"
   },
   {
    "duration": 678,
    "start_time": "2022-07-13T13:47:00.970Z"
   },
   {
    "duration": 7,
    "start_time": "2022-07-13T13:47:01.652Z"
   },
   {
    "duration": 257,
    "start_time": "2022-07-13T13:47:01.661Z"
   },
   {
    "duration": 258,
    "start_time": "2022-07-13T13:47:01.920Z"
   },
   {
    "duration": 18,
    "start_time": "2022-07-13T13:47:02.180Z"
   },
   {
    "duration": 197,
    "start_time": "2022-07-13T13:47:02.199Z"
   },
   {
    "duration": 161,
    "start_time": "2022-07-13T13:47:02.398Z"
   },
   {
    "duration": 11,
    "start_time": "2022-07-13T13:47:02.561Z"
   },
   {
    "duration": 12,
    "start_time": "2022-07-13T13:47:02.574Z"
   },
   {
    "duration": 24,
    "start_time": "2022-07-13T13:47:02.588Z"
   },
   {
    "duration": 6,
    "start_time": "2022-07-13T13:47:34.564Z"
   },
   {
    "duration": 9,
    "start_time": "2022-07-13T13:47:42.818Z"
   },
   {
    "duration": 5,
    "start_time": "2022-07-13T13:49:06.707Z"
   },
   {
    "duration": 14,
    "start_time": "2022-07-13T13:49:32.658Z"
   },
   {
    "duration": 10,
    "start_time": "2022-07-13T13:49:39.456Z"
   },
   {
    "duration": 102,
    "start_time": "2022-07-13T13:50:16.063Z"
   },
   {
    "duration": 12,
    "start_time": "2022-07-13T13:50:39.226Z"
   },
   {
    "duration": 1215,
    "start_time": "2022-07-13T13:52:14.401Z"
   },
   {
    "duration": 21,
    "start_time": "2022-07-13T13:52:22.945Z"
   },
   {
    "duration": 1123,
    "start_time": "2022-07-13T13:52:28.105Z"
   },
   {
    "duration": 54,
    "start_time": "2022-07-13T13:52:29.230Z"
   },
   {
    "duration": 21,
    "start_time": "2022-07-13T13:52:29.286Z"
   },
   {
    "duration": 47,
    "start_time": "2022-07-13T13:52:29.309Z"
   },
   {
    "duration": 774,
    "start_time": "2022-07-13T13:52:29.358Z"
   },
   {
    "duration": 12,
    "start_time": "2022-07-13T13:52:30.134Z"
   },
   {
    "duration": 23,
    "start_time": "2022-07-13T13:52:30.147Z"
   },
   {
    "duration": 23,
    "start_time": "2022-07-13T13:52:30.172Z"
   },
   {
    "duration": 7,
    "start_time": "2022-07-13T13:52:30.197Z"
   },
   {
    "duration": 5,
    "start_time": "2022-07-13T13:52:30.207Z"
   },
   {
    "duration": 12,
    "start_time": "2022-07-13T13:52:30.213Z"
   },
   {
    "duration": 26,
    "start_time": "2022-07-13T13:52:30.227Z"
   },
   {
    "duration": 10,
    "start_time": "2022-07-13T13:52:30.259Z"
   },
   {
    "duration": 28,
    "start_time": "2022-07-13T13:52:30.270Z"
   },
   {
    "duration": 14,
    "start_time": "2022-07-13T13:52:30.300Z"
   },
   {
    "duration": 5,
    "start_time": "2022-07-13T13:52:30.315Z"
   },
   {
    "duration": 18,
    "start_time": "2022-07-13T13:52:30.322Z"
   },
   {
    "duration": 228,
    "start_time": "2022-07-13T13:52:30.341Z"
   },
   {
    "duration": 25,
    "start_time": "2022-07-13T13:52:30.571Z"
   },
   {
    "duration": 1189,
    "start_time": "2022-07-13T13:52:30.598Z"
   },
   {
    "duration": 678,
    "start_time": "2022-07-13T13:52:31.789Z"
   },
   {
    "duration": 5,
    "start_time": "2022-07-13T13:52:32.469Z"
   },
   {
    "duration": 298,
    "start_time": "2022-07-13T13:52:32.476Z"
   },
   {
    "duration": 288,
    "start_time": "2022-07-13T13:52:32.776Z"
   },
   {
    "duration": 21,
    "start_time": "2022-07-13T13:52:33.066Z"
   },
   {
    "duration": 173,
    "start_time": "2022-07-13T13:52:33.089Z"
   },
   {
    "duration": 158,
    "start_time": "2022-07-13T13:52:33.268Z"
   },
   {
    "duration": 17,
    "start_time": "2022-07-13T13:52:33.430Z"
   },
   {
    "duration": 13,
    "start_time": "2022-07-13T13:52:33.460Z"
   },
   {
    "duration": 11,
    "start_time": "2022-07-13T13:52:33.475Z"
   },
   {
    "duration": 113,
    "start_time": "2022-07-13T13:52:33.487Z"
   },
   {
    "duration": 12,
    "start_time": "2022-07-13T13:53:50.310Z"
   },
   {
    "duration": 15,
    "start_time": "2022-07-13T13:53:53.903Z"
   },
   {
    "duration": 1116,
    "start_time": "2022-07-13T13:53:59.200Z"
   },
   {
    "duration": 54,
    "start_time": "2022-07-13T13:54:00.318Z"
   },
   {
    "duration": 19,
    "start_time": "2022-07-13T13:54:00.374Z"
   },
   {
    "duration": 29,
    "start_time": "2022-07-13T13:54:00.395Z"
   },
   {
    "duration": 773,
    "start_time": "2022-07-13T13:54:00.443Z"
   },
   {
    "duration": 3,
    "start_time": "2022-07-13T13:54:01.218Z"
   },
   {
    "duration": 13,
    "start_time": "2022-07-13T13:54:01.223Z"
   },
   {
    "duration": 19,
    "start_time": "2022-07-13T13:54:01.242Z"
   },
   {
    "duration": 16,
    "start_time": "2022-07-13T13:54:01.263Z"
   },
   {
    "duration": 8,
    "start_time": "2022-07-13T13:54:01.281Z"
   },
   {
    "duration": 21,
    "start_time": "2022-07-13T13:54:01.291Z"
   },
   {
    "duration": 13,
    "start_time": "2022-07-13T13:54:01.314Z"
   },
   {
    "duration": 9,
    "start_time": "2022-07-13T13:54:01.329Z"
   },
   {
    "duration": 14,
    "start_time": "2022-07-13T13:54:01.341Z"
   },
   {
    "duration": 15,
    "start_time": "2022-07-13T13:54:01.357Z"
   },
   {
    "duration": 15,
    "start_time": "2022-07-13T13:54:01.374Z"
   },
   {
    "duration": 22,
    "start_time": "2022-07-13T13:54:01.391Z"
   },
   {
    "duration": 223,
    "start_time": "2022-07-13T13:54:01.415Z"
   },
   {
    "duration": 21,
    "start_time": "2022-07-13T13:54:01.644Z"
   },
   {
    "duration": 1069,
    "start_time": "2022-07-13T13:54:01.666Z"
   },
   {
    "duration": 647,
    "start_time": "2022-07-13T13:54:02.749Z"
   },
   {
    "duration": 4,
    "start_time": "2022-07-13T13:54:03.397Z"
   },
   {
    "duration": 258,
    "start_time": "2022-07-13T13:54:03.402Z"
   },
   {
    "duration": 243,
    "start_time": "2022-07-13T13:54:03.662Z"
   },
   {
    "duration": 14,
    "start_time": "2022-07-13T13:54:03.907Z"
   },
   {
    "duration": 150,
    "start_time": "2022-07-13T13:54:03.922Z"
   },
   {
    "duration": 162,
    "start_time": "2022-07-13T13:54:04.074Z"
   },
   {
    "duration": 22,
    "start_time": "2022-07-13T13:54:04.238Z"
   },
   {
    "duration": 16,
    "start_time": "2022-07-13T13:54:04.262Z"
   },
   {
    "duration": 12,
    "start_time": "2022-07-13T13:54:04.280Z"
   },
   {
    "duration": 134,
    "start_time": "2022-07-13T13:54:04.294Z"
   },
   {
    "duration": 58,
    "start_time": "2022-07-14T08:57:23.215Z"
   },
   {
    "duration": 1284,
    "start_time": "2022-07-14T08:57:29.278Z"
   },
   {
    "duration": 192,
    "start_time": "2022-07-14T08:57:30.564Z"
   },
   {
    "duration": 28,
    "start_time": "2022-07-14T08:57:30.758Z"
   },
   {
    "duration": 39,
    "start_time": "2022-07-14T08:57:30.789Z"
   },
   {
    "duration": 814,
    "start_time": "2022-07-14T08:57:30.830Z"
   },
   {
    "duration": 5,
    "start_time": "2022-07-14T08:57:31.646Z"
   },
   {
    "duration": 27,
    "start_time": "2022-07-14T08:57:31.654Z"
   },
   {
    "duration": 30,
    "start_time": "2022-07-14T08:57:31.683Z"
   },
   {
    "duration": 10,
    "start_time": "2022-07-14T08:57:31.715Z"
   },
   {
    "duration": 7,
    "start_time": "2022-07-14T08:57:31.729Z"
   },
   {
    "duration": 28,
    "start_time": "2022-07-14T08:57:31.738Z"
   },
   {
    "duration": 14,
    "start_time": "2022-07-14T08:57:31.768Z"
   },
   {
    "duration": 26,
    "start_time": "2022-07-14T08:57:31.784Z"
   },
   {
    "duration": 10,
    "start_time": "2022-07-14T08:57:31.813Z"
   },
   {
    "duration": 27,
    "start_time": "2022-07-14T08:57:31.826Z"
   },
   {
    "duration": 6,
    "start_time": "2022-07-14T08:57:31.855Z"
   },
   {
    "duration": 51,
    "start_time": "2022-07-14T08:57:31.863Z"
   },
   {
    "duration": 208,
    "start_time": "2022-07-14T08:57:31.917Z"
   },
   {
    "duration": 14,
    "start_time": "2022-07-14T08:57:32.127Z"
   },
   {
    "duration": 1100,
    "start_time": "2022-07-14T08:57:32.143Z"
   },
   {
    "duration": 581,
    "start_time": "2022-07-14T08:57:33.244Z"
   },
   {
    "duration": 3,
    "start_time": "2022-07-14T08:57:33.826Z"
   },
   {
    "duration": 271,
    "start_time": "2022-07-14T08:57:33.831Z"
   },
   {
    "duration": 258,
    "start_time": "2022-07-14T08:57:34.104Z"
   },
   {
    "duration": 14,
    "start_time": "2022-07-14T08:57:34.363Z"
   },
   {
    "duration": 150,
    "start_time": "2022-07-14T08:57:34.379Z"
   },
   {
    "duration": 155,
    "start_time": "2022-07-14T08:57:34.531Z"
   },
   {
    "duration": 14,
    "start_time": "2022-07-14T08:57:34.689Z"
   },
   {
    "duration": 11,
    "start_time": "2022-07-14T08:57:34.705Z"
   },
   {
    "duration": 9,
    "start_time": "2022-07-14T08:57:34.718Z"
   },
   {
    "duration": 113,
    "start_time": "2022-07-14T08:57:34.728Z"
   },
   {
    "duration": 11,
    "start_time": "2022-07-14T08:58:37.951Z"
   },
   {
    "duration": 1000,
    "start_time": "2022-07-14T08:59:46.067Z"
   },
   {
    "duration": 63,
    "start_time": "2022-07-14T08:59:47.069Z"
   },
   {
    "duration": 17,
    "start_time": "2022-07-14T08:59:47.134Z"
   },
   {
    "duration": 25,
    "start_time": "2022-07-14T08:59:47.152Z"
   },
   {
    "duration": 803,
    "start_time": "2022-07-14T08:59:47.178Z"
   },
   {
    "duration": 2,
    "start_time": "2022-07-14T08:59:47.983Z"
   },
   {
    "duration": 35,
    "start_time": "2022-07-14T08:59:47.987Z"
   },
   {
    "duration": 15,
    "start_time": "2022-07-14T08:59:48.024Z"
   },
   {
    "duration": 17,
    "start_time": "2022-07-14T08:59:48.041Z"
   },
   {
    "duration": 28,
    "start_time": "2022-07-14T08:59:48.060Z"
   },
   {
    "duration": 25,
    "start_time": "2022-07-14T08:59:48.090Z"
   },
   {
    "duration": 27,
    "start_time": "2022-07-14T08:59:48.117Z"
   },
   {
    "duration": 42,
    "start_time": "2022-07-14T08:59:48.146Z"
   },
   {
    "duration": 40,
    "start_time": "2022-07-14T08:59:48.190Z"
   },
   {
    "duration": 20,
    "start_time": "2022-07-14T08:59:48.232Z"
   },
   {
    "duration": 13,
    "start_time": "2022-07-14T08:59:48.254Z"
   },
   {
    "duration": 37,
    "start_time": "2022-07-14T08:59:48.270Z"
   },
   {
    "duration": 209,
    "start_time": "2022-07-14T08:59:48.309Z"
   },
   {
    "duration": 15,
    "start_time": "2022-07-14T08:59:48.519Z"
   },
   {
    "duration": 1036,
    "start_time": "2022-07-14T08:59:48.536Z"
   },
   {
    "duration": 676,
    "start_time": "2022-07-14T08:59:49.574Z"
   },
   {
    "duration": 4,
    "start_time": "2022-07-14T08:59:50.252Z"
   },
   {
    "duration": 317,
    "start_time": "2022-07-14T08:59:50.257Z"
   },
   {
    "duration": 297,
    "start_time": "2022-07-14T08:59:50.575Z"
   },
   {
    "duration": 13,
    "start_time": "2022-07-14T08:59:50.873Z"
   },
   {
    "duration": 152,
    "start_time": "2022-07-14T08:59:50.888Z"
   },
   {
    "duration": 146,
    "start_time": "2022-07-14T08:59:51.041Z"
   },
   {
    "duration": 20,
    "start_time": "2022-07-14T08:59:51.190Z"
   },
   {
    "duration": 32,
    "start_time": "2022-07-14T08:59:51.213Z"
   },
   {
    "duration": 14,
    "start_time": "2022-07-14T08:59:51.247Z"
   },
   {
    "duration": 103,
    "start_time": "2022-07-14T08:59:51.263Z"
   },
   {
    "duration": 11,
    "start_time": "2022-07-14T09:00:51.530Z"
   },
   {
    "duration": 1198,
    "start_time": "2022-07-14T09:08:11.778Z"
   },
   {
    "duration": 210,
    "start_time": "2022-07-14T09:08:12.977Z"
   },
   {
    "duration": 16,
    "start_time": "2022-07-14T09:08:13.189Z"
   },
   {
    "duration": 29,
    "start_time": "2022-07-14T09:08:13.207Z"
   },
   {
    "duration": 643,
    "start_time": "2022-07-14T09:08:13.238Z"
   },
   {
    "duration": 3,
    "start_time": "2022-07-14T09:08:13.883Z"
   },
   {
    "duration": 17,
    "start_time": "2022-07-14T09:08:13.887Z"
   },
   {
    "duration": 12,
    "start_time": "2022-07-14T09:08:13.905Z"
   },
   {
    "duration": 5,
    "start_time": "2022-07-14T09:08:13.919Z"
   },
   {
    "duration": 6,
    "start_time": "2022-07-14T09:08:13.926Z"
   },
   {
    "duration": 6,
    "start_time": "2022-07-14T09:08:13.933Z"
   },
   {
    "duration": 7,
    "start_time": "2022-07-14T09:08:13.940Z"
   },
   {
    "duration": 11,
    "start_time": "2022-07-14T09:08:13.949Z"
   },
   {
    "duration": 7,
    "start_time": "2022-07-14T09:08:13.961Z"
   },
   {
    "duration": 33,
    "start_time": "2022-07-14T09:08:13.969Z"
   },
   {
    "duration": 4,
    "start_time": "2022-07-14T09:08:14.003Z"
   },
   {
    "duration": 16,
    "start_time": "2022-07-14T09:08:14.008Z"
   },
   {
    "duration": 157,
    "start_time": "2022-07-14T09:08:14.025Z"
   },
   {
    "duration": 19,
    "start_time": "2022-07-14T09:08:14.183Z"
   },
   {
    "duration": 911,
    "start_time": "2022-07-14T09:08:14.204Z"
   },
   {
    "duration": 569,
    "start_time": "2022-07-14T09:08:15.117Z"
   },
   {
    "duration": 3,
    "start_time": "2022-07-14T09:08:15.688Z"
   },
   {
    "duration": 224,
    "start_time": "2022-07-14T09:08:15.693Z"
   },
   {
    "duration": 215,
    "start_time": "2022-07-14T09:08:15.919Z"
   },
   {
    "duration": 13,
    "start_time": "2022-07-14T09:08:16.136Z"
   },
   {
    "duration": 134,
    "start_time": "2022-07-14T09:08:16.151Z"
   },
   {
    "duration": 137,
    "start_time": "2022-07-14T09:08:16.287Z"
   },
   {
    "duration": 9,
    "start_time": "2022-07-14T09:08:16.427Z"
   },
   {
    "duration": 10,
    "start_time": "2022-07-14T09:08:16.437Z"
   },
   {
    "duration": 9,
    "start_time": "2022-07-14T09:08:16.448Z"
   },
   {
    "duration": 108,
    "start_time": "2022-07-14T09:08:16.458Z"
   },
   {
    "duration": 9,
    "start_time": "2022-07-14T09:08:46.538Z"
   },
   {
    "duration": 12,
    "start_time": "2022-07-14T09:08:49.824Z"
   },
   {
    "duration": 980,
    "start_time": "2022-07-14T09:08:56.265Z"
   },
   {
    "duration": 53,
    "start_time": "2022-07-14T09:08:57.247Z"
   },
   {
    "duration": 17,
    "start_time": "2022-07-14T09:08:57.302Z"
   },
   {
    "duration": 46,
    "start_time": "2022-07-14T09:08:57.321Z"
   },
   {
    "duration": 705,
    "start_time": "2022-07-14T09:08:57.370Z"
   },
   {
    "duration": 3,
    "start_time": "2022-07-14T09:08:58.077Z"
   },
   {
    "duration": 20,
    "start_time": "2022-07-14T09:08:58.082Z"
   },
   {
    "duration": 16,
    "start_time": "2022-07-14T09:08:58.104Z"
   },
   {
    "duration": 5,
    "start_time": "2022-07-14T09:08:58.122Z"
   },
   {
    "duration": 25,
    "start_time": "2022-07-14T09:08:58.128Z"
   },
   {
    "duration": 9,
    "start_time": "2022-07-14T09:08:58.155Z"
   },
   {
    "duration": 10,
    "start_time": "2022-07-14T09:08:58.165Z"
   },
   {
    "duration": 29,
    "start_time": "2022-07-14T09:08:58.176Z"
   },
   {
    "duration": 6,
    "start_time": "2022-07-14T09:08:58.207Z"
   },
   {
    "duration": 22,
    "start_time": "2022-07-14T09:08:58.214Z"
   },
   {
    "duration": 9,
    "start_time": "2022-07-14T09:08:58.237Z"
   },
   {
    "duration": 19,
    "start_time": "2022-07-14T09:08:58.248Z"
   },
   {
    "duration": 161,
    "start_time": "2022-07-14T09:08:58.269Z"
   },
   {
    "duration": 14,
    "start_time": "2022-07-14T09:08:58.432Z"
   },
   {
    "duration": 908,
    "start_time": "2022-07-14T09:08:58.448Z"
   },
   {
    "duration": 531,
    "start_time": "2022-07-14T09:08:59.358Z"
   },
   {
    "duration": 11,
    "start_time": "2022-07-14T09:08:59.891Z"
   },
   {
    "duration": 240,
    "start_time": "2022-07-14T09:08:59.904Z"
   },
   {
    "duration": 226,
    "start_time": "2022-07-14T09:09:00.146Z"
   },
   {
    "duration": 14,
    "start_time": "2022-07-14T09:09:00.374Z"
   },
   {
    "duration": 141,
    "start_time": "2022-07-14T09:09:00.389Z"
   },
   {
    "duration": 137,
    "start_time": "2022-07-14T09:09:00.531Z"
   },
   {
    "duration": 9,
    "start_time": "2022-07-14T09:09:00.670Z"
   },
   {
    "duration": 34,
    "start_time": "2022-07-14T09:09:00.680Z"
   },
   {
    "duration": 36,
    "start_time": "2022-07-14T09:09:00.716Z"
   },
   {
    "duration": 113,
    "start_time": "2022-07-14T09:09:00.753Z"
   },
   {
    "duration": 983,
    "start_time": "2022-07-14T09:16:42.068Z"
   },
   {
    "duration": 59,
    "start_time": "2022-07-14T09:16:43.053Z"
   },
   {
    "duration": 20,
    "start_time": "2022-07-14T09:16:43.113Z"
   },
   {
    "duration": 25,
    "start_time": "2022-07-14T09:16:43.135Z"
   },
   {
    "duration": 724,
    "start_time": "2022-07-14T09:16:43.161Z"
   },
   {
    "duration": 3,
    "start_time": "2022-07-14T09:16:43.886Z"
   },
   {
    "duration": 14,
    "start_time": "2022-07-14T09:16:43.890Z"
   },
   {
    "duration": 15,
    "start_time": "2022-07-14T09:16:43.906Z"
   },
   {
    "duration": 7,
    "start_time": "2022-07-14T09:16:43.923Z"
   },
   {
    "duration": 4,
    "start_time": "2022-07-14T09:16:43.933Z"
   },
   {
    "duration": 10,
    "start_time": "2022-07-14T09:16:43.939Z"
   },
   {
    "duration": 5,
    "start_time": "2022-07-14T09:16:43.950Z"
   },
   {
    "duration": 9,
    "start_time": "2022-07-14T09:16:43.957Z"
   },
   {
    "duration": 39,
    "start_time": "2022-07-14T09:16:43.967Z"
   },
   {
    "duration": 18,
    "start_time": "2022-07-14T09:16:44.008Z"
   },
   {
    "duration": 3,
    "start_time": "2022-07-14T09:16:44.027Z"
   },
   {
    "duration": 16,
    "start_time": "2022-07-14T09:16:44.032Z"
   },
   {
    "duration": 171,
    "start_time": "2022-07-14T09:16:44.049Z"
   },
   {
    "duration": 14,
    "start_time": "2022-07-14T09:16:44.221Z"
   },
   {
    "duration": 967,
    "start_time": "2022-07-14T09:16:44.236Z"
   },
   {
    "duration": 596,
    "start_time": "2022-07-14T09:16:45.204Z"
   },
   {
    "duration": 4,
    "start_time": "2022-07-14T09:16:45.802Z"
   },
   {
    "duration": 241,
    "start_time": "2022-07-14T09:16:45.807Z"
   },
   {
    "duration": 231,
    "start_time": "2022-07-14T09:16:46.049Z"
   },
   {
    "duration": 20,
    "start_time": "2022-07-14T09:16:46.282Z"
   },
   {
    "duration": 142,
    "start_time": "2022-07-14T09:16:46.303Z"
   },
   {
    "duration": 143,
    "start_time": "2022-07-14T09:16:46.446Z"
   },
   {
    "duration": 22,
    "start_time": "2022-07-14T09:16:46.592Z"
   },
   {
    "duration": 12,
    "start_time": "2022-07-14T09:16:46.615Z"
   },
   {
    "duration": 9,
    "start_time": "2022-07-14T09:16:46.628Z"
   },
   {
    "duration": 104,
    "start_time": "2022-07-14T09:16:46.639Z"
   },
   {
    "duration": 11,
    "start_time": "2022-07-14T09:17:03.629Z"
   },
   {
    "duration": 13,
    "start_time": "2022-07-14T09:18:07.537Z"
   },
   {
    "duration": 11,
    "start_time": "2022-07-14T09:18:23.698Z"
   },
   {
    "duration": 10,
    "start_time": "2022-07-14T09:19:55.933Z"
   },
   {
    "duration": 11,
    "start_time": "2022-07-14T09:20:14.383Z"
   },
   {
    "duration": 14,
    "start_time": "2022-07-14T09:20:40.197Z"
   },
   {
    "duration": 9,
    "start_time": "2022-07-14T09:20:55.744Z"
   },
   {
    "duration": 5,
    "start_time": "2022-07-14T09:21:11.274Z"
   },
   {
    "duration": 12,
    "start_time": "2022-07-14T09:21:18.584Z"
   },
   {
    "duration": 8,
    "start_time": "2022-07-14T09:21:28.570Z"
   },
   {
    "duration": 1099,
    "start_time": "2022-07-14T09:21:36.008Z"
   },
   {
    "duration": 58,
    "start_time": "2022-07-14T09:21:37.109Z"
   },
   {
    "duration": 19,
    "start_time": "2022-07-14T09:21:37.168Z"
   },
   {
    "duration": 27,
    "start_time": "2022-07-14T09:21:37.188Z"
   },
   {
    "duration": 738,
    "start_time": "2022-07-14T09:21:37.217Z"
   },
   {
    "duration": 3,
    "start_time": "2022-07-14T09:21:37.957Z"
   },
   {
    "duration": 12,
    "start_time": "2022-07-14T09:21:37.961Z"
   },
   {
    "duration": 13,
    "start_time": "2022-07-14T09:21:37.974Z"
   },
   {
    "duration": 7,
    "start_time": "2022-07-14T09:21:38.001Z"
   },
   {
    "duration": 7,
    "start_time": "2022-07-14T09:21:38.010Z"
   },
   {
    "duration": 13,
    "start_time": "2022-07-14T09:21:38.018Z"
   },
   {
    "duration": 7,
    "start_time": "2022-07-14T09:21:38.033Z"
   },
   {
    "duration": 9,
    "start_time": "2022-07-14T09:21:38.041Z"
   },
   {
    "duration": 7,
    "start_time": "2022-07-14T09:21:38.052Z"
   },
   {
    "duration": 12,
    "start_time": "2022-07-14T09:21:38.060Z"
   },
   {
    "duration": 4,
    "start_time": "2022-07-14T09:21:38.073Z"
   },
   {
    "duration": 12,
    "start_time": "2022-07-14T09:21:38.101Z"
   },
   {
    "duration": 151,
    "start_time": "2022-07-14T09:21:38.115Z"
   },
   {
    "duration": 14,
    "start_time": "2022-07-14T09:21:38.268Z"
   },
   {
    "duration": 953,
    "start_time": "2022-07-14T09:21:38.284Z"
   },
   {
    "duration": 545,
    "start_time": "2022-07-14T09:21:39.238Z"
   },
   {
    "duration": 3,
    "start_time": "2022-07-14T09:21:39.785Z"
   },
   {
    "duration": 243,
    "start_time": "2022-07-14T09:21:39.789Z"
   },
   {
    "duration": 222,
    "start_time": "2022-07-14T09:21:40.034Z"
   },
   {
    "duration": 12,
    "start_time": "2022-07-14T09:21:40.258Z"
   },
   {
    "duration": 134,
    "start_time": "2022-07-14T09:21:40.272Z"
   },
   {
    "duration": 135,
    "start_time": "2022-07-14T09:21:40.407Z"
   },
   {
    "duration": 7,
    "start_time": "2022-07-14T09:21:40.545Z"
   },
   {
    "duration": 24,
    "start_time": "2022-07-14T09:21:40.554Z"
   },
   {
    "duration": 15,
    "start_time": "2022-07-14T09:21:40.580Z"
   },
   {
    "duration": 99,
    "start_time": "2022-07-14T09:21:40.597Z"
   },
   {
    "duration": 1504,
    "start_time": "2022-07-14T09:22:48.931Z"
   },
   {
    "duration": 1044,
    "start_time": "2022-07-14T09:24:15.197Z"
   },
   {
    "duration": 61,
    "start_time": "2022-07-14T09:24:16.243Z"
   },
   {
    "duration": 16,
    "start_time": "2022-07-14T09:24:16.305Z"
   },
   {
    "duration": 23,
    "start_time": "2022-07-14T09:24:16.323Z"
   },
   {
    "duration": 658,
    "start_time": "2022-07-14T09:24:16.347Z"
   },
   {
    "duration": 4,
    "start_time": "2022-07-14T09:24:17.006Z"
   },
   {
    "duration": 10,
    "start_time": "2022-07-14T09:24:17.011Z"
   },
   {
    "duration": 12,
    "start_time": "2022-07-14T09:24:17.023Z"
   },
   {
    "duration": 6,
    "start_time": "2022-07-14T09:24:17.037Z"
   },
   {
    "duration": 4,
    "start_time": "2022-07-14T09:24:17.046Z"
   },
   {
    "duration": 6,
    "start_time": "2022-07-14T09:24:17.052Z"
   },
   {
    "duration": 5,
    "start_time": "2022-07-14T09:24:17.059Z"
   },
   {
    "duration": 8,
    "start_time": "2022-07-14T09:24:17.103Z"
   },
   {
    "duration": 10,
    "start_time": "2022-07-14T09:24:17.113Z"
   },
   {
    "duration": 13,
    "start_time": "2022-07-14T09:24:17.124Z"
   },
   {
    "duration": 4,
    "start_time": "2022-07-14T09:24:17.139Z"
   },
   {
    "duration": 14,
    "start_time": "2022-07-14T09:24:17.144Z"
   },
   {
    "duration": 169,
    "start_time": "2022-07-14T09:24:17.160Z"
   },
   {
    "duration": 21,
    "start_time": "2022-07-14T09:24:17.331Z"
   },
   {
    "duration": 989,
    "start_time": "2022-07-14T09:24:17.353Z"
   },
   {
    "duration": 569,
    "start_time": "2022-07-14T09:24:18.344Z"
   },
   {
    "duration": 4,
    "start_time": "2022-07-14T09:24:18.914Z"
   },
   {
    "duration": 225,
    "start_time": "2022-07-14T09:24:18.919Z"
   },
   {
    "duration": 220,
    "start_time": "2022-07-14T09:24:19.145Z"
   },
   {
    "duration": 13,
    "start_time": "2022-07-14T09:24:19.366Z"
   },
   {
    "duration": 132,
    "start_time": "2022-07-14T09:24:19.381Z"
   },
   {
    "duration": 128,
    "start_time": "2022-07-14T09:24:19.515Z"
   },
   {
    "duration": 9,
    "start_time": "2022-07-14T09:24:19.645Z"
   },
   {
    "duration": 12,
    "start_time": "2022-07-14T09:24:19.655Z"
   },
   {
    "duration": 8,
    "start_time": "2022-07-14T09:24:19.668Z"
   },
   {
    "duration": 1908,
    "start_time": "2022-07-14T09:24:19.678Z"
   },
   {
    "duration": 1066,
    "start_time": "2022-07-14T09:25:02.691Z"
   },
   {
    "duration": 60,
    "start_time": "2022-07-14T09:25:03.759Z"
   },
   {
    "duration": 16,
    "start_time": "2022-07-14T09:25:03.821Z"
   },
   {
    "duration": 26,
    "start_time": "2022-07-14T09:25:03.838Z"
   },
   {
    "duration": 664,
    "start_time": "2022-07-14T09:25:03.866Z"
   },
   {
    "duration": 3,
    "start_time": "2022-07-14T09:25:04.531Z"
   },
   {
    "duration": 13,
    "start_time": "2022-07-14T09:25:04.535Z"
   },
   {
    "duration": 12,
    "start_time": "2022-07-14T09:25:04.550Z"
   },
   {
    "duration": 5,
    "start_time": "2022-07-14T09:25:04.564Z"
   },
   {
    "duration": 9,
    "start_time": "2022-07-14T09:25:04.571Z"
   },
   {
    "duration": 21,
    "start_time": "2022-07-14T09:25:04.582Z"
   },
   {
    "duration": 5,
    "start_time": "2022-07-14T09:25:04.604Z"
   },
   {
    "duration": 10,
    "start_time": "2022-07-14T09:25:04.610Z"
   },
   {
    "duration": 5,
    "start_time": "2022-07-14T09:25:04.621Z"
   },
   {
    "duration": 11,
    "start_time": "2022-07-14T09:25:04.627Z"
   },
   {
    "duration": 4,
    "start_time": "2022-07-14T09:25:04.639Z"
   },
   {
    "duration": 22,
    "start_time": "2022-07-14T09:25:04.644Z"
   },
   {
    "duration": 176,
    "start_time": "2022-07-14T09:25:04.668Z"
   },
   {
    "duration": 14,
    "start_time": "2022-07-14T09:25:04.846Z"
   },
   {
    "duration": 994,
    "start_time": "2022-07-14T09:25:04.862Z"
   },
   {
    "duration": 577,
    "start_time": "2022-07-14T09:25:05.858Z"
   },
   {
    "duration": 3,
    "start_time": "2022-07-14T09:25:06.437Z"
   },
   {
    "duration": 223,
    "start_time": "2022-07-14T09:25:06.441Z"
   },
   {
    "duration": 213,
    "start_time": "2022-07-14T09:25:06.666Z"
   },
   {
    "duration": 30,
    "start_time": "2022-07-14T09:25:06.880Z"
   },
   {
    "duration": 113,
    "start_time": "2022-07-14T09:25:06.912Z"
   },
   {
    "duration": 124,
    "start_time": "2022-07-14T09:25:07.027Z"
   },
   {
    "duration": 8,
    "start_time": "2022-07-14T09:25:07.153Z"
   },
   {
    "duration": 9,
    "start_time": "2022-07-14T09:25:07.163Z"
   },
   {
    "duration": 8,
    "start_time": "2022-07-14T09:25:07.174Z"
   },
   {
    "duration": 1427,
    "start_time": "2022-07-14T09:25:07.202Z"
   },
   {
    "duration": 205,
    "start_time": "2022-07-14T09:25:34.646Z"
   },
   {
    "duration": 5,
    "start_time": "2022-07-14T09:26:52.557Z"
   },
   {
    "duration": 145,
    "start_time": "2022-07-14T09:26:57.578Z"
   },
   {
    "duration": 167,
    "start_time": "2022-07-14T09:29:06.853Z"
   },
   {
    "duration": 178,
    "start_time": "2022-07-14T09:30:35.263Z"
   },
   {
    "duration": 125,
    "start_time": "2022-07-14T09:32:00.013Z"
   },
   {
    "duration": 255,
    "start_time": "2022-07-14T09:32:41.808Z"
   },
   {
    "duration": 213,
    "start_time": "2022-07-14T09:32:53.540Z"
   },
   {
    "duration": 1070,
    "start_time": "2022-07-14T09:33:08.897Z"
   },
   {
    "duration": 59,
    "start_time": "2022-07-14T09:33:09.968Z"
   },
   {
    "duration": 17,
    "start_time": "2022-07-14T09:33:10.028Z"
   },
   {
    "duration": 31,
    "start_time": "2022-07-14T09:33:10.046Z"
   },
   {
    "duration": 643,
    "start_time": "2022-07-14T09:33:10.079Z"
   },
   {
    "duration": 3,
    "start_time": "2022-07-14T09:33:10.723Z"
   },
   {
    "duration": 39,
    "start_time": "2022-07-14T09:33:10.728Z"
   },
   {
    "duration": 39,
    "start_time": "2022-07-14T09:33:10.769Z"
   },
   {
    "duration": 20,
    "start_time": "2022-07-14T09:33:10.809Z"
   },
   {
    "duration": 31,
    "start_time": "2022-07-14T09:33:10.830Z"
   },
   {
    "duration": 22,
    "start_time": "2022-07-14T09:33:10.863Z"
   },
   {
    "duration": 23,
    "start_time": "2022-07-14T09:33:10.886Z"
   },
   {
    "duration": 24,
    "start_time": "2022-07-14T09:33:10.910Z"
   },
   {
    "duration": 18,
    "start_time": "2022-07-14T09:33:10.936Z"
   },
   {
    "duration": 26,
    "start_time": "2022-07-14T09:33:10.955Z"
   },
   {
    "duration": 15,
    "start_time": "2022-07-14T09:33:10.982Z"
   },
   {
    "duration": 26,
    "start_time": "2022-07-14T09:33:10.999Z"
   },
   {
    "duration": 159,
    "start_time": "2022-07-14T09:33:11.026Z"
   },
   {
    "duration": 17,
    "start_time": "2022-07-14T09:33:11.187Z"
   },
   {
    "duration": 902,
    "start_time": "2022-07-14T09:33:11.206Z"
   },
   {
    "duration": 563,
    "start_time": "2022-07-14T09:33:12.110Z"
   },
   {
    "duration": 3,
    "start_time": "2022-07-14T09:33:12.674Z"
   },
   {
    "duration": 232,
    "start_time": "2022-07-14T09:33:12.679Z"
   },
   {
    "duration": 214,
    "start_time": "2022-07-14T09:33:12.912Z"
   },
   {
    "duration": 13,
    "start_time": "2022-07-14T09:33:13.127Z"
   },
   {
    "duration": 134,
    "start_time": "2022-07-14T09:33:13.141Z"
   },
   {
    "duration": 132,
    "start_time": "2022-07-14T09:33:13.277Z"
   },
   {
    "duration": 8,
    "start_time": "2022-07-14T09:33:13.411Z"
   },
   {
    "duration": 37,
    "start_time": "2022-07-14T09:33:13.420Z"
   },
   {
    "duration": 20,
    "start_time": "2022-07-14T09:33:13.458Z"
   },
   {
    "duration": 289,
    "start_time": "2022-07-14T09:33:13.479Z"
   },
   {
    "duration": 131,
    "start_time": "2022-07-14T09:33:47.286Z"
   },
   {
    "duration": 308,
    "start_time": "2022-07-14T09:37:31.141Z"
   },
   {
    "duration": 98,
    "start_time": "2022-07-14T10:16:52.979Z"
   },
   {
    "duration": 9,
    "start_time": "2022-07-14T10:17:05.073Z"
   },
   {
    "duration": 14,
    "start_time": "2022-07-14T10:17:24.361Z"
   },
   {
    "duration": 23,
    "start_time": "2022-07-14T10:17:49.434Z"
   },
   {
    "duration": 15,
    "start_time": "2022-07-14T10:24:32.092Z"
   },
   {
    "duration": 13,
    "start_time": "2022-07-14T10:24:44.725Z"
   },
   {
    "duration": 13,
    "start_time": "2022-07-14T10:26:19.593Z"
   },
   {
    "duration": 159,
    "start_time": "2022-07-14T10:27:02.670Z"
   },
   {
    "duration": 13,
    "start_time": "2022-07-14T10:27:35.482Z"
   },
   {
    "duration": 14,
    "start_time": "2022-07-14T10:27:43.332Z"
   },
   {
    "duration": 13,
    "start_time": "2022-07-14T10:30:14.206Z"
   },
   {
    "duration": 1526,
    "start_time": "2022-07-14T10:31:15.359Z"
   },
   {
    "duration": 20,
    "start_time": "2022-07-14T10:31:33.509Z"
   },
   {
    "duration": 20,
    "start_time": "2022-07-14T10:32:17.292Z"
   },
   {
    "duration": 16,
    "start_time": "2022-07-14T10:36:30.529Z"
   },
   {
    "duration": 18,
    "start_time": "2022-07-14T10:37:59.832Z"
   },
   {
    "duration": 14,
    "start_time": "2022-07-14T10:38:07.260Z"
   },
   {
    "duration": 13,
    "start_time": "2022-07-14T10:38:41.655Z"
   },
   {
    "duration": 10,
    "start_time": "2022-07-14T10:39:12.955Z"
   },
   {
    "duration": 16,
    "start_time": "2022-07-14T10:39:17.714Z"
   },
   {
    "duration": 11,
    "start_time": "2022-07-14T10:39:20.183Z"
   },
   {
    "duration": 12,
    "start_time": "2022-07-14T10:39:29.330Z"
   },
   {
    "duration": 11,
    "start_time": "2022-07-14T10:40:14.251Z"
   },
   {
    "duration": 1041,
    "start_time": "2022-07-14T10:40:19.548Z"
   },
   {
    "duration": 59,
    "start_time": "2022-07-14T10:40:20.591Z"
   },
   {
    "duration": 24,
    "start_time": "2022-07-14T10:40:20.652Z"
   },
   {
    "duration": 26,
    "start_time": "2022-07-14T10:40:20.677Z"
   },
   {
    "duration": 654,
    "start_time": "2022-07-14T10:40:20.704Z"
   },
   {
    "duration": 3,
    "start_time": "2022-07-14T10:40:21.360Z"
   },
   {
    "duration": 11,
    "start_time": "2022-07-14T10:40:21.365Z"
   },
   {
    "duration": 28,
    "start_time": "2022-07-14T10:40:21.378Z"
   },
   {
    "duration": 6,
    "start_time": "2022-07-14T10:40:21.408Z"
   },
   {
    "duration": 5,
    "start_time": "2022-07-14T10:40:21.416Z"
   },
   {
    "duration": 8,
    "start_time": "2022-07-14T10:40:21.423Z"
   },
   {
    "duration": 5,
    "start_time": "2022-07-14T10:40:21.432Z"
   },
   {
    "duration": 12,
    "start_time": "2022-07-14T10:40:21.438Z"
   },
   {
    "duration": 7,
    "start_time": "2022-07-14T10:40:21.452Z"
   },
   {
    "duration": 12,
    "start_time": "2022-07-14T10:40:21.460Z"
   },
   {
    "duration": 5,
    "start_time": "2022-07-14T10:40:21.502Z"
   },
   {
    "duration": 17,
    "start_time": "2022-07-14T10:40:21.508Z"
   },
   {
    "duration": 181,
    "start_time": "2022-07-14T10:40:21.527Z"
   },
   {
    "duration": 14,
    "start_time": "2022-07-14T10:40:21.710Z"
   },
   {
    "duration": 918,
    "start_time": "2022-07-14T10:40:21.726Z"
   },
   {
    "duration": 535,
    "start_time": "2022-07-14T10:40:22.645Z"
   },
   {
    "duration": 2,
    "start_time": "2022-07-14T10:40:23.182Z"
   },
   {
    "duration": 224,
    "start_time": "2022-07-14T10:40:23.185Z"
   },
   {
    "duration": 235,
    "start_time": "2022-07-14T10:40:23.411Z"
   },
   {
    "duration": 13,
    "start_time": "2022-07-14T10:40:23.648Z"
   },
   {
    "duration": 147,
    "start_time": "2022-07-14T10:40:23.662Z"
   },
   {
    "duration": 178,
    "start_time": "2022-07-14T10:40:23.811Z"
   },
   {
    "duration": 13,
    "start_time": "2022-07-14T10:40:23.990Z"
   },
   {
    "duration": 14,
    "start_time": "2022-07-14T10:40:24.005Z"
   },
   {
    "duration": 5,
    "start_time": "2022-07-14T10:40:24.020Z"
   },
   {
    "duration": 336,
    "start_time": "2022-07-14T10:40:24.027Z"
   },
   {
    "duration": 16,
    "start_time": "2022-07-14T10:40:24.365Z"
   },
   {
    "duration": 107,
    "start_time": "2022-07-14T10:40:24.382Z"
   },
   {
    "duration": 0,
    "start_time": "2022-07-14T10:40:24.490Z"
   },
   {
    "duration": 0,
    "start_time": "2022-07-14T10:40:24.491Z"
   },
   {
    "duration": 0,
    "start_time": "2022-07-14T10:40:24.502Z"
   },
   {
    "duration": 0,
    "start_time": "2022-07-14T10:40:24.503Z"
   },
   {
    "duration": 0,
    "start_time": "2022-07-14T10:40:24.504Z"
   },
   {
    "duration": 0,
    "start_time": "2022-07-14T10:40:24.505Z"
   },
   {
    "duration": 27,
    "start_time": "2022-07-14T10:43:18.419Z"
   },
   {
    "duration": 27,
    "start_time": "2022-07-14T10:43:45.674Z"
   },
   {
    "duration": 38,
    "start_time": "2022-07-14T10:44:05.105Z"
   },
   {
    "duration": 32,
    "start_time": "2022-07-14T10:47:16.686Z"
   },
   {
    "duration": 5,
    "start_time": "2022-07-14T10:54:03.428Z"
   },
   {
    "duration": 14,
    "start_time": "2022-07-14T10:55:17.747Z"
   },
   {
    "duration": 74,
    "start_time": "2022-07-14T10:56:20.799Z"
   },
   {
    "duration": 22,
    "start_time": "2022-07-14T10:56:25.441Z"
   },
   {
    "duration": 20,
    "start_time": "2022-07-14T10:56:52.322Z"
   },
   {
    "duration": 1034,
    "start_time": "2022-07-14T10:57:02.635Z"
   },
   {
    "duration": 59,
    "start_time": "2022-07-14T10:57:03.671Z"
   },
   {
    "duration": 18,
    "start_time": "2022-07-14T10:57:03.731Z"
   },
   {
    "duration": 28,
    "start_time": "2022-07-14T10:57:03.750Z"
   },
   {
    "duration": 669,
    "start_time": "2022-07-14T10:57:03.779Z"
   },
   {
    "duration": 2,
    "start_time": "2022-07-14T10:57:04.450Z"
   },
   {
    "duration": 13,
    "start_time": "2022-07-14T10:57:04.454Z"
   },
   {
    "duration": 17,
    "start_time": "2022-07-14T10:57:04.468Z"
   },
   {
    "duration": 17,
    "start_time": "2022-07-14T10:57:04.487Z"
   },
   {
    "duration": 13,
    "start_time": "2022-07-14T10:57:04.506Z"
   },
   {
    "duration": 8,
    "start_time": "2022-07-14T10:57:04.520Z"
   },
   {
    "duration": 5,
    "start_time": "2022-07-14T10:57:04.529Z"
   },
   {
    "duration": 9,
    "start_time": "2022-07-14T10:57:04.535Z"
   },
   {
    "duration": 5,
    "start_time": "2022-07-14T10:57:04.545Z"
   },
   {
    "duration": 14,
    "start_time": "2022-07-14T10:57:04.551Z"
   },
   {
    "duration": 4,
    "start_time": "2022-07-14T10:57:04.566Z"
   },
   {
    "duration": 31,
    "start_time": "2022-07-14T10:57:04.572Z"
   },
   {
    "duration": 152,
    "start_time": "2022-07-14T10:57:04.604Z"
   },
   {
    "duration": 14,
    "start_time": "2022-07-14T10:57:04.758Z"
   },
   {
    "duration": 998,
    "start_time": "2022-07-14T10:57:04.773Z"
   },
   {
    "duration": 560,
    "start_time": "2022-07-14T10:57:05.772Z"
   },
   {
    "duration": 3,
    "start_time": "2022-07-14T10:57:06.334Z"
   },
   {
    "duration": 222,
    "start_time": "2022-07-14T10:57:06.338Z"
   },
   {
    "duration": 232,
    "start_time": "2022-07-14T10:57:06.561Z"
   },
   {
    "duration": 18,
    "start_time": "2022-07-14T10:57:06.794Z"
   },
   {
    "duration": 143,
    "start_time": "2022-07-14T10:57:06.814Z"
   },
   {
    "duration": 138,
    "start_time": "2022-07-14T10:57:06.958Z"
   },
   {
    "duration": 9,
    "start_time": "2022-07-14T10:57:07.101Z"
   },
   {
    "duration": 14,
    "start_time": "2022-07-14T10:57:07.111Z"
   },
   {
    "duration": 7,
    "start_time": "2022-07-14T10:57:07.126Z"
   },
   {
    "duration": 315,
    "start_time": "2022-07-14T10:57:07.135Z"
   },
   {
    "duration": 51,
    "start_time": "2022-07-14T10:57:07.452Z"
   },
   {
    "duration": 38,
    "start_time": "2022-07-14T10:57:07.505Z"
   },
   {
    "duration": 4,
    "start_time": "2022-07-14T10:57:07.545Z"
   },
   {
    "duration": 144,
    "start_time": "2022-07-14T10:57:07.551Z"
   },
   {
    "duration": 16,
    "start_time": "2022-07-14T10:57:55.645Z"
   },
   {
    "duration": 148,
    "start_time": "2022-07-14T10:58:03.577Z"
   },
   {
    "duration": 22,
    "start_time": "2022-07-14T10:58:21.856Z"
   },
   {
    "duration": 5,
    "start_time": "2022-07-14T10:58:51.229Z"
   },
   {
    "duration": 23,
    "start_time": "2022-07-14T10:59:05.768Z"
   },
   {
    "duration": 1020,
    "start_time": "2022-07-14T10:59:11.560Z"
   },
   {
    "duration": 58,
    "start_time": "2022-07-14T10:59:12.581Z"
   },
   {
    "duration": 17,
    "start_time": "2022-07-14T10:59:12.640Z"
   },
   {
    "duration": 26,
    "start_time": "2022-07-14T10:59:12.659Z"
   },
   {
    "duration": 661,
    "start_time": "2022-07-14T10:59:12.687Z"
   },
   {
    "duration": 4,
    "start_time": "2022-07-14T10:59:13.350Z"
   },
   {
    "duration": 13,
    "start_time": "2022-07-14T10:59:13.355Z"
   },
   {
    "duration": 14,
    "start_time": "2022-07-14T10:59:13.370Z"
   },
   {
    "duration": 19,
    "start_time": "2022-07-14T10:59:13.385Z"
   },
   {
    "duration": 4,
    "start_time": "2022-07-14T10:59:13.405Z"
   },
   {
    "duration": 10,
    "start_time": "2022-07-14T10:59:13.410Z"
   },
   {
    "duration": 5,
    "start_time": "2022-07-14T10:59:13.422Z"
   },
   {
    "duration": 10,
    "start_time": "2022-07-14T10:59:13.428Z"
   },
   {
    "duration": 7,
    "start_time": "2022-07-14T10:59:13.440Z"
   },
   {
    "duration": 13,
    "start_time": "2022-07-14T10:59:13.448Z"
   },
   {
    "duration": 4,
    "start_time": "2022-07-14T10:59:13.462Z"
   },
   {
    "duration": 40,
    "start_time": "2022-07-14T10:59:13.467Z"
   },
   {
    "duration": 157,
    "start_time": "2022-07-14T10:59:13.509Z"
   },
   {
    "duration": 15,
    "start_time": "2022-07-14T10:59:13.668Z"
   },
   {
    "duration": 960,
    "start_time": "2022-07-14T10:59:13.684Z"
   },
   {
    "duration": 551,
    "start_time": "2022-07-14T10:59:14.646Z"
   },
   {
    "duration": 3,
    "start_time": "2022-07-14T10:59:15.203Z"
   },
   {
    "duration": 249,
    "start_time": "2022-07-14T10:59:15.208Z"
   },
   {
    "duration": 223,
    "start_time": "2022-07-14T10:59:15.459Z"
   },
   {
    "duration": 21,
    "start_time": "2022-07-14T10:59:15.683Z"
   },
   {
    "duration": 136,
    "start_time": "2022-07-14T10:59:15.705Z"
   },
   {
    "duration": 145,
    "start_time": "2022-07-14T10:59:15.843Z"
   },
   {
    "duration": 15,
    "start_time": "2022-07-14T10:59:15.990Z"
   },
   {
    "duration": 10,
    "start_time": "2022-07-14T10:59:16.006Z"
   },
   {
    "duration": 6,
    "start_time": "2022-07-14T10:59:16.018Z"
   },
   {
    "duration": 300,
    "start_time": "2022-07-14T10:59:16.025Z"
   },
   {
    "duration": 34,
    "start_time": "2022-07-14T10:59:16.326Z"
   },
   {
    "duration": 51,
    "start_time": "2022-07-14T10:59:16.361Z"
   },
   {
    "duration": 3,
    "start_time": "2022-07-14T10:59:16.414Z"
   },
   {
    "duration": 114,
    "start_time": "2022-07-14T10:59:16.419Z"
   },
   {
    "duration": 14,
    "start_time": "2022-07-14T11:00:27.645Z"
   },
   {
    "duration": 27,
    "start_time": "2022-07-14T11:00:45.256Z"
   },
   {
    "duration": 22,
    "start_time": "2022-07-14T11:00:51.034Z"
   },
   {
    "duration": 1149,
    "start_time": "2022-07-14T11:01:00.490Z"
   },
   {
    "duration": 58,
    "start_time": "2022-07-14T11:01:01.641Z"
   },
   {
    "duration": 17,
    "start_time": "2022-07-14T11:01:01.700Z"
   },
   {
    "duration": 41,
    "start_time": "2022-07-14T11:01:01.718Z"
   },
   {
    "duration": 671,
    "start_time": "2022-07-14T11:01:01.761Z"
   },
   {
    "duration": 3,
    "start_time": "2022-07-14T11:01:02.433Z"
   },
   {
    "duration": 23,
    "start_time": "2022-07-14T11:01:02.438Z"
   },
   {
    "duration": 19,
    "start_time": "2022-07-14T11:01:02.462Z"
   },
   {
    "duration": 6,
    "start_time": "2022-07-14T11:01:02.482Z"
   },
   {
    "duration": 14,
    "start_time": "2022-07-14T11:01:02.489Z"
   },
   {
    "duration": 10,
    "start_time": "2022-07-14T11:01:02.504Z"
   },
   {
    "duration": 9,
    "start_time": "2022-07-14T11:01:02.515Z"
   },
   {
    "duration": 10,
    "start_time": "2022-07-14T11:01:02.526Z"
   },
   {
    "duration": 5,
    "start_time": "2022-07-14T11:01:02.538Z"
   },
   {
    "duration": 11,
    "start_time": "2022-07-14T11:01:02.545Z"
   },
   {
    "duration": 4,
    "start_time": "2022-07-14T11:01:02.557Z"
   },
   {
    "duration": 41,
    "start_time": "2022-07-14T11:01:02.562Z"
   },
   {
    "duration": 157,
    "start_time": "2022-07-14T11:01:02.604Z"
   },
   {
    "duration": 14,
    "start_time": "2022-07-14T11:01:02.762Z"
   },
   {
    "duration": 966,
    "start_time": "2022-07-14T11:01:02.778Z"
   },
   {
    "duration": 550,
    "start_time": "2022-07-14T11:01:03.745Z"
   },
   {
    "duration": 5,
    "start_time": "2022-07-14T11:01:04.297Z"
   },
   {
    "duration": 249,
    "start_time": "2022-07-14T11:01:04.304Z"
   },
   {
    "duration": 219,
    "start_time": "2022-07-14T11:01:04.555Z"
   },
   {
    "duration": 13,
    "start_time": "2022-07-14T11:01:04.775Z"
   },
   {
    "duration": 135,
    "start_time": "2022-07-14T11:01:04.802Z"
   },
   {
    "duration": 140,
    "start_time": "2022-07-14T11:01:04.939Z"
   },
   {
    "duration": 8,
    "start_time": "2022-07-14T11:01:05.081Z"
   },
   {
    "duration": 18,
    "start_time": "2022-07-14T11:01:05.091Z"
   },
   {
    "duration": 7,
    "start_time": "2022-07-14T11:01:05.111Z"
   },
   {
    "duration": 330,
    "start_time": "2022-07-14T11:01:05.120Z"
   },
   {
    "duration": 36,
    "start_time": "2022-07-14T11:01:05.458Z"
   },
   {
    "duration": 43,
    "start_time": "2022-07-14T11:01:05.503Z"
   },
   {
    "duration": 4,
    "start_time": "2022-07-14T11:01:05.547Z"
   },
   {
    "duration": 119,
    "start_time": "2022-07-14T11:01:05.552Z"
   },
   {
    "duration": 1033,
    "start_time": "2022-07-14T11:02:31.746Z"
   },
   {
    "duration": 61,
    "start_time": "2022-07-14T11:02:32.781Z"
   },
   {
    "duration": 19,
    "start_time": "2022-07-14T11:02:32.843Z"
   },
   {
    "duration": 38,
    "start_time": "2022-07-14T11:02:32.864Z"
   },
   {
    "duration": 749,
    "start_time": "2022-07-14T11:02:32.903Z"
   },
   {
    "duration": 3,
    "start_time": "2022-07-14T11:02:33.654Z"
   },
   {
    "duration": 14,
    "start_time": "2022-07-14T11:02:33.658Z"
   },
   {
    "duration": 14,
    "start_time": "2022-07-14T11:02:33.674Z"
   },
   {
    "duration": 17,
    "start_time": "2022-07-14T11:02:33.689Z"
   },
   {
    "duration": 4,
    "start_time": "2022-07-14T11:02:33.709Z"
   },
   {
    "duration": 7,
    "start_time": "2022-07-14T11:02:33.715Z"
   },
   {
    "duration": 5,
    "start_time": "2022-07-14T11:02:33.724Z"
   },
   {
    "duration": 12,
    "start_time": "2022-07-14T11:02:33.731Z"
   },
   {
    "duration": 6,
    "start_time": "2022-07-14T11:02:33.744Z"
   },
   {
    "duration": 13,
    "start_time": "2022-07-14T11:02:33.752Z"
   },
   {
    "duration": 36,
    "start_time": "2022-07-14T11:02:33.767Z"
   },
   {
    "duration": 16,
    "start_time": "2022-07-14T11:02:33.804Z"
   },
   {
    "duration": 165,
    "start_time": "2022-07-14T11:02:33.821Z"
   },
   {
    "duration": 21,
    "start_time": "2022-07-14T11:02:33.987Z"
   },
   {
    "duration": 979,
    "start_time": "2022-07-14T11:02:34.010Z"
   },
   {
    "duration": 593,
    "start_time": "2022-07-14T11:02:34.990Z"
   },
   {
    "duration": 3,
    "start_time": "2022-07-14T11:02:35.584Z"
   },
   {
    "duration": 236,
    "start_time": "2022-07-14T11:02:35.589Z"
   },
   {
    "duration": 223,
    "start_time": "2022-07-14T11:02:35.827Z"
   },
   {
    "duration": 13,
    "start_time": "2022-07-14T11:02:36.052Z"
   },
   {
    "duration": 153,
    "start_time": "2022-07-14T11:02:36.066Z"
   },
   {
    "duration": 146,
    "start_time": "2022-07-14T11:02:36.221Z"
   },
   {
    "duration": 9,
    "start_time": "2022-07-14T11:02:36.370Z"
   },
   {
    "duration": 24,
    "start_time": "2022-07-14T11:02:36.380Z"
   },
   {
    "duration": 6,
    "start_time": "2022-07-14T11:02:36.405Z"
   },
   {
    "duration": 275,
    "start_time": "2022-07-14T11:02:36.412Z"
   },
   {
    "duration": 37,
    "start_time": "2022-07-14T11:02:36.688Z"
   },
   {
    "duration": 31,
    "start_time": "2022-07-14T11:02:36.726Z"
   },
   {
    "duration": 4,
    "start_time": "2022-07-14T11:02:36.759Z"
   },
   {
    "duration": 121,
    "start_time": "2022-07-14T11:02:36.764Z"
   },
   {
    "duration": 12,
    "start_time": "2022-07-14T11:04:16.155Z"
   },
   {
    "duration": 11,
    "start_time": "2022-07-14T11:04:19.583Z"
   },
   {
    "duration": 31,
    "start_time": "2022-07-14T11:05:22.854Z"
   },
   {
    "duration": 1002,
    "start_time": "2022-07-14T11:05:33.453Z"
   },
   {
    "duration": 59,
    "start_time": "2022-07-14T11:05:34.457Z"
   },
   {
    "duration": 18,
    "start_time": "2022-07-14T11:05:34.519Z"
   },
   {
    "duration": 27,
    "start_time": "2022-07-14T11:05:34.539Z"
   },
   {
    "duration": 704,
    "start_time": "2022-07-14T11:05:34.568Z"
   },
   {
    "duration": 3,
    "start_time": "2022-07-14T11:05:35.274Z"
   },
   {
    "duration": 11,
    "start_time": "2022-07-14T11:05:35.278Z"
   },
   {
    "duration": 24,
    "start_time": "2022-07-14T11:05:35.291Z"
   },
   {
    "duration": 6,
    "start_time": "2022-07-14T11:05:35.318Z"
   },
   {
    "duration": 11,
    "start_time": "2022-07-14T11:05:35.326Z"
   },
   {
    "duration": 9,
    "start_time": "2022-07-14T11:05:35.339Z"
   },
   {
    "duration": 7,
    "start_time": "2022-07-14T11:05:35.350Z"
   },
   {
    "duration": 11,
    "start_time": "2022-07-14T11:05:35.358Z"
   },
   {
    "duration": 9,
    "start_time": "2022-07-14T11:05:35.371Z"
   },
   {
    "duration": 29,
    "start_time": "2022-07-14T11:05:35.381Z"
   },
   {
    "duration": 4,
    "start_time": "2022-07-14T11:05:35.412Z"
   },
   {
    "duration": 22,
    "start_time": "2022-07-14T11:05:35.418Z"
   },
   {
    "duration": 182,
    "start_time": "2022-07-14T11:05:35.442Z"
   },
   {
    "duration": 20,
    "start_time": "2022-07-14T11:05:35.626Z"
   },
   {
    "duration": 964,
    "start_time": "2022-07-14T11:05:35.647Z"
   },
   {
    "duration": 554,
    "start_time": "2022-07-14T11:05:36.612Z"
   },
   {
    "duration": 3,
    "start_time": "2022-07-14T11:05:37.168Z"
   },
   {
    "duration": 254,
    "start_time": "2022-07-14T11:05:37.172Z"
   },
   {
    "duration": 262,
    "start_time": "2022-07-14T11:05:37.428Z"
   },
   {
    "duration": 20,
    "start_time": "2022-07-14T11:05:37.692Z"
   },
   {
    "duration": 144,
    "start_time": "2022-07-14T11:05:37.713Z"
   },
   {
    "duration": 142,
    "start_time": "2022-07-14T11:05:37.860Z"
   },
   {
    "duration": 9,
    "start_time": "2022-07-14T11:05:38.003Z"
   },
   {
    "duration": 15,
    "start_time": "2022-07-14T11:05:38.013Z"
   },
   {
    "duration": 12,
    "start_time": "2022-07-14T11:05:38.029Z"
   },
   {
    "duration": 274,
    "start_time": "2022-07-14T11:05:38.042Z"
   },
   {
    "duration": 33,
    "start_time": "2022-07-14T11:05:38.317Z"
   },
   {
    "duration": 31,
    "start_time": "2022-07-14T11:05:38.351Z"
   },
   {
    "duration": 4,
    "start_time": "2022-07-14T11:05:38.402Z"
   },
   {
    "duration": 115,
    "start_time": "2022-07-14T11:05:38.407Z"
   },
   {
    "duration": 20,
    "start_time": "2022-07-14T11:06:07.253Z"
   },
   {
    "duration": 1054,
    "start_time": "2022-07-14T11:06:16.002Z"
   },
   {
    "duration": 57,
    "start_time": "2022-07-14T11:06:17.058Z"
   },
   {
    "duration": 17,
    "start_time": "2022-07-14T11:06:17.116Z"
   },
   {
    "duration": 23,
    "start_time": "2022-07-14T11:06:17.135Z"
   },
   {
    "duration": 721,
    "start_time": "2022-07-14T11:06:17.160Z"
   },
   {
    "duration": 3,
    "start_time": "2022-07-14T11:06:17.883Z"
   },
   {
    "duration": 16,
    "start_time": "2022-07-14T11:06:17.887Z"
   },
   {
    "duration": 16,
    "start_time": "2022-07-14T11:06:17.905Z"
   },
   {
    "duration": 6,
    "start_time": "2022-07-14T11:06:17.922Z"
   },
   {
    "duration": 7,
    "start_time": "2022-07-14T11:06:17.930Z"
   },
   {
    "duration": 9,
    "start_time": "2022-07-14T11:06:17.938Z"
   },
   {
    "duration": 4,
    "start_time": "2022-07-14T11:06:17.949Z"
   },
   {
    "duration": 15,
    "start_time": "2022-07-14T11:06:17.954Z"
   },
   {
    "duration": 8,
    "start_time": "2022-07-14T11:06:17.970Z"
   },
   {
    "duration": 12,
    "start_time": "2022-07-14T11:06:18.001Z"
   },
   {
    "duration": 4,
    "start_time": "2022-07-14T11:06:18.015Z"
   },
   {
    "duration": 13,
    "start_time": "2022-07-14T11:06:18.021Z"
   },
   {
    "duration": 172,
    "start_time": "2022-07-14T11:06:18.035Z"
   },
   {
    "duration": 14,
    "start_time": "2022-07-14T11:06:18.209Z"
   },
   {
    "duration": 942,
    "start_time": "2022-07-14T11:06:18.225Z"
   },
   {
    "duration": 582,
    "start_time": "2022-07-14T11:06:19.169Z"
   },
   {
    "duration": 3,
    "start_time": "2022-07-14T11:06:19.752Z"
   },
   {
    "duration": 257,
    "start_time": "2022-07-14T11:06:19.757Z"
   },
   {
    "duration": 242,
    "start_time": "2022-07-14T11:06:20.015Z"
   },
   {
    "duration": 13,
    "start_time": "2022-07-14T11:06:20.258Z"
   },
   {
    "duration": 144,
    "start_time": "2022-07-14T11:06:20.272Z"
   },
   {
    "duration": 135,
    "start_time": "2022-07-14T11:06:20.417Z"
   },
   {
    "duration": 9,
    "start_time": "2022-07-14T11:06:20.554Z"
   },
   {
    "duration": 13,
    "start_time": "2022-07-14T11:06:20.564Z"
   },
   {
    "duration": 5,
    "start_time": "2022-07-14T11:06:20.578Z"
   },
   {
    "duration": 277,
    "start_time": "2022-07-14T11:06:20.585Z"
   },
   {
    "duration": 42,
    "start_time": "2022-07-14T11:06:20.864Z"
   },
   {
    "duration": 29,
    "start_time": "2022-07-14T11:06:20.907Z"
   },
   {
    "duration": 4,
    "start_time": "2022-07-14T11:06:20.938Z"
   },
   {
    "duration": 124,
    "start_time": "2022-07-14T11:06:20.944Z"
   },
   {
    "duration": 23,
    "start_time": "2022-07-14T11:08:40.509Z"
   },
   {
    "duration": 12,
    "start_time": "2022-07-14T11:08:45.617Z"
   },
   {
    "duration": 13,
    "start_time": "2022-07-14T11:10:05.543Z"
   },
   {
    "duration": 124,
    "start_time": "2022-07-14T11:12:26.633Z"
   },
   {
    "duration": 135,
    "start_time": "2022-07-14T11:13:47.079Z"
   },
   {
    "duration": 143,
    "start_time": "2022-07-14T11:14:30.503Z"
   },
   {
    "duration": 142,
    "start_time": "2022-07-14T11:14:33.123Z"
   },
   {
    "duration": 8,
    "start_time": "2022-07-14T11:14:47.077Z"
   },
   {
    "duration": 1065,
    "start_time": "2022-07-14T11:17:50.884Z"
   },
   {
    "duration": 58,
    "start_time": "2022-07-14T11:17:51.951Z"
   },
   {
    "duration": 16,
    "start_time": "2022-07-14T11:17:52.010Z"
   },
   {
    "duration": 39,
    "start_time": "2022-07-14T11:17:52.028Z"
   },
   {
    "duration": 665,
    "start_time": "2022-07-14T11:17:52.069Z"
   },
   {
    "duration": 3,
    "start_time": "2022-07-14T11:17:52.735Z"
   },
   {
    "duration": 21,
    "start_time": "2022-07-14T11:17:52.740Z"
   },
   {
    "duration": 31,
    "start_time": "2022-07-14T11:17:52.762Z"
   },
   {
    "duration": 14,
    "start_time": "2022-07-14T11:17:52.794Z"
   },
   {
    "duration": 20,
    "start_time": "2022-07-14T11:17:52.809Z"
   },
   {
    "duration": 24,
    "start_time": "2022-07-14T11:17:52.831Z"
   },
   {
    "duration": 17,
    "start_time": "2022-07-14T11:17:52.856Z"
   },
   {
    "duration": 27,
    "start_time": "2022-07-14T11:17:52.874Z"
   },
   {
    "duration": 4,
    "start_time": "2022-07-14T11:17:52.904Z"
   },
   {
    "duration": 21,
    "start_time": "2022-07-14T11:17:52.910Z"
   },
   {
    "duration": 5,
    "start_time": "2022-07-14T11:17:52.932Z"
   },
   {
    "duration": 26,
    "start_time": "2022-07-14T11:17:52.938Z"
   },
   {
    "duration": 162,
    "start_time": "2022-07-14T11:17:52.965Z"
   },
   {
    "duration": 17,
    "start_time": "2022-07-14T11:17:53.128Z"
   },
   {
    "duration": 994,
    "start_time": "2022-07-14T11:17:53.146Z"
   },
   {
    "duration": 552,
    "start_time": "2022-07-14T11:17:54.141Z"
   },
   {
    "duration": 3,
    "start_time": "2022-07-14T11:17:54.694Z"
   },
   {
    "duration": 223,
    "start_time": "2022-07-14T11:17:54.702Z"
   },
   {
    "duration": 227,
    "start_time": "2022-07-14T11:17:54.926Z"
   },
   {
    "duration": 14,
    "start_time": "2022-07-14T11:17:55.154Z"
   },
   {
    "duration": 168,
    "start_time": "2022-07-14T11:17:55.170Z"
   },
   {
    "duration": 145,
    "start_time": "2022-07-14T11:17:55.340Z"
   },
   {
    "duration": 9,
    "start_time": "2022-07-14T11:17:55.487Z"
   },
   {
    "duration": 10,
    "start_time": "2022-07-14T11:17:55.502Z"
   },
   {
    "duration": 6,
    "start_time": "2022-07-14T11:17:55.514Z"
   },
   {
    "duration": 283,
    "start_time": "2022-07-14T11:17:55.521Z"
   },
   {
    "duration": 40,
    "start_time": "2022-07-14T11:17:55.806Z"
   },
   {
    "duration": 33,
    "start_time": "2022-07-14T11:17:55.847Z"
   },
   {
    "duration": 4,
    "start_time": "2022-07-14T11:17:55.902Z"
   },
   {
    "duration": 14,
    "start_time": "2022-07-14T11:17:55.907Z"
   },
   {
    "duration": 10,
    "start_time": "2022-07-14T11:17:55.923Z"
   },
   {
    "duration": 11,
    "start_time": "2022-07-14T11:18:31.355Z"
   },
   {
    "duration": 90,
    "start_time": "2022-07-14T11:20:23.150Z"
   },
   {
    "duration": 258,
    "start_time": "2022-07-14T11:20:34.395Z"
   },
   {
    "duration": 286,
    "start_time": "2022-07-14T11:20:45.070Z"
   },
   {
    "duration": 245,
    "start_time": "2022-07-14T11:30:17.120Z"
   },
   {
    "duration": 9,
    "start_time": "2022-07-14T11:30:27.191Z"
   },
   {
    "duration": 263,
    "start_time": "2022-07-14T11:30:29.563Z"
   },
   {
    "duration": 12,
    "start_time": "2022-07-14T11:33:23.326Z"
   },
   {
    "duration": 236,
    "start_time": "2022-07-14T11:33:38.734Z"
   },
   {
    "duration": 29,
    "start_time": "2022-07-14T11:47:20.730Z"
   },
   {
    "duration": 31,
    "start_time": "2022-07-14T11:49:04.345Z"
   },
   {
    "duration": 128,
    "start_time": "2022-07-14T12:10:34.027Z"
   },
   {
    "duration": 2108,
    "start_time": "2022-07-14T12:36:48.566Z"
   },
   {
    "duration": 7,
    "start_time": "2022-07-14T12:36:57.346Z"
   },
   {
    "duration": 10,
    "start_time": "2022-07-14T12:37:52.230Z"
   },
   {
    "duration": 9,
    "start_time": "2022-07-14T12:38:04.489Z"
   },
   {
    "duration": 14,
    "start_time": "2022-07-14T12:42:18.140Z"
   },
   {
    "duration": 1134,
    "start_time": "2022-07-14T12:42:25.225Z"
   },
   {
    "duration": 95,
    "start_time": "2022-07-14T12:42:26.361Z"
   },
   {
    "duration": 18,
    "start_time": "2022-07-14T12:42:26.458Z"
   },
   {
    "duration": 48,
    "start_time": "2022-07-14T12:42:26.478Z"
   },
   {
    "duration": 700,
    "start_time": "2022-07-14T12:42:26.528Z"
   },
   {
    "duration": 5,
    "start_time": "2022-07-14T12:42:27.230Z"
   },
   {
    "duration": 46,
    "start_time": "2022-07-14T12:42:27.237Z"
   },
   {
    "duration": 24,
    "start_time": "2022-07-14T12:42:27.286Z"
   },
   {
    "duration": 9,
    "start_time": "2022-07-14T12:42:27.312Z"
   },
   {
    "duration": 37,
    "start_time": "2022-07-14T12:42:27.324Z"
   },
   {
    "duration": 13,
    "start_time": "2022-07-14T12:42:27.363Z"
   },
   {
    "duration": 17,
    "start_time": "2022-07-14T12:42:27.378Z"
   },
   {
    "duration": 51,
    "start_time": "2022-07-14T12:42:27.397Z"
   },
   {
    "duration": 14,
    "start_time": "2022-07-14T12:42:27.453Z"
   },
   {
    "duration": 28,
    "start_time": "2022-07-14T12:42:27.469Z"
   },
   {
    "duration": 42,
    "start_time": "2022-07-14T12:42:27.499Z"
   },
   {
    "duration": 31,
    "start_time": "2022-07-14T12:42:27.545Z"
   },
   {
    "duration": 245,
    "start_time": "2022-07-14T12:42:27.578Z"
   },
   {
    "duration": 16,
    "start_time": "2022-07-14T12:42:27.824Z"
   },
   {
    "duration": 1030,
    "start_time": "2022-07-14T12:42:27.842Z"
   },
   {
    "duration": 616,
    "start_time": "2022-07-14T12:42:28.874Z"
   },
   {
    "duration": 18,
    "start_time": "2022-07-14T12:42:29.491Z"
   },
   {
    "duration": 273,
    "start_time": "2022-07-14T12:42:29.517Z"
   },
   {
    "duration": 277,
    "start_time": "2022-07-14T12:42:29.792Z"
   },
   {
    "duration": 15,
    "start_time": "2022-07-14T12:42:30.070Z"
   },
   {
    "duration": 186,
    "start_time": "2022-07-14T12:42:30.087Z"
   },
   {
    "duration": 168,
    "start_time": "2022-07-14T12:42:30.274Z"
   },
   {
    "duration": 9,
    "start_time": "2022-07-14T12:42:30.444Z"
   },
   {
    "duration": 435,
    "start_time": "2022-07-14T12:42:30.456Z"
   },
   {
    "duration": 18,
    "start_time": "2022-07-14T12:42:30.893Z"
   },
   {
    "duration": 279,
    "start_time": "2022-07-14T12:42:30.912Z"
   },
   {
    "duration": 27,
    "start_time": "2022-07-14T12:42:31.192Z"
   },
   {
    "duration": 206,
    "start_time": "2022-07-14T12:42:31.221Z"
   },
   {
    "duration": 36,
    "start_time": "2022-07-14T12:42:31.429Z"
   },
   {
    "duration": 49,
    "start_time": "2022-07-14T12:42:31.479Z"
   },
   {
    "duration": 6,
    "start_time": "2022-07-14T12:42:31.530Z"
   },
   {
    "duration": 77,
    "start_time": "2022-07-14T12:42:31.538Z"
   },
   {
    "duration": 12,
    "start_time": "2022-07-14T12:42:31.620Z"
   },
   {
    "duration": 537,
    "start_time": "2022-07-14T12:47:04.581Z"
   },
   {
    "duration": 122,
    "start_time": "2022-07-14T12:47:37.741Z"
   },
   {
    "duration": 2282,
    "start_time": "2022-07-14T12:47:53.424Z"
   },
   {
    "duration": 1099,
    "start_time": "2022-07-14T12:48:09.313Z"
   },
   {
    "duration": 59,
    "start_time": "2022-07-14T12:48:10.414Z"
   },
   {
    "duration": 18,
    "start_time": "2022-07-14T12:48:10.475Z"
   },
   {
    "duration": 34,
    "start_time": "2022-07-14T12:48:10.495Z"
   },
   {
    "duration": 675,
    "start_time": "2022-07-14T12:48:10.532Z"
   },
   {
    "duration": 4,
    "start_time": "2022-07-14T12:48:11.208Z"
   },
   {
    "duration": 26,
    "start_time": "2022-07-14T12:48:11.213Z"
   },
   {
    "duration": 26,
    "start_time": "2022-07-14T12:48:11.240Z"
   },
   {
    "duration": 20,
    "start_time": "2022-07-14T12:48:11.268Z"
   },
   {
    "duration": 25,
    "start_time": "2022-07-14T12:48:11.290Z"
   },
   {
    "duration": 27,
    "start_time": "2022-07-14T12:48:11.316Z"
   },
   {
    "duration": 25,
    "start_time": "2022-07-14T12:48:11.344Z"
   },
   {
    "duration": 31,
    "start_time": "2022-07-14T12:48:11.370Z"
   },
   {
    "duration": 16,
    "start_time": "2022-07-14T12:48:11.404Z"
   },
   {
    "duration": 39,
    "start_time": "2022-07-14T12:48:11.421Z"
   },
   {
    "duration": 29,
    "start_time": "2022-07-14T12:48:11.463Z"
   },
   {
    "duration": 51,
    "start_time": "2022-07-14T12:48:11.495Z"
   },
   {
    "duration": 203,
    "start_time": "2022-07-14T12:48:11.548Z"
   },
   {
    "duration": 19,
    "start_time": "2022-07-14T12:48:11.753Z"
   },
   {
    "duration": 993,
    "start_time": "2022-07-14T12:48:11.774Z"
   },
   {
    "duration": 574,
    "start_time": "2022-07-14T12:48:12.769Z"
   },
   {
    "duration": 3,
    "start_time": "2022-07-14T12:48:13.345Z"
   },
   {
    "duration": 257,
    "start_time": "2022-07-14T12:48:13.349Z"
   },
   {
    "duration": 241,
    "start_time": "2022-07-14T12:48:13.608Z"
   },
   {
    "duration": 15,
    "start_time": "2022-07-14T12:48:13.851Z"
   },
   {
    "duration": 159,
    "start_time": "2022-07-14T12:48:13.868Z"
   },
   {
    "duration": 161,
    "start_time": "2022-07-14T12:48:14.029Z"
   },
   {
    "duration": 16,
    "start_time": "2022-07-14T12:48:14.192Z"
   },
   {
    "duration": 363,
    "start_time": "2022-07-14T12:48:14.210Z"
   },
   {
    "duration": 12,
    "start_time": "2022-07-14T12:48:14.575Z"
   },
   {
    "duration": 302,
    "start_time": "2022-07-14T12:48:14.588Z"
   },
   {
    "duration": 14,
    "start_time": "2022-07-14T12:48:14.892Z"
   },
   {
    "duration": 211,
    "start_time": "2022-07-14T12:48:14.908Z"
   },
   {
    "duration": 38,
    "start_time": "2022-07-14T12:48:15.121Z"
   },
   {
    "duration": 61,
    "start_time": "2022-07-14T12:48:15.161Z"
   },
   {
    "duration": 10,
    "start_time": "2022-07-14T12:48:15.224Z"
   },
   {
    "duration": 40,
    "start_time": "2022-07-14T12:48:15.236Z"
   },
   {
    "duration": 1512,
    "start_time": "2022-07-14T12:48:15.278Z"
   },
   {
    "duration": 10,
    "start_time": "2022-07-14T12:49:02.719Z"
   },
   {
    "duration": 10,
    "start_time": "2022-07-14T12:52:52.682Z"
   },
   {
    "duration": 6,
    "start_time": "2022-07-14T13:10:22.371Z"
   },
   {
    "duration": 127,
    "start_time": "2022-07-14T13:10:52.533Z"
   },
   {
    "duration": 1384,
    "start_time": "2022-07-14T13:11:08.276Z"
   },
   {
    "duration": 85,
    "start_time": "2022-07-14T13:11:09.663Z"
   },
   {
    "duration": 25,
    "start_time": "2022-07-14T13:11:09.750Z"
   },
   {
    "duration": 48,
    "start_time": "2022-07-14T13:11:09.777Z"
   },
   {
    "duration": 863,
    "start_time": "2022-07-14T13:11:09.828Z"
   },
   {
    "duration": 4,
    "start_time": "2022-07-14T13:11:10.693Z"
   },
   {
    "duration": 12,
    "start_time": "2022-07-14T13:11:10.704Z"
   },
   {
    "duration": 16,
    "start_time": "2022-07-14T13:11:10.717Z"
   },
   {
    "duration": 7,
    "start_time": "2022-07-14T13:11:10.735Z"
   },
   {
    "duration": 26,
    "start_time": "2022-07-14T13:11:10.744Z"
   },
   {
    "duration": 9,
    "start_time": "2022-07-14T13:11:10.772Z"
   },
   {
    "duration": 29,
    "start_time": "2022-07-14T13:11:10.783Z"
   },
   {
    "duration": 17,
    "start_time": "2022-07-14T13:11:10.818Z"
   },
   {
    "duration": 14,
    "start_time": "2022-07-14T13:11:10.839Z"
   },
   {
    "duration": 20,
    "start_time": "2022-07-14T13:11:10.856Z"
   },
   {
    "duration": 5,
    "start_time": "2022-07-14T13:11:10.878Z"
   },
   {
    "duration": 27,
    "start_time": "2022-07-14T13:11:10.885Z"
   },
   {
    "duration": 232,
    "start_time": "2022-07-14T13:11:10.914Z"
   },
   {
    "duration": 25,
    "start_time": "2022-07-14T13:11:11.148Z"
   },
   {
    "duration": 1251,
    "start_time": "2022-07-14T13:11:11.176Z"
   },
   {
    "duration": 688,
    "start_time": "2022-07-14T13:11:12.429Z"
   },
   {
    "duration": 5,
    "start_time": "2022-07-14T13:11:13.119Z"
   },
   {
    "duration": 266,
    "start_time": "2022-07-14T13:11:13.125Z"
   },
   {
    "duration": 296,
    "start_time": "2022-07-14T13:11:13.393Z"
   },
   {
    "duration": 20,
    "start_time": "2022-07-14T13:11:13.691Z"
   },
   {
    "duration": 245,
    "start_time": "2022-07-14T13:11:13.713Z"
   },
   {
    "duration": 210,
    "start_time": "2022-07-14T13:11:13.961Z"
   },
   {
    "duration": 10,
    "start_time": "2022-07-14T13:11:14.174Z"
   },
   {
    "duration": 402,
    "start_time": "2022-07-14T13:11:14.186Z"
   },
   {
    "duration": 14,
    "start_time": "2022-07-14T13:11:14.590Z"
   },
   {
    "duration": 307,
    "start_time": "2022-07-14T13:11:14.606Z"
   },
   {
    "duration": 7,
    "start_time": "2022-07-14T13:11:14.914Z"
   },
   {
    "duration": 253,
    "start_time": "2022-07-14T13:11:14.922Z"
   },
   {
    "duration": 60,
    "start_time": "2022-07-14T13:11:15.177Z"
   },
   {
    "duration": 49,
    "start_time": "2022-07-14T13:11:15.243Z"
   },
   {
    "duration": 11,
    "start_time": "2022-07-14T13:11:15.294Z"
   },
   {
    "duration": 98,
    "start_time": "2022-07-14T13:11:15.306Z"
   },
   {
    "duration": 252,
    "start_time": "2022-07-14T13:11:15.405Z"
   },
   {
    "duration": 0,
    "start_time": "2022-07-14T13:11:15.659Z"
   },
   {
    "duration": 122,
    "start_time": "2022-07-14T13:11:46.537Z"
   },
   {
    "duration": 246,
    "start_time": "2022-07-14T13:12:14.076Z"
   },
   {
    "duration": 1174,
    "start_time": "2022-07-14T13:12:21.034Z"
   },
   {
    "duration": 68,
    "start_time": "2022-07-14T13:12:22.210Z"
   },
   {
    "duration": 28,
    "start_time": "2022-07-14T13:12:22.281Z"
   },
   {
    "duration": 45,
    "start_time": "2022-07-14T13:12:22.312Z"
   },
   {
    "duration": 773,
    "start_time": "2022-07-14T13:12:22.360Z"
   },
   {
    "duration": 3,
    "start_time": "2022-07-14T13:12:23.135Z"
   },
   {
    "duration": 16,
    "start_time": "2022-07-14T13:12:23.140Z"
   },
   {
    "duration": 15,
    "start_time": "2022-07-14T13:12:23.158Z"
   },
   {
    "duration": 8,
    "start_time": "2022-07-14T13:12:23.175Z"
   },
   {
    "duration": 21,
    "start_time": "2022-07-14T13:12:23.185Z"
   },
   {
    "duration": 24,
    "start_time": "2022-07-14T13:12:23.207Z"
   },
   {
    "duration": 10,
    "start_time": "2022-07-14T13:12:23.232Z"
   },
   {
    "duration": 13,
    "start_time": "2022-07-14T13:12:23.244Z"
   },
   {
    "duration": 7,
    "start_time": "2022-07-14T13:12:23.259Z"
   },
   {
    "duration": 12,
    "start_time": "2022-07-14T13:12:23.268Z"
   },
   {
    "duration": 4,
    "start_time": "2022-07-14T13:12:23.281Z"
   },
   {
    "duration": 29,
    "start_time": "2022-07-14T13:12:23.286Z"
   },
   {
    "duration": 183,
    "start_time": "2022-07-14T13:12:23.316Z"
   },
   {
    "duration": 27,
    "start_time": "2022-07-14T13:12:23.502Z"
   },
   {
    "duration": 1068,
    "start_time": "2022-07-14T13:12:23.530Z"
   },
   {
    "duration": 743,
    "start_time": "2022-07-14T13:12:24.599Z"
   },
   {
    "duration": 5,
    "start_time": "2022-07-14T13:12:25.344Z"
   },
   {
    "duration": 282,
    "start_time": "2022-07-14T13:12:25.351Z"
   },
   {
    "duration": 270,
    "start_time": "2022-07-14T13:12:25.634Z"
   },
   {
    "duration": 22,
    "start_time": "2022-07-14T13:12:25.906Z"
   },
   {
    "duration": 172,
    "start_time": "2022-07-14T13:12:25.930Z"
   },
   {
    "duration": 161,
    "start_time": "2022-07-14T13:12:26.104Z"
   },
   {
    "duration": 9,
    "start_time": "2022-07-14T13:12:26.267Z"
   },
   {
    "duration": 416,
    "start_time": "2022-07-14T13:12:26.278Z"
   },
   {
    "duration": 18,
    "start_time": "2022-07-14T13:12:26.696Z"
   },
   {
    "duration": 298,
    "start_time": "2022-07-14T13:12:26.716Z"
   },
   {
    "duration": 7,
    "start_time": "2022-07-14T13:12:27.015Z"
   },
   {
    "duration": 211,
    "start_time": "2022-07-14T13:12:27.023Z"
   },
   {
    "duration": 36,
    "start_time": "2022-07-14T13:12:27.236Z"
   },
   {
    "duration": 54,
    "start_time": "2022-07-14T13:12:27.273Z"
   },
   {
    "duration": 9,
    "start_time": "2022-07-14T13:12:27.329Z"
   },
   {
    "duration": 45,
    "start_time": "2022-07-14T13:12:27.340Z"
   },
   {
    "duration": 282,
    "start_time": "2022-07-14T13:12:27.388Z"
   },
   {
    "duration": 0,
    "start_time": "2022-07-14T13:12:27.672Z"
   },
   {
    "duration": 1262,
    "start_time": "2022-07-14T13:12:54.329Z"
   },
   {
    "duration": 69,
    "start_time": "2022-07-14T13:12:55.593Z"
   },
   {
    "duration": 22,
    "start_time": "2022-07-14T13:12:55.664Z"
   },
   {
    "duration": 38,
    "start_time": "2022-07-14T13:12:55.688Z"
   },
   {
    "duration": 730,
    "start_time": "2022-07-14T13:12:55.728Z"
   },
   {
    "duration": 5,
    "start_time": "2022-07-14T13:12:56.459Z"
   },
   {
    "duration": 17,
    "start_time": "2022-07-14T13:12:56.465Z"
   },
   {
    "duration": 25,
    "start_time": "2022-07-14T13:12:56.485Z"
   },
   {
    "duration": 8,
    "start_time": "2022-07-14T13:12:56.512Z"
   },
   {
    "duration": 23,
    "start_time": "2022-07-14T13:12:56.521Z"
   },
   {
    "duration": 16,
    "start_time": "2022-07-14T13:12:56.545Z"
   },
   {
    "duration": 14,
    "start_time": "2022-07-14T13:12:56.563Z"
   },
   {
    "duration": 29,
    "start_time": "2022-07-14T13:12:56.578Z"
   },
   {
    "duration": 39,
    "start_time": "2022-07-14T13:12:56.611Z"
   },
   {
    "duration": 26,
    "start_time": "2022-07-14T13:12:56.652Z"
   },
   {
    "duration": 15,
    "start_time": "2022-07-14T13:12:56.680Z"
   },
   {
    "duration": 22,
    "start_time": "2022-07-14T13:12:56.696Z"
   },
   {
    "duration": 175,
    "start_time": "2022-07-14T13:12:56.720Z"
   },
   {
    "duration": 22,
    "start_time": "2022-07-14T13:12:56.897Z"
   },
   {
    "duration": 1161,
    "start_time": "2022-07-14T13:12:56.920Z"
   },
   {
    "duration": 636,
    "start_time": "2022-07-14T13:12:58.082Z"
   },
   {
    "duration": 4,
    "start_time": "2022-07-14T13:12:58.720Z"
   },
   {
    "duration": 257,
    "start_time": "2022-07-14T13:12:58.726Z"
   },
   {
    "duration": 254,
    "start_time": "2022-07-14T13:12:58.985Z"
   },
   {
    "duration": 20,
    "start_time": "2022-07-14T13:12:59.241Z"
   },
   {
    "duration": 178,
    "start_time": "2022-07-14T13:12:59.263Z"
   },
   {
    "duration": 195,
    "start_time": "2022-07-14T13:12:59.442Z"
   },
   {
    "duration": 21,
    "start_time": "2022-07-14T13:12:59.642Z"
   },
   {
    "duration": 468,
    "start_time": "2022-07-14T13:12:59.666Z"
   },
   {
    "duration": 11,
    "start_time": "2022-07-14T13:13:00.136Z"
   },
   {
    "duration": 338,
    "start_time": "2022-07-14T13:13:00.149Z"
   },
   {
    "duration": 8,
    "start_time": "2022-07-14T13:13:00.489Z"
   },
   {
    "duration": 267,
    "start_time": "2022-07-14T13:13:00.502Z"
   },
   {
    "duration": 56,
    "start_time": "2022-07-14T13:13:00.770Z"
   },
   {
    "duration": 37,
    "start_time": "2022-07-14T13:13:00.828Z"
   },
   {
    "duration": 4,
    "start_time": "2022-07-14T13:13:00.867Z"
   },
   {
    "duration": 70,
    "start_time": "2022-07-14T13:13:00.873Z"
   },
   {
    "duration": 219,
    "start_time": "2022-07-14T13:13:00.945Z"
   },
   {
    "duration": 0,
    "start_time": "2022-07-14T13:13:01.165Z"
   },
   {
    "duration": 124,
    "start_time": "2022-07-14T13:13:33.680Z"
   },
   {
    "duration": 118,
    "start_time": "2022-07-14T13:14:05.949Z"
   },
   {
    "duration": 1153,
    "start_time": "2022-07-14T13:14:39.912Z"
   },
   {
    "duration": 67,
    "start_time": "2022-07-14T13:14:41.068Z"
   },
   {
    "duration": 18,
    "start_time": "2022-07-14T13:14:41.137Z"
   },
   {
    "duration": 28,
    "start_time": "2022-07-14T13:14:41.158Z"
   },
   {
    "duration": 767,
    "start_time": "2022-07-14T13:14:41.202Z"
   },
   {
    "duration": 3,
    "start_time": "2022-07-14T13:14:41.971Z"
   },
   {
    "duration": 26,
    "start_time": "2022-07-14T13:14:41.977Z"
   },
   {
    "duration": 18,
    "start_time": "2022-07-14T13:14:42.005Z"
   },
   {
    "duration": 9,
    "start_time": "2022-07-14T13:14:42.025Z"
   },
   {
    "duration": 5,
    "start_time": "2022-07-14T13:14:42.037Z"
   },
   {
    "duration": 7,
    "start_time": "2022-07-14T13:14:42.044Z"
   },
   {
    "duration": 7,
    "start_time": "2022-07-14T13:14:42.052Z"
   },
   {
    "duration": 10,
    "start_time": "2022-07-14T13:14:42.060Z"
   },
   {
    "duration": 9,
    "start_time": "2022-07-14T13:14:42.102Z"
   },
   {
    "duration": 23,
    "start_time": "2022-07-14T13:14:42.113Z"
   },
   {
    "duration": 15,
    "start_time": "2022-07-14T13:14:42.138Z"
   },
   {
    "duration": 15,
    "start_time": "2022-07-14T13:14:42.155Z"
   },
   {
    "duration": 189,
    "start_time": "2022-07-14T13:14:42.172Z"
   },
   {
    "duration": 19,
    "start_time": "2022-07-14T13:14:42.362Z"
   },
   {
    "duration": 1090,
    "start_time": "2022-07-14T13:14:42.383Z"
   },
   {
    "duration": 674,
    "start_time": "2022-07-14T13:14:43.475Z"
   },
   {
    "duration": 4,
    "start_time": "2022-07-14T13:14:44.150Z"
   },
   {
    "duration": 271,
    "start_time": "2022-07-14T13:14:44.157Z"
   },
   {
    "duration": 253,
    "start_time": "2022-07-14T13:14:44.430Z"
   },
   {
    "duration": 23,
    "start_time": "2022-07-14T13:14:44.685Z"
   },
   {
    "duration": 169,
    "start_time": "2022-07-14T13:14:44.710Z"
   },
   {
    "duration": 172,
    "start_time": "2022-07-14T13:14:44.880Z"
   },
   {
    "duration": 9,
    "start_time": "2022-07-14T13:14:45.055Z"
   },
   {
    "duration": 450,
    "start_time": "2022-07-14T13:14:45.066Z"
   },
   {
    "duration": 13,
    "start_time": "2022-07-14T13:14:45.517Z"
   },
   {
    "duration": 263,
    "start_time": "2022-07-14T13:14:45.531Z"
   },
   {
    "duration": 7,
    "start_time": "2022-07-14T13:14:45.802Z"
   },
   {
    "duration": 222,
    "start_time": "2022-07-14T13:14:45.811Z"
   },
   {
    "duration": 37,
    "start_time": "2022-07-14T13:14:46.035Z"
   },
   {
    "duration": 66,
    "start_time": "2022-07-14T13:14:46.074Z"
   },
   {
    "duration": 5,
    "start_time": "2022-07-14T13:14:46.142Z"
   },
   {
    "duration": 67,
    "start_time": "2022-07-14T13:14:46.149Z"
   },
   {
    "duration": 218,
    "start_time": "2022-07-14T13:14:46.217Z"
   },
   {
    "duration": 0,
    "start_time": "2022-07-14T13:14:46.436Z"
   },
   {
    "duration": 126,
    "start_time": "2022-07-14T13:16:10.374Z"
   },
   {
    "duration": 1111,
    "start_time": "2022-07-14T13:16:24.545Z"
   },
   {
    "duration": 64,
    "start_time": "2022-07-14T13:16:25.658Z"
   },
   {
    "duration": 26,
    "start_time": "2022-07-14T13:16:25.725Z"
   },
   {
    "duration": 49,
    "start_time": "2022-07-14T13:16:25.754Z"
   },
   {
    "duration": 804,
    "start_time": "2022-07-14T13:16:25.805Z"
   },
   {
    "duration": 4,
    "start_time": "2022-07-14T13:16:26.611Z"
   },
   {
    "duration": 26,
    "start_time": "2022-07-14T13:16:26.616Z"
   },
   {
    "duration": 16,
    "start_time": "2022-07-14T13:16:26.643Z"
   },
   {
    "duration": 8,
    "start_time": "2022-07-14T13:16:26.661Z"
   },
   {
    "duration": 12,
    "start_time": "2022-07-14T13:16:26.672Z"
   },
   {
    "duration": 24,
    "start_time": "2022-07-14T13:16:26.686Z"
   },
   {
    "duration": 22,
    "start_time": "2022-07-14T13:16:26.711Z"
   },
   {
    "duration": 10,
    "start_time": "2022-07-14T13:16:26.735Z"
   },
   {
    "duration": 8,
    "start_time": "2022-07-14T13:16:26.746Z"
   },
   {
    "duration": 12,
    "start_time": "2022-07-14T13:16:26.756Z"
   },
   {
    "duration": 4,
    "start_time": "2022-07-14T13:16:26.770Z"
   },
   {
    "duration": 48,
    "start_time": "2022-07-14T13:16:26.775Z"
   },
   {
    "duration": 211,
    "start_time": "2022-07-14T13:16:26.829Z"
   },
   {
    "duration": 16,
    "start_time": "2022-07-14T13:16:27.041Z"
   },
   {
    "duration": 1230,
    "start_time": "2022-07-14T13:16:27.059Z"
   },
   {
    "duration": 661,
    "start_time": "2022-07-14T13:16:28.291Z"
   },
   {
    "duration": 5,
    "start_time": "2022-07-14T13:16:28.954Z"
   },
   {
    "duration": 375,
    "start_time": "2022-07-14T13:16:28.962Z"
   },
   {
    "duration": 317,
    "start_time": "2022-07-14T13:16:29.339Z"
   },
   {
    "duration": 18,
    "start_time": "2022-07-14T13:16:29.657Z"
   },
   {
    "duration": 216,
    "start_time": "2022-07-14T13:16:29.677Z"
   },
   {
    "duration": 254,
    "start_time": "2022-07-14T13:16:29.904Z"
   },
   {
    "duration": 12,
    "start_time": "2022-07-14T13:16:30.162Z"
   },
   {
    "duration": 458,
    "start_time": "2022-07-14T13:16:30.176Z"
   },
   {
    "duration": 15,
    "start_time": "2022-07-14T13:16:30.636Z"
   },
   {
    "duration": 371,
    "start_time": "2022-07-14T13:16:30.652Z"
   },
   {
    "duration": 12,
    "start_time": "2022-07-14T13:16:31.027Z"
   },
   {
    "duration": 277,
    "start_time": "2022-07-14T13:16:31.041Z"
   },
   {
    "duration": 44,
    "start_time": "2022-07-14T13:16:31.324Z"
   },
   {
    "duration": 74,
    "start_time": "2022-07-14T13:16:31.370Z"
   },
   {
    "duration": 13,
    "start_time": "2022-07-14T13:16:31.449Z"
   },
   {
    "duration": 56,
    "start_time": "2022-07-14T13:16:31.465Z"
   },
   {
    "duration": 183,
    "start_time": "2022-07-14T13:16:31.523Z"
   },
   {
    "duration": 0,
    "start_time": "2022-07-14T13:16:31.708Z"
   },
   {
    "duration": 1192,
    "start_time": "2022-07-14T13:16:55.097Z"
   },
   {
    "duration": 83,
    "start_time": "2022-07-14T13:16:56.291Z"
   },
   {
    "duration": 19,
    "start_time": "2022-07-14T13:16:56.376Z"
   },
   {
    "duration": 33,
    "start_time": "2022-07-14T13:16:56.398Z"
   },
   {
    "duration": 750,
    "start_time": "2022-07-14T13:16:56.434Z"
   },
   {
    "duration": 4,
    "start_time": "2022-07-14T13:16:57.186Z"
   },
   {
    "duration": 19,
    "start_time": "2022-07-14T13:16:57.191Z"
   },
   {
    "duration": 24,
    "start_time": "2022-07-14T13:16:57.212Z"
   },
   {
    "duration": 10,
    "start_time": "2022-07-14T13:16:57.238Z"
   },
   {
    "duration": 13,
    "start_time": "2022-07-14T13:16:57.251Z"
   },
   {
    "duration": 8,
    "start_time": "2022-07-14T13:16:57.266Z"
   },
   {
    "duration": 27,
    "start_time": "2022-07-14T13:16:57.276Z"
   },
   {
    "duration": 41,
    "start_time": "2022-07-14T13:16:57.305Z"
   },
   {
    "duration": 17,
    "start_time": "2022-07-14T13:16:57.347Z"
   },
   {
    "duration": 19,
    "start_time": "2022-07-14T13:16:57.366Z"
   },
   {
    "duration": 7,
    "start_time": "2022-07-14T13:16:57.388Z"
   },
   {
    "duration": 54,
    "start_time": "2022-07-14T13:16:57.397Z"
   },
   {
    "duration": 233,
    "start_time": "2022-07-14T13:16:57.453Z"
   },
   {
    "duration": 19,
    "start_time": "2022-07-14T13:16:57.689Z"
   },
   {
    "duration": 1050,
    "start_time": "2022-07-14T13:16:57.710Z"
   },
   {
    "duration": 608,
    "start_time": "2022-07-14T13:16:58.762Z"
   },
   {
    "duration": 4,
    "start_time": "2022-07-14T13:16:59.372Z"
   },
   {
    "duration": 296,
    "start_time": "2022-07-14T13:16:59.378Z"
   },
   {
    "duration": 273,
    "start_time": "2022-07-14T13:16:59.676Z"
   },
   {
    "duration": 17,
    "start_time": "2022-07-14T13:16:59.951Z"
   },
   {
    "duration": 183,
    "start_time": "2022-07-14T13:16:59.970Z"
   },
   {
    "duration": 179,
    "start_time": "2022-07-14T13:17:00.155Z"
   },
   {
    "duration": 12,
    "start_time": "2022-07-14T13:17:00.337Z"
   },
   {
    "duration": 441,
    "start_time": "2022-07-14T13:17:00.351Z"
   },
   {
    "duration": 17,
    "start_time": "2022-07-14T13:17:00.794Z"
   },
   {
    "duration": 271,
    "start_time": "2022-07-14T13:17:00.813Z"
   },
   {
    "duration": 18,
    "start_time": "2022-07-14T13:17:01.086Z"
   },
   {
    "duration": 220,
    "start_time": "2022-07-14T13:17:01.105Z"
   },
   {
    "duration": 45,
    "start_time": "2022-07-14T13:17:01.327Z"
   },
   {
    "duration": 55,
    "start_time": "2022-07-14T13:17:01.374Z"
   },
   {
    "duration": 5,
    "start_time": "2022-07-14T13:17:01.431Z"
   },
   {
    "duration": 65,
    "start_time": "2022-07-14T13:17:01.437Z"
   },
   {
    "duration": 224,
    "start_time": "2022-07-14T13:17:01.504Z"
   },
   {
    "duration": 0,
    "start_time": "2022-07-14T13:17:01.730Z"
   },
   {
    "duration": 1197,
    "start_time": "2022-07-14T13:26:34.986Z"
   },
   {
    "duration": 70,
    "start_time": "2022-07-14T13:26:36.185Z"
   },
   {
    "duration": 20,
    "start_time": "2022-07-14T13:26:36.257Z"
   },
   {
    "duration": 35,
    "start_time": "2022-07-14T13:26:36.279Z"
   },
   {
    "duration": 726,
    "start_time": "2022-07-14T13:26:36.316Z"
   },
   {
    "duration": 2,
    "start_time": "2022-07-14T13:26:37.044Z"
   },
   {
    "duration": 16,
    "start_time": "2022-07-14T13:26:37.048Z"
   },
   {
    "duration": 20,
    "start_time": "2022-07-14T13:26:37.066Z"
   },
   {
    "duration": 9,
    "start_time": "2022-07-14T13:26:37.103Z"
   },
   {
    "duration": 6,
    "start_time": "2022-07-14T13:26:37.114Z"
   },
   {
    "duration": 9,
    "start_time": "2022-07-14T13:26:37.122Z"
   },
   {
    "duration": 8,
    "start_time": "2022-07-14T13:26:37.133Z"
   },
   {
    "duration": 12,
    "start_time": "2022-07-14T13:26:37.142Z"
   },
   {
    "duration": 7,
    "start_time": "2022-07-14T13:26:37.158Z"
   },
   {
    "duration": 49,
    "start_time": "2022-07-14T13:26:37.167Z"
   },
   {
    "duration": 5,
    "start_time": "2022-07-14T13:26:37.218Z"
   },
   {
    "duration": 26,
    "start_time": "2022-07-14T13:26:37.225Z"
   },
   {
    "duration": 223,
    "start_time": "2022-07-14T13:26:37.253Z"
   },
   {
    "duration": 25,
    "start_time": "2022-07-14T13:26:37.479Z"
   },
   {
    "duration": 1112,
    "start_time": "2022-07-14T13:26:37.506Z"
   },
   {
    "duration": 661,
    "start_time": "2022-07-14T13:26:38.619Z"
   },
   {
    "duration": 4,
    "start_time": "2022-07-14T13:26:39.282Z"
   },
   {
    "duration": 282,
    "start_time": "2022-07-14T13:26:39.287Z"
   },
   {
    "duration": 265,
    "start_time": "2022-07-14T13:26:39.571Z"
   },
   {
    "duration": 15,
    "start_time": "2022-07-14T13:26:39.837Z"
   },
   {
    "duration": 195,
    "start_time": "2022-07-14T13:26:39.854Z"
   },
   {
    "duration": 176,
    "start_time": "2022-07-14T13:26:40.052Z"
   },
   {
    "duration": 10,
    "start_time": "2022-07-14T13:26:40.230Z"
   },
   {
    "duration": 395,
    "start_time": "2022-07-14T13:26:40.242Z"
   },
   {
    "duration": 16,
    "start_time": "2022-07-14T13:26:40.639Z"
   },
   {
    "duration": 361,
    "start_time": "2022-07-14T13:26:40.657Z"
   },
   {
    "duration": 10,
    "start_time": "2022-07-14T13:26:41.021Z"
   },
   {
    "duration": 227,
    "start_time": "2022-07-14T13:26:41.033Z"
   },
   {
    "duration": 52,
    "start_time": "2022-07-14T13:26:41.262Z"
   },
   {
    "duration": 43,
    "start_time": "2022-07-14T13:26:41.315Z"
   },
   {
    "duration": 4,
    "start_time": "2022-07-14T13:26:41.359Z"
   },
   {
    "duration": 75,
    "start_time": "2022-07-14T13:26:41.365Z"
   },
   {
    "duration": 257,
    "start_time": "2022-07-14T13:26:41.444Z"
   },
   {
    "duration": 0,
    "start_time": "2022-07-14T13:26:41.703Z"
   },
   {
    "duration": 9,
    "start_time": "2022-07-14T13:54:43.825Z"
   },
   {
    "duration": 9,
    "start_time": "2022-07-14T13:58:51.106Z"
   },
   {
    "duration": 1213,
    "start_time": "2022-07-14T14:02:43.821Z"
   },
   {
    "duration": 60,
    "start_time": "2022-07-14T14:02:45.036Z"
   },
   {
    "duration": 19,
    "start_time": "2022-07-14T14:02:45.097Z"
   },
   {
    "duration": 29,
    "start_time": "2022-07-14T14:02:45.119Z"
   },
   {
    "duration": 710,
    "start_time": "2022-07-14T14:02:45.150Z"
   },
   {
    "duration": 3,
    "start_time": "2022-07-14T14:02:45.862Z"
   },
   {
    "duration": 14,
    "start_time": "2022-07-14T14:02:45.867Z"
   },
   {
    "duration": 21,
    "start_time": "2022-07-14T14:02:45.883Z"
   },
   {
    "duration": 6,
    "start_time": "2022-07-14T14:02:45.906Z"
   },
   {
    "duration": 6,
    "start_time": "2022-07-14T14:02:45.914Z"
   },
   {
    "duration": 11,
    "start_time": "2022-07-14T14:02:45.922Z"
   },
   {
    "duration": 4,
    "start_time": "2022-07-14T14:02:45.935Z"
   },
   {
    "duration": 10,
    "start_time": "2022-07-14T14:02:45.941Z"
   },
   {
    "duration": 5,
    "start_time": "2022-07-14T14:02:45.952Z"
   },
   {
    "duration": 13,
    "start_time": "2022-07-14T14:02:45.959Z"
   },
   {
    "duration": 29,
    "start_time": "2022-07-14T14:02:45.973Z"
   },
   {
    "duration": 16,
    "start_time": "2022-07-14T14:02:46.003Z"
   },
   {
    "duration": 158,
    "start_time": "2022-07-14T14:02:46.020Z"
   },
   {
    "duration": 23,
    "start_time": "2022-07-14T14:02:46.180Z"
   },
   {
    "duration": 947,
    "start_time": "2022-07-14T14:02:46.204Z"
   },
   {
    "duration": 636,
    "start_time": "2022-07-14T14:02:47.153Z"
   },
   {
    "duration": 3,
    "start_time": "2022-07-14T14:02:47.790Z"
   },
   {
    "duration": 254,
    "start_time": "2022-07-14T14:02:47.795Z"
   },
   {
    "duration": 241,
    "start_time": "2022-07-14T14:02:48.050Z"
   },
   {
    "duration": 16,
    "start_time": "2022-07-14T14:02:48.292Z"
   },
   {
    "duration": 141,
    "start_time": "2022-07-14T14:02:48.309Z"
   },
   {
    "duration": 169,
    "start_time": "2022-07-14T14:02:48.503Z"
   },
   {
    "duration": 34,
    "start_time": "2022-07-14T14:02:48.674Z"
   },
   {
    "duration": 360,
    "start_time": "2022-07-14T14:02:48.709Z"
   },
   {
    "duration": 11,
    "start_time": "2022-07-14T14:02:49.071Z"
   },
   {
    "duration": 275,
    "start_time": "2022-07-14T14:02:49.083Z"
   },
   {
    "duration": 6,
    "start_time": "2022-07-14T14:02:49.359Z"
   },
   {
    "duration": 225,
    "start_time": "2022-07-14T14:02:49.366Z"
   },
   {
    "duration": 40,
    "start_time": "2022-07-14T14:02:49.593Z"
   },
   {
    "duration": 35,
    "start_time": "2022-07-14T14:02:49.634Z"
   },
   {
    "duration": 5,
    "start_time": "2022-07-14T14:02:49.670Z"
   },
   {
    "duration": 58,
    "start_time": "2022-07-14T14:02:49.677Z"
   },
   {
    "duration": 8,
    "start_time": "2022-07-14T14:02:49.736Z"
   },
   {
    "duration": 12,
    "start_time": "2022-07-14T14:02:49.746Z"
   },
   {
    "duration": 112,
    "start_time": "2022-07-14T14:06:54.837Z"
   },
   {
    "duration": 11,
    "start_time": "2022-07-14T15:09:27.372Z"
   },
   {
    "duration": 51,
    "start_time": "2022-07-15T16:29:01.394Z"
   },
   {
    "duration": 70,
    "start_time": "2022-07-15T18:01:39.249Z"
   },
   {
    "duration": 1276,
    "start_time": "2022-07-15T18:01:45.638Z"
   },
   {
    "duration": 108,
    "start_time": "2022-07-15T18:01:46.916Z"
   },
   {
    "duration": 19,
    "start_time": "2022-07-15T18:01:47.026Z"
   },
   {
    "duration": 29,
    "start_time": "2022-07-15T18:01:47.047Z"
   },
   {
    "duration": 761,
    "start_time": "2022-07-15T18:01:47.078Z"
   },
   {
    "duration": 5,
    "start_time": "2022-07-15T18:01:47.840Z"
   },
   {
    "duration": 10,
    "start_time": "2022-07-15T18:01:47.847Z"
   },
   {
    "duration": 16,
    "start_time": "2022-07-15T18:01:47.859Z"
   },
   {
    "duration": 66,
    "start_time": "2022-07-15T18:01:47.877Z"
   },
   {
    "duration": 0,
    "start_time": "2022-07-15T18:01:47.945Z"
   },
   {
    "duration": 0,
    "start_time": "2022-07-15T18:01:47.947Z"
   },
   {
    "duration": 0,
    "start_time": "2022-07-15T18:01:47.948Z"
   },
   {
    "duration": 0,
    "start_time": "2022-07-15T18:01:47.950Z"
   },
   {
    "duration": 0,
    "start_time": "2022-07-15T18:01:47.951Z"
   },
   {
    "duration": 0,
    "start_time": "2022-07-15T18:01:47.953Z"
   },
   {
    "duration": 0,
    "start_time": "2022-07-15T18:01:47.954Z"
   },
   {
    "duration": 0,
    "start_time": "2022-07-15T18:01:47.955Z"
   },
   {
    "duration": 0,
    "start_time": "2022-07-15T18:01:47.956Z"
   },
   {
    "duration": 0,
    "start_time": "2022-07-15T18:01:47.957Z"
   },
   {
    "duration": 0,
    "start_time": "2022-07-15T18:01:47.958Z"
   },
   {
    "duration": 0,
    "start_time": "2022-07-15T18:01:47.959Z"
   },
   {
    "duration": 0,
    "start_time": "2022-07-15T18:01:47.960Z"
   },
   {
    "duration": 0,
    "start_time": "2022-07-15T18:01:47.961Z"
   },
   {
    "duration": 0,
    "start_time": "2022-07-15T18:01:47.962Z"
   },
   {
    "duration": 0,
    "start_time": "2022-07-15T18:01:47.963Z"
   },
   {
    "duration": 0,
    "start_time": "2022-07-15T18:01:47.964Z"
   },
   {
    "duration": 0,
    "start_time": "2022-07-15T18:01:47.965Z"
   },
   {
    "duration": 0,
    "start_time": "2022-07-15T18:01:47.966Z"
   },
   {
    "duration": 0,
    "start_time": "2022-07-15T18:01:47.967Z"
   },
   {
    "duration": 0,
    "start_time": "2022-07-15T18:01:47.968Z"
   },
   {
    "duration": 0,
    "start_time": "2022-07-15T18:01:47.969Z"
   },
   {
    "duration": 0,
    "start_time": "2022-07-15T18:01:47.970Z"
   },
   {
    "duration": 0,
    "start_time": "2022-07-15T18:01:47.971Z"
   },
   {
    "duration": 0,
    "start_time": "2022-07-15T18:01:47.972Z"
   },
   {
    "duration": 0,
    "start_time": "2022-07-15T18:01:47.973Z"
   },
   {
    "duration": 0,
    "start_time": "2022-07-15T18:01:47.974Z"
   },
   {
    "duration": 0,
    "start_time": "2022-07-15T18:01:47.975Z"
   },
   {
    "duration": 0,
    "start_time": "2022-07-15T18:01:47.976Z"
   },
   {
    "duration": 0,
    "start_time": "2022-07-15T18:01:47.977Z"
   },
   {
    "duration": 0,
    "start_time": "2022-07-15T18:01:47.978Z"
   },
   {
    "duration": 1408,
    "start_time": "2022-07-17T18:47:11.848Z"
   },
   {
    "duration": 105,
    "start_time": "2022-07-17T18:47:13.258Z"
   },
   {
    "duration": 19,
    "start_time": "2022-07-17T18:47:13.365Z"
   },
   {
    "duration": 30,
    "start_time": "2022-07-17T18:47:13.386Z"
   },
   {
    "duration": 842,
    "start_time": "2022-07-17T18:47:13.417Z"
   },
   {
    "duration": 3,
    "start_time": "2022-07-17T18:47:14.261Z"
   },
   {
    "duration": 15,
    "start_time": "2022-07-17T18:47:14.266Z"
   },
   {
    "duration": 18,
    "start_time": "2022-07-17T18:47:14.283Z"
   },
   {
    "duration": 62,
    "start_time": "2022-07-17T18:47:14.303Z"
   },
   {
    "duration": 0,
    "start_time": "2022-07-17T18:47:14.368Z"
   },
   {
    "duration": 0,
    "start_time": "2022-07-17T18:47:14.369Z"
   },
   {
    "duration": 0,
    "start_time": "2022-07-17T18:47:14.371Z"
   },
   {
    "duration": 1,
    "start_time": "2022-07-17T18:47:14.371Z"
   },
   {
    "duration": 0,
    "start_time": "2022-07-17T18:47:14.373Z"
   },
   {
    "duration": 0,
    "start_time": "2022-07-17T18:47:14.374Z"
   },
   {
    "duration": 0,
    "start_time": "2022-07-17T18:47:14.375Z"
   },
   {
    "duration": 0,
    "start_time": "2022-07-17T18:47:14.376Z"
   },
   {
    "duration": 0,
    "start_time": "2022-07-17T18:47:14.378Z"
   },
   {
    "duration": 0,
    "start_time": "2022-07-17T18:47:14.379Z"
   },
   {
    "duration": 0,
    "start_time": "2022-07-17T18:47:14.382Z"
   },
   {
    "duration": 0,
    "start_time": "2022-07-17T18:47:14.384Z"
   },
   {
    "duration": 0,
    "start_time": "2022-07-17T18:47:14.385Z"
   },
   {
    "duration": 0,
    "start_time": "2022-07-17T18:47:14.387Z"
   },
   {
    "duration": 0,
    "start_time": "2022-07-17T18:47:14.388Z"
   },
   {
    "duration": 0,
    "start_time": "2022-07-17T18:47:14.389Z"
   },
   {
    "duration": 0,
    "start_time": "2022-07-17T18:47:14.391Z"
   },
   {
    "duration": 0,
    "start_time": "2022-07-17T18:47:14.393Z"
   },
   {
    "duration": 0,
    "start_time": "2022-07-17T18:47:14.394Z"
   },
   {
    "duration": 0,
    "start_time": "2022-07-17T18:47:14.395Z"
   },
   {
    "duration": 0,
    "start_time": "2022-07-17T18:47:14.397Z"
   },
   {
    "duration": 0,
    "start_time": "2022-07-17T18:47:14.398Z"
   },
   {
    "duration": 0,
    "start_time": "2022-07-17T18:47:14.400Z"
   },
   {
    "duration": 0,
    "start_time": "2022-07-17T18:47:14.401Z"
   },
   {
    "duration": 0,
    "start_time": "2022-07-17T18:47:14.446Z"
   },
   {
    "duration": 0,
    "start_time": "2022-07-17T18:47:14.447Z"
   },
   {
    "duration": 0,
    "start_time": "2022-07-17T18:47:14.448Z"
   },
   {
    "duration": 0,
    "start_time": "2022-07-17T18:47:14.449Z"
   },
   {
    "duration": 0,
    "start_time": "2022-07-17T18:47:14.450Z"
   },
   {
    "duration": 0,
    "start_time": "2022-07-17T18:47:14.452Z"
   },
   {
    "duration": 0,
    "start_time": "2022-07-17T18:47:14.453Z"
   },
   {
    "duration": 51,
    "start_time": "2022-07-17T18:47:34.426Z"
   },
   {
    "duration": 49,
    "start_time": "2022-07-17T18:47:40.573Z"
   },
   {
    "duration": 7,
    "start_time": "2022-07-17T18:48:10.085Z"
   },
   {
    "duration": 50,
    "start_time": "2022-07-17T18:49:10.319Z"
   },
   {
    "duration": 159,
    "start_time": "2022-07-17T18:49:31.790Z"
   },
   {
    "duration": 96,
    "start_time": "2022-07-17T18:49:41.811Z"
   },
   {
    "duration": 1147,
    "start_time": "2022-07-17T18:51:44.993Z"
   },
   {
    "duration": 63,
    "start_time": "2022-07-17T18:51:46.142Z"
   },
   {
    "duration": 19,
    "start_time": "2022-07-17T18:51:46.207Z"
   },
   {
    "duration": 46,
    "start_time": "2022-07-17T18:51:46.228Z"
   },
   {
    "duration": 742,
    "start_time": "2022-07-17T18:51:46.277Z"
   },
   {
    "duration": 4,
    "start_time": "2022-07-17T18:51:47.020Z"
   },
   {
    "duration": 23,
    "start_time": "2022-07-17T18:51:47.027Z"
   },
   {
    "duration": 17,
    "start_time": "2022-07-17T18:51:47.052Z"
   },
   {
    "duration": 7,
    "start_time": "2022-07-17T18:51:47.070Z"
   },
   {
    "duration": 17,
    "start_time": "2022-07-17T18:51:47.079Z"
   },
   {
    "duration": 21,
    "start_time": "2022-07-17T18:51:47.098Z"
   },
   {
    "duration": 26,
    "start_time": "2022-07-17T18:51:47.120Z"
   },
   {
    "duration": 10,
    "start_time": "2022-07-17T18:51:47.147Z"
   },
   {
    "duration": 6,
    "start_time": "2022-07-17T18:51:47.160Z"
   },
   {
    "duration": 22,
    "start_time": "2022-07-17T18:51:47.168Z"
   },
   {
    "duration": 123,
    "start_time": "2022-07-17T18:51:47.192Z"
   },
   {
    "duration": 0,
    "start_time": "2022-07-17T18:51:47.316Z"
   },
   {
    "duration": 0,
    "start_time": "2022-07-17T18:51:47.317Z"
   },
   {
    "duration": 0,
    "start_time": "2022-07-17T18:51:47.318Z"
   },
   {
    "duration": 0,
    "start_time": "2022-07-17T18:51:47.319Z"
   },
   {
    "duration": 0,
    "start_time": "2022-07-17T18:51:47.320Z"
   },
   {
    "duration": 0,
    "start_time": "2022-07-17T18:51:47.321Z"
   },
   {
    "duration": 0,
    "start_time": "2022-07-17T18:51:47.322Z"
   },
   {
    "duration": 0,
    "start_time": "2022-07-17T18:51:47.324Z"
   },
   {
    "duration": 0,
    "start_time": "2022-07-17T18:51:47.324Z"
   },
   {
    "duration": 0,
    "start_time": "2022-07-17T18:51:47.326Z"
   },
   {
    "duration": 0,
    "start_time": "2022-07-17T18:51:47.327Z"
   },
   {
    "duration": 0,
    "start_time": "2022-07-17T18:51:47.346Z"
   },
   {
    "duration": 0,
    "start_time": "2022-07-17T18:51:47.347Z"
   },
   {
    "duration": 0,
    "start_time": "2022-07-17T18:51:47.348Z"
   },
   {
    "duration": 0,
    "start_time": "2022-07-17T18:51:47.349Z"
   },
   {
    "duration": 0,
    "start_time": "2022-07-17T18:51:47.350Z"
   },
   {
    "duration": 0,
    "start_time": "2022-07-17T18:51:47.351Z"
   },
   {
    "duration": 0,
    "start_time": "2022-07-17T18:51:47.352Z"
   },
   {
    "duration": 0,
    "start_time": "2022-07-17T18:51:47.353Z"
   },
   {
    "duration": 0,
    "start_time": "2022-07-17T18:51:47.354Z"
   },
   {
    "duration": 0,
    "start_time": "2022-07-17T18:51:47.355Z"
   },
   {
    "duration": 0,
    "start_time": "2022-07-17T18:51:47.356Z"
   },
   {
    "duration": 0,
    "start_time": "2022-07-17T18:51:47.357Z"
   },
   {
    "duration": 0,
    "start_time": "2022-07-17T18:51:47.358Z"
   },
   {
    "duration": 7,
    "start_time": "2022-07-17T18:52:02.155Z"
   },
   {
    "duration": 1197,
    "start_time": "2022-07-17T18:52:07.999Z"
   },
   {
    "duration": 64,
    "start_time": "2022-07-17T18:52:09.198Z"
   },
   {
    "duration": 21,
    "start_time": "2022-07-17T18:52:09.264Z"
   },
   {
    "duration": 27,
    "start_time": "2022-07-17T18:52:09.287Z"
   },
   {
    "duration": 730,
    "start_time": "2022-07-17T18:52:09.317Z"
   },
   {
    "duration": 4,
    "start_time": "2022-07-17T18:52:10.049Z"
   },
   {
    "duration": 16,
    "start_time": "2022-07-17T18:52:10.054Z"
   },
   {
    "duration": 19,
    "start_time": "2022-07-17T18:52:10.071Z"
   },
   {
    "duration": 7,
    "start_time": "2022-07-17T18:52:10.093Z"
   },
   {
    "duration": 9,
    "start_time": "2022-07-17T18:52:10.101Z"
   },
   {
    "duration": 9,
    "start_time": "2022-07-17T18:52:10.112Z"
   },
   {
    "duration": 24,
    "start_time": "2022-07-17T18:52:10.123Z"
   },
   {
    "duration": 9,
    "start_time": "2022-07-17T18:52:10.149Z"
   },
   {
    "duration": 8,
    "start_time": "2022-07-17T18:52:10.161Z"
   },
   {
    "duration": 14,
    "start_time": "2022-07-17T18:52:10.170Z"
   },
   {
    "duration": 8,
    "start_time": "2022-07-17T18:52:10.186Z"
   },
   {
    "duration": 51,
    "start_time": "2022-07-17T18:52:10.197Z"
   },
   {
    "duration": 190,
    "start_time": "2022-07-17T18:52:10.251Z"
   },
   {
    "duration": 25,
    "start_time": "2022-07-17T18:52:10.445Z"
   },
   {
    "duration": 1031,
    "start_time": "2022-07-17T18:52:10.471Z"
   },
   {
    "duration": 633,
    "start_time": "2022-07-17T18:52:11.504Z"
   },
   {
    "duration": 6,
    "start_time": "2022-07-17T18:52:12.140Z"
   },
   {
    "duration": 268,
    "start_time": "2022-07-17T18:52:12.149Z"
   },
   {
    "duration": 247,
    "start_time": "2022-07-17T18:52:12.419Z"
   },
   {
    "duration": 14,
    "start_time": "2022-07-17T18:52:12.668Z"
   },
   {
    "duration": 165,
    "start_time": "2022-07-17T18:52:12.684Z"
   },
   {
    "duration": 167,
    "start_time": "2022-07-17T18:52:12.851Z"
   },
   {
    "duration": 16,
    "start_time": "2022-07-17T18:52:13.020Z"
   },
   {
    "duration": 380,
    "start_time": "2022-07-17T18:52:13.047Z"
   },
   {
    "duration": 23,
    "start_time": "2022-07-17T18:52:13.429Z"
   },
   {
    "duration": 267,
    "start_time": "2022-07-17T18:52:13.454Z"
   },
   {
    "duration": 6,
    "start_time": "2022-07-17T18:52:13.722Z"
   },
   {
    "duration": 212,
    "start_time": "2022-07-17T18:52:13.746Z"
   },
   {
    "duration": 38,
    "start_time": "2022-07-17T18:52:13.960Z"
   },
   {
    "duration": 63,
    "start_time": "2022-07-17T18:52:14.000Z"
   },
   {
    "duration": 8,
    "start_time": "2022-07-17T18:52:14.064Z"
   },
   {
    "duration": 31,
    "start_time": "2022-07-17T18:52:14.074Z"
   },
   {
    "duration": 66,
    "start_time": "2022-07-17T18:52:14.107Z"
   },
   {
    "duration": 0,
    "start_time": "2022-07-17T18:52:14.174Z"
   },
   {
    "duration": 0,
    "start_time": "2022-07-17T18:52:14.175Z"
   },
   {
    "duration": 15,
    "start_time": "2022-07-17T18:52:33.983Z"
   },
   {
    "duration": 1208,
    "start_time": "2022-07-17T19:00:25.525Z"
   },
   {
    "duration": 67,
    "start_time": "2022-07-17T19:00:26.735Z"
   },
   {
    "duration": 20,
    "start_time": "2022-07-17T19:00:26.803Z"
   },
   {
    "duration": 28,
    "start_time": "2022-07-17T19:00:26.824Z"
   },
   {
    "duration": 724,
    "start_time": "2022-07-17T19:00:26.853Z"
   },
   {
    "duration": 3,
    "start_time": "2022-07-17T19:00:27.579Z"
   },
   {
    "duration": 39,
    "start_time": "2022-07-17T19:00:27.584Z"
   },
   {
    "duration": 34,
    "start_time": "2022-07-17T19:00:27.625Z"
   },
   {
    "duration": 9,
    "start_time": "2022-07-17T19:00:27.661Z"
   },
   {
    "duration": 17,
    "start_time": "2022-07-17T19:00:27.672Z"
   },
   {
    "duration": 12,
    "start_time": "2022-07-17T19:00:27.691Z"
   },
   {
    "duration": 20,
    "start_time": "2022-07-17T19:00:27.705Z"
   },
   {
    "duration": 34,
    "start_time": "2022-07-17T19:00:27.727Z"
   },
   {
    "duration": 13,
    "start_time": "2022-07-17T19:00:27.763Z"
   },
   {
    "duration": 27,
    "start_time": "2022-07-17T19:00:27.778Z"
   },
   {
    "duration": 17,
    "start_time": "2022-07-17T19:00:27.807Z"
   },
   {
    "duration": 68,
    "start_time": "2022-07-17T19:00:27.825Z"
   },
   {
    "duration": 183,
    "start_time": "2022-07-17T19:00:27.895Z"
   },
   {
    "duration": 16,
    "start_time": "2022-07-17T19:00:28.079Z"
   },
   {
    "duration": 1147,
    "start_time": "2022-07-17T19:00:28.097Z"
   },
   {
    "duration": 598,
    "start_time": "2022-07-17T19:00:29.246Z"
   },
   {
    "duration": 4,
    "start_time": "2022-07-17T19:00:29.846Z"
   },
   {
    "duration": 261,
    "start_time": "2022-07-17T19:00:29.852Z"
   },
   {
    "duration": 287,
    "start_time": "2022-07-17T19:00:30.115Z"
   },
   {
    "duration": 23,
    "start_time": "2022-07-17T19:00:30.404Z"
   },
   {
    "duration": 36,
    "start_time": "2022-07-17T19:00:30.429Z"
   },
   {
    "duration": 191,
    "start_time": "2022-07-17T19:00:30.468Z"
   },
   {
    "duration": 181,
    "start_time": "2022-07-17T19:00:30.662Z"
   },
   {
    "duration": 11,
    "start_time": "2022-07-17T19:00:30.846Z"
   },
   {
    "duration": 375,
    "start_time": "2022-07-17T19:00:30.859Z"
   },
   {
    "duration": 21,
    "start_time": "2022-07-17T19:00:31.235Z"
   },
   {
    "duration": 310,
    "start_time": "2022-07-17T19:00:31.258Z"
   },
   {
    "duration": 7,
    "start_time": "2022-07-17T19:00:31.570Z"
   },
   {
    "duration": 221,
    "start_time": "2022-07-17T19:00:31.579Z"
   },
   {
    "duration": 53,
    "start_time": "2022-07-17T19:00:31.802Z"
   },
   {
    "duration": 37,
    "start_time": "2022-07-17T19:00:31.856Z"
   },
   {
    "duration": 4,
    "start_time": "2022-07-17T19:00:31.895Z"
   },
   {
    "duration": 56,
    "start_time": "2022-07-17T19:00:31.901Z"
   },
   {
    "duration": 54,
    "start_time": "2022-07-17T19:00:31.959Z"
   },
   {
    "duration": 0,
    "start_time": "2022-07-17T19:00:32.015Z"
   },
   {
    "duration": 0,
    "start_time": "2022-07-17T19:00:32.017Z"
   },
   {
    "duration": 59,
    "start_time": "2022-07-17T19:02:08.605Z"
   },
   {
    "duration": 215,
    "start_time": "2022-07-17T19:05:52.716Z"
   },
   {
    "duration": 5,
    "start_time": "2022-07-17T19:21:50.506Z"
   },
   {
    "duration": 235,
    "start_time": "2022-07-17T19:25:02.838Z"
   },
   {
    "duration": 287,
    "start_time": "2022-07-17T19:25:18.092Z"
   },
   {
    "duration": 243,
    "start_time": "2022-07-17T19:25:43.586Z"
   },
   {
    "duration": 245,
    "start_time": "2022-07-17T19:37:01.578Z"
   },
   {
    "duration": 412,
    "start_time": "2022-07-17T19:39:31.839Z"
   },
   {
    "duration": 298,
    "start_time": "2022-07-17T19:40:09.133Z"
   },
   {
    "duration": 52,
    "start_time": "2022-07-17T19:41:42.617Z"
   },
   {
    "duration": 92,
    "start_time": "2022-07-17T19:45:07.192Z"
   },
   {
    "duration": 14,
    "start_time": "2022-07-17T19:45:19.864Z"
   },
   {
    "duration": 198,
    "start_time": "2022-07-17T19:45:34.824Z"
   },
   {
    "duration": 30,
    "start_time": "2022-07-17T19:48:04.803Z"
   },
   {
    "duration": 56,
    "start_time": "2022-07-17T19:50:57.703Z"
   },
   {
    "duration": 239,
    "start_time": "2022-07-17T19:51:13.040Z"
   },
   {
    "duration": 66,
    "start_time": "2022-07-17T19:51:20.540Z"
   },
   {
    "duration": 245,
    "start_time": "2022-07-17T19:52:12.474Z"
   },
   {
    "duration": 241,
    "start_time": "2022-07-17T19:52:56.801Z"
   },
   {
    "duration": 1417,
    "start_time": "2022-07-18T08:00:44.021Z"
   },
   {
    "duration": 570,
    "start_time": "2022-07-18T08:00:45.440Z"
   },
   {
    "duration": 23,
    "start_time": "2022-07-18T08:00:46.012Z"
   },
   {
    "duration": 72,
    "start_time": "2022-07-18T08:00:46.037Z"
   },
   {
    "duration": 896,
    "start_time": "2022-07-18T08:00:46.111Z"
   },
   {
    "duration": 4,
    "start_time": "2022-07-18T08:00:47.009Z"
   },
   {
    "duration": 14,
    "start_time": "2022-07-18T08:00:47.015Z"
   },
   {
    "duration": 21,
    "start_time": "2022-07-18T08:00:47.031Z"
   },
   {
    "duration": 9,
    "start_time": "2022-07-18T08:00:47.053Z"
   },
   {
    "duration": 6,
    "start_time": "2022-07-18T08:00:47.066Z"
   },
   {
    "duration": 36,
    "start_time": "2022-07-18T08:00:47.074Z"
   },
   {
    "duration": 10,
    "start_time": "2022-07-18T08:00:47.112Z"
   },
   {
    "duration": 10,
    "start_time": "2022-07-18T08:00:47.124Z"
   },
   {
    "duration": 7,
    "start_time": "2022-07-18T08:00:47.136Z"
   },
   {
    "duration": 15,
    "start_time": "2022-07-18T08:00:47.145Z"
   },
   {
    "duration": 43,
    "start_time": "2022-07-18T08:00:47.162Z"
   },
   {
    "duration": 15,
    "start_time": "2022-07-18T08:00:47.207Z"
   },
   {
    "duration": 198,
    "start_time": "2022-07-18T08:00:47.224Z"
   },
   {
    "duration": 16,
    "start_time": "2022-07-18T08:00:47.424Z"
   },
   {
    "duration": 1148,
    "start_time": "2022-07-18T08:00:47.442Z"
   },
   {
    "duration": 679,
    "start_time": "2022-07-18T08:00:48.592Z"
   },
   {
    "duration": 4,
    "start_time": "2022-07-18T08:00:49.273Z"
   },
   {
    "duration": 300,
    "start_time": "2022-07-18T08:00:49.278Z"
   },
   {
    "duration": 6,
    "start_time": "2022-07-18T08:00:49.580Z"
   },
   {
    "duration": 271,
    "start_time": "2022-07-18T08:00:49.588Z"
   },
   {
    "duration": 310,
    "start_time": "2022-07-18T08:00:49.860Z"
   },
   {
    "duration": 15,
    "start_time": "2022-07-18T08:00:50.172Z"
   },
   {
    "duration": 278,
    "start_time": "2022-07-18T08:00:50.191Z"
   },
   {
    "duration": 172,
    "start_time": "2022-07-18T08:00:50.470Z"
   },
   {
    "duration": 10,
    "start_time": "2022-07-18T08:00:50.644Z"
   },
   {
    "duration": 376,
    "start_time": "2022-07-18T08:00:50.655Z"
   },
   {
    "duration": 294,
    "start_time": "2022-07-18T08:00:51.033Z"
   },
   {
    "duration": 294,
    "start_time": "2022-07-18T08:00:51.329Z"
   },
   {
    "duration": 270,
    "start_time": "2022-07-18T08:00:51.625Z"
   },
   {
    "duration": 17,
    "start_time": "2022-07-18T08:00:51.896Z"
   },
   {
    "duration": 291,
    "start_time": "2022-07-18T08:00:51.915Z"
   },
   {
    "duration": 16,
    "start_time": "2022-07-18T08:00:52.208Z"
   },
   {
    "duration": 239,
    "start_time": "2022-07-18T08:00:52.226Z"
   },
   {
    "duration": 49,
    "start_time": "2022-07-18T08:00:52.466Z"
   },
   {
    "duration": 37,
    "start_time": "2022-07-18T08:00:52.517Z"
   },
   {
    "duration": 4,
    "start_time": "2022-07-18T08:00:52.555Z"
   },
   {
    "duration": 60,
    "start_time": "2022-07-18T08:00:52.561Z"
   },
   {
    "duration": 2,
    "start_time": "2022-07-18T08:00:52.623Z"
   },
   {
    "duration": 26,
    "start_time": "2022-07-18T08:00:52.627Z"
   },
   {
    "duration": 27,
    "start_time": "2022-07-18T08:00:52.654Z"
   },
   {
    "duration": 363,
    "start_time": "2022-07-18T08:03:23.412Z"
   },
   {
    "duration": 17,
    "start_time": "2022-07-18T08:03:49.668Z"
   },
   {
    "duration": 249,
    "start_time": "2022-07-18T08:08:29.871Z"
   }
  ],
  "kernelspec": {
   "display_name": "Python 3 (ipykernel)",
   "language": "python",
   "name": "python3"
  },
  "language_info": {
   "codemirror_mode": {
    "name": "ipython",
    "version": 3
   },
   "file_extension": ".py",
   "mimetype": "text/x-python",
   "name": "python",
   "nbconvert_exporter": "python",
   "pygments_lexer": "ipython3",
   "version": "3.9.12"
  },
  "toc": {
   "base_numbering": 1,
   "nav_menu": {},
   "number_sections": true,
   "sideBar": true,
   "skip_h1_title": true,
   "title_cell": "Table of Contents",
   "title_sidebar": "Contents",
   "toc_cell": false,
   "toc_position": {},
   "toc_section_display": true,
   "toc_window_display": false
  }
 },
 "nbformat": 4,
 "nbformat_minor": 2
}
