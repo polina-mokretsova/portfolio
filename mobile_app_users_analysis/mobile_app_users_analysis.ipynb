{
 "cells": [
  {
   "cell_type": "markdown",
   "metadata": {},
   "source": [
    "# Исследование для магазина продуктов питания"
   ]
  },
  {
   "cell_type": "markdown",
   "metadata": {},
   "source": [
    "В ходе нашего исследования нам нужно разобраться, как ведут себя пользователи мобильного приложения магазина продуктов питания и какой шрифт для приложения более привлекательный для наших клиентов. Для теста пользователей разбили на 3 группы: 2 контрольные со старыми шрифтами и одну экспериментальную — с новыми. \n",
    "\n",
    "**Цель исследования** – выяснить, какой шрифт для приложения лучше: привычный для пользователя или новый.\n",
    "\n",
    "**Ход исследования:**\n",
    "1. Ознакомимся с данными.\n",
    "2. Проведем предобработку данных и подготовм их к анализу.\n",
    "3. Изучим и проверим данные. Узнаем, сколько всего событий и пользователей в логе, сколько в среднем событий приходится на пользователя. Посмотрим, данными за какой период мы располагаем и много ли событий и пользователей потеряем, отбросив старые данные. Проверим, что у нас есть пользователи из всех трёх экспериментальных групп.\n",
    "4. Изучим воронку событий. Узнаем, как пользователи доходят до покупки. Сколько пользователей доходит до покупки, а сколько — «застревает» на предыдущих шагах? На каких именно?\n",
    "5. Исследуем результаты A/A/B-эксперимента.\n",
    "6. Сделаем общие выводы и вынесем рекомендации.\n",
    "\n",
    "**Описание данных:**\\\n",
    "\\\n",
    "*Файл /datasets/logs_exp.csv (информация о логах)*\\\n",
    "\\\n",
    "`EventName` — название события;\\\n",
    "`DeviceIDHash` — уникальный идентификатор пользователя;\\\n",
    "`EventTimestamp` — время события;\\\n",
    "`ExpId` — номер эксперимента: 246 и 247 — контрольные группы, а 248 — экспериментальная.\n"
   ]
  },
  {
   "cell_type": "markdown",
   "metadata": {},
   "source": [
    "## 1. Откроем файл с данными и изучим общую информацию"
   ]
  },
  {
   "cell_type": "markdown",
   "metadata": {},
   "source": [
    "**Импортируем библиотеки, необходимые для исследования**"
   ]
  },
  {
   "cell_type": "code",
   "execution_count": 1,
   "metadata": {},
   "outputs": [
    {
     "name": "stdout",
     "output_type": "stream",
     "text": [
      "Note: you may need to restart the kernel to use updated packages.\n"
     ]
    }
   ],
   "source": [
    "# настроим нашу тетрадку так, чтобы все графики были картинками (пригодится для github)\n",
    "%pip install -U kaleido -q\n",
    "import plotly.io as pio\n",
    "pio.renderers.default = \"png\"\n",
    "\n",
    "import pandas as pd\n",
    "import datetime as dt\n",
    "import numpy as np\n",
    "import matplotlib.pyplot as plt\n",
    "from pandas.plotting import register_matplotlib_converters\n",
    "import scipy.stats as stats\n",
    "import plotly.express as px\n",
    "from plotly import graph_objects as go\n",
    "import math as mth\n",
    "import warnings\n",
    "# конвертеры, которые позволяют использовать типы pandas в matplotlib  \n",
    "register_matplotlib_converters()"
   ]
  },
  {
   "cell_type": "markdown",
   "metadata": {},
   "source": [
    "**Откроем датафрэйм с данными**"
   ]
  },
  {
   "cell_type": "code",
   "execution_count": 2,
   "metadata": {},
   "outputs": [
    {
     "data": {
      "text/html": [
       "<div>\n",
       "<style scoped>\n",
       "    .dataframe tbody tr th:only-of-type {\n",
       "        vertical-align: middle;\n",
       "    }\n",
       "\n",
       "    .dataframe tbody tr th {\n",
       "        vertical-align: top;\n",
       "    }\n",
       "\n",
       "    .dataframe thead th {\n",
       "        text-align: right;\n",
       "    }\n",
       "</style>\n",
       "<table border=\"1\" class=\"dataframe\">\n",
       "  <thead>\n",
       "    <tr style=\"text-align: right;\">\n",
       "      <th></th>\n",
       "      <th>EventName</th>\n",
       "      <th>DeviceIDHash</th>\n",
       "      <th>EventTimestamp</th>\n",
       "      <th>ExpId</th>\n",
       "    </tr>\n",
       "  </thead>\n",
       "  <tbody>\n",
       "    <tr>\n",
       "      <th>0</th>\n",
       "      <td>MainScreenAppear</td>\n",
       "      <td>4575588528974610257</td>\n",
       "      <td>1564029816</td>\n",
       "      <td>246</td>\n",
       "    </tr>\n",
       "    <tr>\n",
       "      <th>1</th>\n",
       "      <td>MainScreenAppear</td>\n",
       "      <td>7416695313311560658</td>\n",
       "      <td>1564053102</td>\n",
       "      <td>246</td>\n",
       "    </tr>\n",
       "    <tr>\n",
       "      <th>2</th>\n",
       "      <td>PaymentScreenSuccessful</td>\n",
       "      <td>3518123091307005509</td>\n",
       "      <td>1564054127</td>\n",
       "      <td>248</td>\n",
       "    </tr>\n",
       "    <tr>\n",
       "      <th>3</th>\n",
       "      <td>CartScreenAppear</td>\n",
       "      <td>3518123091307005509</td>\n",
       "      <td>1564054127</td>\n",
       "      <td>248</td>\n",
       "    </tr>\n",
       "    <tr>\n",
       "      <th>4</th>\n",
       "      <td>PaymentScreenSuccessful</td>\n",
       "      <td>6217807653094995999</td>\n",
       "      <td>1564055322</td>\n",
       "      <td>248</td>\n",
       "    </tr>\n",
       "    <tr>\n",
       "      <th>...</th>\n",
       "      <td>...</td>\n",
       "      <td>...</td>\n",
       "      <td>...</td>\n",
       "      <td>...</td>\n",
       "    </tr>\n",
       "    <tr>\n",
       "      <th>244121</th>\n",
       "      <td>MainScreenAppear</td>\n",
       "      <td>4599628364049201812</td>\n",
       "      <td>1565212345</td>\n",
       "      <td>247</td>\n",
       "    </tr>\n",
       "    <tr>\n",
       "      <th>244122</th>\n",
       "      <td>MainScreenAppear</td>\n",
       "      <td>5849806612437486590</td>\n",
       "      <td>1565212439</td>\n",
       "      <td>246</td>\n",
       "    </tr>\n",
       "    <tr>\n",
       "      <th>244123</th>\n",
       "      <td>MainScreenAppear</td>\n",
       "      <td>5746969938801999050</td>\n",
       "      <td>1565212483</td>\n",
       "      <td>246</td>\n",
       "    </tr>\n",
       "    <tr>\n",
       "      <th>244124</th>\n",
       "      <td>MainScreenAppear</td>\n",
       "      <td>5746969938801999050</td>\n",
       "      <td>1565212498</td>\n",
       "      <td>246</td>\n",
       "    </tr>\n",
       "    <tr>\n",
       "      <th>244125</th>\n",
       "      <td>OffersScreenAppear</td>\n",
       "      <td>5746969938801999050</td>\n",
       "      <td>1565212517</td>\n",
       "      <td>246</td>\n",
       "    </tr>\n",
       "  </tbody>\n",
       "</table>\n",
       "<p>244126 rows × 4 columns</p>\n",
       "</div>"
      ],
      "text/plain": [
       "                      EventName         DeviceIDHash  EventTimestamp  ExpId\n",
       "0              MainScreenAppear  4575588528974610257      1564029816    246\n",
       "1              MainScreenAppear  7416695313311560658      1564053102    246\n",
       "2       PaymentScreenSuccessful  3518123091307005509      1564054127    248\n",
       "3              CartScreenAppear  3518123091307005509      1564054127    248\n",
       "4       PaymentScreenSuccessful  6217807653094995999      1564055322    248\n",
       "...                         ...                  ...             ...    ...\n",
       "244121         MainScreenAppear  4599628364049201812      1565212345    247\n",
       "244122         MainScreenAppear  5849806612437486590      1565212439    246\n",
       "244123         MainScreenAppear  5746969938801999050      1565212483    246\n",
       "244124         MainScreenAppear  5746969938801999050      1565212498    246\n",
       "244125       OffersScreenAppear  5746969938801999050      1565212517    246\n",
       "\n",
       "[244126 rows x 4 columns]"
      ]
     },
     "execution_count": 2,
     "metadata": {},
     "output_type": "execute_result"
    }
   ],
   "source": [
    "data = pd.read_csv('/Users/polinamokretsova/logs_exp.csv', sep='\\t')\n",
    "data"
   ]
  },
  {
   "cell_type": "markdown",
   "metadata": {},
   "source": [
    "**Посмотрим общую информацию о данных**"
   ]
  },
  {
   "cell_type": "code",
   "execution_count": 3,
   "metadata": {
    "scrolled": true
   },
   "outputs": [
    {
     "name": "stdout",
     "output_type": "stream",
     "text": [
      "<class 'pandas.core.frame.DataFrame'>\n",
      "RangeIndex: 244126 entries, 0 to 244125\n",
      "Data columns (total 4 columns):\n",
      " #   Column          Non-Null Count   Dtype \n",
      "---  ------          --------------   ----- \n",
      " 0   EventName       244126 non-null  object\n",
      " 1   DeviceIDHash    244126 non-null  int64 \n",
      " 2   EventTimestamp  244126 non-null  int64 \n",
      " 3   ExpId           244126 non-null  int64 \n",
      "dtypes: int64(3), object(1)\n",
      "memory usage: 7.5+ MB\n"
     ]
    }
   ],
   "source": [
    "data.info()"
   ]
  },
  {
   "cell_type": "markdown",
   "metadata": {},
   "source": [
    "**Мы изучили данные и вот, что выяснили:**\n",
    "* Названия столбцов не приведены к нижнему регистру и неудобны для использования.\n",
    "* У столбца с датой некорректный тип данных.\n",
    "\n",
    "В следующем шаге мы проработаем каждый из этих пунктов и подготовим данные к анализу."
   ]
  },
  {
   "cell_type": "markdown",
   "metadata": {},
   "source": [
    "## 2. Проведем предобработку данных и подготовм их к анализу"
   ]
  },
  {
   "cell_type": "markdown",
   "metadata": {},
   "source": [
    "**Заменим названия столбцов на удобные для использования в ходе анализа**"
   ]
  },
  {
   "cell_type": "code",
   "execution_count": 4,
   "metadata": {
    "scrolled": true
   },
   "outputs": [
    {
     "data": {
      "text/html": [
       "<div>\n",
       "<style scoped>\n",
       "    .dataframe tbody tr th:only-of-type {\n",
       "        vertical-align: middle;\n",
       "    }\n",
       "\n",
       "    .dataframe tbody tr th {\n",
       "        vertical-align: top;\n",
       "    }\n",
       "\n",
       "    .dataframe thead th {\n",
       "        text-align: right;\n",
       "    }\n",
       "</style>\n",
       "<table border=\"1\" class=\"dataframe\">\n",
       "  <thead>\n",
       "    <tr style=\"text-align: right;\">\n",
       "      <th></th>\n",
       "      <th>event_name</th>\n",
       "      <th>device_id</th>\n",
       "      <th>event_timestamp</th>\n",
       "      <th>exp_id</th>\n",
       "    </tr>\n",
       "  </thead>\n",
       "  <tbody>\n",
       "    <tr>\n",
       "      <th>0</th>\n",
       "      <td>MainScreenAppear</td>\n",
       "      <td>4575588528974610257</td>\n",
       "      <td>1564029816</td>\n",
       "      <td>246</td>\n",
       "    </tr>\n",
       "    <tr>\n",
       "      <th>1</th>\n",
       "      <td>MainScreenAppear</td>\n",
       "      <td>7416695313311560658</td>\n",
       "      <td>1564053102</td>\n",
       "      <td>246</td>\n",
       "    </tr>\n",
       "    <tr>\n",
       "      <th>2</th>\n",
       "      <td>PaymentScreenSuccessful</td>\n",
       "      <td>3518123091307005509</td>\n",
       "      <td>1564054127</td>\n",
       "      <td>248</td>\n",
       "    </tr>\n",
       "    <tr>\n",
       "      <th>3</th>\n",
       "      <td>CartScreenAppear</td>\n",
       "      <td>3518123091307005509</td>\n",
       "      <td>1564054127</td>\n",
       "      <td>248</td>\n",
       "    </tr>\n",
       "    <tr>\n",
       "      <th>4</th>\n",
       "      <td>PaymentScreenSuccessful</td>\n",
       "      <td>6217807653094995999</td>\n",
       "      <td>1564055322</td>\n",
       "      <td>248</td>\n",
       "    </tr>\n",
       "  </tbody>\n",
       "</table>\n",
       "</div>"
      ],
      "text/plain": [
       "                event_name            device_id  event_timestamp  exp_id\n",
       "0         MainScreenAppear  4575588528974610257       1564029816     246\n",
       "1         MainScreenAppear  7416695313311560658       1564053102     246\n",
       "2  PaymentScreenSuccessful  3518123091307005509       1564054127     248\n",
       "3         CartScreenAppear  3518123091307005509       1564054127     248\n",
       "4  PaymentScreenSuccessful  6217807653094995999       1564055322     248"
      ]
     },
     "execution_count": 4,
     "metadata": {},
     "output_type": "execute_result"
    }
   ],
   "source": [
    "# приведем названия столбцов к нижнему регистру в датафрэйме orders\n",
    "data.rename(columns={\"EventName\": \"event_name\", \"DeviceIDHash\": \"device_id\",\\\n",
    "                     \"EventTimestamp\": \"event_timestamp\", \"ExpId\": \"exp_id\"}, inplace = True)\n",
    "data.head()"
   ]
  },
  {
   "cell_type": "markdown",
   "metadata": {},
   "source": [
    "**Добавим столбцы с датой и временем и отдельно с датой. Изменим тип данных на временной**"
   ]
  },
  {
   "cell_type": "code",
   "execution_count": 5,
   "metadata": {},
   "outputs": [],
   "source": [
    "data['date_time'] = pd.to_datetime(data['event_timestamp'], unit='s')\n",
    "data['date'] = data['date_time'].astype('datetime64[D]')"
   ]
  },
  {
   "cell_type": "code",
   "execution_count": 6,
   "metadata": {
    "scrolled": true
   },
   "outputs": [
    {
     "name": "stdout",
     "output_type": "stream",
     "text": [
      "<class 'pandas.core.frame.DataFrame'>\n",
      "RangeIndex: 244126 entries, 0 to 244125\n",
      "Data columns (total 6 columns):\n",
      " #   Column           Non-Null Count   Dtype         \n",
      "---  ------           --------------   -----         \n",
      " 0   event_name       244126 non-null  object        \n",
      " 1   device_id        244126 non-null  int64         \n",
      " 2   event_timestamp  244126 non-null  int64         \n",
      " 3   exp_id           244126 non-null  int64         \n",
      " 4   date_time        244126 non-null  datetime64[ns]\n",
      " 5   date             244126 non-null  datetime64[ns]\n",
      "dtypes: datetime64[ns](2), int64(3), object(1)\n",
      "memory usage: 11.2+ MB\n"
     ]
    }
   ],
   "source": [
    "data.info()"
   ]
  },
  {
   "cell_type": "markdown",
   "metadata": {},
   "source": [
    "**Проверим данные на пропущенные значения**"
   ]
  },
  {
   "cell_type": "code",
   "execution_count": 7,
   "metadata": {
    "scrolled": true
   },
   "outputs": [
    {
     "data": {
      "text/plain": [
       "event_name         0\n",
       "device_id          0\n",
       "event_timestamp    0\n",
       "exp_id             0\n",
       "date_time          0\n",
       "date               0\n",
       "dtype: int64"
      ]
     },
     "execution_count": 7,
     "metadata": {},
     "output_type": "execute_result"
    }
   ],
   "source": [
    "data.isna().sum()"
   ]
  },
  {
   "cell_type": "markdown",
   "metadata": {},
   "source": [
    "**Проверим данные на дубликаты**"
   ]
  },
  {
   "cell_type": "code",
   "execution_count": 8,
   "metadata": {},
   "outputs": [
    {
     "data": {
      "text/plain": [
       "413"
      ]
     },
     "execution_count": 8,
     "metadata": {},
     "output_type": "execute_result"
    }
   ],
   "source": [
    "data.duplicated().sum()"
   ]
  },
  {
   "cell_type": "markdown",
   "metadata": {},
   "source": [
    "**Удалим дубликаты**\\\n",
    "\\\n",
    "Мы обнаружили 413 дубликатов в наших данных. Скорее всего они попали по ошибке, и мы заметили некорректное поведение пользователя. Целесообразно будет удалить эти данные."
   ]
  },
  {
   "cell_type": "code",
   "execution_count": 9,
   "metadata": {},
   "outputs": [
    {
     "data": {
      "text/html": [
       "<div>\n",
       "<style scoped>\n",
       "    .dataframe tbody tr th:only-of-type {\n",
       "        vertical-align: middle;\n",
       "    }\n",
       "\n",
       "    .dataframe tbody tr th {\n",
       "        vertical-align: top;\n",
       "    }\n",
       "\n",
       "    .dataframe thead th {\n",
       "        text-align: right;\n",
       "    }\n",
       "</style>\n",
       "<table border=\"1\" class=\"dataframe\">\n",
       "  <thead>\n",
       "    <tr style=\"text-align: right;\">\n",
       "      <th></th>\n",
       "      <th>event_name</th>\n",
       "      <th>device_id</th>\n",
       "      <th>event_timestamp</th>\n",
       "      <th>exp_id</th>\n",
       "      <th>date_time</th>\n",
       "      <th>date</th>\n",
       "    </tr>\n",
       "  </thead>\n",
       "  <tbody>\n",
       "    <tr>\n",
       "      <th>0</th>\n",
       "      <td>MainScreenAppear</td>\n",
       "      <td>4575588528974610257</td>\n",
       "      <td>1564029816</td>\n",
       "      <td>246</td>\n",
       "      <td>2019-07-25 04:43:36</td>\n",
       "      <td>2019-07-25</td>\n",
       "    </tr>\n",
       "    <tr>\n",
       "      <th>1</th>\n",
       "      <td>MainScreenAppear</td>\n",
       "      <td>7416695313311560658</td>\n",
       "      <td>1564053102</td>\n",
       "      <td>246</td>\n",
       "      <td>2019-07-25 11:11:42</td>\n",
       "      <td>2019-07-25</td>\n",
       "    </tr>\n",
       "    <tr>\n",
       "      <th>2</th>\n",
       "      <td>PaymentScreenSuccessful</td>\n",
       "      <td>3518123091307005509</td>\n",
       "      <td>1564054127</td>\n",
       "      <td>248</td>\n",
       "      <td>2019-07-25 11:28:47</td>\n",
       "      <td>2019-07-25</td>\n",
       "    </tr>\n",
       "    <tr>\n",
       "      <th>3</th>\n",
       "      <td>CartScreenAppear</td>\n",
       "      <td>3518123091307005509</td>\n",
       "      <td>1564054127</td>\n",
       "      <td>248</td>\n",
       "      <td>2019-07-25 11:28:47</td>\n",
       "      <td>2019-07-25</td>\n",
       "    </tr>\n",
       "    <tr>\n",
       "      <th>4</th>\n",
       "      <td>PaymentScreenSuccessful</td>\n",
       "      <td>6217807653094995999</td>\n",
       "      <td>1564055322</td>\n",
       "      <td>248</td>\n",
       "      <td>2019-07-25 11:48:42</td>\n",
       "      <td>2019-07-25</td>\n",
       "    </tr>\n",
       "  </tbody>\n",
       "</table>\n",
       "</div>"
      ],
      "text/plain": [
       "                event_name            device_id  event_timestamp  exp_id  \\\n",
       "0         MainScreenAppear  4575588528974610257       1564029816     246   \n",
       "1         MainScreenAppear  7416695313311560658       1564053102     246   \n",
       "2  PaymentScreenSuccessful  3518123091307005509       1564054127     248   \n",
       "3         CartScreenAppear  3518123091307005509       1564054127     248   \n",
       "4  PaymentScreenSuccessful  6217807653094995999       1564055322     248   \n",
       "\n",
       "            date_time       date  \n",
       "0 2019-07-25 04:43:36 2019-07-25  \n",
       "1 2019-07-25 11:11:42 2019-07-25  \n",
       "2 2019-07-25 11:28:47 2019-07-25  \n",
       "3 2019-07-25 11:28:47 2019-07-25  \n",
       "4 2019-07-25 11:48:42 2019-07-25  "
      ]
     },
     "execution_count": 9,
     "metadata": {},
     "output_type": "execute_result"
    }
   ],
   "source": [
    "data = data.drop_duplicates().reset_index(drop=True)\n",
    "data.head()"
   ]
  },
  {
   "cell_type": "markdown",
   "metadata": {},
   "source": [
    "**Мы провели предобработку данных:**\n",
    "* Привели названия столбцов к нижнему регистру, переименовали их для удобства.\n",
    "* Добавили столбцы с датой и временем и отдельно с датой, изменили тип данных на временной.\n",
    "* Мы выяснили, что в данных нет пропусков, но есть дубликаты. Дубликаты удалили, посчитав эти данные некорректными.\n",
    "\n",
    "Данные готовы, можно приступать к анализу."
   ]
  },
  {
   "cell_type": "markdown",
   "metadata": {},
   "source": [
    "## 3. Изучим и проверим данные"
   ]
  },
  {
   "cell_type": "markdown",
   "metadata": {},
   "source": [
    "**Узнаем, сколько всего событий в логе**"
   ]
  },
  {
   "cell_type": "code",
   "execution_count": 10,
   "metadata": {
    "scrolled": true
   },
   "outputs": [
    {
     "name": "stdout",
     "output_type": "stream",
     "text": [
      "Всего событий: 243713, типов событий: 5.\n"
     ]
    }
   ],
   "source": [
    "print('Всего событий: %d, типов событий: %d.' % (data.shape[0], data['event_name'].nunique()))"
   ]
  },
  {
   "cell_type": "markdown",
   "metadata": {},
   "source": [
    "**Узнаем, сколько всего уникальных пользователей в логе**"
   ]
  },
  {
   "cell_type": "code",
   "execution_count": 11,
   "metadata": {
    "scrolled": true
   },
   "outputs": [
    {
     "name": "stdout",
     "output_type": "stream",
     "text": [
      "Всего уникальных пользователей в логе: 7551.\n"
     ]
    }
   ],
   "source": [
    "print('Всего уникальных пользователей в логе: %d.' % (data['device_id'].nunique()))"
   ]
  },
  {
   "cell_type": "markdown",
   "metadata": {},
   "source": [
    "**Узнаем, сколько в среднем событий приходится на пользователя**"
   ]
  },
  {
   "cell_type": "code",
   "execution_count": 12,
   "metadata": {
    "scrolled": false
   },
   "outputs": [
    {
     "data": {
      "text/plain": [
       "count    7551.000000\n",
       "mean       32.275593\n",
       "std        65.154219\n",
       "min         1.000000\n",
       "25%         9.000000\n",
       "50%        20.000000\n",
       "75%        37.000000\n",
       "max      2307.000000\n",
       "Name: total_events, dtype: float64"
      ]
     },
     "execution_count": 12,
     "metadata": {},
     "output_type": "execute_result"
    }
   ],
   "source": [
    "events_per_user = data.groupby('device_id')['event_name'].count()\\\n",
    "                      .to_frame()\\\n",
    "                      .rename(columns={'event_name': 'total_events'})\\\n",
    "                      .reset_index()\n",
    "\n",
    "events_per_user['total_events'].describe()"
   ]
  },
  {
   "cell_type": "code",
   "execution_count": 13,
   "metadata": {
    "scrolled": true
   },
   "outputs": [
    {
     "data": {
      "image/png": "[encoded data removed]"
     },
     "metadata": {},
     "output_type": "display_data"
    }
   ],
   "source": [
    "# визуализируем распределение событий с помощью диаграммы рассеяния\n",
    "fig = px.box(events_per_user, y=\"total_events\", title='Распределение количества событий на пользователя')\n",
    "fig.update_yaxes(title_text='Количество событий')\n",
    "fig.show()"
   ]
  },
  {
   "cell_type": "markdown",
   "metadata": {},
   "source": [
    "В среднем на пользователя приходится 32 события. Но в наших данных много выбросов. Например, максимальное количество событий 2307 вызывает сомнения, что пользователь за 2 недели совершил столько действий. Посмотрим, сколько событий будет приходится на пользователей, если мы установим верхнюю границу в 500 событий."
   ]
  },
  {
   "cell_type": "code",
   "execution_count": 14,
   "metadata": {},
   "outputs": [
    {
     "data": {
      "image/png": "[encoded data removed]"
     },
     "metadata": {},
     "output_type": "display_data"
    }
   ],
   "source": [
    "events_per_user = events_per_user[events_per_user['total_events'] <= 500]\n",
    "fig = px.box(events_per_user, y=\"total_events\", title='Распределение количества событий на пользователя')\n",
    "fig.update_yaxes(title_text='Количество событий')\n",
    "fig.show()"
   ]
  },
  {
   "cell_type": "code",
   "execution_count": 15,
   "metadata": {
    "scrolled": true
   },
   "outputs": [
    {
     "data": {
      "text/plain": [
       "count    7532.000000\n",
       "mean       29.849177\n",
       "std        35.414848\n",
       "min         1.000000\n",
       "25%         9.000000\n",
       "50%        20.000000\n",
       "75%        37.000000\n",
       "max       496.000000\n",
       "Name: total_events, dtype: float64"
      ]
     },
     "execution_count": 15,
     "metadata": {},
     "output_type": "execute_result"
    }
   ],
   "source": [
    "events_per_user['total_events'].describe()"
   ]
  },
  {
   "cell_type": "markdown",
   "metadata": {},
   "source": [
    "В среднем на пользователя прихолится 30 событий."
   ]
  },
  {
   "cell_type": "markdown",
   "metadata": {},
   "source": [
    "**Узнаем, данными за какой период мы располагаем. Найдём максимальную и минимальную дату**"
   ]
  },
  {
   "cell_type": "code",
   "execution_count": 16,
   "metadata": {},
   "outputs": [
    {
     "name": "stdout",
     "output_type": "stream",
     "text": [
      "Максимальная дата: 2019-08-07 21:15:17\n",
      "Минимальная дата: 2019-07-25 04:43:36\n"
     ]
    }
   ],
   "source": [
    "dt_max = data['date_time'].max()\n",
    "dt_min = data['date_time'].min()\n",
    "print('Максимальная дата:', dt_max)\n",
    "print('Минимальная дата:', dt_min)"
   ]
  },
  {
   "cell_type": "code",
   "execution_count": 17,
   "metadata": {},
   "outputs": [
    {
     "name": "stdout",
     "output_type": "stream",
     "text": [
      "Мы располагаем данными за период: 13 days 16:31:41\n"
     ]
    }
   ],
   "source": [
    "period = dt_max - dt_min\n",
    "print('Мы располагаем данными за период:', period)"
   ]
  },
  {
   "cell_type": "markdown",
   "metadata": {},
   "source": [
    "**Построим гистограмму по дате и времени**"
   ]
  },
  {
   "cell_type": "code",
   "execution_count": 18,
   "metadata": {},
   "outputs": [
    {
     "data": {
      "image/png": "[encoded data removed]"
     },
     "metadata": {},
     "output_type": "display_data"
    }
   ],
   "source": [
    "# построим гистограму распределения пользователей по дате и времени\n",
    "fig = px.histogram(data, x='date_time', title='Гистограма распределения пользователей по дате и времени')\n",
    "fig.update_xaxes(title_text='Дата') \n",
    "fig.update_yaxes(title_text='Количество пользователей')\n",
    "fig.show()"
   ]
  },
  {
   "cell_type": "markdown",
   "metadata": {},
   "source": [
    "По графику видно, что мы не имеем одинаково полные данные за весь период. **Оставим данные за период: 1-7 августа 2019 года.**\n"
   ]
  },
  {
   "cell_type": "code",
   "execution_count": 19,
   "metadata": {},
   "outputs": [],
   "source": [
    "filter_data = data[data['date'] > '2019-07-31']"
   ]
  },
  {
   "cell_type": "markdown",
   "metadata": {},
   "source": [
    "**Узнаем, много ли событий и пользователей вы потеряли, отбросив старые данные**"
   ]
  },
  {
   "cell_type": "code",
   "execution_count": 20,
   "metadata": {
    "scrolled": false
   },
   "outputs": [
    {
     "name": "stdout",
     "output_type": "stream",
     "text": [
      "Было событий до очистки данных = 243713. Стало после очистки = 240887\n",
      "На сколько уменьшилось количество событий = 2826. Потяря в процентах = 1.16%\n"
     ]
    }
   ],
   "source": [
    "events = data.shape[0]\n",
    "filter_events = filter_data.shape[0]\n",
    "print(f'Было событий до очистки данных = {events}. Стало после очистки = {filter_events}') \n",
    "print(f'На сколько уменьшилось количество событий = {events-filter_events}. Потяря в процентах = {round((events-filter_events)/events*100,2)}%')"
   ]
  },
  {
   "cell_type": "code",
   "execution_count": 21,
   "metadata": {},
   "outputs": [
    {
     "name": "stdout",
     "output_type": "stream",
     "text": [
      "Было пользователей до очистки данных = 7551. Стало после очистки = 7534\n",
      "На сколько уменьшилось количество пользователей = 17. Потяря в процентах = 0.23%\n"
     ]
    }
   ],
   "source": [
    "users = data['device_id'].nunique()\n",
    "filter_users = filter_data['device_id'].nunique()\n",
    "print(f'Было пользователей до очистки данных = {users}. Стало после очистки = {filter_users}') \n",
    "print(f'На сколько уменьшилось количество пользователей = {users-filter_users}. Потяря в процентах = {round((users-filter_users)/users*100,2)}%')"
   ]
  },
  {
   "cell_type": "code",
   "execution_count": 22,
   "metadata": {},
   "outputs": [
    {
     "name": "stdout",
     "output_type": "stream",
     "text": [
      "В среднем событий на пользователя до очистки данных: 32.\n",
      "В среднем событий на пользователя после очистки данных: 31.\n"
     ]
    }
   ],
   "source": [
    "print('В среднем событий на пользователя до очистки данных: %d.' % (data.shape[0]/data['device_id'].nunique()))\n",
    "print('В среднем событий на пользователя после очистки данных: %d.' % (filter_data.shape[0]/filter_data['device_id'].nunique()))"
   ]
  },
  {
   "cell_type": "markdown",
   "metadata": {},
   "source": [
    "Как мы видим, разница между очищенными и \"сырыми\" данными небольшая. Потяря событий в процентах составила = 1.16%, а потеря пользователей – 0,23%."
   ]
  },
  {
   "cell_type": "markdown",
   "metadata": {},
   "source": [
    "**Проверим, что у нас есть пользователи из всех трёх экспериментальных групп**"
   ]
  },
  {
   "cell_type": "code",
   "execution_count": 23,
   "metadata": {},
   "outputs": [
    {
     "data": {
      "text/plain": [
       "array([246, 247, 248])"
      ]
     },
     "execution_count": 23,
     "metadata": {},
     "output_type": "execute_result"
    }
   ],
   "source": [
    "filter_data['exp_id'].unique()"
   ]
  },
  {
   "cell_type": "markdown",
   "metadata": {},
   "source": [
    "В каждой из групп примерно одинаковое количество пользователей. Проверим, нет ли таких пользователей, которые попали в несколько групп теста? "
   ]
  },
  {
   "cell_type": "code",
   "execution_count": 24,
   "metadata": {},
   "outputs": [
    {
     "name": "stdout",
     "output_type": "stream",
     "text": [
      "0\n"
     ]
    }
   ],
   "source": [
    "users246 = filter_data[filter_data['exp_id']=='246']['device_id']\n",
    "users247 = filter_data[filter_data['exp_id']=='247']['device_id']\n",
    "users248 = filter_data[filter_data['exp_id']=='248']['device_id']\n",
    "\n",
    "# а теперь посмотрим, есть ли одни и те же пользователи, которые попали в несколько групп сразу\n",
    "all_users = filter_data.loc[filter_data['device_id'].isin(users246)& filter_data['device_id'].isin(users247)& filter_data['device_id'].isin(users248),'device_id'].unique()\n",
    "print(len(all_users))"
   ]
  },
  {
   "cell_type": "markdown",
   "metadata": {},
   "source": [
    "Таких пользователей нет. Группы сформированы корректно."
   ]
  },
  {
   "cell_type": "markdown",
   "metadata": {},
   "source": [
    "**Мы изучили и проверили данные. Вот, что нам удалось выяснить:**\n",
    "* Данные за все даты нам не нужны, так как у нас не одинаково полные данные за весь период. Мы оставили данные за первую неделю августа: 1 - 7 августа 2019 года.\n",
    "* Отбросив данные, которые не попали в этот период, мы потеряли совсем не много данных и это не страшно. При этом количество типов событий не изменилось - так же, как и в \"сырых\" данных у нас остались все 5 типов событий.\n",
    "* Мы проверили и убедились в том, что у нас есть пользователи из всех трёх экспериментальных групп. Они практически равно распределены по группам и нет таких пользователей, которые бы попали в несколько групп одновременно."
   ]
  },
  {
   "cell_type": "markdown",
   "metadata": {},
   "source": [
    "## 4. Изучим воронку событий"
   ]
  },
  {
   "cell_type": "markdown",
   "metadata": {},
   "source": [
    "**Посмотрим, какие события есть в логах и как часто они встречаются**"
   ]
  },
  {
   "cell_type": "code",
   "execution_count": 25,
   "metadata": {},
   "outputs": [
    {
     "data": {
      "text/html": [
       "<div>\n",
       "<style scoped>\n",
       "    .dataframe tbody tr th:only-of-type {\n",
       "        vertical-align: middle;\n",
       "    }\n",
       "\n",
       "    .dataframe tbody tr th {\n",
       "        vertical-align: top;\n",
       "    }\n",
       "\n",
       "    .dataframe thead th {\n",
       "        text-align: right;\n",
       "    }\n",
       "</style>\n",
       "<table border=\"1\" class=\"dataframe\">\n",
       "  <thead>\n",
       "    <tr style=\"text-align: right;\">\n",
       "      <th></th>\n",
       "      <th>event_name</th>\n",
       "      <th>total_events</th>\n",
       "    </tr>\n",
       "  </thead>\n",
       "  <tbody>\n",
       "    <tr>\n",
       "      <th>1</th>\n",
       "      <td>MainScreenAppear</td>\n",
       "      <td>117328</td>\n",
       "    </tr>\n",
       "    <tr>\n",
       "      <th>2</th>\n",
       "      <td>OffersScreenAppear</td>\n",
       "      <td>46333</td>\n",
       "    </tr>\n",
       "    <tr>\n",
       "      <th>0</th>\n",
       "      <td>CartScreenAppear</td>\n",
       "      <td>42303</td>\n",
       "    </tr>\n",
       "    <tr>\n",
       "      <th>3</th>\n",
       "      <td>PaymentScreenSuccessful</td>\n",
       "      <td>33918</td>\n",
       "    </tr>\n",
       "    <tr>\n",
       "      <th>4</th>\n",
       "      <td>Tutorial</td>\n",
       "      <td>1005</td>\n",
       "    </tr>\n",
       "  </tbody>\n",
       "</table>\n",
       "</div>"
      ],
      "text/plain": [
       "                event_name  total_events\n",
       "1         MainScreenAppear        117328\n",
       "2       OffersScreenAppear         46333\n",
       "0         CartScreenAppear         42303\n",
       "3  PaymentScreenSuccessful         33918\n",
       "4                 Tutorial          1005"
      ]
     },
     "execution_count": 25,
     "metadata": {},
     "output_type": "execute_result"
    }
   ],
   "source": [
    "filter_data.groupby('event_name')\\\n",
    "           .agg({'device_id':'count'})\\\n",
    "           .reset_index()\\\n",
    "           .sort_values(by='device_id', ascending=False)\\\n",
    "           .rename(columns={'device_id': 'total_events'})"
   ]
  },
  {
   "cell_type": "markdown",
   "metadata": {},
   "source": [
    "**Всего 5 событий в логах:** MainScreenAppear (главный экран), OffersScreenAppear (экран с офферами), CartScreenAppear (экран с корзиной), PaymentScreenSuccessful (экран с успешной оплатой), Tutorial (обучение). **Наиболее часто встречающийся – главный экран.**"
   ]
  },
  {
   "cell_type": "markdown",
   "metadata": {},
   "source": [
    "**Посчитаем, сколько пользователей совершали каждое из этих событий. Посчитаем долю пользователей, которые хоть раз совершали событие**"
   ]
  },
  {
   "cell_type": "code",
   "execution_count": 26,
   "metadata": {
    "scrolled": true
   },
   "outputs": [
    {
     "data": {
      "text/plain": [
       "240887"
      ]
     },
     "execution_count": 26,
     "metadata": {},
     "output_type": "execute_result"
    }
   ],
   "source": [
    "filter_data['device_id'].count()"
   ]
  },
  {
   "cell_type": "code",
   "execution_count": 27,
   "metadata": {},
   "outputs": [
    {
     "data": {
      "text/html": [
       "<div>\n",
       "<style scoped>\n",
       "    .dataframe tbody tr th:only-of-type {\n",
       "        vertical-align: middle;\n",
       "    }\n",
       "\n",
       "    .dataframe tbody tr th {\n",
       "        vertical-align: top;\n",
       "    }\n",
       "\n",
       "    .dataframe thead th {\n",
       "        text-align: right;\n",
       "    }\n",
       "</style>\n",
       "<table border=\"1\" class=\"dataframe\">\n",
       "  <thead>\n",
       "    <tr style=\"text-align: right;\">\n",
       "      <th></th>\n",
       "      <th>event_name</th>\n",
       "      <th>n_events</th>\n",
       "      <th>users</th>\n",
       "      <th>perc</th>\n",
       "    </tr>\n",
       "  </thead>\n",
       "  <tbody>\n",
       "    <tr>\n",
       "      <th>0</th>\n",
       "      <td>MainScreenAppear</td>\n",
       "      <td>117328</td>\n",
       "      <td>7419</td>\n",
       "      <td>98.5</td>\n",
       "    </tr>\n",
       "    <tr>\n",
       "      <th>1</th>\n",
       "      <td>OffersScreenAppear</td>\n",
       "      <td>46333</td>\n",
       "      <td>4593</td>\n",
       "      <td>61.0</td>\n",
       "    </tr>\n",
       "    <tr>\n",
       "      <th>2</th>\n",
       "      <td>CartScreenAppear</td>\n",
       "      <td>42303</td>\n",
       "      <td>3734</td>\n",
       "      <td>49.6</td>\n",
       "    </tr>\n",
       "    <tr>\n",
       "      <th>3</th>\n",
       "      <td>PaymentScreenSuccessful</td>\n",
       "      <td>33918</td>\n",
       "      <td>3539</td>\n",
       "      <td>47.0</td>\n",
       "    </tr>\n",
       "    <tr>\n",
       "      <th>4</th>\n",
       "      <td>Tutorial</td>\n",
       "      <td>1005</td>\n",
       "      <td>840</td>\n",
       "      <td>11.1</td>\n",
       "    </tr>\n",
       "  </tbody>\n",
       "</table>\n",
       "</div>"
      ],
      "text/plain": [
       "                event_name  n_events  users  perc\n",
       "0         MainScreenAppear    117328   7419  98.5\n",
       "1       OffersScreenAppear     46333   4593  61.0\n",
       "2         CartScreenAppear     42303   3734  49.6\n",
       "3  PaymentScreenSuccessful     33918   3539  47.0\n",
       "4                 Tutorial      1005    840  11.1"
      ]
     },
     "execution_count": 27,
     "metadata": {},
     "output_type": "execute_result"
    }
   ],
   "source": [
    "events_users = filter_data.groupby('event_name').agg({'event_name':'count', 'device_id':'nunique'}).sort_values(by='device_id', ascending=False)\n",
    "events_users.columns = ['n_events', 'users']\n",
    "events_users = events_users.reset_index()\n",
    "\n",
    "# посчитаем долю тех, кто хоть раз совершил событие\n",
    "events_users['perc'] = (events_users['users'] / filter_users * 100).round(1) # доля хотя бы раз совершивших событие\n",
    "events_users"
   ]
  },
  {
   "cell_type": "markdown",
   "metadata": {},
   "source": [
    "Больше всего пользователей, открывших главный экран – 98,5%, в то время как меньше всего пользователей замечено на обучении – 11%."
   ]
  },
  {
   "cell_type": "markdown",
   "metadata": {},
   "source": [
    "**Предположим, в каком порядке происходят события. Посмотрим, все ли они выстраиваются в последовательную цепочку**"
   ]
  },
  {
   "cell_type": "markdown",
   "metadata": {},
   "source": [
    "Порядок событий:\n",
    "1. Туториал / Обучение\n",
    "2. Главный экран\n",
    "3. Оффер\n",
    "4. Корзина\n",
    "5. Оплата прошла успешно\n",
    "\n",
    "Скорее всего туториал только для новых пользователей и, вероятно, его можно не досматривать до конца или просто пролистать. **Для расчета воронки обучение считать не будем.** К тому же, пользователей, которые были зафиксированы на этом экране, всего 845."
   ]
  },
  {
   "cell_type": "code",
   "execution_count": 28,
   "metadata": {
    "scrolled": true
   },
   "outputs": [
    {
     "data": {
      "text/html": [
       "<div>\n",
       "<style scoped>\n",
       "    .dataframe tbody tr th:only-of-type {\n",
       "        vertical-align: middle;\n",
       "    }\n",
       "\n",
       "    .dataframe tbody tr th {\n",
       "        vertical-align: top;\n",
       "    }\n",
       "\n",
       "    .dataframe thead th {\n",
       "        text-align: right;\n",
       "    }\n",
       "</style>\n",
       "<table border=\"1\" class=\"dataframe\">\n",
       "  <thead>\n",
       "    <tr style=\"text-align: right;\">\n",
       "      <th></th>\n",
       "      <th>event_name</th>\n",
       "      <th>n_events</th>\n",
       "      <th>users</th>\n",
       "      <th>perc</th>\n",
       "    </tr>\n",
       "  </thead>\n",
       "  <tbody>\n",
       "    <tr>\n",
       "      <th>0</th>\n",
       "      <td>MainScreenAppear</td>\n",
       "      <td>117328</td>\n",
       "      <td>7419</td>\n",
       "      <td>98.5</td>\n",
       "    </tr>\n",
       "    <tr>\n",
       "      <th>1</th>\n",
       "      <td>OffersScreenAppear</td>\n",
       "      <td>46333</td>\n",
       "      <td>4593</td>\n",
       "      <td>61.0</td>\n",
       "    </tr>\n",
       "    <tr>\n",
       "      <th>2</th>\n",
       "      <td>CartScreenAppear</td>\n",
       "      <td>42303</td>\n",
       "      <td>3734</td>\n",
       "      <td>49.6</td>\n",
       "    </tr>\n",
       "    <tr>\n",
       "      <th>3</th>\n",
       "      <td>PaymentScreenSuccessful</td>\n",
       "      <td>33918</td>\n",
       "      <td>3539</td>\n",
       "      <td>47.0</td>\n",
       "    </tr>\n",
       "  </tbody>\n",
       "</table>\n",
       "</div>"
      ],
      "text/plain": [
       "                event_name  n_events  users  perc\n",
       "0         MainScreenAppear    117328   7419  98.5\n",
       "1       OffersScreenAppear     46333   4593  61.0\n",
       "2         CartScreenAppear     42303   3734  49.6\n",
       "3  PaymentScreenSuccessful     33918   3539  47.0"
      ]
     },
     "execution_count": 28,
     "metadata": {},
     "output_type": "execute_result"
    }
   ],
   "source": [
    "funnel = events_users[events_users['event_name'] != 'Tutorial']\n",
    "funnel"
   ]
  },
  {
   "cell_type": "markdown",
   "metadata": {},
   "source": [
    "**По воронке событий посчитаем, какая доля пользователей проходит на следующий шаг воронки**"
   ]
  },
  {
   "cell_type": "code",
   "execution_count": 29,
   "metadata": {
    "scrolled": true
   },
   "outputs": [
    {
     "data": {
      "text/html": [
       "<div>\n",
       "<style scoped>\n",
       "    .dataframe tbody tr th:only-of-type {\n",
       "        vertical-align: middle;\n",
       "    }\n",
       "\n",
       "    .dataframe tbody tr th {\n",
       "        vertical-align: top;\n",
       "    }\n",
       "\n",
       "    .dataframe thead th {\n",
       "        text-align: right;\n",
       "    }\n",
       "</style>\n",
       "<table border=\"1\" class=\"dataframe\">\n",
       "  <thead>\n",
       "    <tr style=\"text-align: right;\">\n",
       "      <th></th>\n",
       "      <th>event_name</th>\n",
       "      <th>n_events</th>\n",
       "      <th>users</th>\n",
       "      <th>perc</th>\n",
       "      <th>share_of_users</th>\n",
       "    </tr>\n",
       "  </thead>\n",
       "  <tbody>\n",
       "    <tr>\n",
       "      <th>0</th>\n",
       "      <td>MainScreenAppear</td>\n",
       "      <td>117328</td>\n",
       "      <td>7419</td>\n",
       "      <td>98.5</td>\n",
       "      <td>NaN</td>\n",
       "    </tr>\n",
       "    <tr>\n",
       "      <th>1</th>\n",
       "      <td>OffersScreenAppear</td>\n",
       "      <td>46333</td>\n",
       "      <td>4593</td>\n",
       "      <td>61.0</td>\n",
       "      <td>0.619086</td>\n",
       "    </tr>\n",
       "    <tr>\n",
       "      <th>2</th>\n",
       "      <td>CartScreenAppear</td>\n",
       "      <td>42303</td>\n",
       "      <td>3734</td>\n",
       "      <td>49.6</td>\n",
       "      <td>0.812976</td>\n",
       "    </tr>\n",
       "    <tr>\n",
       "      <th>3</th>\n",
       "      <td>PaymentScreenSuccessful</td>\n",
       "      <td>33918</td>\n",
       "      <td>3539</td>\n",
       "      <td>47.0</td>\n",
       "      <td>0.947777</td>\n",
       "    </tr>\n",
       "  </tbody>\n",
       "</table>\n",
       "</div>"
      ],
      "text/plain": [
       "                event_name  n_events  users  perc  share_of_users\n",
       "0         MainScreenAppear    117328   7419  98.5             NaN\n",
       "1       OffersScreenAppear     46333   4593  61.0        0.619086\n",
       "2         CartScreenAppear     42303   3734  49.6        0.812976\n",
       "3  PaymentScreenSuccessful     33918   3539  47.0        0.947777"
      ]
     },
     "execution_count": 29,
     "metadata": {},
     "output_type": "execute_result"
    }
   ],
   "source": [
    "warnings.filterwarnings('ignore')\n",
    "funnel['share_of_users'] = funnel['users']/funnel['users'].shift(1)\n",
    "funnel"
   ]
  },
  {
   "cell_type": "markdown",
   "metadata": {},
   "source": [
    "**Какая доля пользователей доходит от первого события до оплаты**"
   ]
  },
  {
   "cell_type": "code",
   "execution_count": 30,
   "metadata": {},
   "outputs": [
    {
     "data": {
      "text/plain": [
       "0.47701846610055265"
      ]
     },
     "execution_count": 30,
     "metadata": {},
     "output_type": "execute_result"
    }
   ],
   "source": [
    "funnel['users'][3]/funnel['users'][0]"
   ]
  },
  {
   "cell_type": "markdown",
   "metadata": {},
   "source": [
    "**Визуализируем воронку событий**"
   ]
  },
  {
   "cell_type": "code",
   "execution_count": 31,
   "metadata": {
    "scrolled": true
   },
   "outputs": [
    {
     "data": {
      "image/png": "[encoded data removed]"
     },
     "metadata": {},
     "output_type": "display_data"
    }
   ],
   "source": [
    "fig = go.Figure(go.Funnel(\n",
    "    y = funnel['event_name'],\n",
    "    x = funnel['users'],\n",
    "    textinfo = \"value+percent initial + percent previous\"))\n",
    "fig.show()"
   ]
  },
  {
   "cell_type": "markdown",
   "metadata": {},
   "source": [
    "Мы рассчитали, какая доля пользователей доходит до следующего шага воронки и какая доля пользователей доходит от первого события до оплаты. Мы видим, что:\n",
    "* **Больше всего людей отсеивается после главного экрана.** До экрана с оффером переходит 62% пользователей.\n",
    "* На следующих шагах мы теряем меньшее количество пользователей. С оффера на корзину переходит 81% пользователей, а с корзины на успешную оплату проходят 95% пользователей.\n",
    "* **До оплаты с первого шага (с главного экрана) доходит 47,7% пользователей**."
   ]
  },
  {
   "cell_type": "markdown",
   "metadata": {},
   "source": [
    "## 5. Изучим результаты эксперимента"
   ]
  },
  {
   "cell_type": "markdown",
   "metadata": {},
   "source": [
    "**Узнаем, сколько пользователей в каждой экспериментальной группе?**"
   ]
  },
  {
   "cell_type": "code",
   "execution_count": 32,
   "metadata": {
    "scrolled": false
   },
   "outputs": [
    {
     "data": {
      "text/html": [
       "<div>\n",
       "<style scoped>\n",
       "    .dataframe tbody tr th:only-of-type {\n",
       "        vertical-align: middle;\n",
       "    }\n",
       "\n",
       "    .dataframe tbody tr th {\n",
       "        vertical-align: top;\n",
       "    }\n",
       "\n",
       "    .dataframe thead th {\n",
       "        text-align: right;\n",
       "    }\n",
       "</style>\n",
       "<table border=\"1\" class=\"dataframe\">\n",
       "  <thead>\n",
       "    <tr style=\"text-align: right;\">\n",
       "      <th></th>\n",
       "      <th>device_id</th>\n",
       "    </tr>\n",
       "    <tr>\n",
       "      <th>exp_id</th>\n",
       "      <th></th>\n",
       "    </tr>\n",
       "  </thead>\n",
       "  <tbody>\n",
       "    <tr>\n",
       "      <th>246</th>\n",
       "      <td>2484</td>\n",
       "    </tr>\n",
       "    <tr>\n",
       "      <th>247</th>\n",
       "      <td>2513</td>\n",
       "    </tr>\n",
       "    <tr>\n",
       "      <th>248</th>\n",
       "      <td>2537</td>\n",
       "    </tr>\n",
       "    <tr>\n",
       "      <th>246+247</th>\n",
       "      <td>4997</td>\n",
       "    </tr>\n",
       "  </tbody>\n",
       "</table>\n",
       "</div>"
      ],
      "text/plain": [
       "         device_id\n",
       "exp_id            \n",
       "246           2484\n",
       "247           2513\n",
       "248           2537\n",
       "246+247       4997"
      ]
     },
     "execution_count": 32,
     "metadata": {},
     "output_type": "execute_result"
    }
   ],
   "source": [
    "users = filter_data.groupby('exp_id')['device_id'].nunique()\n",
    "users['246+247'] = users[246] + users[247] \n",
    "users.to_frame()"
   ]
  },
  {
   "cell_type": "markdown",
   "metadata": {},
   "source": [
    "**У нас есть 2 контрольные группы для А/А-эксперимента, чтобы проверить корректность всех механизмов и расчётов. Проверим, находят ли статистические критерии разницу между выборками 246 и 247.**"
   ]
  },
  {
   "cell_type": "markdown",
   "metadata": {},
   "source": [
    "Критерии успешного A/A-теста:\n",
    "1. Количество пользователей в различных группах различается не более, чем на 1%;\n",
    "2. Для всех групп фиксируют и отправляют в системы аналитики данные об одном и том же;\n",
    "3. Различие ключевых метрик по группам не превышает 1% и не имеет статистической значимости;\n",
    "4. Попавший в одну из групп посетитель остаётся в этой группе до конца теста. Если пользователь видит разные версии исследуемой страницы в ходе одного исследования, неизвестно, какая именно повлияла на его решения. Значит, и результаты такого теста нельзя интерпретировать однозначно.\n"
   ]
  },
  {
   "cell_type": "code",
   "execution_count": 33,
   "metadata": {
    "scrolled": true
   },
   "outputs": [
    {
     "data": {
      "text/html": [
       "<div>\n",
       "<style scoped>\n",
       "    .dataframe tbody tr th:only-of-type {\n",
       "        vertical-align: middle;\n",
       "    }\n",
       "\n",
       "    .dataframe tbody tr th {\n",
       "        vertical-align: top;\n",
       "    }\n",
       "\n",
       "    .dataframe thead th {\n",
       "        text-align: right;\n",
       "    }\n",
       "</style>\n",
       "<table border=\"1\" class=\"dataframe\">\n",
       "  <thead>\n",
       "    <tr style=\"text-align: right;\">\n",
       "      <th>exp_id</th>\n",
       "      <th>event_name</th>\n",
       "      <th>246</th>\n",
       "      <th>247</th>\n",
       "      <th>248</th>\n",
       "      <th>part_246</th>\n",
       "      <th>part_247</th>\n",
       "      <th>part_248</th>\n",
       "    </tr>\n",
       "  </thead>\n",
       "  <tbody>\n",
       "    <tr>\n",
       "      <th>0</th>\n",
       "      <td>MainScreenAppear</td>\n",
       "      <td>2450</td>\n",
       "      <td>2476</td>\n",
       "      <td>2493</td>\n",
       "      <td>98.6</td>\n",
       "      <td>98.5</td>\n",
       "      <td>98.3</td>\n",
       "    </tr>\n",
       "    <tr>\n",
       "      <th>1</th>\n",
       "      <td>OffersScreenAppear</td>\n",
       "      <td>1542</td>\n",
       "      <td>1520</td>\n",
       "      <td>1531</td>\n",
       "      <td>62.1</td>\n",
       "      <td>60.5</td>\n",
       "      <td>60.3</td>\n",
       "    </tr>\n",
       "    <tr>\n",
       "      <th>2</th>\n",
       "      <td>CartScreenAppear</td>\n",
       "      <td>1266</td>\n",
       "      <td>1238</td>\n",
       "      <td>1230</td>\n",
       "      <td>51.0</td>\n",
       "      <td>49.3</td>\n",
       "      <td>48.5</td>\n",
       "    </tr>\n",
       "    <tr>\n",
       "      <th>3</th>\n",
       "      <td>PaymentScreenSuccessful</td>\n",
       "      <td>1200</td>\n",
       "      <td>1158</td>\n",
       "      <td>1181</td>\n",
       "      <td>48.3</td>\n",
       "      <td>46.1</td>\n",
       "      <td>46.6</td>\n",
       "    </tr>\n",
       "  </tbody>\n",
       "</table>\n",
       "</div>"
      ],
      "text/plain": [
       "exp_id               event_name   246   247   248  part_246  part_247  \\\n",
       "0              MainScreenAppear  2450  2476  2493      98.6      98.5   \n",
       "1            OffersScreenAppear  1542  1520  1531      62.1      60.5   \n",
       "2              CartScreenAppear  1266  1238  1230      51.0      49.3   \n",
       "3       PaymentScreenSuccessful  1200  1158  1181      48.3      46.1   \n",
       "\n",
       "exp_id  part_248  \n",
       "0           98.3  \n",
       "1           60.3  \n",
       "2           48.5  \n",
       "3           46.6  "
      ]
     },
     "execution_count": 33,
     "metadata": {},
     "output_type": "execute_result"
    }
   ],
   "source": [
    "# соберем в отдельный датафрэйм информацию по каждой группе и событиям\n",
    "# добавим долю пользователей, совершивших это событие\n",
    "events_group = filter_data[filter_data['event_name']!='Tutorial'].pivot_table(index='event_name', columns='exp_id',values='device_id',aggfunc='nunique')\\\n",
    "                          .sort_values(246,ascending=False)\n",
    "events_group['part_246'] = (events_group[246] / users[246] * 100).round(1)\n",
    "events_group['part_247'] = (events_group[247] / users[247] * 100).round(1)\n",
    "events_group['part_248'] = (events_group[248] / users[248] * 100).round(1)\n",
    "events_group = events_group.reset_index()\n",
    "events_group"
   ]
  },
  {
   "cell_type": "markdown",
   "metadata": {},
   "source": [
    "**Определим, какое событие было самым популярным**"
   ]
  },
  {
   "cell_type": "markdown",
   "metadata": {},
   "source": [
    "Самое популярное событие - **MainScreenAppear**.\\\n",
    "**Всего 7429 пользователей совершили это дейсвтвие.** В разбивке по группам:\n",
    "* 246 группа – 2452 пользователей\n",
    "* 247 группа – 2479 пользователей\n",
    "* 248 группа – 2498 пользователей\n",
    "\n",
    "**Посмотрим на долю пользователей**, совершивших это событие в разбивке по группам:\n",
    "* 246 группа – 98.7% пользователей\n",
    "* 247 группа – 98.5% пользователей\n",
    "* 248 группа – 98.3% пользователей"
   ]
  },
  {
   "cell_type": "markdown",
   "metadata": {},
   "source": [
    "**Проведём z-тест и проверим гипотезу о равенстве групп (246 и 247) или А/А-тест**"
   ]
  },
  {
   "cell_type": "markdown",
   "metadata": {},
   "source": [
    "Гипотезы:\\\n",
    "H0 - Доли пользователей, совершивших события, в группах 246 и 247 равны.\\\n",
    "H1 - Доли пользователей, совершивших события, в группах 246 и 247 не равны."
   ]
  },
  {
   "cell_type": "markdown",
   "metadata": {},
   "source": [
    "**Введём функцию для расчета z-теста, которая будет на вход принимать следующие параметры: 1 группа, 2 группа и уровень статистической значимости**"
   ]
  },
  {
   "cell_type": "code",
   "execution_count": 34,
   "metadata": {},
   "outputs": [],
   "source": [
    "def z_test (group_1, group_2, alpha):\n",
    "    for i in events_group.index:\n",
    "        # пропорция успехов в первой группе:\n",
    "        p1 = events_group[group_1]/users[group_1]\n",
    "        # пропорция успехов во второй группе:\n",
    "        p2 = events_group[group_2]/users[group_2]\n",
    "        # пропорция успехов в комбинированном датасете:\n",
    "        p_combined = ((events_group[group_1] + events_group[group_2]) / (users[group_1] + users[group_2]))\n",
    "        \n",
    "        # разница пропорций в датасетах\n",
    "        difference = p1 - p2 \n",
    "        \n",
    "        # считаем статистику в ст.отклонениях стандартного нормального распределения\n",
    "        z_value = difference[i] / mth.sqrt(p_combined[i] * (1 - p_combined[i]) * (1/users[group_1] + 1/users[group_2]))\n",
    "        \n",
    "        # задаем стандартное нормальное распределение (среднее 0, ст.отклонение 1)\n",
    "        distr = stats.norm(0, 1)  \n",
    "        p_value = (1 - distr.cdf(abs(z_value))) * 2\n",
    "        print('Для', events_group['event_name'][i], 'p-значение: ', p_value)\n",
    "        if p_value < alpha:\n",
    "            print('Отвергаем нулевую гипотезу: между долями есть значимая разница')\n",
    "        else:\n",
    "            print('Не получилось отвергнуть нулевую гипотезу, нет оснований считать доли разными') "
   ]
  },
  {
   "cell_type": "markdown",
   "metadata": {},
   "source": [
    "**Функция готова, переходим к z-тесту для групп 246 и 247**"
   ]
  },
  {
   "cell_type": "code",
   "execution_count": 35,
   "metadata": {},
   "outputs": [
    {
     "name": "stdout",
     "output_type": "stream",
     "text": [
      "Для MainScreenAppear p-значение:  0.7570597232046099\n",
      "Не получилось отвергнуть нулевую гипотезу, нет оснований считать доли разными\n",
      "Для OffersScreenAppear p-значение:  0.2480954578522181\n",
      "Не получилось отвергнуть нулевую гипотезу, нет оснований считать доли разными\n",
      "Для CartScreenAppear p-значение:  0.22883372237997213\n",
      "Не получилось отвергнуть нулевую гипотезу, нет оснований считать доли разными\n",
      "Для PaymentScreenSuccessful p-значение:  0.11456679313141849\n",
      "Не получилось отвергнуть нулевую гипотезу, нет оснований считать доли разными\n"
     ]
    }
   ],
   "source": [
    "z_test(246,247,0.01)"
   ]
  },
  {
   "cell_type": "markdown",
   "metadata": {},
   "source": [
    "Мы провели z-тест и результат теста показал, что **статистически значимых различий между долями пользователей в этих группах нет**. Значит, группы сформированны корректно."
   ]
  },
  {
   "cell_type": "markdown",
   "metadata": {},
   "source": [
    "**Проведём z-тест и проверим гипотезу о равенстве долей 246 и 248, 247 и 248, а также объединенные группы 246+247 и 248**"
   ]
  },
  {
   "cell_type": "markdown",
   "metadata": {},
   "source": [
    "Для дальнейшего исследования нам понадобятся результаты объединённой контрольной группы. Добавим столбец в датафрэйм events_group"
   ]
  },
  {
   "cell_type": "code",
   "execution_count": 36,
   "metadata": {},
   "outputs": [
    {
     "data": {
      "text/html": [
       "<div>\n",
       "<style scoped>\n",
       "    .dataframe tbody tr th:only-of-type {\n",
       "        vertical-align: middle;\n",
       "    }\n",
       "\n",
       "    .dataframe tbody tr th {\n",
       "        vertical-align: top;\n",
       "    }\n",
       "\n",
       "    .dataframe thead th {\n",
       "        text-align: right;\n",
       "    }\n",
       "</style>\n",
       "<table border=\"1\" class=\"dataframe\">\n",
       "  <thead>\n",
       "    <tr style=\"text-align: right;\">\n",
       "      <th>exp_id</th>\n",
       "      <th>event_name</th>\n",
       "      <th>246</th>\n",
       "      <th>247</th>\n",
       "      <th>248</th>\n",
       "      <th>part_246</th>\n",
       "      <th>part_247</th>\n",
       "      <th>part_248</th>\n",
       "      <th>246+247</th>\n",
       "    </tr>\n",
       "  </thead>\n",
       "  <tbody>\n",
       "    <tr>\n",
       "      <th>0</th>\n",
       "      <td>MainScreenAppear</td>\n",
       "      <td>2450</td>\n",
       "      <td>2476</td>\n",
       "      <td>2493</td>\n",
       "      <td>98.6</td>\n",
       "      <td>98.5</td>\n",
       "      <td>98.3</td>\n",
       "      <td>4926</td>\n",
       "    </tr>\n",
       "    <tr>\n",
       "      <th>1</th>\n",
       "      <td>OffersScreenAppear</td>\n",
       "      <td>1542</td>\n",
       "      <td>1520</td>\n",
       "      <td>1531</td>\n",
       "      <td>62.1</td>\n",
       "      <td>60.5</td>\n",
       "      <td>60.3</td>\n",
       "      <td>3062</td>\n",
       "    </tr>\n",
       "    <tr>\n",
       "      <th>2</th>\n",
       "      <td>CartScreenAppear</td>\n",
       "      <td>1266</td>\n",
       "      <td>1238</td>\n",
       "      <td>1230</td>\n",
       "      <td>51.0</td>\n",
       "      <td>49.3</td>\n",
       "      <td>48.5</td>\n",
       "      <td>2504</td>\n",
       "    </tr>\n",
       "    <tr>\n",
       "      <th>3</th>\n",
       "      <td>PaymentScreenSuccessful</td>\n",
       "      <td>1200</td>\n",
       "      <td>1158</td>\n",
       "      <td>1181</td>\n",
       "      <td>48.3</td>\n",
       "      <td>46.1</td>\n",
       "      <td>46.6</td>\n",
       "      <td>2358</td>\n",
       "    </tr>\n",
       "  </tbody>\n",
       "</table>\n",
       "</div>"
      ],
      "text/plain": [
       "exp_id               event_name   246   247   248  part_246  part_247  \\\n",
       "0              MainScreenAppear  2450  2476  2493      98.6      98.5   \n",
       "1            OffersScreenAppear  1542  1520  1531      62.1      60.5   \n",
       "2              CartScreenAppear  1266  1238  1230      51.0      49.3   \n",
       "3       PaymentScreenSuccessful  1200  1158  1181      48.3      46.1   \n",
       "\n",
       "exp_id  part_248  246+247  \n",
       "0           98.3     4926  \n",
       "1           60.3     3062  \n",
       "2           48.5     2504  \n",
       "3           46.6     2358  "
      ]
     },
     "execution_count": 36,
     "metadata": {},
     "output_type": "execute_result"
    }
   ],
   "source": [
    "events_group['246+247'] = events_group[246] + events_group[247]\n",
    "events_group"
   ]
  },
  {
   "cell_type": "markdown",
   "metadata": {},
   "source": [
    "**A1/B-эксперимент (проверим гипотезу о равенстве долей в группах 246 и 248)**"
   ]
  },
  {
   "cell_type": "code",
   "execution_count": 37,
   "metadata": {},
   "outputs": [
    {
     "name": "stdout",
     "output_type": "stream",
     "text": [
      "Для MainScreenAppear p-значение:  0.2949721933554552\n",
      "Не получилось отвергнуть нулевую гипотезу, нет оснований считать доли разными\n",
      "Для OffersScreenAppear p-значение:  0.20836205402738917\n",
      "Не получилось отвергнуть нулевую гипотезу, нет оснований считать доли разными\n",
      "Для CartScreenAppear p-значение:  0.07842923237520116\n",
      "Не получилось отвергнуть нулевую гипотезу, нет оснований считать доли разными\n",
      "Для PaymentScreenSuccessful p-значение:  0.2122553275697796\n",
      "Не получилось отвергнуть нулевую гипотезу, нет оснований считать доли разными\n"
     ]
    }
   ],
   "source": [
    "z_test(246,248,0.05)"
   ]
  },
  {
   "cell_type": "markdown",
   "metadata": {},
   "source": [
    "z-тест для групп 246 и 248 показал, что статистически значимых различий между долями пользователей нет. "
   ]
  },
  {
   "cell_type": "markdown",
   "metadata": {},
   "source": [
    "**A2/B-эксперимент (проверим гипотезу о равенстве долей в группах 247 и 248)**"
   ]
  },
  {
   "cell_type": "code",
   "execution_count": 38,
   "metadata": {},
   "outputs": [
    {
     "name": "stdout",
     "output_type": "stream",
     "text": [
      "Для MainScreenAppear p-значение:  0.4587053616621515\n",
      "Не получилось отвергнуть нулевую гипотезу, нет оснований считать доли разными\n",
      "Для OffersScreenAppear p-значение:  0.9197817830592261\n",
      "Не получилось отвергнуть нулевую гипотезу, нет оснований считать доли разными\n",
      "Для CartScreenAppear p-значение:  0.5786197879539783\n",
      "Не получилось отвергнуть нулевую гипотезу, нет оснований считать доли разными\n",
      "Для PaymentScreenSuccessful p-значение:  0.7373415053803964\n",
      "Не получилось отвергнуть нулевую гипотезу, нет оснований считать доли разными\n"
     ]
    }
   ],
   "source": [
    "z_test(247,248,0.05)"
   ]
  },
  {
   "cell_type": "markdown",
   "metadata": {},
   "source": [
    "z-тест для групп 247 и 248 показал, что статистически значимых различий между долями пользователей в этих группах нет."
   ]
  },
  {
   "cell_type": "markdown",
   "metadata": {},
   "source": [
    "**A1+A2/B-эксперимент (проверим гипотезу о равенстве долей в группах 246+247 и 248)**"
   ]
  },
  {
   "cell_type": "code",
   "execution_count": 39,
   "metadata": {},
   "outputs": [
    {
     "name": "stdout",
     "output_type": "stream",
     "text": [
      "Для MainScreenAppear p-значение:  0.29424526837179577\n",
      "Не получилось отвергнуть нулевую гипотезу, нет оснований считать доли разными\n",
      "Для OffersScreenAppear p-значение:  0.43425549655188256\n",
      "Не получилось отвергнуть нулевую гипотезу, нет оснований считать доли разными\n",
      "Для CartScreenAppear p-значение:  0.18175875284404386\n",
      "Не получилось отвергнуть нулевую гипотезу, нет оснований считать доли разными\n",
      "Для PaymentScreenSuccessful p-значение:  0.6004294282308704\n",
      "Не получилось отвергнуть нулевую гипотезу, нет оснований считать доли разными\n"
     ]
    }
   ],
   "source": [
    "z_test('246+247',248,0.05)"
   ]
  },
  {
   "cell_type": "markdown",
   "metadata": {},
   "source": [
    "z-тест для групп 246+247 и 248 показал, что статистически значимых различий между долями в группах нет."
   ]
  },
  {
   "cell_type": "markdown",
   "metadata": {},
   "source": [
    "**Мы провели несколько z-тестов: 4 A/A и 16 A/B-тестов.**\n",
    "* Так как группы A/A-теста должны быть одинаковые, контроль должен быть более строгий. Именно поэтому мы выбрали уровень статистической значимости, равный 1%, при проверке статистических гипотез групп А/А-теста. \n",
    "* Для A1/B, A2/B, A1+A2/B-тестов мы выбрали уровень статистической - 5%. Все тесты показали, что статистически значимых различий между долями пользователей в этих группах нет."
   ]
  },
  {
   "cell_type": "markdown",
   "metadata": {},
   "source": [
    "## 6. Общие выводы "
   ]
  },
  {
   "cell_type": "markdown",
   "metadata": {},
   "source": [
    "Мы провели исследование, чтобы разобраться, как ведут себя пользователи мобильного приложения магазина продуктов питания и какой шрифт для приложения более привлекательный для наших клиентов: привычный или новый. Для теста пользователей разбили на 3 группы: 2 контрольные со старыми шрифтами и одну экспериментальную — с новыми.\n",
    "\n",
    "1. **Мы изучили и проверили данные.** Данные за все даты нам оказались не нужны, так как они были не одинаково полными. Так что мы располагали информацией за одну неделю: 1 - 7 августа 2019 года. Мы проверили и убедились в том, что у нас есть пользователи из всех трёх экспериментальных групп. Они практически равно распределены по группам и нет таких пользователей, которые бы попали в несколько групп одновременно.\n",
    "2. **Далее мы изучили воронку событий.** В логах оказалось всего 5 событий, которые предположительно идут в таком порядке: Tutorial (обучение) -> MainScreenAppear (главный экран) -> OffersScreenAppear (экран с офферами) -> CartScreenAppear (экран с корзиной) -> PaymentScreenSuccessful (экран с успешной оплатой). Наиболее часто встречающийся – главный экран. Так же мы предположили, что скорее всего туториал показывается только для новых пользователей и, вероятно, его можно не досматривать до конца или просто пролистать. Для расчета воронки обучение считать не стали (при этом не потеряв данные).\n",
    "3. Мы рассчитали, какая доля пользователей доходит до следующего шага воронки и какая доля пользователей доходит от первого события до оплаты. Выяснили, что:\n",
    "* **Больше всего людей отсеивается после главного экрана.** До экрана с оффером переходит 62% пользователей.\n",
    "* На следующих шагах мы теряем меньшее количество пользователей. С оффера на корзину переходит 81% пользователей, а с корзины на успешную оплату проходят 95% пользователей.\n",
    "* **До оплаты с первого шага (с главного экрана) доходит 47,7% пользователей.**\n",
    "4. Затем мы провели 4 А1/А2 и 16 А1/А2/В-теста и выяснили, что **статичтически значимых различий между группами нет**.\n",
    "\n",
    "На основе полученных данных, можно предположить, что **изменение шрифта в мобильном приложении не влияет на поведение пользователей**. Сейчас много пользователей отсеивается на этапе перехода с главного экрана, возможно, этот момент нужно изучить более детально - все ли работает корректно и понятно для пользователя."
   ]
  }
 ],
 "metadata": {
  "ExecuteTimeLog": [
   {
    "duration": 603,
    "start_time": "2022-09-19T12:06:41.908Z"
   },
   {
    "duration": 883,
    "start_time": "2022-09-19T12:07:36.699Z"
   },
   {
    "duration": 597,
    "start_time": "2022-09-19T12:07:56.722Z"
   },
   {
    "duration": 137,
    "start_time": "2022-09-19T12:08:22.779Z"
   },
   {
    "duration": 97,
    "start_time": "2022-09-19T12:08:28.146Z"
   },
   {
    "duration": 4,
    "start_time": "2022-09-19T12:09:48.750Z"
   },
   {
    "duration": 282,
    "start_time": "2022-09-19T12:09:58.000Z"
   },
   {
    "duration": 148,
    "start_time": "2022-09-19T12:10:04.253Z"
   },
   {
    "duration": 19,
    "start_time": "2022-09-19T12:11:25.058Z"
   },
   {
    "duration": 40,
    "start_time": "2022-09-19T12:11:43.400Z"
   },
   {
    "duration": 15,
    "start_time": "2022-09-19T12:12:14.367Z"
   },
   {
    "duration": 54,
    "start_time": "2022-09-19T12:13:14.606Z"
   },
   {
    "duration": 11,
    "start_time": "2022-09-19T12:21:38.509Z"
   },
   {
    "duration": 2616,
    "start_time": "2022-09-19T12:24:45.699Z"
   },
   {
    "duration": 1095,
    "start_time": "2022-09-19T12:24:58.300Z"
   },
   {
    "duration": 183,
    "start_time": "2022-09-19T12:24:59.397Z"
   },
   {
    "duration": 18,
    "start_time": "2022-09-19T12:24:59.582Z"
   },
   {
    "duration": 23,
    "start_time": "2022-09-19T12:24:59.602Z"
   },
   {
    "duration": 66,
    "start_time": "2022-09-19T12:24:59.627Z"
   },
   {
    "duration": 30,
    "start_time": "2022-09-19T12:24:59.695Z"
   },
   {
    "duration": 3099,
    "start_time": "2022-09-19T12:24:59.727Z"
   },
   {
    "duration": 8,
    "start_time": "2022-09-19T12:29:37.907Z"
   },
   {
    "duration": 6225,
    "start_time": "2022-09-19T12:34:24.723Z"
   },
   {
    "duration": 6670,
    "start_time": "2022-09-19T12:34:50.203Z"
   },
   {
    "duration": 1089,
    "start_time": "2022-09-19T12:35:06.968Z"
   },
   {
    "duration": 167,
    "start_time": "2022-09-19T12:35:08.058Z"
   },
   {
    "duration": 19,
    "start_time": "2022-09-19T12:35:08.227Z"
   },
   {
    "duration": 13,
    "start_time": "2022-09-19T12:35:08.249Z"
   },
   {
    "duration": 81,
    "start_time": "2022-09-19T12:35:08.263Z"
   },
   {
    "duration": 13,
    "start_time": "2022-09-19T12:35:08.345Z"
   },
   {
    "duration": 2563,
    "start_time": "2022-09-19T12:35:08.360Z"
   },
   {
    "duration": 4,
    "start_time": "2022-09-19T12:37:14.675Z"
   },
   {
    "duration": 12,
    "start_time": "2022-09-19T12:37:24.155Z"
   },
   {
    "duration": 45,
    "start_time": "2022-09-19T12:37:46.129Z"
   },
   {
    "duration": 11,
    "start_time": "2022-09-19T12:37:49.400Z"
   },
   {
    "duration": 75,
    "start_time": "2022-09-19T12:40:04.391Z"
   },
   {
    "duration": 14,
    "start_time": "2022-09-19T12:40:08.304Z"
   },
   {
    "duration": 116,
    "start_time": "2022-09-19T12:48:39.079Z"
   },
   {
    "duration": 9,
    "start_time": "2022-09-19T12:48:42.446Z"
   },
   {
    "duration": 4,
    "start_time": "2022-09-19T12:49:38.937Z"
   },
   {
    "duration": 7,
    "start_time": "2022-09-19T12:51:02.194Z"
   },
   {
    "duration": 7,
    "start_time": "2022-09-19T12:51:07.427Z"
   },
   {
    "duration": 10,
    "start_time": "2022-09-19T12:51:19.048Z"
   },
   {
    "duration": 5,
    "start_time": "2022-09-19T12:51:29.595Z"
   },
   {
    "duration": 279,
    "start_time": "2022-09-19T12:52:48.121Z"
   },
   {
    "duration": 272,
    "start_time": "2022-09-19T12:53:07.208Z"
   },
   {
    "duration": 98,
    "start_time": "2022-09-19T12:58:00.700Z"
   },
   {
    "duration": 83,
    "start_time": "2022-09-19T12:58:10.003Z"
   },
   {
    "duration": 21,
    "start_time": "2022-09-19T12:58:12.521Z"
   },
   {
    "duration": 120,
    "start_time": "2022-09-19T12:58:20.665Z"
   },
   {
    "duration": 11,
    "start_time": "2022-09-19T13:00:39.679Z"
   },
   {
    "duration": 118,
    "start_time": "2022-09-19T13:01:02.598Z"
   },
   {
    "duration": 4,
    "start_time": "2022-09-19T13:01:11.398Z"
   },
   {
    "duration": 4,
    "start_time": "2022-09-19T13:02:42.816Z"
   },
   {
    "duration": 3,
    "start_time": "2022-09-19T13:02:51.708Z"
   },
   {
    "duration": 127,
    "start_time": "2022-09-19T13:02:59.390Z"
   },
   {
    "duration": 227,
    "start_time": "2022-09-19T13:03:06.358Z"
   },
   {
    "duration": 4,
    "start_time": "2022-09-19T13:03:10.307Z"
   },
   {
    "duration": 3,
    "start_time": "2022-09-19T13:03:17.100Z"
   },
   {
    "duration": 9,
    "start_time": "2022-09-19T13:04:02.653Z"
   },
   {
    "duration": 69,
    "start_time": "2022-09-19T13:04:09.329Z"
   },
   {
    "duration": 28,
    "start_time": "2022-09-19T13:04:56.088Z"
   },
   {
    "duration": 6,
    "start_time": "2022-09-19T13:05:23.223Z"
   },
   {
    "duration": 27,
    "start_time": "2022-09-19T13:06:36.597Z"
   },
   {
    "duration": 11,
    "start_time": "2022-09-19T13:08:32.700Z"
   },
   {
    "duration": 6,
    "start_time": "2022-09-19T13:08:35.526Z"
   },
   {
    "duration": 15,
    "start_time": "2022-09-19T13:10:47.155Z"
   },
   {
    "duration": 16,
    "start_time": "2022-09-19T13:10:53.509Z"
   },
   {
    "duration": 1898,
    "start_time": "2022-09-19T13:11:06.899Z"
   },
   {
    "duration": 1150,
    "start_time": "2022-09-19T13:11:14.804Z"
   },
   {
    "duration": 163,
    "start_time": "2022-09-19T13:11:15.956Z"
   },
   {
    "duration": 18,
    "start_time": "2022-09-19T13:11:16.120Z"
   },
   {
    "duration": 13,
    "start_time": "2022-09-19T13:11:16.140Z"
   },
   {
    "duration": 77,
    "start_time": "2022-09-19T13:11:16.154Z"
   },
   {
    "duration": 10,
    "start_time": "2022-09-19T13:11:16.233Z"
   },
   {
    "duration": 125,
    "start_time": "2022-09-19T13:11:16.244Z"
   },
   {
    "duration": 14,
    "start_time": "2022-09-19T13:11:16.371Z"
   },
   {
    "duration": 172,
    "start_time": "2022-09-19T13:11:16.387Z"
   },
   {
    "duration": 29,
    "start_time": "2022-09-19T13:11:16.561Z"
   },
   {
    "duration": 19,
    "start_time": "2022-09-19T13:11:16.591Z"
   },
   {
    "duration": 180,
    "start_time": "2022-09-19T13:11:16.611Z"
   },
   {
    "duration": 0,
    "start_time": "2022-09-19T13:11:16.793Z"
   },
   {
    "duration": 26,
    "start_time": "2022-09-19T13:11:44.209Z"
   },
   {
    "duration": 8,
    "start_time": "2022-09-19T13:12:17.468Z"
   },
   {
    "duration": 8,
    "start_time": "2022-09-19T13:13:01.852Z"
   },
   {
    "duration": 7,
    "start_time": "2022-09-19T13:15:03.497Z"
   },
   {
    "duration": 44,
    "start_time": "2022-09-19T13:15:09.463Z"
   },
   {
    "duration": 105,
    "start_time": "2022-09-19T13:15:31.948Z"
   },
   {
    "duration": 129,
    "start_time": "2022-09-19T13:15:55.052Z"
   },
   {
    "duration": 8,
    "start_time": "2022-09-19T13:15:59.230Z"
   },
   {
    "duration": 11,
    "start_time": "2022-09-19T13:31:26.311Z"
   },
   {
    "duration": 25,
    "start_time": "2022-09-19T13:31:40.344Z"
   },
   {
    "duration": 12,
    "start_time": "2022-09-19T13:31:46.310Z"
   },
   {
    "duration": 1051,
    "start_time": "2022-09-19T13:31:58.004Z"
   },
   {
    "duration": 159,
    "start_time": "2022-09-19T13:31:59.057Z"
   },
   {
    "duration": 21,
    "start_time": "2022-09-19T13:31:59.217Z"
   },
   {
    "duration": 14,
    "start_time": "2022-09-19T13:31:59.240Z"
   },
   {
    "duration": 75,
    "start_time": "2022-09-19T13:31:59.255Z"
   },
   {
    "duration": 9,
    "start_time": "2022-09-19T13:31:59.331Z"
   },
   {
    "duration": 14,
    "start_time": "2022-09-19T13:31:59.341Z"
   },
   {
    "duration": 17,
    "start_time": "2022-09-19T13:31:59.356Z"
   },
   {
    "duration": 81,
    "start_time": "2022-09-19T13:31:59.375Z"
   },
   {
    "duration": 28,
    "start_time": "2022-09-19T13:31:59.459Z"
   },
   {
    "duration": 22,
    "start_time": "2022-09-19T13:31:59.489Z"
   },
   {
    "duration": 6,
    "start_time": "2022-09-19T13:31:59.513Z"
   },
   {
    "duration": 120,
    "start_time": "2022-09-19T13:31:59.520Z"
   },
   {
    "duration": 5,
    "start_time": "2022-09-19T13:34:45.570Z"
   },
   {
    "duration": 23,
    "start_time": "2022-09-19T13:38:51.255Z"
   },
   {
    "duration": 21,
    "start_time": "2022-09-19T13:39:21.325Z"
   },
   {
    "duration": 1068,
    "start_time": "2022-09-19T13:39:28.283Z"
   },
   {
    "duration": 162,
    "start_time": "2022-09-19T13:39:29.353Z"
   },
   {
    "duration": 19,
    "start_time": "2022-09-19T13:39:29.517Z"
   },
   {
    "duration": 13,
    "start_time": "2022-09-19T13:39:29.539Z"
   },
   {
    "duration": 81,
    "start_time": "2022-09-19T13:39:29.554Z"
   },
   {
    "duration": 9,
    "start_time": "2022-09-19T13:39:29.637Z"
   },
   {
    "duration": 22,
    "start_time": "2022-09-19T13:39:29.648Z"
   },
   {
    "duration": 20,
    "start_time": "2022-09-19T13:39:29.671Z"
   },
   {
    "duration": 89,
    "start_time": "2022-09-19T13:39:29.709Z"
   },
   {
    "duration": 30,
    "start_time": "2022-09-19T13:39:29.809Z"
   },
   {
    "duration": 8,
    "start_time": "2022-09-19T13:39:29.841Z"
   },
   {
    "duration": 8,
    "start_time": "2022-09-19T13:39:29.850Z"
   },
   {
    "duration": 67,
    "start_time": "2022-09-19T13:39:29.859Z"
   },
   {
    "duration": 15,
    "start_time": "2022-09-19T13:44:07.682Z"
   },
   {
    "duration": 62,
    "start_time": "2022-09-19T13:44:57.302Z"
   },
   {
    "duration": 1057,
    "start_time": "2022-09-19T13:47:26.089Z"
   },
   {
    "duration": 159,
    "start_time": "2022-09-19T13:47:27.147Z"
   },
   {
    "duration": 19,
    "start_time": "2022-09-19T13:47:27.307Z"
   },
   {
    "duration": 7,
    "start_time": "2022-09-19T13:47:27.328Z"
   },
   {
    "duration": 22,
    "start_time": "2022-09-19T13:47:27.336Z"
   },
   {
    "duration": 18,
    "start_time": "2022-09-19T13:47:27.359Z"
   },
   {
    "duration": 35,
    "start_time": "2022-09-19T13:47:27.379Z"
   },
   {
    "duration": 75,
    "start_time": "2022-09-19T13:47:27.415Z"
   },
   {
    "duration": 98,
    "start_time": "2022-09-19T13:47:27.491Z"
   },
   {
    "duration": 36,
    "start_time": "2022-09-19T13:47:27.592Z"
   },
   {
    "duration": 6,
    "start_time": "2022-09-19T13:47:27.630Z"
   },
   {
    "duration": 6,
    "start_time": "2022-09-19T13:47:27.637Z"
   },
   {
    "duration": 36,
    "start_time": "2022-09-19T13:47:27.644Z"
   },
   {
    "duration": 5,
    "start_time": "2022-09-19T13:49:40.437Z"
   },
   {
    "duration": 107,
    "start_time": "2022-09-19T13:50:15.084Z"
   },
   {
    "duration": 4,
    "start_time": "2022-09-19T13:50:51.842Z"
   },
   {
    "duration": 5,
    "start_time": "2022-09-19T13:51:05.433Z"
   },
   {
    "duration": 3,
    "start_time": "2022-09-19T13:58:21.126Z"
   },
   {
    "duration": 6,
    "start_time": "2022-09-19T13:58:24.128Z"
   },
   {
    "duration": 41,
    "start_time": "2022-09-19T14:05:05.264Z"
   },
   {
    "duration": 8,
    "start_time": "2022-09-19T14:05:41.629Z"
   },
   {
    "duration": 4,
    "start_time": "2022-09-19T14:05:44.939Z"
   },
   {
    "duration": 100,
    "start_time": "2022-09-19T14:06:03.478Z"
   },
   {
    "duration": 9,
    "start_time": "2022-09-19T14:06:08.397Z"
   },
   {
    "duration": 5,
    "start_time": "2022-09-19T14:06:15.516Z"
   },
   {
    "duration": 6,
    "start_time": "2022-09-19T14:06:51.240Z"
   },
   {
    "duration": 4,
    "start_time": "2022-09-19T14:07:12.702Z"
   },
   {
    "duration": 3,
    "start_time": "2022-09-19T14:08:06.778Z"
   },
   {
    "duration": 4,
    "start_time": "2022-09-19T14:08:16.927Z"
   },
   {
    "duration": 248,
    "start_time": "2022-09-19T14:08:54.621Z"
   },
   {
    "duration": 172,
    "start_time": "2022-09-19T14:09:20.525Z"
   },
   {
    "duration": 180,
    "start_time": "2022-09-19T14:10:48.568Z"
   },
   {
    "duration": 190,
    "start_time": "2022-09-19T14:11:06.733Z"
   },
   {
    "duration": 195,
    "start_time": "2022-09-19T14:11:27.424Z"
   },
   {
    "duration": 188,
    "start_time": "2022-09-19T14:12:09.451Z"
   },
   {
    "duration": 311,
    "start_time": "2022-09-19T14:12:14.098Z"
   },
   {
    "duration": 298,
    "start_time": "2022-09-19T14:12:29.470Z"
   },
   {
    "duration": 199,
    "start_time": "2022-09-19T14:12:34.237Z"
   },
   {
    "duration": 198,
    "start_time": "2022-09-19T14:12:38.100Z"
   },
   {
    "duration": 245,
    "start_time": "2022-09-19T14:13:02.773Z"
   },
   {
    "duration": 3,
    "start_time": "2022-09-19T14:18:52.080Z"
   },
   {
    "duration": 15,
    "start_time": "2022-09-19T14:18:57.267Z"
   },
   {
    "duration": 239,
    "start_time": "2022-09-19T14:19:13.489Z"
   },
   {
    "duration": 1954,
    "start_time": "2022-09-19T14:19:22.876Z"
   },
   {
    "duration": 13,
    "start_time": "2022-09-19T14:19:32.785Z"
   },
   {
    "duration": 2996,
    "start_time": "2022-09-19T14:19:35.300Z"
   },
   {
    "duration": 3664,
    "start_time": "2022-09-19T14:19:42.693Z"
   },
   {
    "duration": 0,
    "start_time": "2022-09-19T14:19:46.358Z"
   },
   {
    "duration": 1035,
    "start_time": "2022-09-19T14:20:04.524Z"
   },
   {
    "duration": 161,
    "start_time": "2022-09-19T14:20:05.561Z"
   },
   {
    "duration": 18,
    "start_time": "2022-09-19T14:20:05.723Z"
   },
   {
    "duration": 18,
    "start_time": "2022-09-19T14:20:05.742Z"
   },
   {
    "duration": 34,
    "start_time": "2022-09-19T14:20:05.761Z"
   },
   {
    "duration": 31,
    "start_time": "2022-09-19T14:20:05.796Z"
   },
   {
    "duration": 27,
    "start_time": "2022-09-19T14:20:05.829Z"
   },
   {
    "duration": 81,
    "start_time": "2022-09-19T14:20:05.857Z"
   },
   {
    "duration": 86,
    "start_time": "2022-09-19T14:20:05.940Z"
   },
   {
    "duration": 29,
    "start_time": "2022-09-19T14:20:06.029Z"
   },
   {
    "duration": 18,
    "start_time": "2022-09-19T14:20:06.060Z"
   },
   {
    "duration": 23,
    "start_time": "2022-09-19T14:20:06.080Z"
   },
   {
    "duration": 13,
    "start_time": "2022-09-19T14:20:06.104Z"
   },
   {
    "duration": 15,
    "start_time": "2022-09-19T14:20:06.119Z"
   },
   {
    "duration": 333,
    "start_time": "2022-09-19T14:20:06.135Z"
   },
   {
    "duration": 4974,
    "start_time": "2022-09-19T14:20:06.469Z"
   },
   {
    "duration": 0,
    "start_time": "2022-09-19T14:20:11.445Z"
   },
   {
    "duration": 10,
    "start_time": "2022-09-19T14:20:58.798Z"
   },
   {
    "duration": 55,
    "start_time": "2022-09-19T14:22:51.392Z"
   },
   {
    "duration": 15,
    "start_time": "2022-09-19T14:23:33.300Z"
   },
   {
    "duration": 10,
    "start_time": "2022-09-19T14:24:01.456Z"
   },
   {
    "duration": 15,
    "start_time": "2022-09-19T14:24:11.732Z"
   },
   {
    "duration": 14,
    "start_time": "2022-09-19T14:25:32.007Z"
   },
   {
    "duration": 56,
    "start_time": "2022-09-19T14:25:33.993Z"
   },
   {
    "duration": 10,
    "start_time": "2022-09-19T14:25:37.243Z"
   },
   {
    "duration": 12,
    "start_time": "2022-09-19T14:30:00.192Z"
   },
   {
    "duration": 1227,
    "start_time": "2022-09-19T14:30:19.529Z"
   },
   {
    "duration": 5,
    "start_time": "2022-09-19T14:30:41.142Z"
   },
   {
    "duration": 8,
    "start_time": "2022-09-19T14:32:25.505Z"
   },
   {
    "duration": 9,
    "start_time": "2022-09-19T14:32:39.169Z"
   },
   {
    "duration": 9,
    "start_time": "2022-09-19T14:32:45.594Z"
   },
   {
    "duration": 33,
    "start_time": "2022-09-19T14:33:10.222Z"
   },
   {
    "duration": 57,
    "start_time": "2022-09-19T14:33:40.334Z"
   },
   {
    "duration": 12,
    "start_time": "2022-09-19T14:36:07.439Z"
   },
   {
    "duration": 1310,
    "start_time": "2022-09-20T08:08:33.610Z"
   },
   {
    "duration": 525,
    "start_time": "2022-09-20T08:08:34.922Z"
   },
   {
    "duration": 29,
    "start_time": "2022-09-20T08:08:35.449Z"
   },
   {
    "duration": 11,
    "start_time": "2022-09-20T08:08:35.481Z"
   },
   {
    "duration": 30,
    "start_time": "2022-09-20T08:08:35.494Z"
   },
   {
    "duration": 26,
    "start_time": "2022-09-20T08:08:35.526Z"
   },
   {
    "duration": 15,
    "start_time": "2022-09-20T08:08:35.554Z"
   },
   {
    "duration": 91,
    "start_time": "2022-09-20T08:08:35.570Z"
   },
   {
    "duration": 96,
    "start_time": "2022-09-20T08:08:35.663Z"
   },
   {
    "duration": 24,
    "start_time": "2022-09-20T08:08:35.762Z"
   },
   {
    "duration": 18,
    "start_time": "2022-09-20T08:08:35.787Z"
   },
   {
    "duration": 7,
    "start_time": "2022-09-20T08:08:35.807Z"
   },
   {
    "duration": 10,
    "start_time": "2022-09-20T08:08:35.816Z"
   },
   {
    "duration": 4,
    "start_time": "2022-09-20T08:08:35.828Z"
   },
   {
    "duration": 372,
    "start_time": "2022-09-20T08:08:35.834Z"
   },
   {
    "duration": 14,
    "start_time": "2022-09-20T08:08:36.209Z"
   },
   {
    "duration": 71,
    "start_time": "2022-09-20T08:08:36.224Z"
   },
   {
    "duration": 13,
    "start_time": "2022-09-20T08:08:36.297Z"
   },
   {
    "duration": 12,
    "start_time": "2022-09-20T08:08:36.312Z"
   },
   {
    "duration": 6,
    "start_time": "2022-09-20T08:08:36.326Z"
   },
   {
    "duration": 37,
    "start_time": "2022-09-20T08:08:36.333Z"
   },
   {
    "duration": 37,
    "start_time": "2022-09-20T08:08:36.371Z"
   },
   {
    "duration": 4,
    "start_time": "2022-09-20T08:09:39.206Z"
   },
   {
    "duration": 45,
    "start_time": "2022-09-20T08:10:19.549Z"
   },
   {
    "duration": 48,
    "start_time": "2022-09-20T08:10:53.772Z"
   },
   {
    "duration": 24,
    "start_time": "2022-09-20T08:11:12.809Z"
   },
   {
    "duration": 89,
    "start_time": "2022-09-20T08:12:25.100Z"
   },
   {
    "duration": 23,
    "start_time": "2022-09-20T08:12:27.944Z"
   },
   {
    "duration": 30,
    "start_time": "2022-09-20T08:13:10.790Z"
   },
   {
    "duration": 84,
    "start_time": "2022-09-20T08:13:25.357Z"
   },
   {
    "duration": 22,
    "start_time": "2022-09-20T08:13:33.341Z"
   },
   {
    "duration": 49,
    "start_time": "2022-09-20T08:18:55.335Z"
   },
   {
    "duration": 46,
    "start_time": "2022-09-20T08:22:12.340Z"
   },
   {
    "duration": 54,
    "start_time": "2022-09-20T08:22:18.168Z"
   },
   {
    "duration": 62,
    "start_time": "2022-09-20T08:24:04.054Z"
   },
   {
    "duration": 59,
    "start_time": "2022-09-20T08:24:11.762Z"
   },
   {
    "duration": 56,
    "start_time": "2022-09-20T08:27:12.212Z"
   },
   {
    "duration": 3,
    "start_time": "2022-09-20T08:35:25.378Z"
   },
   {
    "duration": 9,
    "start_time": "2022-09-20T08:35:29.357Z"
   },
   {
    "duration": 93,
    "start_time": "2022-09-20T08:39:42.165Z"
   },
   {
    "duration": 76,
    "start_time": "2022-09-20T08:40:06.221Z"
   },
   {
    "duration": 2843,
    "start_time": "2022-09-20T08:41:18.392Z"
   },
   {
    "duration": 184,
    "start_time": "2022-09-20T08:41:40.625Z"
   },
   {
    "duration": 63,
    "start_time": "2022-09-20T08:42:13.492Z"
   },
   {
    "duration": 11,
    "start_time": "2022-09-20T08:42:20.612Z"
   },
   {
    "duration": 16,
    "start_time": "2022-09-20T08:42:56.185Z"
   },
   {
    "duration": 50,
    "start_time": "2022-09-20T08:45:23.187Z"
   },
   {
    "duration": 961,
    "start_time": "2022-09-20T08:45:29.488Z"
   },
   {
    "duration": 851,
    "start_time": "2022-09-20T08:58:53.512Z"
   },
   {
    "duration": 4,
    "start_time": "2022-09-20T08:59:43.377Z"
   },
   {
    "duration": 3,
    "start_time": "2022-09-20T08:59:52.823Z"
   },
   {
    "duration": 1836,
    "start_time": "2022-09-20T09:03:44.794Z"
   },
   {
    "duration": 4,
    "start_time": "2022-09-20T09:03:51.564Z"
   },
   {
    "duration": 16,
    "start_time": "2022-09-20T09:03:57.571Z"
   },
   {
    "duration": 10,
    "start_time": "2022-09-20T09:04:06.996Z"
   },
   {
    "duration": 9,
    "start_time": "2022-09-20T09:04:11.654Z"
   },
   {
    "duration": 4,
    "start_time": "2022-09-20T09:04:20.916Z"
   },
   {
    "duration": 6,
    "start_time": "2022-09-20T09:10:47.337Z"
   },
   {
    "duration": 4,
    "start_time": "2022-09-20T09:11:04.017Z"
   },
   {
    "duration": 4,
    "start_time": "2022-09-20T09:11:17.283Z"
   },
   {
    "duration": 7,
    "start_time": "2022-09-20T09:11:32.909Z"
   },
   {
    "duration": 3,
    "start_time": "2022-09-20T09:14:16.907Z"
   },
   {
    "duration": 4,
    "start_time": "2022-09-20T09:14:31.487Z"
   },
   {
    "duration": 4,
    "start_time": "2022-09-20T09:14:40.223Z"
   },
   {
    "duration": 1351,
    "start_time": "2022-09-22T12:41:41.134Z"
   },
   {
    "duration": 621,
    "start_time": "2022-09-22T12:41:42.487Z"
   },
   {
    "duration": 27,
    "start_time": "2022-09-22T12:41:43.124Z"
   },
   {
    "duration": 9,
    "start_time": "2022-09-22T12:41:43.153Z"
   },
   {
    "duration": 25,
    "start_time": "2022-09-22T12:41:43.165Z"
   },
   {
    "duration": 35,
    "start_time": "2022-09-22T12:41:43.191Z"
   },
   {
    "duration": 28,
    "start_time": "2022-09-22T12:41:43.227Z"
   },
   {
    "duration": 88,
    "start_time": "2022-09-22T12:41:43.257Z"
   },
   {
    "duration": 110,
    "start_time": "2022-09-22T12:41:43.347Z"
   },
   {
    "duration": 29,
    "start_time": "2022-09-22T12:41:43.459Z"
   },
   {
    "duration": 37,
    "start_time": "2022-09-22T12:41:43.490Z"
   },
   {
    "duration": 9,
    "start_time": "2022-09-22T12:41:43.535Z"
   },
   {
    "duration": 6,
    "start_time": "2022-09-22T12:41:43.545Z"
   },
   {
    "duration": 3,
    "start_time": "2022-09-22T12:41:43.554Z"
   },
   {
    "duration": 377,
    "start_time": "2022-09-22T12:41:43.559Z"
   },
   {
    "duration": 14,
    "start_time": "2022-09-22T12:41:43.938Z"
   },
   {
    "duration": 74,
    "start_time": "2022-09-22T12:41:43.953Z"
   },
   {
    "duration": 13,
    "start_time": "2022-09-22T12:41:44.037Z"
   },
   {
    "duration": 10,
    "start_time": "2022-09-22T12:41:44.052Z"
   },
   {
    "duration": 6,
    "start_time": "2022-09-22T12:41:44.064Z"
   },
   {
    "duration": 64,
    "start_time": "2022-09-22T12:41:44.072Z"
   },
   {
    "duration": 12,
    "start_time": "2022-09-22T12:41:44.138Z"
   },
   {
    "duration": 30,
    "start_time": "2022-09-22T12:41:44.151Z"
   },
   {
    "duration": 77,
    "start_time": "2022-09-22T12:41:44.183Z"
   },
   {
    "duration": 7,
    "start_time": "2022-09-22T12:41:44.262Z"
   },
   {
    "duration": 6,
    "start_time": "2022-09-22T12:41:44.271Z"
   },
   {
    "duration": 8,
    "start_time": "2022-09-22T12:41:44.278Z"
   },
   {
    "duration": 22,
    "start_time": "2022-09-22T12:41:44.288Z"
   },
   {
    "duration": 24,
    "start_time": "2022-09-22T12:41:44.312Z"
   },
   {
    "duration": 117,
    "start_time": "2022-09-22T12:49:39.782Z"
   },
   {
    "duration": 20,
    "start_time": "2022-09-22T12:49:48.984Z"
   },
   {
    "duration": 75,
    "start_time": "2022-09-22T12:50:01.671Z"
   },
   {
    "duration": 28,
    "start_time": "2022-09-22T12:50:17.697Z"
   },
   {
    "duration": 8,
    "start_time": "2022-09-22T12:51:48.177Z"
   },
   {
    "duration": 8,
    "start_time": "2022-09-22T12:51:55.352Z"
   },
   {
    "duration": 8,
    "start_time": "2022-09-22T12:52:12.260Z"
   },
   {
    "duration": 10,
    "start_time": "2022-09-22T12:52:18.601Z"
   },
   {
    "duration": 12,
    "start_time": "2022-09-22T12:52:23.025Z"
   },
   {
    "duration": 10,
    "start_time": "2022-09-22T12:52:26.630Z"
   },
   {
    "duration": 12,
    "start_time": "2022-09-22T12:52:35.253Z"
   },
   {
    "duration": 20,
    "start_time": "2022-09-22T13:55:19.058Z"
   },
   {
    "duration": 5,
    "start_time": "2022-09-22T13:55:33.866Z"
   },
   {
    "duration": 11,
    "start_time": "2022-09-22T13:55:45.841Z"
   },
   {
    "duration": 11,
    "start_time": "2022-09-22T13:56:03.242Z"
   },
   {
    "duration": 14,
    "start_time": "2022-09-22T13:56:33.123Z"
   },
   {
    "duration": 10,
    "start_time": "2022-09-22T13:56:40.026Z"
   },
   {
    "duration": 1188,
    "start_time": "2022-09-24T06:32:07.690Z"
   },
   {
    "duration": 466,
    "start_time": "2022-09-24T06:32:08.880Z"
   },
   {
    "duration": 18,
    "start_time": "2022-09-24T06:32:09.348Z"
   },
   {
    "duration": 9,
    "start_time": "2022-09-24T06:32:09.368Z"
   },
   {
    "duration": 26,
    "start_time": "2022-09-24T06:32:09.380Z"
   },
   {
    "duration": 23,
    "start_time": "2022-09-24T06:32:09.407Z"
   },
   {
    "duration": 16,
    "start_time": "2022-09-24T06:32:09.432Z"
   },
   {
    "duration": 87,
    "start_time": "2022-09-24T06:32:09.449Z"
   },
   {
    "duration": 88,
    "start_time": "2022-09-24T06:32:09.538Z"
   },
   {
    "duration": 26,
    "start_time": "2022-09-24T06:32:09.627Z"
   },
   {
    "duration": 6,
    "start_time": "2022-09-24T06:32:09.654Z"
   },
   {
    "duration": 16,
    "start_time": "2022-09-24T06:32:09.661Z"
   },
   {
    "duration": 5,
    "start_time": "2022-09-24T06:32:09.679Z"
   },
   {
    "duration": 3,
    "start_time": "2022-09-24T06:32:09.700Z"
   },
   {
    "duration": 309,
    "start_time": "2022-09-24T06:32:09.704Z"
   },
   {
    "duration": 11,
    "start_time": "2022-09-24T06:32:10.015Z"
   },
   {
    "duration": 57,
    "start_time": "2022-09-24T06:32:10.027Z"
   },
   {
    "duration": 21,
    "start_time": "2022-09-24T06:32:10.086Z"
   },
   {
    "duration": 18,
    "start_time": "2022-09-24T06:32:10.108Z"
   },
   {
    "duration": 13,
    "start_time": "2022-09-24T06:32:10.127Z"
   },
   {
    "duration": 50,
    "start_time": "2022-09-24T06:32:10.141Z"
   },
   {
    "duration": 10,
    "start_time": "2022-09-24T06:32:10.193Z"
   },
   {
    "duration": 32,
    "start_time": "2022-09-24T06:32:10.204Z"
   },
   {
    "duration": 49,
    "start_time": "2022-09-24T06:32:10.237Z"
   },
   {
    "duration": 13,
    "start_time": "2022-09-24T06:32:10.288Z"
   },
   {
    "duration": 7,
    "start_time": "2022-09-24T06:32:10.302Z"
   },
   {
    "duration": 5,
    "start_time": "2022-09-24T06:32:10.311Z"
   },
   {
    "duration": 6,
    "start_time": "2022-09-24T06:32:10.317Z"
   },
   {
    "duration": 5,
    "start_time": "2022-09-24T06:32:10.324Z"
   },
   {
    "duration": 10,
    "start_time": "2022-09-24T06:32:10.330Z"
   },
   {
    "duration": 1267,
    "start_time": "2022-09-26T07:10:23.929Z"
   },
   {
    "duration": 517,
    "start_time": "2022-09-26T07:10:25.198Z"
   },
   {
    "duration": 21,
    "start_time": "2022-09-26T07:10:25.716Z"
   },
   {
    "duration": 12,
    "start_time": "2022-09-26T07:10:25.739Z"
   },
   {
    "duration": 29,
    "start_time": "2022-09-26T07:10:25.753Z"
   },
   {
    "duration": 21,
    "start_time": "2022-09-26T07:10:25.784Z"
   },
   {
    "duration": 17,
    "start_time": "2022-09-26T07:10:25.806Z"
   },
   {
    "duration": 75,
    "start_time": "2022-09-26T07:10:25.833Z"
   },
   {
    "duration": 97,
    "start_time": "2022-09-26T07:10:25.909Z"
   },
   {
    "duration": 34,
    "start_time": "2022-09-26T07:10:26.007Z"
   },
   {
    "duration": 7,
    "start_time": "2022-09-26T07:10:26.043Z"
   },
   {
    "duration": 6,
    "start_time": "2022-09-26T07:10:26.052Z"
   },
   {
    "duration": 6,
    "start_time": "2022-09-26T07:10:26.059Z"
   },
   {
    "duration": 3,
    "start_time": "2022-09-26T07:10:26.067Z"
   },
   {
    "duration": 446,
    "start_time": "2022-09-26T07:10:26.072Z"
   },
   {
    "duration": 18,
    "start_time": "2022-09-26T07:10:26.520Z"
   },
   {
    "duration": 65,
    "start_time": "2022-09-26T07:10:26.540Z"
   },
   {
    "duration": 27,
    "start_time": "2022-09-26T07:10:26.607Z"
   },
   {
    "duration": 10,
    "start_time": "2022-09-26T07:10:26.636Z"
   },
   {
    "duration": 4,
    "start_time": "2022-09-26T07:10:26.648Z"
   },
   {
    "duration": 35,
    "start_time": "2022-09-26T07:10:26.654Z"
   },
   {
    "duration": 12,
    "start_time": "2022-09-26T07:10:26.690Z"
   },
   {
    "duration": 58,
    "start_time": "2022-09-26T07:10:26.704Z"
   },
   {
    "duration": 90,
    "start_time": "2022-09-26T07:10:26.764Z"
   },
   {
    "duration": 7,
    "start_time": "2022-09-26T07:10:26.855Z"
   },
   {
    "duration": 12,
    "start_time": "2022-09-26T07:10:26.864Z"
   },
   {
    "duration": 6,
    "start_time": "2022-09-26T07:10:26.878Z"
   },
   {
    "duration": 7,
    "start_time": "2022-09-26T07:10:26.885Z"
   },
   {
    "duration": 9,
    "start_time": "2022-09-26T07:10:26.893Z"
   },
   {
    "duration": 11,
    "start_time": "2022-09-26T07:10:26.904Z"
   },
   {
    "duration": 11,
    "start_time": "2022-09-26T07:11:51.542Z"
   },
   {
    "duration": 9,
    "start_time": "2022-09-26T07:12:29.270Z"
   },
   {
    "duration": 10,
    "start_time": "2022-09-26T07:13:14.903Z"
   },
   {
    "duration": 9,
    "start_time": "2022-09-26T07:16:12.082Z"
   },
   {
    "duration": 9,
    "start_time": "2022-09-26T07:16:22.069Z"
   },
   {
    "duration": 10,
    "start_time": "2022-09-26T07:16:30.228Z"
   },
   {
    "duration": 10,
    "start_time": "2022-09-26T07:16:36.624Z"
   },
   {
    "duration": 4,
    "start_time": "2022-09-26T07:19:02.327Z"
   },
   {
    "duration": 4,
    "start_time": "2022-09-26T07:19:27.079Z"
   },
   {
    "duration": 97,
    "start_time": "2022-09-26T07:26:56.906Z"
   },
   {
    "duration": 1062,
    "start_time": "2022-09-26T07:27:02.329Z"
   },
   {
    "duration": 162,
    "start_time": "2022-09-26T07:27:03.393Z"
   },
   {
    "duration": 19,
    "start_time": "2022-09-26T07:27:03.556Z"
   },
   {
    "duration": 8,
    "start_time": "2022-09-26T07:27:03.577Z"
   },
   {
    "duration": 30,
    "start_time": "2022-09-26T07:27:03.586Z"
   },
   {
    "duration": 34,
    "start_time": "2022-09-26T07:27:03.617Z"
   },
   {
    "duration": 15,
    "start_time": "2022-09-26T07:27:03.653Z"
   },
   {
    "duration": 89,
    "start_time": "2022-09-26T07:27:03.670Z"
   },
   {
    "duration": 95,
    "start_time": "2022-09-26T07:27:03.761Z"
   },
   {
    "duration": 29,
    "start_time": "2022-09-26T07:27:03.858Z"
   },
   {
    "duration": 8,
    "start_time": "2022-09-26T07:27:03.889Z"
   },
   {
    "duration": 7,
    "start_time": "2022-09-26T07:27:03.899Z"
   },
   {
    "duration": 5,
    "start_time": "2022-09-26T07:27:03.933Z"
   },
   {
    "duration": 8,
    "start_time": "2022-09-26T07:27:03.939Z"
   },
   {
    "duration": 354,
    "start_time": "2022-09-26T07:27:03.948Z"
   },
   {
    "duration": 14,
    "start_time": "2022-09-26T07:27:04.304Z"
   },
   {
    "duration": 68,
    "start_time": "2022-09-26T07:27:04.320Z"
   },
   {
    "duration": 13,
    "start_time": "2022-09-26T07:27:04.390Z"
   },
   {
    "duration": 33,
    "start_time": "2022-09-26T07:27:04.405Z"
   },
   {
    "duration": 5,
    "start_time": "2022-09-26T07:27:04.439Z"
   },
   {
    "duration": 44,
    "start_time": "2022-09-26T07:27:04.446Z"
   },
   {
    "duration": 12,
    "start_time": "2022-09-26T07:27:04.491Z"
   },
   {
    "duration": 39,
    "start_time": "2022-09-26T07:27:04.504Z"
   },
   {
    "duration": 54,
    "start_time": "2022-09-26T07:27:04.544Z"
   },
   {
    "duration": 8,
    "start_time": "2022-09-26T07:27:04.600Z"
   },
   {
    "duration": 31,
    "start_time": "2022-09-26T07:27:04.609Z"
   },
   {
    "duration": 6,
    "start_time": "2022-09-26T07:27:04.641Z"
   },
   {
    "duration": 157,
    "start_time": "2022-09-26T07:27:04.649Z"
   },
   {
    "duration": 8,
    "start_time": "2022-09-26T07:27:21.239Z"
   },
   {
    "duration": 13,
    "start_time": "2022-09-26T07:27:38.709Z"
   },
   {
    "duration": 10,
    "start_time": "2022-09-26T07:27:50.162Z"
   },
   {
    "duration": 10,
    "start_time": "2022-09-26T07:28:01.511Z"
   },
   {
    "duration": 10,
    "start_time": "2022-09-26T07:28:20.052Z"
   },
   {
    "duration": 10,
    "start_time": "2022-09-26T07:28:33.336Z"
   },
   {
    "duration": 14,
    "start_time": "2022-09-26T07:28:40.069Z"
   },
   {
    "duration": 10,
    "start_time": "2022-09-26T07:28:56.819Z"
   },
   {
    "duration": 10,
    "start_time": "2022-09-26T07:29:02.251Z"
   },
   {
    "duration": 10,
    "start_time": "2022-09-26T07:29:37.253Z"
   },
   {
    "duration": 1093,
    "start_time": "2022-09-26T07:29:51.897Z"
   },
   {
    "duration": 186,
    "start_time": "2022-09-26T07:29:52.992Z"
   },
   {
    "duration": 23,
    "start_time": "2022-09-26T07:29:53.179Z"
   },
   {
    "duration": 17,
    "start_time": "2022-09-26T07:29:53.204Z"
   },
   {
    "duration": 24,
    "start_time": "2022-09-26T07:29:53.234Z"
   },
   {
    "duration": 21,
    "start_time": "2022-09-26T07:29:53.260Z"
   },
   {
    "duration": 33,
    "start_time": "2022-09-26T07:29:53.283Z"
   },
   {
    "duration": 87,
    "start_time": "2022-09-26T07:29:53.318Z"
   },
   {
    "duration": 97,
    "start_time": "2022-09-26T07:29:53.406Z"
   },
   {
    "duration": 36,
    "start_time": "2022-09-26T07:29:53.505Z"
   },
   {
    "duration": 8,
    "start_time": "2022-09-26T07:29:53.543Z"
   },
   {
    "duration": 8,
    "start_time": "2022-09-26T07:29:53.552Z"
   },
   {
    "duration": 8,
    "start_time": "2022-09-26T07:29:53.561Z"
   },
   {
    "duration": 15,
    "start_time": "2022-09-26T07:29:53.572Z"
   },
   {
    "duration": 371,
    "start_time": "2022-09-26T07:29:53.588Z"
   },
   {
    "duration": 13,
    "start_time": "2022-09-26T07:29:53.961Z"
   },
   {
    "duration": 78,
    "start_time": "2022-09-26T07:29:53.976Z"
   },
   {
    "duration": 12,
    "start_time": "2022-09-26T07:29:54.056Z"
   },
   {
    "duration": 10,
    "start_time": "2022-09-26T07:29:54.070Z"
   },
   {
    "duration": 4,
    "start_time": "2022-09-26T07:29:54.082Z"
   },
   {
    "duration": 62,
    "start_time": "2022-09-26T07:29:54.088Z"
   },
   {
    "duration": 13,
    "start_time": "2022-09-26T07:29:54.152Z"
   },
   {
    "duration": 57,
    "start_time": "2022-09-26T07:29:54.167Z"
   },
   {
    "duration": 94,
    "start_time": "2022-09-26T07:29:54.226Z"
   },
   {
    "duration": 17,
    "start_time": "2022-09-26T07:29:54.322Z"
   },
   {
    "duration": 187,
    "start_time": "2022-09-26T07:29:54.340Z"
   },
   {
    "duration": 11,
    "start_time": "2022-09-26T07:29:54.530Z"
   },
   {
    "duration": 7,
    "start_time": "2022-09-26T07:29:54.543Z"
   },
   {
    "duration": 5,
    "start_time": "2022-09-26T07:31:12.189Z"
   },
   {
    "duration": 13,
    "start_time": "2022-09-26T07:31:15.190Z"
   },
   {
    "duration": 74,
    "start_time": "2022-09-26T07:31:51.858Z"
   },
   {
    "duration": 10,
    "start_time": "2022-09-26T07:32:16.068Z"
   },
   {
    "duration": 13,
    "start_time": "2022-09-26T07:32:26.166Z"
   },
   {
    "duration": 10,
    "start_time": "2022-09-26T07:35:54.426Z"
   },
   {
    "duration": 8,
    "start_time": "2022-09-26T07:38:09.494Z"
   },
   {
    "duration": 35,
    "start_time": "2022-09-26T07:41:03.327Z"
   },
   {
    "duration": 5,
    "start_time": "2022-09-26T08:00:43.585Z"
   },
   {
    "duration": 105,
    "start_time": "2022-09-26T08:04:22.214Z"
   },
   {
    "duration": 8,
    "start_time": "2022-09-26T08:06:53.820Z"
   },
   {
    "duration": 7,
    "start_time": "2022-09-26T08:07:05.804Z"
   },
   {
    "duration": 10,
    "start_time": "2022-09-26T08:07:23.533Z"
   },
   {
    "duration": 5,
    "start_time": "2022-09-26T08:07:30.534Z"
   },
   {
    "duration": 11,
    "start_time": "2022-09-26T08:07:32.008Z"
   },
   {
    "duration": 9,
    "start_time": "2022-09-26T08:22:13.784Z"
   },
   {
    "duration": 13,
    "start_time": "2022-09-26T08:58:02.000Z"
   },
   {
    "duration": 34,
    "start_time": "2022-09-26T08:58:38.678Z"
   },
   {
    "duration": 33,
    "start_time": "2022-09-26T08:59:08.952Z"
   },
   {
    "duration": 34,
    "start_time": "2022-09-26T08:59:21.275Z"
   },
   {
    "duration": 32,
    "start_time": "2022-09-26T09:06:39.567Z"
   },
   {
    "duration": 33,
    "start_time": "2022-09-26T09:06:43.761Z"
   },
   {
    "duration": 33,
    "start_time": "2022-09-26T09:07:03.253Z"
   },
   {
    "duration": 919,
    "start_time": "2022-09-26T09:08:50.577Z"
   },
   {
    "duration": 1119,
    "start_time": "2022-09-26T09:09:32.404Z"
   },
   {
    "duration": 179,
    "start_time": "2022-09-26T09:09:33.525Z"
   },
   {
    "duration": 20,
    "start_time": "2022-09-26T09:09:33.706Z"
   },
   {
    "duration": 9,
    "start_time": "2022-09-26T09:09:33.734Z"
   },
   {
    "duration": 32,
    "start_time": "2022-09-26T09:09:33.746Z"
   },
   {
    "duration": 20,
    "start_time": "2022-09-26T09:09:33.780Z"
   },
   {
    "duration": 15,
    "start_time": "2022-09-26T09:09:33.802Z"
   },
   {
    "duration": 81,
    "start_time": "2022-09-26T09:09:33.834Z"
   },
   {
    "duration": 99,
    "start_time": "2022-09-26T09:09:33.917Z"
   },
   {
    "duration": 51,
    "start_time": "2022-09-26T09:09:34.018Z"
   },
   {
    "duration": 7,
    "start_time": "2022-09-26T09:09:34.071Z"
   },
   {
    "duration": 10,
    "start_time": "2022-09-26T09:09:34.079Z"
   },
   {
    "duration": 8,
    "start_time": "2022-09-26T09:09:34.090Z"
   },
   {
    "duration": 11,
    "start_time": "2022-09-26T09:09:34.100Z"
   },
   {
    "duration": 357,
    "start_time": "2022-09-26T09:09:34.112Z"
   },
   {
    "duration": 13,
    "start_time": "2022-09-26T09:09:34.470Z"
   },
   {
    "duration": 84,
    "start_time": "2022-09-26T09:09:34.485Z"
   },
   {
    "duration": 13,
    "start_time": "2022-09-26T09:09:34.571Z"
   },
   {
    "duration": 13,
    "start_time": "2022-09-26T09:09:34.585Z"
   },
   {
    "duration": 8,
    "start_time": "2022-09-26T09:09:34.599Z"
   },
   {
    "duration": 32,
    "start_time": "2022-09-26T09:09:34.608Z"
   },
   {
    "duration": 30,
    "start_time": "2022-09-26T09:09:34.642Z"
   },
   {
    "duration": 82,
    "start_time": "2022-09-26T09:09:34.673Z"
   },
   {
    "duration": 8,
    "start_time": "2022-09-26T09:09:34.757Z"
   },
   {
    "duration": 15,
    "start_time": "2022-09-26T09:09:34.766Z"
   },
   {
    "duration": 160,
    "start_time": "2022-09-26T09:09:34.783Z"
   },
   {
    "duration": 90,
    "start_time": "2022-09-26T09:09:34.945Z"
   },
   {
    "duration": 1453,
    "start_time": "2022-09-26T09:09:35.039Z"
   },
   {
    "duration": 33,
    "start_time": "2022-09-26T09:15:21.970Z"
   },
   {
    "duration": 5,
    "start_time": "2022-09-26T09:19:44.384Z"
   },
   {
    "duration": 9,
    "start_time": "2022-09-26T09:20:06.630Z"
   },
   {
    "duration": 927,
    "start_time": "2022-09-26T09:20:12.579Z"
   },
   {
    "duration": 70,
    "start_time": "2022-09-26T09:30:43.011Z"
   },
   {
    "duration": 52,
    "start_time": "2022-09-26T09:30:48.399Z"
   },
   {
    "duration": 943,
    "start_time": "2022-09-26T09:30:52.662Z"
   },
   {
    "duration": 8,
    "start_time": "2022-09-26T09:31:35.876Z"
   },
   {
    "duration": 5,
    "start_time": "2022-09-26T09:31:51.675Z"
   },
   {
    "duration": 10,
    "start_time": "2022-09-26T09:33:05.716Z"
   },
   {
    "duration": 8,
    "start_time": "2022-09-26T09:33:11.270Z"
   },
   {
    "duration": 13,
    "start_time": "2022-09-26T09:34:14.259Z"
   },
   {
    "duration": 14,
    "start_time": "2022-09-26T09:34:41.770Z"
   },
   {
    "duration": 4,
    "start_time": "2022-09-26T09:35:16.341Z"
   },
   {
    "duration": 15,
    "start_time": "2022-09-26T09:35:23.506Z"
   },
   {
    "duration": 83,
    "start_time": "2022-09-26T09:38:47.267Z"
   },
   {
    "duration": 17,
    "start_time": "2022-09-26T09:38:59.781Z"
   },
   {
    "duration": 12,
    "start_time": "2022-09-26T09:43:16.014Z"
   },
   {
    "duration": 81,
    "start_time": "2022-09-26T09:43:25.203Z"
   },
   {
    "duration": 79,
    "start_time": "2022-09-26T09:44:36.660Z"
   },
   {
    "duration": 81,
    "start_time": "2022-09-26T09:44:40.712Z"
   },
   {
    "duration": 1943,
    "start_time": "2022-09-26T09:46:25.362Z"
   },
   {
    "duration": 75,
    "start_time": "2022-09-26T11:31:41.408Z"
   },
   {
    "duration": 47,
    "start_time": "2022-09-26T11:31:54.715Z"
   },
   {
    "duration": 7,
    "start_time": "2022-09-26T11:32:12.181Z"
   },
   {
    "duration": 6,
    "start_time": "2022-09-26T11:32:19.092Z"
   },
   {
    "duration": 1289,
    "start_time": "2022-09-26T11:32:25.481Z"
   },
   {
    "duration": 475,
    "start_time": "2022-09-26T11:32:26.772Z"
   },
   {
    "duration": 25,
    "start_time": "2022-09-26T11:32:27.252Z"
   },
   {
    "duration": 8,
    "start_time": "2022-09-26T11:32:27.279Z"
   },
   {
    "duration": 22,
    "start_time": "2022-09-26T11:32:27.289Z"
   },
   {
    "duration": 18,
    "start_time": "2022-09-26T11:32:27.313Z"
   },
   {
    "duration": 14,
    "start_time": "2022-09-26T11:32:27.333Z"
   },
   {
    "duration": 93,
    "start_time": "2022-09-26T11:32:27.348Z"
   },
   {
    "duration": 95,
    "start_time": "2022-09-26T11:32:27.443Z"
   },
   {
    "duration": 29,
    "start_time": "2022-09-26T11:32:27.539Z"
   },
   {
    "duration": 6,
    "start_time": "2022-09-26T11:32:27.570Z"
   },
   {
    "duration": 6,
    "start_time": "2022-09-26T11:32:27.578Z"
   },
   {
    "duration": 27,
    "start_time": "2022-09-26T11:32:27.586Z"
   },
   {
    "duration": 6,
    "start_time": "2022-09-26T11:32:27.616Z"
   },
   {
    "duration": 360,
    "start_time": "2022-09-26T11:32:27.623Z"
   },
   {
    "duration": 13,
    "start_time": "2022-09-26T11:32:27.985Z"
   },
   {
    "duration": 64,
    "start_time": "2022-09-26T11:32:28.008Z"
   },
   {
    "duration": 13,
    "start_time": "2022-09-26T11:32:28.074Z"
   },
   {
    "duration": 23,
    "start_time": "2022-09-26T11:32:28.089Z"
   },
   {
    "duration": 5,
    "start_time": "2022-09-26T11:32:28.114Z"
   },
   {
    "duration": 10,
    "start_time": "2022-09-26T11:32:28.120Z"
   },
   {
    "duration": 31,
    "start_time": "2022-09-26T11:32:28.132Z"
   },
   {
    "duration": 87,
    "start_time": "2022-09-26T11:32:28.164Z"
   },
   {
    "duration": 7,
    "start_time": "2022-09-26T11:32:28.253Z"
   },
   {
    "duration": 12,
    "start_time": "2022-09-26T11:32:28.261Z"
   },
   {
    "duration": 178,
    "start_time": "2022-09-26T11:32:28.274Z"
   },
   {
    "duration": 63,
    "start_time": "2022-09-26T11:32:28.454Z"
   },
   {
    "duration": 129,
    "start_time": "2022-09-26T11:32:28.519Z"
   },
   {
    "duration": 1299,
    "start_time": "2022-09-26T11:32:28.650Z"
   },
   {
    "duration": 35,
    "start_time": "2022-09-26T11:32:48.608Z"
   },
   {
    "duration": 104,
    "start_time": "2022-09-26T11:33:07.837Z"
   },
   {
    "duration": 33,
    "start_time": "2022-09-26T11:33:10.613Z"
   },
   {
    "duration": 38,
    "start_time": "2022-09-26T11:33:19.642Z"
   },
   {
    "duration": 35,
    "start_time": "2022-09-26T11:33:36.862Z"
   },
   {
    "duration": 34,
    "start_time": "2022-09-26T11:34:19.818Z"
   },
   {
    "duration": 45,
    "start_time": "2022-09-26T11:35:56.788Z"
   },
   {
    "duration": 34,
    "start_time": "2022-09-26T11:36:03.127Z"
   },
   {
    "duration": 36,
    "start_time": "2022-09-26T11:36:34.681Z"
   },
   {
    "duration": 31,
    "start_time": "2022-09-26T11:36:36.540Z"
   },
   {
    "duration": 30,
    "start_time": "2022-09-26T11:36:44.367Z"
   },
   {
    "duration": 30,
    "start_time": "2022-09-26T11:36:47.573Z"
   },
   {
    "duration": 34,
    "start_time": "2022-09-26T11:37:01.445Z"
   },
   {
    "duration": 31,
    "start_time": "2022-09-26T11:37:05.159Z"
   },
   {
    "duration": 31,
    "start_time": "2022-09-26T11:37:19.818Z"
   },
   {
    "duration": 30,
    "start_time": "2022-09-26T11:37:25.084Z"
   },
   {
    "duration": 41,
    "start_time": "2022-09-26T11:37:32.680Z"
   },
   {
    "duration": 30,
    "start_time": "2022-09-26T11:37:43.468Z"
   },
   {
    "duration": 32,
    "start_time": "2022-09-26T11:38:39.540Z"
   },
   {
    "duration": 40,
    "start_time": "2022-09-26T11:38:43.929Z"
   },
   {
    "duration": 34,
    "start_time": "2022-09-26T11:40:46.355Z"
   },
   {
    "duration": 12,
    "start_time": "2022-09-26T11:41:31.511Z"
   },
   {
    "duration": 9,
    "start_time": "2022-09-26T11:41:40.918Z"
   },
   {
    "duration": 51,
    "start_time": "2022-09-26T11:42:39.647Z"
   },
   {
    "duration": 54,
    "start_time": "2022-09-26T11:42:43.435Z"
   },
   {
    "duration": 12,
    "start_time": "2022-09-26T11:43:11.162Z"
   },
   {
    "duration": 78,
    "start_time": "2022-09-26T11:43:22.611Z"
   },
   {
    "duration": 73,
    "start_time": "2022-09-26T11:43:44.968Z"
   },
   {
    "duration": 67,
    "start_time": "2022-09-26T11:43:49.539Z"
   },
   {
    "duration": 100,
    "start_time": "2022-09-26T11:44:42.556Z"
   },
   {
    "duration": 80,
    "start_time": "2022-09-26T11:44:46.234Z"
   },
   {
    "duration": 80,
    "start_time": "2022-09-26T11:45:27.020Z"
   },
   {
    "duration": 79,
    "start_time": "2022-09-26T11:46:05.948Z"
   },
   {
    "duration": 775,
    "start_time": "2022-09-26T11:49:37.694Z"
   },
   {
    "duration": 1056,
    "start_time": "2022-09-26T11:49:47.129Z"
   },
   {
    "duration": 181,
    "start_time": "2022-09-26T11:49:48.186Z"
   },
   {
    "duration": 19,
    "start_time": "2022-09-26T11:49:48.368Z"
   },
   {
    "duration": 7,
    "start_time": "2022-09-26T11:49:48.389Z"
   },
   {
    "duration": 23,
    "start_time": "2022-09-26T11:49:48.408Z"
   },
   {
    "duration": 19,
    "start_time": "2022-09-26T11:49:48.433Z"
   },
   {
    "duration": 14,
    "start_time": "2022-09-26T11:49:48.454Z"
   },
   {
    "duration": 104,
    "start_time": "2022-09-26T11:49:48.469Z"
   },
   {
    "duration": 100,
    "start_time": "2022-09-26T11:49:48.574Z"
   },
   {
    "duration": 43,
    "start_time": "2022-09-26T11:49:48.677Z"
   },
   {
    "duration": 7,
    "start_time": "2022-09-26T11:49:48.722Z"
   },
   {
    "duration": 6,
    "start_time": "2022-09-26T11:49:48.730Z"
   },
   {
    "duration": 5,
    "start_time": "2022-09-26T11:49:48.738Z"
   },
   {
    "duration": 4,
    "start_time": "2022-09-26T11:49:48.744Z"
   },
   {
    "duration": 373,
    "start_time": "2022-09-26T11:49:48.750Z"
   },
   {
    "duration": 13,
    "start_time": "2022-09-26T11:49:49.124Z"
   },
   {
    "duration": 69,
    "start_time": "2022-09-26T11:49:49.138Z"
   },
   {
    "duration": 24,
    "start_time": "2022-09-26T11:49:49.208Z"
   },
   {
    "duration": 9,
    "start_time": "2022-09-26T11:49:49.233Z"
   },
   {
    "duration": 4,
    "start_time": "2022-09-26T11:49:49.244Z"
   },
   {
    "duration": 15,
    "start_time": "2022-09-26T11:49:49.250Z"
   },
   {
    "duration": 34,
    "start_time": "2022-09-26T11:49:49.267Z"
   },
   {
    "duration": 70,
    "start_time": "2022-09-26T11:49:49.302Z"
   },
   {
    "duration": 7,
    "start_time": "2022-09-26T11:49:49.374Z"
   },
   {
    "duration": 39,
    "start_time": "2022-09-26T11:49:49.382Z"
   },
   {
    "duration": 186,
    "start_time": "2022-09-26T11:49:49.423Z"
   },
   {
    "duration": 104,
    "start_time": "2022-09-26T11:49:49.611Z"
   },
   {
    "duration": 127,
    "start_time": "2022-09-26T11:49:49.718Z"
   },
   {
    "duration": 1256,
    "start_time": "2022-09-26T11:49:49.846Z"
   },
   {
    "duration": 78,
    "start_time": "2022-09-26T11:50:24.479Z"
   },
   {
    "duration": 92,
    "start_time": "2022-09-26T11:50:34.663Z"
   },
   {
    "duration": 94,
    "start_time": "2022-09-26T11:51:14.831Z"
   },
   {
    "duration": 744,
    "start_time": "2022-09-26T11:52:10.140Z"
   },
   {
    "duration": 541,
    "start_time": "2022-09-26T11:52:52.821Z"
   },
   {
    "duration": 757,
    "start_time": "2022-09-26T11:53:07.883Z"
   },
   {
    "duration": 975,
    "start_time": "2022-09-26T12:00:20.515Z"
   },
   {
    "duration": 790,
    "start_time": "2022-09-26T12:00:34.874Z"
   },
   {
    "duration": 62,
    "start_time": "2022-09-26T12:00:52.531Z"
   },
   {
    "duration": 95,
    "start_time": "2022-09-26T12:01:02.696Z"
   },
   {
    "duration": 74,
    "start_time": "2022-09-26T12:01:12.335Z"
   },
   {
    "duration": 86,
    "start_time": "2022-09-26T12:01:22.073Z"
   },
   {
    "duration": 83,
    "start_time": "2022-09-26T12:04:30.469Z"
   },
   {
    "duration": 79,
    "start_time": "2022-09-26T12:04:39.240Z"
   },
   {
    "duration": 83,
    "start_time": "2022-09-26T12:04:57.588Z"
   },
   {
    "duration": 85,
    "start_time": "2022-09-26T12:05:03.187Z"
   },
   {
    "duration": 34,
    "start_time": "2022-09-26T12:13:28.127Z"
   },
   {
    "duration": 35,
    "start_time": "2022-09-26T12:13:32.737Z"
   },
   {
    "duration": 48,
    "start_time": "2022-09-26T12:14:07.805Z"
   },
   {
    "duration": 15,
    "start_time": "2022-09-26T12:15:44.508Z"
   },
   {
    "duration": 8,
    "start_time": "2022-09-26T12:16:12.464Z"
   },
   {
    "duration": 10,
    "start_time": "2022-09-26T12:16:20.847Z"
   },
   {
    "duration": 34,
    "start_time": "2022-09-26T13:03:17.848Z"
   },
   {
    "duration": 31,
    "start_time": "2022-09-26T13:03:29.308Z"
   },
   {
    "duration": 32,
    "start_time": "2022-09-26T13:05:34.619Z"
   },
   {
    "duration": 42,
    "start_time": "2022-09-26T13:05:52.533Z"
   },
   {
    "duration": 94,
    "start_time": "2022-09-26T13:08:56.278Z"
   },
   {
    "duration": 110,
    "start_time": "2022-09-26T13:11:24.645Z"
   },
   {
    "duration": 115,
    "start_time": "2022-09-26T13:11:36.855Z"
   },
   {
    "duration": 16,
    "start_time": "2022-09-26T13:12:59.156Z"
   },
   {
    "duration": 93,
    "start_time": "2022-09-26T13:13:21.794Z"
   },
   {
    "duration": 137,
    "start_time": "2022-09-26T13:13:39.038Z"
   },
   {
    "duration": 116,
    "start_time": "2022-09-26T13:13:58.192Z"
   },
   {
    "duration": 163,
    "start_time": "2022-09-26T13:15:12.593Z"
   },
   {
    "duration": 1193,
    "start_time": "2022-09-26T13:15:47.582Z"
   },
   {
    "duration": 1044,
    "start_time": "2022-09-26T13:16:09.015Z"
   },
   {
    "duration": 125,
    "start_time": "2022-09-26T13:16:20.514Z"
   },
   {
    "duration": 12,
    "start_time": "2022-09-26T13:18:45.254Z"
   },
   {
    "duration": 15,
    "start_time": "2022-09-26T13:19:04.413Z"
   },
   {
    "duration": 22,
    "start_time": "2022-09-26T13:28:42.830Z"
   },
   {
    "duration": 10,
    "start_time": "2022-09-26T13:40:22.355Z"
   },
   {
    "duration": 10,
    "start_time": "2022-09-26T13:40:30.147Z"
   },
   {
    "duration": 11,
    "start_time": "2022-09-26T13:40:53.090Z"
   },
   {
    "duration": 12,
    "start_time": "2022-09-26T13:40:58.756Z"
   },
   {
    "duration": 1136,
    "start_time": "2022-09-26T13:41:05.317Z"
   },
   {
    "duration": 162,
    "start_time": "2022-09-26T13:41:06.455Z"
   },
   {
    "duration": 18,
    "start_time": "2022-09-26T13:41:06.619Z"
   },
   {
    "duration": 7,
    "start_time": "2022-09-26T13:41:06.639Z"
   },
   {
    "duration": 28,
    "start_time": "2022-09-26T13:41:06.648Z"
   },
   {
    "duration": 36,
    "start_time": "2022-09-26T13:41:06.678Z"
   },
   {
    "duration": 15,
    "start_time": "2022-09-26T13:41:06.716Z"
   },
   {
    "duration": 89,
    "start_time": "2022-09-26T13:41:06.732Z"
   },
   {
    "duration": 101,
    "start_time": "2022-09-26T13:41:06.824Z"
   },
   {
    "duration": 30,
    "start_time": "2022-09-26T13:41:06.926Z"
   },
   {
    "duration": 8,
    "start_time": "2022-09-26T13:41:06.957Z"
   },
   {
    "duration": 11,
    "start_time": "2022-09-26T13:41:06.967Z"
   },
   {
    "duration": 32,
    "start_time": "2022-09-26T13:41:06.979Z"
   },
   {
    "duration": 3,
    "start_time": "2022-09-26T13:41:07.014Z"
   },
   {
    "duration": 367,
    "start_time": "2022-09-26T13:41:07.019Z"
   },
   {
    "duration": 23,
    "start_time": "2022-09-26T13:41:07.387Z"
   },
   {
    "duration": 104,
    "start_time": "2022-09-26T13:41:07.412Z"
   },
   {
    "duration": 13,
    "start_time": "2022-09-26T13:41:07.518Z"
   },
   {
    "duration": 10,
    "start_time": "2022-09-26T13:41:07.533Z"
   },
   {
    "duration": 6,
    "start_time": "2022-09-26T13:41:07.544Z"
   },
   {
    "duration": 12,
    "start_time": "2022-09-26T13:41:07.551Z"
   },
   {
    "duration": 57,
    "start_time": "2022-09-26T13:41:07.564Z"
   },
   {
    "duration": 58,
    "start_time": "2022-09-26T13:41:07.623Z"
   },
   {
    "duration": 7,
    "start_time": "2022-09-26T13:41:07.682Z"
   },
   {
    "duration": 28,
    "start_time": "2022-09-26T13:41:07.690Z"
   },
   {
    "duration": 159,
    "start_time": "2022-09-26T13:41:07.719Z"
   },
   {
    "duration": 44,
    "start_time": "2022-09-26T13:41:07.880Z"
   },
   {
    "duration": 163,
    "start_time": "2022-09-26T13:41:07.926Z"
   },
   {
    "duration": 27,
    "start_time": "2022-09-26T13:41:08.090Z"
   },
   {
    "duration": 12,
    "start_time": "2022-09-26T13:41:08.119Z"
   },
   {
    "duration": 18,
    "start_time": "2022-09-26T13:42:39.718Z"
   },
   {
    "duration": 14,
    "start_time": "2022-09-26T13:45:38.757Z"
   },
   {
    "duration": 16,
    "start_time": "2022-09-26T13:46:02.679Z"
   },
   {
    "duration": 15,
    "start_time": "2022-09-26T13:48:33.239Z"
   },
   {
    "duration": 57,
    "start_time": "2022-09-26T13:49:07.641Z"
   },
   {
    "duration": 16,
    "start_time": "2022-09-26T13:50:01.232Z"
   },
   {
    "duration": 736,
    "start_time": "2022-09-26T13:52:35.007Z"
   },
   {
    "duration": 839,
    "start_time": "2022-09-26T13:52:55.550Z"
   },
   {
    "duration": 11,
    "start_time": "2022-09-26T13:53:12.186Z"
   },
   {
    "duration": 46,
    "start_time": "2022-09-26T13:57:30.539Z"
   },
   {
    "duration": 11,
    "start_time": "2022-09-26T13:57:49.279Z"
   },
   {
    "duration": 10,
    "start_time": "2022-09-26T13:57:53.531Z"
   },
   {
    "duration": 13,
    "start_time": "2022-09-26T13:58:03.748Z"
   },
   {
    "duration": 1043,
    "start_time": "2022-09-27T09:28:58.080Z"
   },
   {
    "duration": 142,
    "start_time": "2022-09-27T09:28:59.124Z"
   },
   {
    "duration": 17,
    "start_time": "2022-09-27T09:28:59.267Z"
   },
   {
    "duration": 6,
    "start_time": "2022-09-27T09:28:59.286Z"
   },
   {
    "duration": 19,
    "start_time": "2022-09-27T09:28:59.305Z"
   },
   {
    "duration": 16,
    "start_time": "2022-09-27T09:28:59.326Z"
   },
   {
    "duration": 12,
    "start_time": "2022-09-27T09:28:59.344Z"
   },
   {
    "duration": 87,
    "start_time": "2022-09-27T09:28:59.357Z"
   },
   {
    "duration": 83,
    "start_time": "2022-09-27T09:28:59.445Z"
   },
   {
    "duration": 23,
    "start_time": "2022-09-27T09:28:59.531Z"
   },
   {
    "duration": 6,
    "start_time": "2022-09-27T09:28:59.556Z"
   },
   {
    "duration": 6,
    "start_time": "2022-09-27T09:28:59.563Z"
   },
   {
    "duration": 6,
    "start_time": "2022-09-27T09:28:59.570Z"
   },
   {
    "duration": 3,
    "start_time": "2022-09-27T09:28:59.577Z"
   },
   {
    "duration": 309,
    "start_time": "2022-09-27T09:28:59.607Z"
   },
   {
    "duration": 12,
    "start_time": "2022-09-27T09:28:59.918Z"
   },
   {
    "duration": 50,
    "start_time": "2022-09-27T09:28:59.931Z"
   },
   {
    "duration": 30,
    "start_time": "2022-09-27T09:28:59.983Z"
   },
   {
    "duration": 8,
    "start_time": "2022-09-27T09:29:00.015Z"
   },
   {
    "duration": 5,
    "start_time": "2022-09-27T09:29:00.025Z"
   },
   {
    "duration": 10,
    "start_time": "2022-09-27T09:29:00.031Z"
   },
   {
    "duration": 25,
    "start_time": "2022-09-27T09:29:00.042Z"
   },
   {
    "duration": 77,
    "start_time": "2022-09-27T09:29:00.068Z"
   },
   {
    "duration": 7,
    "start_time": "2022-09-27T09:29:00.147Z"
   },
   {
    "duration": 13,
    "start_time": "2022-09-27T09:29:00.156Z"
   },
   {
    "duration": 169,
    "start_time": "2022-09-27T09:29:00.171Z"
   },
   {
    "duration": 65,
    "start_time": "2022-09-27T09:29:00.341Z"
   },
   {
    "duration": 132,
    "start_time": "2022-09-27T09:29:00.409Z"
   },
   {
    "duration": 13,
    "start_time": "2022-09-27T09:29:00.542Z"
   },
   {
    "duration": 14,
    "start_time": "2022-09-27T09:29:00.556Z"
   },
   {
    "duration": 35,
    "start_time": "2022-09-27T09:29:00.571Z"
   },
   {
    "duration": 10,
    "start_time": "2022-09-27T09:29:00.608Z"
   },
   {
    "duration": 45,
    "start_time": "2022-09-27T09:29:00.620Z"
   },
   {
    "duration": 84,
    "start_time": "2022-09-27T09:29:15.785Z"
   },
   {
    "duration": 11,
    "start_time": "2022-09-27T09:33:45.858Z"
   },
   {
    "duration": 1347,
    "start_time": "2022-09-28T08:42:38.828Z"
   },
   {
    "duration": 1065,
    "start_time": "2022-09-28T08:42:40.178Z"
   },
   {
    "duration": 36,
    "start_time": "2022-09-28T08:42:41.245Z"
   },
   {
    "duration": 10,
    "start_time": "2022-09-28T08:42:41.283Z"
   },
   {
    "duration": 49,
    "start_time": "2022-09-28T08:42:41.294Z"
   },
   {
    "duration": 44,
    "start_time": "2022-09-28T08:42:41.346Z"
   },
   {
    "duration": 25,
    "start_time": "2022-09-28T08:42:41.393Z"
   },
   {
    "duration": 125,
    "start_time": "2022-09-28T08:42:41.420Z"
   },
   {
    "duration": 155,
    "start_time": "2022-09-28T08:42:41.549Z"
   },
   {
    "duration": 44,
    "start_time": "2022-09-28T08:42:41.707Z"
   },
   {
    "duration": 9,
    "start_time": "2022-09-28T08:42:41.754Z"
   },
   {
    "duration": 30,
    "start_time": "2022-09-28T08:42:41.764Z"
   },
   {
    "duration": 16,
    "start_time": "2022-09-28T08:42:41.797Z"
   },
   {
    "duration": 29,
    "start_time": "2022-09-28T08:42:41.816Z"
   },
   {
    "duration": 479,
    "start_time": "2022-09-28T08:42:41.848Z"
   },
   {
    "duration": 13,
    "start_time": "2022-09-28T08:42:42.329Z"
   },
   {
    "duration": 105,
    "start_time": "2022-09-28T08:42:42.345Z"
   },
   {
    "duration": 14,
    "start_time": "2022-09-28T08:42:42.452Z"
   },
   {
    "duration": 26,
    "start_time": "2022-09-28T08:42:42.468Z"
   },
   {
    "duration": 6,
    "start_time": "2022-09-28T08:42:42.496Z"
   },
   {
    "duration": 12,
    "start_time": "2022-09-28T08:42:42.503Z"
   },
   {
    "duration": 32,
    "start_time": "2022-09-28T08:42:42.517Z"
   },
   {
    "duration": 94,
    "start_time": "2022-09-28T08:42:42.551Z"
   },
   {
    "duration": 10,
    "start_time": "2022-09-28T08:42:42.647Z"
   },
   {
    "duration": 35,
    "start_time": "2022-09-28T08:42:42.658Z"
   },
   {
    "duration": 168,
    "start_time": "2022-09-28T08:42:42.695Z"
   },
   {
    "duration": 47,
    "start_time": "2022-09-28T08:42:42.865Z"
   },
   {
    "duration": 182,
    "start_time": "2022-09-28T08:42:42.915Z"
   },
   {
    "duration": 15,
    "start_time": "2022-09-28T08:42:43.099Z"
   },
   {
    "duration": 22,
    "start_time": "2022-09-28T08:42:43.116Z"
   },
   {
    "duration": 20,
    "start_time": "2022-09-28T08:42:43.140Z"
   },
   {
    "duration": 40,
    "start_time": "2022-09-28T08:42:43.162Z"
   },
   {
    "duration": 15,
    "start_time": "2022-09-28T08:42:43.204Z"
   },
   {
    "duration": 15,
    "start_time": "2022-09-28T08:43:48.099Z"
   },
   {
    "duration": 62,
    "start_time": "2022-09-28T08:43:50.791Z"
   },
   {
    "duration": 11,
    "start_time": "2022-09-28T08:43:56.591Z"
   },
   {
    "duration": 1132,
    "start_time": "2022-09-28T08:44:03.039Z"
   },
   {
    "duration": 172,
    "start_time": "2022-09-28T08:44:04.173Z"
   },
   {
    "duration": 22,
    "start_time": "2022-09-28T08:44:04.347Z"
   },
   {
    "duration": 11,
    "start_time": "2022-09-28T08:44:04.371Z"
   },
   {
    "duration": 28,
    "start_time": "2022-09-28T08:44:04.399Z"
   },
   {
    "duration": 24,
    "start_time": "2022-09-28T08:44:04.428Z"
   },
   {
    "duration": 17,
    "start_time": "2022-09-28T08:44:04.453Z"
   },
   {
    "duration": 94,
    "start_time": "2022-09-28T08:44:04.471Z"
   },
   {
    "duration": 112,
    "start_time": "2022-09-28T08:44:04.566Z"
   },
   {
    "duration": 38,
    "start_time": "2022-09-28T08:44:04.681Z"
   },
   {
    "duration": 8,
    "start_time": "2022-09-28T08:44:04.720Z"
   },
   {
    "duration": 7,
    "start_time": "2022-09-28T08:44:04.730Z"
   },
   {
    "duration": 14,
    "start_time": "2022-09-28T08:44:04.738Z"
   },
   {
    "duration": 6,
    "start_time": "2022-09-28T08:44:04.754Z"
   },
   {
    "duration": 384,
    "start_time": "2022-09-28T08:44:04.761Z"
   },
   {
    "duration": 15,
    "start_time": "2022-09-28T08:44:05.147Z"
   },
   {
    "duration": 82,
    "start_time": "2022-09-28T08:44:05.163Z"
   },
   {
    "duration": 14,
    "start_time": "2022-09-28T08:44:05.248Z"
   },
   {
    "duration": 30,
    "start_time": "2022-09-28T08:44:05.264Z"
   },
   {
    "duration": 6,
    "start_time": "2022-09-28T08:44:05.295Z"
   },
   {
    "duration": 12,
    "start_time": "2022-09-28T08:44:05.303Z"
   },
   {
    "duration": 31,
    "start_time": "2022-09-28T08:44:05.317Z"
   },
   {
    "duration": 95,
    "start_time": "2022-09-28T08:44:05.350Z"
   },
   {
    "duration": 9,
    "start_time": "2022-09-28T08:44:05.448Z"
   },
   {
    "duration": 30,
    "start_time": "2022-09-28T08:44:05.458Z"
   },
   {
    "duration": 164,
    "start_time": "2022-09-28T08:44:05.490Z"
   },
   {
    "duration": 68,
    "start_time": "2022-09-28T08:44:05.657Z"
   },
   {
    "duration": 170,
    "start_time": "2022-09-28T08:44:05.730Z"
   },
   {
    "duration": 13,
    "start_time": "2022-09-28T08:44:05.902Z"
   },
   {
    "duration": 19,
    "start_time": "2022-09-28T08:44:05.917Z"
   },
   {
    "duration": 16,
    "start_time": "2022-09-28T08:44:05.938Z"
   },
   {
    "duration": 36,
    "start_time": "2022-09-28T08:44:05.956Z"
   },
   {
    "duration": 21,
    "start_time": "2022-09-28T08:44:05.994Z"
   },
   {
    "duration": 12,
    "start_time": "2022-09-28T08:45:31.250Z"
   },
   {
    "duration": 114,
    "start_time": "2022-09-28T08:48:43.072Z"
   },
   {
    "duration": 80,
    "start_time": "2022-09-28T08:51:35.167Z"
   },
   {
    "duration": 103,
    "start_time": "2022-09-28T08:51:49.958Z"
   },
   {
    "duration": 104,
    "start_time": "2022-09-28T08:52:03.474Z"
   },
   {
    "duration": 93,
    "start_time": "2022-09-28T08:52:11.022Z"
   },
   {
    "duration": 68,
    "start_time": "2022-09-28T08:52:20.338Z"
   },
   {
    "duration": 42,
    "start_time": "2022-09-28T08:54:12.779Z"
   },
   {
    "duration": 5,
    "start_time": "2022-09-28T08:54:22.696Z"
   },
   {
    "duration": 11,
    "start_time": "2022-09-28T08:54:45.350Z"
   },
   {
    "duration": 11,
    "start_time": "2022-09-28T08:54:50.568Z"
   },
   {
    "duration": 5,
    "start_time": "2022-09-28T08:54:52.953Z"
   },
   {
    "duration": 22,
    "start_time": "2022-09-28T08:55:28.575Z"
   },
   {
    "duration": 30,
    "start_time": "2022-09-28T08:56:11.006Z"
   },
   {
    "duration": 109,
    "start_time": "2022-09-28T08:57:15.142Z"
   },
   {
    "duration": 28,
    "start_time": "2022-09-28T08:57:52.529Z"
   },
   {
    "duration": 6,
    "start_time": "2022-09-28T08:58:42.356Z"
   },
   {
    "duration": 4,
    "start_time": "2022-09-28T09:00:43.707Z"
   },
   {
    "duration": 43,
    "start_time": "2022-09-28T09:02:01.880Z"
   },
   {
    "duration": 17,
    "start_time": "2022-09-28T09:02:08.406Z"
   },
   {
    "duration": 64,
    "start_time": "2022-09-28T09:09:19.407Z"
   },
   {
    "duration": 66,
    "start_time": "2022-09-28T09:09:32.131Z"
   },
   {
    "duration": 5,
    "start_time": "2022-09-28T09:09:46.834Z"
   },
   {
    "duration": 72,
    "start_time": "2022-09-28T09:12:54.547Z"
   },
   {
    "duration": 67,
    "start_time": "2022-09-28T09:13:04.508Z"
   },
   {
    "duration": 1209,
    "start_time": "2022-09-28T09:13:11.106Z"
   },
   {
    "duration": 187,
    "start_time": "2022-09-28T09:13:12.317Z"
   },
   {
    "duration": 22,
    "start_time": "2022-09-28T09:13:12.506Z"
   },
   {
    "duration": 10,
    "start_time": "2022-09-28T09:13:12.530Z"
   },
   {
    "duration": 27,
    "start_time": "2022-09-28T09:13:12.541Z"
   },
   {
    "duration": 24,
    "start_time": "2022-09-28T09:13:12.588Z"
   },
   {
    "duration": 17,
    "start_time": "2022-09-28T09:13:12.614Z"
   },
   {
    "duration": 104,
    "start_time": "2022-09-28T09:13:12.633Z"
   },
   {
    "duration": 128,
    "start_time": "2022-09-28T09:13:12.739Z"
   },
   {
    "duration": 40,
    "start_time": "2022-09-28T09:13:12.871Z"
   },
   {
    "duration": 9,
    "start_time": "2022-09-28T09:13:12.912Z"
   },
   {
    "duration": 15,
    "start_time": "2022-09-28T09:13:12.923Z"
   },
   {
    "duration": 7,
    "start_time": "2022-09-28T09:13:12.941Z"
   },
   {
    "duration": 4,
    "start_time": "2022-09-28T09:13:12.950Z"
   },
   {
    "duration": 408,
    "start_time": "2022-09-28T09:13:12.956Z"
   },
   {
    "duration": 25,
    "start_time": "2022-09-28T09:13:13.366Z"
   },
   {
    "duration": 3,
    "start_time": "2022-09-28T09:13:13.393Z"
   },
   {
    "duration": 27,
    "start_time": "2022-09-28T09:13:13.398Z"
   },
   {
    "duration": 10,
    "start_time": "2022-09-28T09:13:13.427Z"
   },
   {
    "duration": 6,
    "start_time": "2022-09-28T09:13:13.439Z"
   },
   {
    "duration": 16,
    "start_time": "2022-09-28T09:13:13.446Z"
   },
   {
    "duration": 48,
    "start_time": "2022-09-28T09:13:13.464Z"
   },
   {
    "duration": 4,
    "start_time": "2022-09-28T09:13:13.513Z"
   },
   {
    "duration": 186,
    "start_time": "2022-09-28T09:13:13.519Z"
   },
   {
    "duration": 0,
    "start_time": "2022-09-28T09:13:13.706Z"
   },
   {
    "duration": 0,
    "start_time": "2022-09-28T09:13:13.708Z"
   },
   {
    "duration": 0,
    "start_time": "2022-09-28T09:13:13.709Z"
   },
   {
    "duration": 1,
    "start_time": "2022-09-28T09:13:13.709Z"
   },
   {
    "duration": 0,
    "start_time": "2022-09-28T09:13:13.711Z"
   },
   {
    "duration": 0,
    "start_time": "2022-09-28T09:13:13.712Z"
   },
   {
    "duration": 0,
    "start_time": "2022-09-28T09:13:13.713Z"
   },
   {
    "duration": 0,
    "start_time": "2022-09-28T09:13:13.714Z"
   },
   {
    "duration": 0,
    "start_time": "2022-09-28T09:13:13.715Z"
   },
   {
    "duration": 0,
    "start_time": "2022-09-28T09:13:13.717Z"
   },
   {
    "duration": 71,
    "start_time": "2022-09-28T09:14:10.999Z"
   },
   {
    "duration": 236,
    "start_time": "2022-09-28T09:14:50.597Z"
   },
   {
    "duration": 73,
    "start_time": "2022-09-28T09:15:08.310Z"
   },
   {
    "duration": 98,
    "start_time": "2022-09-28T09:16:49.794Z"
   },
   {
    "duration": 80,
    "start_time": "2022-09-28T09:17:13.159Z"
   },
   {
    "duration": 10,
    "start_time": "2022-09-28T09:18:49.096Z"
   },
   {
    "duration": 9,
    "start_time": "2022-09-28T09:18:51.629Z"
   },
   {
    "duration": 1123,
    "start_time": "2022-09-28T09:19:00.043Z"
   },
   {
    "duration": 191,
    "start_time": "2022-09-28T09:19:01.168Z"
   },
   {
    "duration": 31,
    "start_time": "2022-09-28T09:19:01.360Z"
   },
   {
    "duration": 35,
    "start_time": "2022-09-28T09:19:01.395Z"
   },
   {
    "duration": 57,
    "start_time": "2022-09-28T09:19:01.432Z"
   },
   {
    "duration": 26,
    "start_time": "2022-09-28T09:19:01.491Z"
   },
   {
    "duration": 27,
    "start_time": "2022-09-28T09:19:01.519Z"
   },
   {
    "duration": 103,
    "start_time": "2022-09-28T09:19:01.548Z"
   },
   {
    "duration": 115,
    "start_time": "2022-09-28T09:19:01.653Z"
   },
   {
    "duration": 61,
    "start_time": "2022-09-28T09:19:01.771Z"
   },
   {
    "duration": 12,
    "start_time": "2022-09-28T09:19:01.834Z"
   },
   {
    "duration": 11,
    "start_time": "2022-09-28T09:19:01.849Z"
   },
   {
    "duration": 29,
    "start_time": "2022-09-28T09:19:01.862Z"
   },
   {
    "duration": 4,
    "start_time": "2022-09-28T09:19:01.894Z"
   },
   {
    "duration": 542,
    "start_time": "2022-09-28T09:19:01.900Z"
   },
   {
    "duration": 14,
    "start_time": "2022-09-28T09:19:02.444Z"
   },
   {
    "duration": 4,
    "start_time": "2022-09-28T09:19:02.460Z"
   },
   {
    "duration": 31,
    "start_time": "2022-09-28T09:19:02.466Z"
   },
   {
    "duration": 11,
    "start_time": "2022-09-28T09:19:02.499Z"
   },
   {
    "duration": 5,
    "start_time": "2022-09-28T09:19:02.512Z"
   },
   {
    "duration": 19,
    "start_time": "2022-09-28T09:19:02.518Z"
   },
   {
    "duration": 62,
    "start_time": "2022-09-28T09:19:02.539Z"
   },
   {
    "duration": 5,
    "start_time": "2022-09-28T09:19:02.603Z"
   },
   {
    "duration": 84,
    "start_time": "2022-09-28T09:19:02.610Z"
   },
   {
    "duration": 8,
    "start_time": "2022-09-28T09:19:02.696Z"
   },
   {
    "duration": 1971,
    "start_time": "2022-09-28T09:19:02.706Z"
   },
   {
    "duration": 0,
    "start_time": "2022-09-28T09:19:04.679Z"
   },
   {
    "duration": 0,
    "start_time": "2022-09-28T09:19:04.680Z"
   },
   {
    "duration": 0,
    "start_time": "2022-09-28T09:19:04.681Z"
   },
   {
    "duration": 0,
    "start_time": "2022-09-28T09:19:04.682Z"
   },
   {
    "duration": 0,
    "start_time": "2022-09-28T09:19:04.683Z"
   },
   {
    "duration": 0,
    "start_time": "2022-09-28T09:19:04.684Z"
   },
   {
    "duration": 0,
    "start_time": "2022-09-28T09:19:04.686Z"
   },
   {
    "duration": 0,
    "start_time": "2022-09-28T09:19:04.687Z"
   },
   {
    "duration": 12,
    "start_time": "2022-09-28T09:19:27.031Z"
   },
   {
    "duration": 216,
    "start_time": "2022-09-28T09:19:39.855Z"
   },
   {
    "duration": 6,
    "start_time": "2022-09-28T09:20:39.424Z"
   },
   {
    "duration": 5,
    "start_time": "2022-09-28T09:21:31.999Z"
   },
   {
    "duration": 27,
    "start_time": "2022-09-28T09:25:57.348Z"
   },
   {
    "duration": 1221,
    "start_time": "2022-09-28T09:26:12.268Z"
   },
   {
    "duration": 187,
    "start_time": "2022-09-28T09:26:13.491Z"
   },
   {
    "duration": 28,
    "start_time": "2022-09-28T09:26:13.680Z"
   },
   {
    "duration": 8,
    "start_time": "2022-09-28T09:26:13.710Z"
   },
   {
    "duration": 26,
    "start_time": "2022-09-28T09:26:13.720Z"
   },
   {
    "duration": 45,
    "start_time": "2022-09-28T09:26:13.748Z"
   },
   {
    "duration": 19,
    "start_time": "2022-09-28T09:26:13.795Z"
   },
   {
    "duration": 102,
    "start_time": "2022-09-28T09:26:13.816Z"
   },
   {
    "duration": 118,
    "start_time": "2022-09-28T09:26:13.919Z"
   },
   {
    "duration": 33,
    "start_time": "2022-09-28T09:26:14.040Z"
   },
   {
    "duration": 21,
    "start_time": "2022-09-28T09:26:14.075Z"
   },
   {
    "duration": 11,
    "start_time": "2022-09-28T09:26:14.098Z"
   },
   {
    "duration": 9,
    "start_time": "2022-09-28T09:26:14.111Z"
   },
   {
    "duration": 9,
    "start_time": "2022-09-28T09:26:14.122Z"
   },
   {
    "duration": 406,
    "start_time": "2022-09-28T09:26:14.133Z"
   },
   {
    "duration": 18,
    "start_time": "2022-09-28T09:26:14.541Z"
   },
   {
    "duration": 5,
    "start_time": "2022-09-28T09:26:14.563Z"
   },
   {
    "duration": 47,
    "start_time": "2022-09-28T09:26:14.571Z"
   },
   {
    "duration": 19,
    "start_time": "2022-09-28T09:26:14.621Z"
   },
   {
    "duration": 10,
    "start_time": "2022-09-28T09:26:14.643Z"
   },
   {
    "duration": 43,
    "start_time": "2022-09-28T09:26:14.656Z"
   },
   {
    "duration": 31,
    "start_time": "2022-09-28T09:26:14.702Z"
   },
   {
    "duration": 5,
    "start_time": "2022-09-28T09:26:14.735Z"
   },
   {
    "duration": 100,
    "start_time": "2022-09-28T09:26:14.742Z"
   },
   {
    "duration": 9,
    "start_time": "2022-09-28T09:26:14.844Z"
   },
   {
    "duration": 12,
    "start_time": "2022-09-28T09:26:14.855Z"
   },
   {
    "duration": 5,
    "start_time": "2022-09-28T09:26:14.890Z"
   },
   {
    "duration": 173,
    "start_time": "2022-09-28T09:26:14.897Z"
   },
   {
    "duration": 43,
    "start_time": "2022-09-28T09:26:15.071Z"
   },
   {
    "duration": 215,
    "start_time": "2022-09-28T09:26:15.116Z"
   },
   {
    "duration": 15,
    "start_time": "2022-09-28T09:26:15.332Z"
   },
   {
    "duration": 18,
    "start_time": "2022-09-28T09:26:15.349Z"
   },
   {
    "duration": 21,
    "start_time": "2022-09-28T09:26:15.395Z"
   },
   {
    "duration": 23,
    "start_time": "2022-09-28T09:26:15.419Z"
   },
   {
    "duration": 17,
    "start_time": "2022-09-28T09:26:15.444Z"
   },
   {
    "duration": 5,
    "start_time": "2022-09-28T12:34:58.904Z"
   },
   {
    "duration": 17,
    "start_time": "2022-09-28T12:39:44.487Z"
   },
   {
    "duration": 14,
    "start_time": "2022-09-28T12:43:35.241Z"
   },
   {
    "duration": 13,
    "start_time": "2022-09-28T12:43:39.128Z"
   },
   {
    "duration": 13,
    "start_time": "2022-09-28T12:44:13.769Z"
   },
   {
    "duration": 20,
    "start_time": "2022-09-28T12:45:01.770Z"
   },
   {
    "duration": 313,
    "start_time": "2022-09-28T12:47:32.625Z"
   },
   {
    "duration": 414,
    "start_time": "2022-09-28T12:47:43.538Z"
   },
   {
    "duration": 20,
    "start_time": "2022-09-28T12:49:53.904Z"
   },
   {
    "duration": 194,
    "start_time": "2022-09-28T12:49:57.617Z"
   },
   {
    "duration": 32,
    "start_time": "2022-09-28T12:50:02.687Z"
   },
   {
    "duration": 35,
    "start_time": "2022-09-28T12:50:16.909Z"
   },
   {
    "duration": 68,
    "start_time": "2022-09-30T12:54:04.382Z"
   },
   {
    "duration": 1347,
    "start_time": "2022-09-30T12:54:09.433Z"
   },
   {
    "duration": 814,
    "start_time": "2022-09-30T12:54:10.782Z"
   },
   {
    "duration": 30,
    "start_time": "2022-09-30T12:54:11.598Z"
   },
   {
    "duration": 24,
    "start_time": "2022-09-30T12:54:11.631Z"
   },
   {
    "duration": 53,
    "start_time": "2022-09-30T12:54:11.657Z"
   },
   {
    "duration": 23,
    "start_time": "2022-09-30T12:54:11.716Z"
   },
   {
    "duration": 25,
    "start_time": "2022-09-30T12:54:11.740Z"
   },
   {
    "duration": 97,
    "start_time": "2022-09-30T12:54:11.767Z"
   },
   {
    "duration": 116,
    "start_time": "2022-09-30T12:54:11.865Z"
   },
   {
    "duration": 39,
    "start_time": "2022-09-30T12:54:11.984Z"
   },
   {
    "duration": 27,
    "start_time": "2022-09-30T12:54:12.024Z"
   },
   {
    "duration": 38,
    "start_time": "2022-09-30T12:54:12.053Z"
   },
   {
    "duration": 69,
    "start_time": "2022-09-30T12:54:12.093Z"
   },
   {
    "duration": 6,
    "start_time": "2022-09-30T12:54:12.163Z"
   },
   {
    "duration": 41,
    "start_time": "2022-09-30T12:54:12.171Z"
   },
   {
    "duration": 521,
    "start_time": "2022-09-30T12:54:12.214Z"
   },
   {
    "duration": 14,
    "start_time": "2022-09-30T12:54:12.737Z"
   },
   {
    "duration": 4,
    "start_time": "2022-09-30T12:54:12.753Z"
   },
   {
    "duration": 44,
    "start_time": "2022-09-30T12:54:12.759Z"
   },
   {
    "duration": 15,
    "start_time": "2022-09-30T12:54:12.806Z"
   },
   {
    "duration": 6,
    "start_time": "2022-09-30T12:54:12.824Z"
   },
   {
    "duration": 31,
    "start_time": "2022-09-30T12:54:12.832Z"
   },
   {
    "duration": 51,
    "start_time": "2022-09-30T12:54:12.865Z"
   },
   {
    "duration": 10,
    "start_time": "2022-09-30T12:54:12.919Z"
   },
   {
    "duration": 92,
    "start_time": "2022-09-30T12:54:12.931Z"
   },
   {
    "duration": 12,
    "start_time": "2022-09-30T12:54:13.025Z"
   },
   {
    "duration": 12,
    "start_time": "2022-09-30T12:54:13.039Z"
   },
   {
    "duration": 12,
    "start_time": "2022-09-30T12:54:13.055Z"
   },
   {
    "duration": 216,
    "start_time": "2022-09-30T12:54:13.069Z"
   },
   {
    "duration": 45,
    "start_time": "2022-09-30T12:54:13.288Z"
   },
   {
    "duration": 198,
    "start_time": "2022-09-30T12:54:13.334Z"
   },
   {
    "duration": 5,
    "start_time": "2022-09-30T12:54:13.534Z"
   },
   {
    "duration": 23,
    "start_time": "2022-09-30T12:54:13.541Z"
   },
   {
    "duration": 39,
    "start_time": "2022-09-30T12:54:13.566Z"
   },
   {
    "duration": 26,
    "start_time": "2022-09-30T12:54:13.608Z"
   },
   {
    "duration": 18,
    "start_time": "2022-09-30T12:54:13.636Z"
   },
   {
    "duration": 17,
    "start_time": "2022-09-30T12:54:13.656Z"
   }
  ],
  "kernelspec": {
   "display_name": "Python 3 (ipykernel)",
   "language": "python",
   "name": "python3"
  },
  "language_info": {
   "codemirror_mode": {
    "name": "ipython",
    "version": 3
   },
   "file_extension": ".py",
   "mimetype": "text/x-python",
   "name": "python",
   "nbconvert_exporter": "python",
   "pygments_lexer": "ipython3",
   "version": "3.9.12"
  },
  "toc": {
   "base_numbering": 1,
   "nav_menu": {},
   "number_sections": true,
   "sideBar": true,
   "skip_h1_title": true,
   "title_cell": "Table of Contents",
   "title_sidebar": "Contents",
   "toc_cell": false,
   "toc_position": {
    "height": "calc(100% - 180px)",
    "left": "10px",
    "top": "150px",
    "width": "270.188px"
   },
   "toc_section_display": true,
   "toc_window_display": false
  }
 },
 "nbformat": 4,
 "nbformat_minor": 2
}
