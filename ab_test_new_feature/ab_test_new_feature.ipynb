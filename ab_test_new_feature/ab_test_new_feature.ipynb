{
 "cells": [
  {
   "cell_type": "markdown",
   "id": "ab75848f",
   "metadata": {},
   "source": [
    "## A/B-тест"
   ]
  },
  {
   "cell_type": "markdown",
   "id": "0f20400c",
   "metadata": {},
   "source": [
    "**Цель исследования** - провести оценку результатов A/B-теста.\n",
    "\n",
    "Задачи:\n",
    "- Оцените корректность проведения теста\n",
    "- Проанализируйте результаты теста\n",
    "\n",
    "\n",
    "Ход исследования:\n",
    "\n",
    "**1. Обзор данных**\n",
    "- Ознакомиться с данными в датасетах.\n",
    "- Посмотреть общую информацию о датасетах.\n",
    "\n",
    "**2. Предобработка данных**\n",
    "- Проверить корректность типов данных.\n",
    "- Проверить данные на дубликаты и пропуски. Описать природу этих данных, если они будут обнаружены.\n",
    "- Оценить корректность проведения теста. Обратить внимание на:\n",
    "    - Соответствие данных требованиям технического задания. Проверить корректность всех пунктов технического задания.\n",
    "    - Время проведения теста. Убедиться, что оно не совпадает с маркетинговыми и другими активностями.\n",
    "    - Аудиторию теста. Удостовериться, что нет пересечений с конкурирующим тестом и нет пользователей, участвующих в двух группах теста одновременно. Проверить равномерность распределения по тестовым группам и правильность их формирования.\n",
    "\n",
    "**3. Исследовательский анализ данных**\n",
    "- Узнать:\n",
    "    - Количество событий на пользователя одинаково распределены в выборках?\n",
    "    - Как число событий в выборках распределено по дням?\n",
    "    - Как меняется конверсия в воронке в выборках на разных этапах?\n",
    "    - Какие особенности данных нужно учесть, прежде чем приступать к A/B-тестированию?\n",
    "   \n",
    "**4. Оценка результатов A/B-тестирования**\n",
    "- Что можно сказать про результаты A/В-тестирования?\n",
    "- Проверьте статистическую разницу долей z-критерием.\n",
    "    \n",
    "**5. Общие выводы** \n",
    "- Описать выводы по этапу исследовательского анализа данных и по проведённой оценке результатов A/B-тестирования. Сделать общее заключение о корректности проведения теста."
   ]
  },
  {
   "cell_type": "markdown",
   "id": "82e6b5ff",
   "metadata": {},
   "source": [
    "**Техническое задание:**\n",
    "- Название теста: `recommender_system_test`;\n",
    "- группы: А — контрольная, B — новая платёжная воронка;\n",
    "- дата запуска: 2020-12-07;\n",
    "- дата остановки набора новых пользователей: 2020-12-21;\n",
    "- дата остановки: 2021-01-04;\n",
    "- аудитория: 15% новых пользователей из региона EU;\n",
    "- назначение теста: тестирование изменений, связанных с внедрением улучшенной рекомендательной системы;\n",
    "- ожидаемое количество участников теста: 6000.\n",
    "- ожидаемый эффект: за 14 дней с момента регистрации пользователи покажут улучшение каждой метрики не менее, чем на 10%:\n",
    "    - конверсии в просмотр карточек товаров — событие `product_page`,\n",
    "    - просмотры корзины — `product_cart`,\n",
    "    - покупки — `purchase`."
   ]
  },
  {
   "cell_type": "markdown",
   "id": "a7c1f265",
   "metadata": {},
   "source": [
    "### Описание данных\n",
    "\n",
    "`ab_project_marketing_events.csv` — календарь маркетинговых событий на 2020 год.\n",
    "\n",
    "Структура файла:\n",
    "\n",
    "- `name` — название маркетингового события;\n",
    "- `regions` — регионы, в которых будет проводиться рекламная кампания;\n",
    "- `start_dt` — дата начала кампании;\n",
    "- `finish_dt` — дата завершения кампании.\n",
    "\n",
    "`final_ab_new_users.csv` — пользователи, зарегистрировавшиеся с 7 по 21 декабря 2020 года.\n",
    "\n",
    "Структура файла:\n",
    "\n",
    "- `user_id` — идентификатор пользователя;\n",
    "- `first_date` — дата регистрации;\n",
    "- `region` — регион пользователя;\n",
    "- `device` — устройство, с которого происходила регистрация.\n",
    "\n",
    "`final_ab_events.csv` — действия новых пользователей в период с 7 декабря 2020 по 4 января 2021 года.\n",
    "\n",
    "Структура файла:\n",
    "\n",
    "- `user_id` — идентификатор пользователя;\n",
    "- `event_dt` — дата и время покупки;\n",
    "- `event_name` — тип события;\n",
    "- `details` — дополнительные данные о событии. Например, для покупок, `purchase,` в этом поле хранится стоимость покупки в долларах.\n",
    "\n",
    "`final_ab_participants.csv` — таблица участников тестов.\n",
    "\n",
    "Структура файла:\n",
    "\n",
    "- `user_id` — идентификатор пользователя;\n",
    "- `ab_test` — название теста;\n",
    "- `group` — группа пользователя."
   ]
  },
  {
   "cell_type": "markdown",
   "id": "753c8288",
   "metadata": {},
   "source": [
    "## 1. Обзор данных"
   ]
  },
  {
   "cell_type": "code",
   "execution_count": 1,
   "id": "d2f129ac",
   "metadata": {},
   "outputs": [
    {
     "name": "stdout",
     "output_type": "stream",
     "text": [
      "Note: you may need to restart the kernel to use updated packages.\n"
     ]
    }
   ],
   "source": [
    "# настроим нашу тетрадку так, чтобы все графики были картинками (пригодится для github)\n",
    "%pip install -U kaleido -q\n",
    "import plotly.io as pio\n",
    "pio.renderers.default = \"png\"\n",
    "\n",
    "# импортируем библиотеки, необходимые для исследования\n",
    "\n",
    "import pandas as pd\n",
    "import datetime as dt\n",
    "import numpy as np\n",
    "import plotly.express as px\n",
    "from plotly import graph_objects as go\n",
    "import scipy.stats as stats\n",
    "import math as mth\n",
    "import warnings"
   ]
  },
  {
   "cell_type": "code",
   "execution_count": 2,
   "id": "e151c269",
   "metadata": {},
   "outputs": [],
   "source": [
    "calendar, new_users, events, groups = (\n",
    "    pd.read_csv('/Users/polinamokretsova/Downloads/ab_project_marketing_events.csv'), # календарь маркетинговых событий\n",
    "    pd.read_csv('/Users/polinamokretsova/final_ab_new_users.csv'), # новые пользователи\n",
    "    pd.read_csv('/Users/polinamokretsova/final_ab_events.csv'), # действия новых пользователей\n",
    "    pd.read_csv('/Users/polinamokretsova/final_ab_participants.csv') # участники тестов\n",
    ")"
   ]
  },
  {
   "cell_type": "code",
   "execution_count": 3,
   "id": "343dd4bc",
   "metadata": {},
   "outputs": [
    {
     "data": {
      "text/html": [
       "<div>\n",
       "<style scoped>\n",
       "    .dataframe tbody tr th:only-of-type {\n",
       "        vertical-align: middle;\n",
       "    }\n",
       "\n",
       "    .dataframe tbody tr th {\n",
       "        vertical-align: top;\n",
       "    }\n",
       "\n",
       "    .dataframe thead th {\n",
       "        text-align: right;\n",
       "    }\n",
       "</style>\n",
       "<table border=\"1\" class=\"dataframe\">\n",
       "  <thead>\n",
       "    <tr style=\"text-align: right;\">\n",
       "      <th></th>\n",
       "      <th>name</th>\n",
       "      <th>regions</th>\n",
       "      <th>start_dt</th>\n",
       "      <th>finish_dt</th>\n",
       "    </tr>\n",
       "  </thead>\n",
       "  <tbody>\n",
       "    <tr>\n",
       "      <th>0</th>\n",
       "      <td>Christmas&amp;New Year Promo</td>\n",
       "      <td>EU, N.America</td>\n",
       "      <td>2020-12-25</td>\n",
       "      <td>2021-01-03</td>\n",
       "    </tr>\n",
       "    <tr>\n",
       "      <th>1</th>\n",
       "      <td>St. Valentine's Day Giveaway</td>\n",
       "      <td>EU, CIS, APAC, N.America</td>\n",
       "      <td>2020-02-14</td>\n",
       "      <td>2020-02-16</td>\n",
       "    </tr>\n",
       "    <tr>\n",
       "      <th>2</th>\n",
       "      <td>St. Patric's Day Promo</td>\n",
       "      <td>EU, N.America</td>\n",
       "      <td>2020-03-17</td>\n",
       "      <td>2020-03-19</td>\n",
       "    </tr>\n",
       "    <tr>\n",
       "      <th>3</th>\n",
       "      <td>Easter Promo</td>\n",
       "      <td>EU, CIS, APAC, N.America</td>\n",
       "      <td>2020-04-12</td>\n",
       "      <td>2020-04-19</td>\n",
       "    </tr>\n",
       "    <tr>\n",
       "      <th>4</th>\n",
       "      <td>4th of July Promo</td>\n",
       "      <td>N.America</td>\n",
       "      <td>2020-07-04</td>\n",
       "      <td>2020-07-11</td>\n",
       "    </tr>\n",
       "  </tbody>\n",
       "</table>\n",
       "</div>"
      ],
      "text/plain": [
       "                           name                   regions    start_dt  \\\n",
       "0      Christmas&New Year Promo             EU, N.America  2020-12-25   \n",
       "1  St. Valentine's Day Giveaway  EU, CIS, APAC, N.America  2020-02-14   \n",
       "2        St. Patric's Day Promo             EU, N.America  2020-03-17   \n",
       "3                  Easter Promo  EU, CIS, APAC, N.America  2020-04-12   \n",
       "4             4th of July Promo                 N.America  2020-07-04   \n",
       "\n",
       "    finish_dt  \n",
       "0  2021-01-03  \n",
       "1  2020-02-16  \n",
       "2  2020-03-19  \n",
       "3  2020-04-19  \n",
       "4  2020-07-11  "
      ]
     },
     "execution_count": 3,
     "metadata": {},
     "output_type": "execute_result"
    }
   ],
   "source": [
    "# выведем на экран поочередно первые строки каждого датафрэйма\n",
    "calendar.head()"
   ]
  },
  {
   "cell_type": "code",
   "execution_count": 4,
   "id": "5e996fb1",
   "metadata": {},
   "outputs": [
    {
     "data": {
      "text/html": [
       "<div>\n",
       "<style scoped>\n",
       "    .dataframe tbody tr th:only-of-type {\n",
       "        vertical-align: middle;\n",
       "    }\n",
       "\n",
       "    .dataframe tbody tr th {\n",
       "        vertical-align: top;\n",
       "    }\n",
       "\n",
       "    .dataframe thead th {\n",
       "        text-align: right;\n",
       "    }\n",
       "</style>\n",
       "<table border=\"1\" class=\"dataframe\">\n",
       "  <thead>\n",
       "    <tr style=\"text-align: right;\">\n",
       "      <th></th>\n",
       "      <th>user_id</th>\n",
       "      <th>first_date</th>\n",
       "      <th>region</th>\n",
       "      <th>device</th>\n",
       "    </tr>\n",
       "  </thead>\n",
       "  <tbody>\n",
       "    <tr>\n",
       "      <th>0</th>\n",
       "      <td>D72A72121175D8BE</td>\n",
       "      <td>2020-12-07</td>\n",
       "      <td>EU</td>\n",
       "      <td>PC</td>\n",
       "    </tr>\n",
       "    <tr>\n",
       "      <th>1</th>\n",
       "      <td>F1C668619DFE6E65</td>\n",
       "      <td>2020-12-07</td>\n",
       "      <td>N.America</td>\n",
       "      <td>Android</td>\n",
       "    </tr>\n",
       "    <tr>\n",
       "      <th>2</th>\n",
       "      <td>2E1BF1D4C37EA01F</td>\n",
       "      <td>2020-12-07</td>\n",
       "      <td>EU</td>\n",
       "      <td>PC</td>\n",
       "    </tr>\n",
       "    <tr>\n",
       "      <th>3</th>\n",
       "      <td>50734A22C0C63768</td>\n",
       "      <td>2020-12-07</td>\n",
       "      <td>EU</td>\n",
       "      <td>iPhone</td>\n",
       "    </tr>\n",
       "    <tr>\n",
       "      <th>4</th>\n",
       "      <td>E1BDDCE0DAFA2679</td>\n",
       "      <td>2020-12-07</td>\n",
       "      <td>N.America</td>\n",
       "      <td>iPhone</td>\n",
       "    </tr>\n",
       "  </tbody>\n",
       "</table>\n",
       "</div>"
      ],
      "text/plain": [
       "            user_id  first_date     region   device\n",
       "0  D72A72121175D8BE  2020-12-07         EU       PC\n",
       "1  F1C668619DFE6E65  2020-12-07  N.America  Android\n",
       "2  2E1BF1D4C37EA01F  2020-12-07         EU       PC\n",
       "3  50734A22C0C63768  2020-12-07         EU   iPhone\n",
       "4  E1BDDCE0DAFA2679  2020-12-07  N.America   iPhone"
      ]
     },
     "execution_count": 4,
     "metadata": {},
     "output_type": "execute_result"
    }
   ],
   "source": [
    "new_users.head()"
   ]
  },
  {
   "cell_type": "code",
   "execution_count": 5,
   "id": "370d639c",
   "metadata": {},
   "outputs": [
    {
     "data": {
      "text/html": [
       "<div>\n",
       "<style scoped>\n",
       "    .dataframe tbody tr th:only-of-type {\n",
       "        vertical-align: middle;\n",
       "    }\n",
       "\n",
       "    .dataframe tbody tr th {\n",
       "        vertical-align: top;\n",
       "    }\n",
       "\n",
       "    .dataframe thead th {\n",
       "        text-align: right;\n",
       "    }\n",
       "</style>\n",
       "<table border=\"1\" class=\"dataframe\">\n",
       "  <thead>\n",
       "    <tr style=\"text-align: right;\">\n",
       "      <th></th>\n",
       "      <th>user_id</th>\n",
       "      <th>event_dt</th>\n",
       "      <th>event_name</th>\n",
       "      <th>details</th>\n",
       "    </tr>\n",
       "  </thead>\n",
       "  <tbody>\n",
       "    <tr>\n",
       "      <th>0</th>\n",
       "      <td>E1BDDCE0DAFA2679</td>\n",
       "      <td>2020-12-07 20:22:03</td>\n",
       "      <td>purchase</td>\n",
       "      <td>99.99</td>\n",
       "    </tr>\n",
       "    <tr>\n",
       "      <th>1</th>\n",
       "      <td>7B6452F081F49504</td>\n",
       "      <td>2020-12-07 09:22:53</td>\n",
       "      <td>purchase</td>\n",
       "      <td>9.99</td>\n",
       "    </tr>\n",
       "    <tr>\n",
       "      <th>2</th>\n",
       "      <td>9CD9F34546DF254C</td>\n",
       "      <td>2020-12-07 12:59:29</td>\n",
       "      <td>purchase</td>\n",
       "      <td>4.99</td>\n",
       "    </tr>\n",
       "    <tr>\n",
       "      <th>3</th>\n",
       "      <td>96F27A054B191457</td>\n",
       "      <td>2020-12-07 04:02:40</td>\n",
       "      <td>purchase</td>\n",
       "      <td>4.99</td>\n",
       "    </tr>\n",
       "    <tr>\n",
       "      <th>4</th>\n",
       "      <td>1FD7660FDF94CA1F</td>\n",
       "      <td>2020-12-07 10:15:09</td>\n",
       "      <td>purchase</td>\n",
       "      <td>4.99</td>\n",
       "    </tr>\n",
       "  </tbody>\n",
       "</table>\n",
       "</div>"
      ],
      "text/plain": [
       "            user_id             event_dt event_name  details\n",
       "0  E1BDDCE0DAFA2679  2020-12-07 20:22:03   purchase    99.99\n",
       "1  7B6452F081F49504  2020-12-07 09:22:53   purchase     9.99\n",
       "2  9CD9F34546DF254C  2020-12-07 12:59:29   purchase     4.99\n",
       "3  96F27A054B191457  2020-12-07 04:02:40   purchase     4.99\n",
       "4  1FD7660FDF94CA1F  2020-12-07 10:15:09   purchase     4.99"
      ]
     },
     "execution_count": 5,
     "metadata": {},
     "output_type": "execute_result"
    }
   ],
   "source": [
    "events.head()"
   ]
  },
  {
   "cell_type": "code",
   "execution_count": 6,
   "id": "d069f31d",
   "metadata": {},
   "outputs": [
    {
     "data": {
      "text/html": [
       "<div>\n",
       "<style scoped>\n",
       "    .dataframe tbody tr th:only-of-type {\n",
       "        vertical-align: middle;\n",
       "    }\n",
       "\n",
       "    .dataframe tbody tr th {\n",
       "        vertical-align: top;\n",
       "    }\n",
       "\n",
       "    .dataframe thead th {\n",
       "        text-align: right;\n",
       "    }\n",
       "</style>\n",
       "<table border=\"1\" class=\"dataframe\">\n",
       "  <thead>\n",
       "    <tr style=\"text-align: right;\">\n",
       "      <th></th>\n",
       "      <th>user_id</th>\n",
       "      <th>group</th>\n",
       "      <th>ab_test</th>\n",
       "    </tr>\n",
       "  </thead>\n",
       "  <tbody>\n",
       "    <tr>\n",
       "      <th>0</th>\n",
       "      <td>D1ABA3E2887B6A73</td>\n",
       "      <td>A</td>\n",
       "      <td>recommender_system_test</td>\n",
       "    </tr>\n",
       "    <tr>\n",
       "      <th>1</th>\n",
       "      <td>A7A3664BD6242119</td>\n",
       "      <td>A</td>\n",
       "      <td>recommender_system_test</td>\n",
       "    </tr>\n",
       "    <tr>\n",
       "      <th>2</th>\n",
       "      <td>DABC14FDDFADD29E</td>\n",
       "      <td>A</td>\n",
       "      <td>recommender_system_test</td>\n",
       "    </tr>\n",
       "    <tr>\n",
       "      <th>3</th>\n",
       "      <td>04988C5DF189632E</td>\n",
       "      <td>A</td>\n",
       "      <td>recommender_system_test</td>\n",
       "    </tr>\n",
       "    <tr>\n",
       "      <th>4</th>\n",
       "      <td>482F14783456D21B</td>\n",
       "      <td>B</td>\n",
       "      <td>recommender_system_test</td>\n",
       "    </tr>\n",
       "  </tbody>\n",
       "</table>\n",
       "</div>"
      ],
      "text/plain": [
       "            user_id group                  ab_test\n",
       "0  D1ABA3E2887B6A73     A  recommender_system_test\n",
       "1  A7A3664BD6242119     A  recommender_system_test\n",
       "2  DABC14FDDFADD29E     A  recommender_system_test\n",
       "3  04988C5DF189632E     A  recommender_system_test\n",
       "4  482F14783456D21B     B  recommender_system_test"
      ]
     },
     "execution_count": 6,
     "metadata": {},
     "output_type": "execute_result"
    }
   ],
   "source": [
    "groups.head()"
   ]
  },
  {
   "cell_type": "code",
   "execution_count": 7,
   "id": "92580397",
   "metadata": {},
   "outputs": [
    {
     "name": "stdout",
     "output_type": "stream",
     "text": [
      "<class 'pandas.core.frame.DataFrame'>\n",
      "RangeIndex: 14 entries, 0 to 13\n",
      "Data columns (total 4 columns):\n",
      " #   Column     Non-Null Count  Dtype \n",
      "---  ------     --------------  ----- \n",
      " 0   name       14 non-null     object\n",
      " 1   regions    14 non-null     object\n",
      " 2   start_dt   14 non-null     object\n",
      " 3   finish_dt  14 non-null     object\n",
      "dtypes: object(4)\n",
      "memory usage: 576.0+ bytes\n"
     ]
    }
   ],
   "source": [
    "# поочередно посмотрим основную информацию о данным каждого датафрэйма\n",
    "calendar.info()"
   ]
  },
  {
   "cell_type": "code",
   "execution_count": 8,
   "id": "7372a9b6",
   "metadata": {},
   "outputs": [
    {
     "name": "stdout",
     "output_type": "stream",
     "text": [
      "<class 'pandas.core.frame.DataFrame'>\n",
      "RangeIndex: 61733 entries, 0 to 61732\n",
      "Data columns (total 4 columns):\n",
      " #   Column      Non-Null Count  Dtype \n",
      "---  ------      --------------  ----- \n",
      " 0   user_id     61733 non-null  object\n",
      " 1   first_date  61733 non-null  object\n",
      " 2   region      61733 non-null  object\n",
      " 3   device      61733 non-null  object\n",
      "dtypes: object(4)\n",
      "memory usage: 1.9+ MB\n"
     ]
    }
   ],
   "source": [
    "new_users.info()"
   ]
  },
  {
   "cell_type": "code",
   "execution_count": 9,
   "id": "0adad697",
   "metadata": {},
   "outputs": [
    {
     "name": "stdout",
     "output_type": "stream",
     "text": [
      "<class 'pandas.core.frame.DataFrame'>\n",
      "RangeIndex: 440317 entries, 0 to 440316\n",
      "Data columns (total 4 columns):\n",
      " #   Column      Non-Null Count   Dtype  \n",
      "---  ------      --------------   -----  \n",
      " 0   user_id     440317 non-null  object \n",
      " 1   event_dt    440317 non-null  object \n",
      " 2   event_name  440317 non-null  object \n",
      " 3   details     62740 non-null   float64\n",
      "dtypes: float64(1), object(3)\n",
      "memory usage: 13.4+ MB\n"
     ]
    }
   ],
   "source": [
    "events.info()"
   ]
  },
  {
   "cell_type": "code",
   "execution_count": 10,
   "id": "13cd5afe",
   "metadata": {},
   "outputs": [
    {
     "name": "stdout",
     "output_type": "stream",
     "text": [
      "<class 'pandas.core.frame.DataFrame'>\n",
      "RangeIndex: 18268 entries, 0 to 18267\n",
      "Data columns (total 3 columns):\n",
      " #   Column   Non-Null Count  Dtype \n",
      "---  ------   --------------  ----- \n",
      " 0   user_id  18268 non-null  object\n",
      " 1   group    18268 non-null  object\n",
      " 2   ab_test  18268 non-null  object\n",
      "dtypes: object(3)\n",
      "memory usage: 428.3+ KB\n"
     ]
    }
   ],
   "source": [
    "groups.info()"
   ]
  },
  {
   "cell_type": "markdown",
   "id": "ab7b40d5",
   "metadata": {},
   "source": [
    "Мы ознакомились с данными и посмотрели общую информацию о датафрэймах. Названия столбцов названы корректно, их исправлять нет необходимости.\n",
    "\n",
    "Так же выделили моменты, которые нам необходимо будет исправить во время предобработки данных, а именно - изменить тип данных на временной:\n",
    "   - в датафрэйме calendar: start_dt и finish_dt\n",
    "   - в датафрэйме new_users: first_date\n",
    "   - в датафрэйме events: event_dt"
   ]
  },
  {
   "cell_type": "markdown",
   "id": "b4ab0058",
   "metadata": {},
   "source": [
    "## 2. Предобработка данных"
   ]
  },
  {
   "cell_type": "markdown",
   "id": "0ab51815",
   "metadata": {},
   "source": [
    "**Изменим тип данных на корректный**"
   ]
  },
  {
   "cell_type": "code",
   "execution_count": 11,
   "id": "76410f62",
   "metadata": {},
   "outputs": [],
   "source": [
    "calendar['start_dt'] = calendar['start_dt'].map(\n",
    "    lambda x: dt.datetime.strptime(x, '%Y-%m-%d')\n",
    ")\n",
    "\n",
    "calendar['finish_dt'] = calendar['finish_dt'].map(\n",
    "    lambda x: dt.datetime.strptime(x, '%Y-%m-%d')\n",
    ")\n",
    "\n",
    "new_users['first_date'] = new_users['first_date'].map(\n",
    "    lambda x: dt.datetime.strptime(x, '%Y-%m-%d')\n",
    ")\n",
    "\n",
    "events['event_dt'] = pd.to_datetime(events['event_dt'])"
   ]
  },
  {
   "cell_type": "code",
   "execution_count": 12,
   "id": "ad88569c",
   "metadata": {},
   "outputs": [
    {
     "name": "stdout",
     "output_type": "stream",
     "text": [
      "<class 'pandas.core.frame.DataFrame'>\n",
      "RangeIndex: 14 entries, 0 to 13\n",
      "Data columns (total 4 columns):\n",
      " #   Column     Non-Null Count  Dtype         \n",
      "---  ------     --------------  -----         \n",
      " 0   name       14 non-null     object        \n",
      " 1   regions    14 non-null     object        \n",
      " 2   start_dt   14 non-null     datetime64[ns]\n",
      " 3   finish_dt  14 non-null     datetime64[ns]\n",
      "dtypes: datetime64[ns](2), object(2)\n",
      "memory usage: 576.0+ bytes\n",
      "<class 'pandas.core.frame.DataFrame'>\n",
      "RangeIndex: 61733 entries, 0 to 61732\n",
      "Data columns (total 4 columns):\n",
      " #   Column      Non-Null Count  Dtype         \n",
      "---  ------      --------------  -----         \n",
      " 0   user_id     61733 non-null  object        \n",
      " 1   first_date  61733 non-null  datetime64[ns]\n",
      " 2   region      61733 non-null  object        \n",
      " 3   device      61733 non-null  object        \n",
      "dtypes: datetime64[ns](1), object(3)\n",
      "memory usage: 1.9+ MB\n",
      "<class 'pandas.core.frame.DataFrame'>\n",
      "RangeIndex: 440317 entries, 0 to 440316\n",
      "Data columns (total 4 columns):\n",
      " #   Column      Non-Null Count   Dtype         \n",
      "---  ------      --------------   -----         \n",
      " 0   user_id     440317 non-null  object        \n",
      " 1   event_dt    440317 non-null  datetime64[ns]\n",
      " 2   event_name  440317 non-null  object        \n",
      " 3   details     62740 non-null   float64       \n",
      "dtypes: datetime64[ns](1), float64(1), object(2)\n",
      "memory usage: 13.4+ MB\n"
     ]
    }
   ],
   "source": [
    "# проверим, что тип данных изменился\n",
    "calendar.info()\n",
    "new_users.info()\n",
    "events.info()"
   ]
  },
  {
   "cell_type": "markdown",
   "id": "2b35003c",
   "metadata": {},
   "source": [
    "**Проверим данные на пропуски**"
   ]
  },
  {
   "cell_type": "code",
   "execution_count": 13,
   "id": "53a21c90",
   "metadata": {},
   "outputs": [
    {
     "data": {
      "text/plain": [
       "name         0\n",
       "regions      0\n",
       "start_dt     0\n",
       "finish_dt    0\n",
       "dtype: int64"
      ]
     },
     "execution_count": 13,
     "metadata": {},
     "output_type": "execute_result"
    }
   ],
   "source": [
    "# поочередно проверим на пропуски каждый датафрэйм\n",
    "calendar.isna().sum()"
   ]
  },
  {
   "cell_type": "code",
   "execution_count": 14,
   "id": "998cf014",
   "metadata": {},
   "outputs": [
    {
     "data": {
      "text/plain": [
       "user_id       0\n",
       "first_date    0\n",
       "region        0\n",
       "device        0\n",
       "dtype: int64"
      ]
     },
     "execution_count": 14,
     "metadata": {},
     "output_type": "execute_result"
    }
   ],
   "source": [
    "new_users.isna().sum()"
   ]
  },
  {
   "cell_type": "code",
   "execution_count": 15,
   "id": "5528d5d7",
   "metadata": {},
   "outputs": [
    {
     "data": {
      "text/plain": [
       "user_id            0\n",
       "event_dt           0\n",
       "event_name         0\n",
       "details       377577\n",
       "dtype: int64"
      ]
     },
     "execution_count": 15,
     "metadata": {},
     "output_type": "execute_result"
    }
   ],
   "source": [
    "events.isna().sum()"
   ]
  },
  {
   "cell_type": "code",
   "execution_count": 16,
   "id": "78c36136",
   "metadata": {},
   "outputs": [
    {
     "data": {
      "text/plain": [
       "user_id    0\n",
       "group      0\n",
       "ab_test    0\n",
       "dtype: int64"
      ]
     },
     "execution_count": 16,
     "metadata": {},
     "output_type": "execute_result"
    }
   ],
   "source": [
    "groups.isna().sum()"
   ]
  },
  {
   "cell_type": "markdown",
   "id": "49dc4344",
   "metadata": {},
   "source": [
    "Обнаружены пропуски в датафрэйме events, в переменной details. В этой переменной хранится дополнительная информация о событиях. Соответственно, наличие пропусков здесь - это нормально. Значит, далеко не у всех событий есть дополнительные данные."
   ]
  },
  {
   "cell_type": "markdown",
   "id": "55e312e5",
   "metadata": {},
   "source": [
    "**Проверим данные на дубликаты**"
   ]
  },
  {
   "cell_type": "code",
   "execution_count": 17,
   "id": "a75747c7",
   "metadata": {},
   "outputs": [
    {
     "data": {
      "text/plain": [
       "0"
      ]
     },
     "execution_count": 17,
     "metadata": {},
     "output_type": "execute_result"
    }
   ],
   "source": [
    "# поочередно проверим на дубликаты каждый датафрэйм\n",
    "calendar.duplicated().sum()"
   ]
  },
  {
   "cell_type": "code",
   "execution_count": 18,
   "id": "109663eb",
   "metadata": {},
   "outputs": [
    {
     "data": {
      "text/plain": [
       "0"
      ]
     },
     "execution_count": 18,
     "metadata": {},
     "output_type": "execute_result"
    }
   ],
   "source": [
    "new_users.duplicated().sum()"
   ]
  },
  {
   "cell_type": "code",
   "execution_count": 19,
   "id": "a0b7a1f8",
   "metadata": {},
   "outputs": [
    {
     "data": {
      "text/plain": [
       "0"
      ]
     },
     "execution_count": 19,
     "metadata": {},
     "output_type": "execute_result"
    }
   ],
   "source": [
    "events.duplicated().sum()"
   ]
  },
  {
   "cell_type": "code",
   "execution_count": 20,
   "id": "e793fbe6",
   "metadata": {},
   "outputs": [
    {
     "data": {
      "text/plain": [
       "0"
      ]
     },
     "execution_count": 20,
     "metadata": {},
     "output_type": "execute_result"
    }
   ],
   "source": [
    "groups.duplicated().sum()"
   ]
  },
  {
   "cell_type": "markdown",
   "id": "5a38a221",
   "metadata": {},
   "source": [
    "Явных дубликатов не обнаружено."
   ]
  },
  {
   "cell_type": "markdown",
   "id": "ab0df42a",
   "metadata": {},
   "source": [
    "**Мы провели предобработку данных:**\n",
    "* Проверили данные на пропуски. Они были обнаружены в датафрэйме events, в переменной details. В этой переменной хранится дополнительная информация о событиях. Соответственно, наличие пропусков здесь - это нормально. Значит, далеко не у всех событий есть дополнительные данные.\n",
    "* Явных дубликатов не обнаружено."
   ]
  },
  {
   "cell_type": "markdown",
   "id": "7b5f3ad4",
   "metadata": {},
   "source": [
    "**Оценим данные на соответствие требованиям технического задания. Проверим корректность всех пунктов технического задания**"
   ]
  },
  {
   "cell_type": "markdown",
   "id": "06474512",
   "metadata": {},
   "source": [
    "**Название теста: recommender_system_test**"
   ]
  },
  {
   "cell_type": "code",
   "execution_count": 21,
   "id": "665c06ce",
   "metadata": {
    "scrolled": true
   },
   "outputs": [
    {
     "data": {
      "text/plain": [
       "interface_eu_test          11567\n",
       "recommender_system_test     6701\n",
       "Name: ab_test, dtype: int64"
      ]
     },
     "execution_count": 21,
     "metadata": {},
     "output_type": "execute_result"
    }
   ],
   "source": [
    "groups['ab_test'].value_counts()"
   ]
  },
  {
   "cell_type": "markdown",
   "id": "02b33581",
   "metadata": {},
   "source": [
    "Нас интересует только тест под названием \"recommender_system_test\". Данные о втором тесте удалим."
   ]
  },
  {
   "cell_type": "code",
   "execution_count": 22,
   "id": "9c6a9fd5",
   "metadata": {},
   "outputs": [],
   "source": [
    "eu_groups = groups[groups['ab_test'] == 'recommender_system_test']"
   ]
  },
  {
   "cell_type": "code",
   "execution_count": 23,
   "id": "f294b1d1",
   "metadata": {},
   "outputs": [
    {
     "data": {
      "text/plain": [
       "recommender_system_test    6701\n",
       "Name: ab_test, dtype: int64"
      ]
     },
     "execution_count": 23,
     "metadata": {},
     "output_type": "execute_result"
    }
   ],
   "source": [
    "eu_groups['ab_test'].value_counts()"
   ]
  },
  {
   "cell_type": "markdown",
   "id": "da4f1922",
   "metadata": {},
   "source": [
    "**Группы: А — контрольная, B — новая платёжная воронка**"
   ]
  },
  {
   "cell_type": "code",
   "execution_count": 24,
   "id": "6c04d760",
   "metadata": {},
   "outputs": [
    {
     "data": {
      "text/plain": [
       "array(['A', 'B'], dtype=object)"
      ]
     },
     "execution_count": 24,
     "metadata": {},
     "output_type": "execute_result"
    }
   ],
   "source": [
    "eu_groups['group'].unique()"
   ]
  },
  {
   "cell_type": "markdown",
   "id": "3641ade3",
   "metadata": {},
   "source": [
    "В наших данных только две группы: контрольная и новая платёжная воронка."
   ]
  },
  {
   "cell_type": "markdown",
   "id": "3d7e2488",
   "metadata": {},
   "source": [
    "**Дата запуска: 2020-12-07**"
   ]
  },
  {
   "cell_type": "code",
   "execution_count": 25,
   "id": "163194e8",
   "metadata": {
    "scrolled": true
   },
   "outputs": [
    {
     "data": {
      "text/plain": [
       "Timestamp('2020-12-07 00:00:33')"
      ]
     },
     "execution_count": 25,
     "metadata": {},
     "output_type": "execute_result"
    }
   ],
   "source": [
    "events['event_dt'].min()"
   ]
  },
  {
   "cell_type": "markdown",
   "id": "a55c7edf",
   "metadata": {},
   "source": [
    "Первые события были зафиксированы в день начала теста - 7 декабря 2020 года."
   ]
  },
  {
   "cell_type": "markdown",
   "id": "a6a99417",
   "metadata": {},
   "source": [
    "**Дата остановки набора новых пользователей: 2020-12-21**"
   ]
  },
  {
   "cell_type": "code",
   "execution_count": 26,
   "id": "67ade40c",
   "metadata": {},
   "outputs": [
    {
     "name": "stdout",
     "output_type": "stream",
     "text": [
      "Самая ранняя дата регистрации: 2020-12-07 00:00:00\n"
     ]
    }
   ],
   "source": [
    "# самая ранняя дата регистрации\n",
    "print('Самая ранняя дата регистрации:', new_users['first_date'].min())"
   ]
  },
  {
   "cell_type": "code",
   "execution_count": 27,
   "id": "2c5e5c90",
   "metadata": {},
   "outputs": [
    {
     "name": "stdout",
     "output_type": "stream",
     "text": [
      "Самая поздняя дата регистрации: 2020-12-23 00:00:00\n"
     ]
    }
   ],
   "source": [
    "# самая поздняя дата регистрации\n",
    "print('Самая поздняя дата регистрации:', new_users['first_date'].max())"
   ]
  },
  {
   "cell_type": "markdown",
   "id": "6b4b986d",
   "metadata": {},
   "source": [
    "Мы рассматриваем только тех пользователей, кто зарегистрировался до 21 декабря включительно. Пользователей, которые зарегистрировались позже, отсекаем. "
   ]
  },
  {
   "cell_type": "code",
   "execution_count": 28,
   "id": "f16517cd",
   "metadata": {},
   "outputs": [],
   "source": [
    "new_users = new_users[new_users['first_date'] < '2020-12-22']"
   ]
  },
  {
   "cell_type": "code",
   "execution_count": 29,
   "id": "3e7b51f2",
   "metadata": {},
   "outputs": [
    {
     "name": "stdout",
     "output_type": "stream",
     "text": [
      "Самая поздняя дата регистрации: 2020-12-21 00:00:00\n"
     ]
    }
   ],
   "source": [
    "# проверим сейчас самую познюю дату регистрации\n",
    "print('Самая поздняя дата регистрации:', new_users['first_date'].max())"
   ]
  },
  {
   "cell_type": "markdown",
   "id": "7f55b191",
   "metadata": {},
   "source": [
    "**Дата остановки теста: 2021-01-04**"
   ]
  },
  {
   "cell_type": "code",
   "execution_count": 30,
   "id": "6d246439",
   "metadata": {},
   "outputs": [
    {
     "name": "stdout",
     "output_type": "stream",
     "text": [
      "Дата последнего события: 2020-12-30 23:36:33\n"
     ]
    }
   ],
   "source": [
    "print('Дата последнего события:', events['event_dt'].max())"
   ]
  },
  {
   "cell_type": "markdown",
   "id": "69b2f0ae",
   "metadata": {},
   "source": [
    "Дата последнего зафиксированного события - 30 декабря. Значит, тест был завершён раньше, чем было указано в ТЗ. Соответственно, результат может быть некорретным, т.к. не было соблюдено требование о завершении теста 4 января.\n",
    "  \n",
    "  В техническом задании также сказано, что мы смотрим результат за 14 дней с момента регистрации пользователей, значит, некоторые пользователи не будут иметь возможности совершать события все 14 дней. В таком случае, у нас у разных пользователей будет разный горизонт событий, что может сказаться на количестве событий на пользователя, на дневной активности и на гланвый результат теста."
   ]
  },
  {
   "cell_type": "markdown",
   "id": "c172364e",
   "metadata": {},
   "source": [
    "**Аудитория: 15% новых пользователей из региона EU**"
   ]
  },
  {
   "cell_type": "code",
   "execution_count": 31,
   "id": "636b77d5",
   "metadata": {
    "scrolled": true
   },
   "outputs": [
    {
     "data": {
      "text/html": [
       "<div>\n",
       "<style scoped>\n",
       "    .dataframe tbody tr th:only-of-type {\n",
       "        vertical-align: middle;\n",
       "    }\n",
       "\n",
       "    .dataframe tbody tr th {\n",
       "        vertical-align: top;\n",
       "    }\n",
       "\n",
       "    .dataframe thead th {\n",
       "        text-align: right;\n",
       "    }\n",
       "</style>\n",
       "<table border=\"1\" class=\"dataframe\">\n",
       "  <thead>\n",
       "    <tr style=\"text-align: right;\">\n",
       "      <th></th>\n",
       "      <th>user_id</th>\n",
       "      <th>first_date</th>\n",
       "      <th>region</th>\n",
       "      <th>device</th>\n",
       "    </tr>\n",
       "  </thead>\n",
       "  <tbody>\n",
       "    <tr>\n",
       "      <th>0</th>\n",
       "      <td>D72A72121175D8BE</td>\n",
       "      <td>2020-12-07</td>\n",
       "      <td>EU</td>\n",
       "      <td>PC</td>\n",
       "    </tr>\n",
       "    <tr>\n",
       "      <th>1</th>\n",
       "      <td>F1C668619DFE6E65</td>\n",
       "      <td>2020-12-07</td>\n",
       "      <td>N.America</td>\n",
       "      <td>Android</td>\n",
       "    </tr>\n",
       "    <tr>\n",
       "      <th>2</th>\n",
       "      <td>2E1BF1D4C37EA01F</td>\n",
       "      <td>2020-12-07</td>\n",
       "      <td>EU</td>\n",
       "      <td>PC</td>\n",
       "    </tr>\n",
       "    <tr>\n",
       "      <th>3</th>\n",
       "      <td>50734A22C0C63768</td>\n",
       "      <td>2020-12-07</td>\n",
       "      <td>EU</td>\n",
       "      <td>iPhone</td>\n",
       "    </tr>\n",
       "    <tr>\n",
       "      <th>4</th>\n",
       "      <td>E1BDDCE0DAFA2679</td>\n",
       "      <td>2020-12-07</td>\n",
       "      <td>N.America</td>\n",
       "      <td>iPhone</td>\n",
       "    </tr>\n",
       "    <tr>\n",
       "      <th>...</th>\n",
       "      <td>...</td>\n",
       "      <td>...</td>\n",
       "      <td>...</td>\n",
       "      <td>...</td>\n",
       "    </tr>\n",
       "    <tr>\n",
       "      <th>61728</th>\n",
       "      <td>1DB53B933257165D</td>\n",
       "      <td>2020-12-20</td>\n",
       "      <td>EU</td>\n",
       "      <td>Android</td>\n",
       "    </tr>\n",
       "    <tr>\n",
       "      <th>61729</th>\n",
       "      <td>538643EB4527ED03</td>\n",
       "      <td>2020-12-20</td>\n",
       "      <td>EU</td>\n",
       "      <td>Mac</td>\n",
       "    </tr>\n",
       "    <tr>\n",
       "      <th>61730</th>\n",
       "      <td>7ADEE837D5D8CBBD</td>\n",
       "      <td>2020-12-20</td>\n",
       "      <td>EU</td>\n",
       "      <td>PC</td>\n",
       "    </tr>\n",
       "    <tr>\n",
       "      <th>61731</th>\n",
       "      <td>1C7D23927835213F</td>\n",
       "      <td>2020-12-20</td>\n",
       "      <td>EU</td>\n",
       "      <td>iPhone</td>\n",
       "    </tr>\n",
       "    <tr>\n",
       "      <th>61732</th>\n",
       "      <td>8F04273BB2860229</td>\n",
       "      <td>2020-12-20</td>\n",
       "      <td>EU</td>\n",
       "      <td>Android</td>\n",
       "    </tr>\n",
       "  </tbody>\n",
       "</table>\n",
       "<p>56470 rows × 4 columns</p>\n",
       "</div>"
      ],
      "text/plain": [
       "                user_id first_date     region   device\n",
       "0      D72A72121175D8BE 2020-12-07         EU       PC\n",
       "1      F1C668619DFE6E65 2020-12-07  N.America  Android\n",
       "2      2E1BF1D4C37EA01F 2020-12-07         EU       PC\n",
       "3      50734A22C0C63768 2020-12-07         EU   iPhone\n",
       "4      E1BDDCE0DAFA2679 2020-12-07  N.America   iPhone\n",
       "...                 ...        ...        ...      ...\n",
       "61728  1DB53B933257165D 2020-12-20         EU  Android\n",
       "61729  538643EB4527ED03 2020-12-20         EU      Mac\n",
       "61730  7ADEE837D5D8CBBD 2020-12-20         EU       PC\n",
       "61731  1C7D23927835213F 2020-12-20         EU   iPhone\n",
       "61732  8F04273BB2860229 2020-12-20         EU  Android\n",
       "\n",
       "[56470 rows x 4 columns]"
      ]
     },
     "execution_count": 31,
     "metadata": {},
     "output_type": "execute_result"
    }
   ],
   "source": [
    "new_users"
   ]
  },
  {
   "cell_type": "code",
   "execution_count": 32,
   "id": "aee1333b",
   "metadata": {},
   "outputs": [
    {
     "name": "stdout",
     "output_type": "stream",
     "text": [
      "Всего новых пользователей из Евросоюза: 42340\n"
     ]
    }
   ],
   "source": [
    "# посчитаем, сколько всего пользователей из Евросоюза в наших данных\n",
    "eu_users = new_users[new_users['region'] == 'EU']\n",
    "eu_users_id = eu_users['user_id'].unique()\n",
    "print('Всего новых пользователей из Евросоюза:', eu_users['user_id'].nunique())"
   ]
  },
  {
   "cell_type": "code",
   "execution_count": 33,
   "id": "1126a471",
   "metadata": {},
   "outputs": [
    {
     "name": "stdout",
     "output_type": "stream",
     "text": [
      "Всего новых пользователей из Евросоюза - участников теста: 6351\n"
     ]
    }
   ],
   "source": [
    "# посчитаем, сколько пользователей из Евросоюза участвовали в тесте\n",
    "eu_users_test = eu_groups.query('user_id in @eu_users_id')\n",
    "print('Всего новых пользователей из Евросоюза - участников теста:', eu_users_test['user_id'].nunique())"
   ]
  },
  {
   "cell_type": "code",
   "execution_count": 34,
   "id": "64ce76dc",
   "metadata": {
    "scrolled": false
   },
   "outputs": [
    {
     "name": "stdout",
     "output_type": "stream",
     "text": [
      "Аудитория теста составила 15.0 % новых пользователей из региона EU.\n"
     ]
    }
   ],
   "source": [
    "# посчитаем процент пользователей из Евросоюза, которые участвовали в тесте, от общего количества пользователей Евросоюза\n",
    "perc = (eu_users_test['user_id'].nunique()/eu_users['user_id'].nunique())*100\n",
    "print('Аудитория теста составила', perc,'% новых пользователей из региона EU.')"
   ]
  },
  {
   "cell_type": "markdown",
   "id": "af21a8a9",
   "metadata": {},
   "source": [
    "**Ожидаемое количество участников теста: 6000**"
   ]
  },
  {
   "cell_type": "code",
   "execution_count": 35,
   "id": "6e5f569d",
   "metadata": {},
   "outputs": [
    {
     "name": "stdout",
     "output_type": "stream",
     "text": [
      "Количество участников теста: 6351\n"
     ]
    }
   ],
   "source": [
    "print('Количество участников теста:', eu_users_test['user_id'].nunique())"
   ]
  },
  {
   "cell_type": "markdown",
   "id": "a8918e66",
   "metadata": {},
   "source": [
    "Мы проверили наши данные на соответствие техническому заданию и вот, что выяснили: \n",
    "- В наших данных была информация о двух тестах. Но нас интересует только тест под названием \"recommender_system_test\". Данные о втором тесте удалили.\n",
    "- В наших данных только две группы: контрольная (А) и новая платёжная воронка (B).\n",
    "- Первые события были зафиксированы в день начала теста - 7 декабря 2020 года. Это совпадает с датой запуска теста.\n",
    "- Пользователи в наших данных регистрировались до 23 декабря 2020, но нас интересовала крайняя дата регистрации - 21 декабря 2020 года. Пользователей, которые не соответствовали, мы убрали из анализа.\n",
    "- Дата последнего зафиксированного события - 30 декабря. Значит, тест был завершён раньше, чем было указано в ТЗ.\n",
    "- Аудитория теста составила 15.0 % новых пользователей из региона EU.\n",
    "- Количество участников теста: 6351.\n",
    "\n",
    "Далее мы проверим и другие параметры, так что картина может измениться."
   ]
  },
  {
   "cell_type": "markdown",
   "id": "b94a4fd2",
   "metadata": {},
   "source": [
    "**Проверим время проведения теста. Убедимся, что оно не совпадает с маркетинговыми и другими активностями**"
   ]
  },
  {
   "cell_type": "code",
   "execution_count": 36,
   "id": "0183f89e",
   "metadata": {},
   "outputs": [
    {
     "data": {
      "text/html": [
       "<div>\n",
       "<style scoped>\n",
       "    .dataframe tbody tr th:only-of-type {\n",
       "        vertical-align: middle;\n",
       "    }\n",
       "\n",
       "    .dataframe tbody tr th {\n",
       "        vertical-align: top;\n",
       "    }\n",
       "\n",
       "    .dataframe thead th {\n",
       "        text-align: right;\n",
       "    }\n",
       "</style>\n",
       "<table border=\"1\" class=\"dataframe\">\n",
       "  <thead>\n",
       "    <tr style=\"text-align: right;\">\n",
       "      <th></th>\n",
       "      <th>user_id</th>\n",
       "      <th>event_dt</th>\n",
       "      <th>event_name</th>\n",
       "      <th>details</th>\n",
       "      <th>group</th>\n",
       "      <th>ab_test</th>\n",
       "    </tr>\n",
       "  </thead>\n",
       "  <tbody>\n",
       "    <tr>\n",
       "      <th>0</th>\n",
       "      <td>831887FE7F2D6CBA</td>\n",
       "      <td>2020-12-07 06:50:29</td>\n",
       "      <td>purchase</td>\n",
       "      <td>4.99</td>\n",
       "      <td>A</td>\n",
       "      <td>recommender_system_test</td>\n",
       "    </tr>\n",
       "    <tr>\n",
       "      <th>1</th>\n",
       "      <td>831887FE7F2D6CBA</td>\n",
       "      <td>2020-12-09 02:19:17</td>\n",
       "      <td>purchase</td>\n",
       "      <td>99.99</td>\n",
       "      <td>A</td>\n",
       "      <td>recommender_system_test</td>\n",
       "    </tr>\n",
       "    <tr>\n",
       "      <th>2</th>\n",
       "      <td>831887FE7F2D6CBA</td>\n",
       "      <td>2020-12-07 06:50:30</td>\n",
       "      <td>product_cart</td>\n",
       "      <td>NaN</td>\n",
       "      <td>A</td>\n",
       "      <td>recommender_system_test</td>\n",
       "    </tr>\n",
       "    <tr>\n",
       "      <th>3</th>\n",
       "      <td>831887FE7F2D6CBA</td>\n",
       "      <td>2020-12-08 10:52:27</td>\n",
       "      <td>product_cart</td>\n",
       "      <td>NaN</td>\n",
       "      <td>A</td>\n",
       "      <td>recommender_system_test</td>\n",
       "    </tr>\n",
       "    <tr>\n",
       "      <th>4</th>\n",
       "      <td>831887FE7F2D6CBA</td>\n",
       "      <td>2020-12-09 02:19:17</td>\n",
       "      <td>product_cart</td>\n",
       "      <td>NaN</td>\n",
       "      <td>A</td>\n",
       "      <td>recommender_system_test</td>\n",
       "    </tr>\n",
       "    <tr>\n",
       "      <th>...</th>\n",
       "      <td>...</td>\n",
       "      <td>...</td>\n",
       "      <td>...</td>\n",
       "      <td>...</td>\n",
       "      <td>...</td>\n",
       "      <td>...</td>\n",
       "    </tr>\n",
       "    <tr>\n",
       "      <th>23415</th>\n",
       "      <td>1484BBF124DB1B18</td>\n",
       "      <td>2020-12-27 10:53:34</td>\n",
       "      <td>login</td>\n",
       "      <td>NaN</td>\n",
       "      <td>A</td>\n",
       "      <td>recommender_system_test</td>\n",
       "    </tr>\n",
       "    <tr>\n",
       "      <th>23416</th>\n",
       "      <td>BEF16764A13AEC34</td>\n",
       "      <td>2020-12-21 03:49:49</td>\n",
       "      <td>login</td>\n",
       "      <td>NaN</td>\n",
       "      <td>B</td>\n",
       "      <td>recommender_system_test</td>\n",
       "    </tr>\n",
       "    <tr>\n",
       "      <th>23417</th>\n",
       "      <td>BEF16764A13AEC34</td>\n",
       "      <td>2020-12-22 18:52:25</td>\n",
       "      <td>login</td>\n",
       "      <td>NaN</td>\n",
       "      <td>B</td>\n",
       "      <td>recommender_system_test</td>\n",
       "    </tr>\n",
       "    <tr>\n",
       "      <th>23418</th>\n",
       "      <td>BEF16764A13AEC34</td>\n",
       "      <td>2020-12-24 22:11:00</td>\n",
       "      <td>login</td>\n",
       "      <td>NaN</td>\n",
       "      <td>B</td>\n",
       "      <td>recommender_system_test</td>\n",
       "    </tr>\n",
       "    <tr>\n",
       "      <th>23419</th>\n",
       "      <td>23DDD27AC3FEFA63</td>\n",
       "      <td>2020-12-21 02:51:45</td>\n",
       "      <td>login</td>\n",
       "      <td>NaN</td>\n",
       "      <td>A</td>\n",
       "      <td>recommender_system_test</td>\n",
       "    </tr>\n",
       "  </tbody>\n",
       "</table>\n",
       "<p>23420 rows × 6 columns</p>\n",
       "</div>"
      ],
      "text/plain": [
       "                user_id            event_dt    event_name  details group  \\\n",
       "0      831887FE7F2D6CBA 2020-12-07 06:50:29      purchase     4.99     A   \n",
       "1      831887FE7F2D6CBA 2020-12-09 02:19:17      purchase    99.99     A   \n",
       "2      831887FE7F2D6CBA 2020-12-07 06:50:30  product_cart      NaN     A   \n",
       "3      831887FE7F2D6CBA 2020-12-08 10:52:27  product_cart      NaN     A   \n",
       "4      831887FE7F2D6CBA 2020-12-09 02:19:17  product_cart      NaN     A   \n",
       "...                 ...                 ...           ...      ...   ...   \n",
       "23415  1484BBF124DB1B18 2020-12-27 10:53:34         login      NaN     A   \n",
       "23416  BEF16764A13AEC34 2020-12-21 03:49:49         login      NaN     B   \n",
       "23417  BEF16764A13AEC34 2020-12-22 18:52:25         login      NaN     B   \n",
       "23418  BEF16764A13AEC34 2020-12-24 22:11:00         login      NaN     B   \n",
       "23419  23DDD27AC3FEFA63 2020-12-21 02:51:45         login      NaN     A   \n",
       "\n",
       "                       ab_test  \n",
       "0      recommender_system_test  \n",
       "1      recommender_system_test  \n",
       "2      recommender_system_test  \n",
       "3      recommender_system_test  \n",
       "4      recommender_system_test  \n",
       "...                        ...  \n",
       "23415  recommender_system_test  \n",
       "23416  recommender_system_test  \n",
       "23417  recommender_system_test  \n",
       "23418  recommender_system_test  \n",
       "23419  recommender_system_test  \n",
       "\n",
       "[23420 rows x 6 columns]"
      ]
     },
     "execution_count": 36,
     "metadata": {},
     "output_type": "execute_result"
    }
   ],
   "source": [
    "eu_events = events.merge(eu_users_test, on='user_id')\n",
    "eu_events"
   ]
  },
  {
   "cell_type": "markdown",
   "id": "1a25ee54",
   "metadata": {},
   "source": [
    "Мы знаем, что в наших данных события, происходящие в даты: 7 - 21 декабря. Теперь посмотрим, какие маркетинговые и другие активности происходили в Евросоюзе и проверим, нет ли пересечений."
   ]
  },
  {
   "cell_type": "code",
   "execution_count": 37,
   "id": "1b068c06",
   "metadata": {},
   "outputs": [
    {
     "data": {
      "text/html": [
       "<div>\n",
       "<style scoped>\n",
       "    .dataframe tbody tr th:only-of-type {\n",
       "        vertical-align: middle;\n",
       "    }\n",
       "\n",
       "    .dataframe tbody tr th {\n",
       "        vertical-align: top;\n",
       "    }\n",
       "\n",
       "    .dataframe thead th {\n",
       "        text-align: right;\n",
       "    }\n",
       "</style>\n",
       "<table border=\"1\" class=\"dataframe\">\n",
       "  <thead>\n",
       "    <tr style=\"text-align: right;\">\n",
       "      <th></th>\n",
       "      <th>name</th>\n",
       "      <th>regions</th>\n",
       "      <th>start_dt</th>\n",
       "      <th>finish_dt</th>\n",
       "    </tr>\n",
       "  </thead>\n",
       "  <tbody>\n",
       "    <tr>\n",
       "      <th>0</th>\n",
       "      <td>Christmas&amp;New Year Promo</td>\n",
       "      <td>EU, N.America</td>\n",
       "      <td>2020-12-25</td>\n",
       "      <td>2021-01-03</td>\n",
       "    </tr>\n",
       "    <tr>\n",
       "      <th>1</th>\n",
       "      <td>St. Valentine's Day Giveaway</td>\n",
       "      <td>EU, CIS, APAC, N.America</td>\n",
       "      <td>2020-02-14</td>\n",
       "      <td>2020-02-16</td>\n",
       "    </tr>\n",
       "    <tr>\n",
       "      <th>2</th>\n",
       "      <td>St. Patric's Day Promo</td>\n",
       "      <td>EU, N.America</td>\n",
       "      <td>2020-03-17</td>\n",
       "      <td>2020-03-19</td>\n",
       "    </tr>\n",
       "    <tr>\n",
       "      <th>3</th>\n",
       "      <td>Easter Promo</td>\n",
       "      <td>EU, CIS, APAC, N.America</td>\n",
       "      <td>2020-04-12</td>\n",
       "      <td>2020-04-19</td>\n",
       "    </tr>\n",
       "    <tr>\n",
       "      <th>5</th>\n",
       "      <td>Black Friday Ads Campaign</td>\n",
       "      <td>EU, CIS, APAC, N.America</td>\n",
       "      <td>2020-11-26</td>\n",
       "      <td>2020-12-01</td>\n",
       "    </tr>\n",
       "    <tr>\n",
       "      <th>7</th>\n",
       "      <td>Labor day (May 1st) Ads Campaign</td>\n",
       "      <td>EU, CIS, APAC</td>\n",
       "      <td>2020-05-01</td>\n",
       "      <td>2020-05-03</td>\n",
       "    </tr>\n",
       "    <tr>\n",
       "      <th>8</th>\n",
       "      <td>International Women's Day Promo</td>\n",
       "      <td>EU, CIS, APAC</td>\n",
       "      <td>2020-03-08</td>\n",
       "      <td>2020-03-10</td>\n",
       "    </tr>\n",
       "  </tbody>\n",
       "</table>\n",
       "</div>"
      ],
      "text/plain": [
       "                               name                   regions   start_dt  \\\n",
       "0          Christmas&New Year Promo             EU, N.America 2020-12-25   \n",
       "1      St. Valentine's Day Giveaway  EU, CIS, APAC, N.America 2020-02-14   \n",
       "2            St. Patric's Day Promo             EU, N.America 2020-03-17   \n",
       "3                      Easter Promo  EU, CIS, APAC, N.America 2020-04-12   \n",
       "5         Black Friday Ads Campaign  EU, CIS, APAC, N.America 2020-11-26   \n",
       "7  Labor day (May 1st) Ads Campaign             EU, CIS, APAC 2020-05-01   \n",
       "8   International Women's Day Promo             EU, CIS, APAC 2020-03-08   \n",
       "\n",
       "   finish_dt  \n",
       "0 2021-01-03  \n",
       "1 2020-02-16  \n",
       "2 2020-03-19  \n",
       "3 2020-04-19  \n",
       "5 2020-12-01  \n",
       "7 2020-05-03  \n",
       "8 2020-03-10  "
      ]
     },
     "execution_count": 37,
     "metadata": {},
     "output_type": "execute_result"
    }
   ],
   "source": [
    "# отберем только те маркетинговые события, которые относились к Евросоюзу\n",
    "calendar[calendar['regions'].str.contains(\"EU\")]\n",
    "calendar.query('regions.str.contains(\"EU\")')"
   ]
  },
  {
   "cell_type": "markdown",
   "id": "49c85f15",
   "metadata": {},
   "source": [
    "В период с 25 декабря 2020 года по 3 января 2021 года проходило - Christmas&New Year Promo. Проверим, как данное мероприятие повлияло на поведение пользователей."
   ]
  },
  {
   "cell_type": "markdown",
   "id": "5a3028d8",
   "metadata": {},
   "source": [
    "**Посмотрим, как новогодняя акция повлияла на поведение пользователей в общем**"
   ]
  },
  {
   "cell_type": "code",
   "execution_count": 38,
   "id": "537dabb9",
   "metadata": {},
   "outputs": [],
   "source": [
    "# разделим пользователей на группы\n",
    "groupA = eu_events[eu_events['group']=='A']\n",
    "groupB = eu_events[eu_events['group']=='B']"
   ]
  },
  {
   "cell_type": "code",
   "execution_count": 39,
   "id": "5e6eec16",
   "metadata": {},
   "outputs": [],
   "source": [
    "# выделяем дату, без времени\n",
    "warnings.filterwarnings(\"ignore\")\n",
    "groupA['date'] = groupA['event_dt'].astype('datetime64[D]') \n",
    "groupB['date'] = groupB['event_dt'].astype('datetime64[D]') "
   ]
  },
  {
   "cell_type": "code",
   "execution_count": 40,
   "id": "055ba5dc",
   "metadata": {},
   "outputs": [],
   "source": [
    "# считаем количество событий в день в каждой группе\n",
    "actions_per_dayA = groupA.groupby('date')['event_name'].count().to_frame().reset_index()\n",
    "actions_per_dayB = groupB.groupby('date')['event_name'].count().to_frame().reset_index()"
   ]
  },
  {
   "cell_type": "code",
   "execution_count": 41,
   "id": "2680b8c3",
   "metadata": {},
   "outputs": [
    {
     "data": {
      "text/html": [
       "<div>\n",
       "<style scoped>\n",
       "    .dataframe tbody tr th:only-of-type {\n",
       "        vertical-align: middle;\n",
       "    }\n",
       "\n",
       "    .dataframe tbody tr th {\n",
       "        vertical-align: top;\n",
       "    }\n",
       "\n",
       "    .dataframe thead th {\n",
       "        text-align: right;\n",
       "    }\n",
       "</style>\n",
       "<table border=\"1\" class=\"dataframe\">\n",
       "  <thead>\n",
       "    <tr style=\"text-align: right;\">\n",
       "      <th></th>\n",
       "      <th>date</th>\n",
       "      <th>group_A</th>\n",
       "      <th>group_B</th>\n",
       "    </tr>\n",
       "  </thead>\n",
       "  <tbody>\n",
       "    <tr>\n",
       "      <th>0</th>\n",
       "      <td>2020-12-07</td>\n",
       "      <td>318</td>\n",
       "      <td>356</td>\n",
       "    </tr>\n",
       "    <tr>\n",
       "      <th>1</th>\n",
       "      <td>2020-12-08</td>\n",
       "      <td>313</td>\n",
       "      <td>238</td>\n",
       "    </tr>\n",
       "    <tr>\n",
       "      <th>2</th>\n",
       "      <td>2020-12-09</td>\n",
       "      <td>371</td>\n",
       "      <td>338</td>\n",
       "    </tr>\n",
       "    <tr>\n",
       "      <th>3</th>\n",
       "      <td>2020-12-10</td>\n",
       "      <td>331</td>\n",
       "      <td>249</td>\n",
       "    </tr>\n",
       "    <tr>\n",
       "      <th>4</th>\n",
       "      <td>2020-12-11</td>\n",
       "      <td>356</td>\n",
       "      <td>161</td>\n",
       "    </tr>\n",
       "    <tr>\n",
       "      <th>5</th>\n",
       "      <td>2020-12-12</td>\n",
       "      <td>346</td>\n",
       "      <td>199</td>\n",
       "    </tr>\n",
       "    <tr>\n",
       "      <th>6</th>\n",
       "      <td>2020-12-13</td>\n",
       "      <td>308</td>\n",
       "      <td>164</td>\n",
       "    </tr>\n",
       "    <tr>\n",
       "      <th>7</th>\n",
       "      <td>2020-12-14</td>\n",
       "      <td>1015</td>\n",
       "      <td>248</td>\n",
       "    </tr>\n",
       "    <tr>\n",
       "      <th>8</th>\n",
       "      <td>2020-12-15</td>\n",
       "      <td>1030</td>\n",
       "      <td>222</td>\n",
       "    </tr>\n",
       "    <tr>\n",
       "      <th>9</th>\n",
       "      <td>2020-12-16</td>\n",
       "      <td>1007</td>\n",
       "      <td>369</td>\n",
       "    </tr>\n",
       "    <tr>\n",
       "      <th>10</th>\n",
       "      <td>2020-12-17</td>\n",
       "      <td>1200</td>\n",
       "      <td>281</td>\n",
       "    </tr>\n",
       "    <tr>\n",
       "      <th>11</th>\n",
       "      <td>2020-12-18</td>\n",
       "      <td>1244</td>\n",
       "      <td>259</td>\n",
       "    </tr>\n",
       "    <tr>\n",
       "      <th>12</th>\n",
       "      <td>2020-12-19</td>\n",
       "      <td>1430</td>\n",
       "      <td>288</td>\n",
       "    </tr>\n",
       "    <tr>\n",
       "      <th>13</th>\n",
       "      <td>2020-12-20</td>\n",
       "      <td>1434</td>\n",
       "      <td>309</td>\n",
       "    </tr>\n",
       "    <tr>\n",
       "      <th>14</th>\n",
       "      <td>2020-12-21</td>\n",
       "      <td>1903</td>\n",
       "      <td>401</td>\n",
       "    </tr>\n",
       "    <tr>\n",
       "      <th>15</th>\n",
       "      <td>2020-12-22</td>\n",
       "      <td>1236</td>\n",
       "      <td>185</td>\n",
       "    </tr>\n",
       "    <tr>\n",
       "      <th>16</th>\n",
       "      <td>2020-12-23</td>\n",
       "      <td>959</td>\n",
       "      <td>189</td>\n",
       "    </tr>\n",
       "    <tr>\n",
       "      <th>17</th>\n",
       "      <td>2020-12-24</td>\n",
       "      <td>850</td>\n",
       "      <td>149</td>\n",
       "    </tr>\n",
       "    <tr>\n",
       "      <th>18</th>\n",
       "      <td>2020-12-25</td>\n",
       "      <td>639</td>\n",
       "      <td>107</td>\n",
       "    </tr>\n",
       "    <tr>\n",
       "      <th>19</th>\n",
       "      <td>2020-12-26</td>\n",
       "      <td>580</td>\n",
       "      <td>113</td>\n",
       "    </tr>\n",
       "    <tr>\n",
       "      <th>20</th>\n",
       "      <td>2020-12-27</td>\n",
       "      <td>547</td>\n",
       "      <td>114</td>\n",
       "    </tr>\n",
       "    <tr>\n",
       "      <th>21</th>\n",
       "      <td>2020-12-28</td>\n",
       "      <td>479</td>\n",
       "      <td>95</td>\n",
       "    </tr>\n",
       "    <tr>\n",
       "      <th>22</th>\n",
       "      <td>2020-12-29</td>\n",
       "      <td>413</td>\n",
       "      <td>73</td>\n",
       "    </tr>\n",
       "  </tbody>\n",
       "</table>\n",
       "</div>"
      ],
      "text/plain": [
       "         date  group_A  group_B\n",
       "0  2020-12-07      318      356\n",
       "1  2020-12-08      313      238\n",
       "2  2020-12-09      371      338\n",
       "3  2020-12-10      331      249\n",
       "4  2020-12-11      356      161\n",
       "5  2020-12-12      346      199\n",
       "6  2020-12-13      308      164\n",
       "7  2020-12-14     1015      248\n",
       "8  2020-12-15     1030      222\n",
       "9  2020-12-16     1007      369\n",
       "10 2020-12-17     1200      281\n",
       "11 2020-12-18     1244      259\n",
       "12 2020-12-19     1430      288\n",
       "13 2020-12-20     1434      309\n",
       "14 2020-12-21     1903      401\n",
       "15 2020-12-22     1236      185\n",
       "16 2020-12-23      959      189\n",
       "17 2020-12-24      850      149\n",
       "18 2020-12-25      639      107\n",
       "19 2020-12-26      580      113\n",
       "20 2020-12-27      547      114\n",
       "21 2020-12-28      479       95\n",
       "22 2020-12-29      413       73"
      ]
     },
     "execution_count": 41,
     "metadata": {},
     "output_type": "execute_result"
    }
   ],
   "source": [
    "# объединяем две группы в одну табличку\n",
    "actions_per_day = actions_per_dayA.merge(actions_per_dayB, on='date')\n",
    "actions_per_day.columns = ['date', 'group_A', 'group_B']\n",
    "actions_per_day"
   ]
  },
  {
   "cell_type": "code",
   "execution_count": 42,
   "id": "0ee9ebae",
   "metadata": {
    "scrolled": true
   },
   "outputs": [
    {
     "data": {
      "image/png": "[encoded data removed]"
     },
     "metadata": {},
     "output_type": "display_data"
    }
   ],
   "source": [
    "fig = px.bar(actions_per_day, x=\"date\", y=[\"group_A\", \"group_B\"], title=\"Распределение числа событий в выборках по дням\",\n",
    "            labels={'value': 'Количество событий', 'date': 'Дата'})\n",
    "fig.show()"
   ]
  },
  {
   "cell_type": "markdown",
   "id": "41103385",
   "metadata": {},
   "source": [
    "**Посмотрим, как новогодняя акция повлияла на покупки**"
   ]
  },
  {
   "cell_type": "code",
   "execution_count": 43,
   "id": "c1839c21",
   "metadata": {},
   "outputs": [],
   "source": [
    "purchaseA = groupA[groupA['event_name'] == 'purchase']\n",
    "purchaseB = groupB[groupB['event_name'] == 'purchase']"
   ]
  },
  {
   "cell_type": "code",
   "execution_count": 44,
   "id": "640af526",
   "metadata": {},
   "outputs": [],
   "source": [
    "purchases_per_dayA = purchaseA.groupby('date')['event_name'].count().to_frame().reset_index()\n",
    "purchases_per_dayB = purchaseB.groupby('date')['event_name'].count().to_frame().reset_index()"
   ]
  },
  {
   "cell_type": "code",
   "execution_count": 45,
   "id": "bd28ea33",
   "metadata": {
    "scrolled": true
   },
   "outputs": [
    {
     "data": {
      "text/html": [
       "<div>\n",
       "<style scoped>\n",
       "    .dataframe tbody tr th:only-of-type {\n",
       "        vertical-align: middle;\n",
       "    }\n",
       "\n",
       "    .dataframe tbody tr th {\n",
       "        vertical-align: top;\n",
       "    }\n",
       "\n",
       "    .dataframe thead th {\n",
       "        text-align: right;\n",
       "    }\n",
       "</style>\n",
       "<table border=\"1\" class=\"dataframe\">\n",
       "  <thead>\n",
       "    <tr style=\"text-align: right;\">\n",
       "      <th></th>\n",
       "      <th>date</th>\n",
       "      <th>group_A</th>\n",
       "      <th>group_B</th>\n",
       "    </tr>\n",
       "  </thead>\n",
       "  <tbody>\n",
       "    <tr>\n",
       "      <th>0</th>\n",
       "      <td>2020-12-07</td>\n",
       "      <td>43</td>\n",
       "      <td>59</td>\n",
       "    </tr>\n",
       "    <tr>\n",
       "      <th>1</th>\n",
       "      <td>2020-12-08</td>\n",
       "      <td>33</td>\n",
       "      <td>33</td>\n",
       "    </tr>\n",
       "    <tr>\n",
       "      <th>2</th>\n",
       "      <td>2020-12-09</td>\n",
       "      <td>47</td>\n",
       "      <td>39</td>\n",
       "    </tr>\n",
       "    <tr>\n",
       "      <th>3</th>\n",
       "      <td>2020-12-10</td>\n",
       "      <td>42</td>\n",
       "      <td>26</td>\n",
       "    </tr>\n",
       "    <tr>\n",
       "      <th>4</th>\n",
       "      <td>2020-12-11</td>\n",
       "      <td>40</td>\n",
       "      <td>16</td>\n",
       "    </tr>\n",
       "    <tr>\n",
       "      <th>5</th>\n",
       "      <td>2020-12-12</td>\n",
       "      <td>38</td>\n",
       "      <td>25</td>\n",
       "    </tr>\n",
       "    <tr>\n",
       "      <th>6</th>\n",
       "      <td>2020-12-13</td>\n",
       "      <td>32</td>\n",
       "      <td>26</td>\n",
       "    </tr>\n",
       "    <tr>\n",
       "      <th>7</th>\n",
       "      <td>2020-12-14</td>\n",
       "      <td>133</td>\n",
       "      <td>32</td>\n",
       "    </tr>\n",
       "    <tr>\n",
       "      <th>8</th>\n",
       "      <td>2020-12-15</td>\n",
       "      <td>137</td>\n",
       "      <td>32</td>\n",
       "    </tr>\n",
       "    <tr>\n",
       "      <th>9</th>\n",
       "      <td>2020-12-16</td>\n",
       "      <td>142</td>\n",
       "      <td>50</td>\n",
       "    </tr>\n",
       "    <tr>\n",
       "      <th>10</th>\n",
       "      <td>2020-12-17</td>\n",
       "      <td>169</td>\n",
       "      <td>36</td>\n",
       "    </tr>\n",
       "    <tr>\n",
       "      <th>11</th>\n",
       "      <td>2020-12-18</td>\n",
       "      <td>165</td>\n",
       "      <td>29</td>\n",
       "    </tr>\n",
       "    <tr>\n",
       "      <th>12</th>\n",
       "      <td>2020-12-19</td>\n",
       "      <td>208</td>\n",
       "      <td>34</td>\n",
       "    </tr>\n",
       "    <tr>\n",
       "      <th>13</th>\n",
       "      <td>2020-12-20</td>\n",
       "      <td>211</td>\n",
       "      <td>37</td>\n",
       "    </tr>\n",
       "    <tr>\n",
       "      <th>14</th>\n",
       "      <td>2020-12-21</td>\n",
       "      <td>282</td>\n",
       "      <td>52</td>\n",
       "    </tr>\n",
       "    <tr>\n",
       "      <th>15</th>\n",
       "      <td>2020-12-22</td>\n",
       "      <td>164</td>\n",
       "      <td>27</td>\n",
       "    </tr>\n",
       "    <tr>\n",
       "      <th>16</th>\n",
       "      <td>2020-12-23</td>\n",
       "      <td>136</td>\n",
       "      <td>23</td>\n",
       "    </tr>\n",
       "    <tr>\n",
       "      <th>17</th>\n",
       "      <td>2020-12-24</td>\n",
       "      <td>122</td>\n",
       "      <td>19</td>\n",
       "    </tr>\n",
       "    <tr>\n",
       "      <th>18</th>\n",
       "      <td>2020-12-25</td>\n",
       "      <td>106</td>\n",
       "      <td>11</td>\n",
       "    </tr>\n",
       "    <tr>\n",
       "      <th>19</th>\n",
       "      <td>2020-12-26</td>\n",
       "      <td>92</td>\n",
       "      <td>13</td>\n",
       "    </tr>\n",
       "    <tr>\n",
       "      <th>20</th>\n",
       "      <td>2020-12-27</td>\n",
       "      <td>82</td>\n",
       "      <td>19</td>\n",
       "    </tr>\n",
       "    <tr>\n",
       "      <th>21</th>\n",
       "      <td>2020-12-28</td>\n",
       "      <td>69</td>\n",
       "      <td>10</td>\n",
       "    </tr>\n",
       "    <tr>\n",
       "      <th>22</th>\n",
       "      <td>2020-12-29</td>\n",
       "      <td>43</td>\n",
       "      <td>12</td>\n",
       "    </tr>\n",
       "  </tbody>\n",
       "</table>\n",
       "</div>"
      ],
      "text/plain": [
       "         date  group_A  group_B\n",
       "0  2020-12-07       43       59\n",
       "1  2020-12-08       33       33\n",
       "2  2020-12-09       47       39\n",
       "3  2020-12-10       42       26\n",
       "4  2020-12-11       40       16\n",
       "5  2020-12-12       38       25\n",
       "6  2020-12-13       32       26\n",
       "7  2020-12-14      133       32\n",
       "8  2020-12-15      137       32\n",
       "9  2020-12-16      142       50\n",
       "10 2020-12-17      169       36\n",
       "11 2020-12-18      165       29\n",
       "12 2020-12-19      208       34\n",
       "13 2020-12-20      211       37\n",
       "14 2020-12-21      282       52\n",
       "15 2020-12-22      164       27\n",
       "16 2020-12-23      136       23\n",
       "17 2020-12-24      122       19\n",
       "18 2020-12-25      106       11\n",
       "19 2020-12-26       92       13\n",
       "20 2020-12-27       82       19\n",
       "21 2020-12-28       69       10\n",
       "22 2020-12-29       43       12"
      ]
     },
     "execution_count": 45,
     "metadata": {},
     "output_type": "execute_result"
    }
   ],
   "source": [
    "purchases_per_day = purchases_per_dayA.merge(purchases_per_dayB, on='date')\n",
    "purchases_per_day.columns = ['date', 'group_A', 'group_B']\n",
    "purchases_per_day"
   ]
  },
  {
   "cell_type": "code",
   "execution_count": 46,
   "id": "4b859bf6",
   "metadata": {
    "scrolled": true
   },
   "outputs": [
    {
     "data": {
      "image/png": "[encoded data removed]"
     },
     "metadata": {},
     "output_type": "display_data"
    }
   ],
   "source": [
    "fig = px.bar(purchases_per_day, x=\"date\", y=[\"group_A\", \"group_B\"], title=\"Распределение количества покупок в выборках по дням\",\n",
    "            labels={'value': 'Количество покупок', 'date': 'Дата'})\n",
    "fig.show()"
   ]
  },
  {
   "cell_type": "markdown",
   "id": "9e6f6239",
   "metadata": {},
   "source": [
    "Несмотря на новогоднюю акцию, общее количество событий и оличество покупок шло на спад в обоих группах. Значит, маркетинговое событие, которое происходило параллельно с тетом, не повлияло на поведение пользователей."
   ]
  },
  {
   "cell_type": "markdown",
   "id": "c30d2494",
   "metadata": {},
   "source": [
    "**Проверим аудиторию теста**"
   ]
  },
  {
   "cell_type": "markdown",
   "id": "4966db66",
   "metadata": {},
   "source": [
    "**Удостоверимся, нет ли пересечений пользователей нашего теста с конкурирующим**"
   ]
  },
  {
   "cell_type": "code",
   "execution_count": 47,
   "id": "d370b9bd",
   "metadata": {},
   "outputs": [],
   "source": [
    "eu_user_id = eu_events['user_id'].unique() # сохраним в переменную уникальные id пользователей нашего теста"
   ]
  },
  {
   "cell_type": "code",
   "execution_count": 48,
   "id": "6675daa1",
   "metadata": {},
   "outputs": [],
   "source": [
    "another_test = groups[groups['ab_test'] == 'interface_eu_test']\n",
    "another_user_id = another_test['user_id'].unique() # сохраним в переменную уникальные id пользователей конкурирующего теста"
   ]
  },
  {
   "cell_type": "code",
   "execution_count": 49,
   "id": "2f39fc7e",
   "metadata": {
    "scrolled": true
   },
   "outputs": [
    {
     "name": "stdout",
     "output_type": "stream",
     "text": [
      "887\n"
     ]
    }
   ],
   "source": [
    "# проверим пересекаются ли пользователи\n",
    "general_users = groups.loc[groups['user_id'].isin(eu_user_id)& groups['user_id'].isin(another_user_id),'user_id'].unique()\n",
    "print(len(general_users))"
   ]
  },
  {
   "cell_type": "markdown",
   "id": "368e595e",
   "metadata": {},
   "source": [
    "Получается, 887 пользователей попали и в наш тест, и в конкурирующий. Логично было бы удалить их из нашего теста."
   ]
  },
  {
   "cell_type": "markdown",
   "id": "72d0e031",
   "metadata": {},
   "source": [
    "**Посмотрим, сколько пользователей у нас осталось, после отсечения**"
   ]
  },
  {
   "cell_type": "code",
   "execution_count": 50,
   "id": "3d86bca9",
   "metadata": {},
   "outputs": [],
   "source": [
    "eu_events = eu_events.query(\"user_id not in @general_users\")"
   ]
  },
  {
   "cell_type": "code",
   "execution_count": 51,
   "id": "9c44d15e",
   "metadata": {},
   "outputs": [
    {
     "data": {
      "text/plain": [
       "2594"
      ]
     },
     "execution_count": 51,
     "metadata": {},
     "output_type": "execute_result"
    }
   ],
   "source": [
    "eu_events['user_id'].nunique()"
   ]
  },
  {
   "cell_type": "markdown",
   "id": "23e54c6e",
   "metadata": {},
   "source": [
    "У нас осталось всего 2594 уникальных пользователей. Это говорит о том, что данные не соответствуют техническому заданию. Это отразится на результатах анализа A/B-теста."
   ]
  },
  {
   "cell_type": "markdown",
   "id": "f1ba7391",
   "metadata": {},
   "source": [
    "**Проверим, нет ли пользователей, участвующих в двух группах нашего теста сразу**"
   ]
  },
  {
   "cell_type": "code",
   "execution_count": 52,
   "id": "27478abb",
   "metadata": {},
   "outputs": [
    {
     "name": "stdout",
     "output_type": "stream",
     "text": [
      "0\n"
     ]
    }
   ],
   "source": [
    "# создадим переменные, в которые сохраним ID пользователей в каждой группе\n",
    "usersA = eu_events[eu_events['group']=='A']['user_id']\n",
    "usersB = eu_events[eu_events['group']=='B']['user_id']\n",
    "\n",
    "# а теперь посмотрим, есть ли одни и те же пользователи, которые попали в обе группы сразу\n",
    "usersAB = eu_events.loc[eu_events['user_id'].isin(usersA)& eu_events['user_id'].isin(usersB),'user_id'].unique()\n",
    "print(len(usersAB))"
   ]
  },
  {
   "cell_type": "markdown",
   "id": "50988f77",
   "metadata": {},
   "source": [
    "Внутри групп нашего теста пользователи не пересекаются."
   ]
  },
  {
   "cell_type": "markdown",
   "id": "ff83fab8",
   "metadata": {},
   "source": [
    "**Проверим равномерность распределения по тестовым группам и правильность их формирования**"
   ]
  },
  {
   "cell_type": "code",
   "execution_count": 53,
   "id": "3c16cc06",
   "metadata": {},
   "outputs": [
    {
     "data": {
      "text/plain": [
       "group\n",
       "A    1939\n",
       "B     655\n",
       "Name: user_id, dtype: int64"
      ]
     },
     "execution_count": 53,
     "metadata": {},
     "output_type": "execute_result"
    }
   ],
   "source": [
    "eu_events.groupby(by='group')['user_id'].nunique()"
   ]
  },
  {
   "cell_type": "markdown",
   "id": "e241f2a3",
   "metadata": {},
   "source": [
    "После того, как мы провели предобработку и проверку на корректность формирования групп теста, мы выяснили, что:\n",
    "- в группе A 1939 пользователей \n",
    "- в группе B 655 пользователей\n",
    "\n",
    "Количество пользователей во второй группе почти в 2,8 раз меньше, чем в первой группе. Наши группы неравномерны, сформированы некорректно.\n",
    "\n",
    "Конверсия в группе А - 31,6%. По ТЗ группа В должна показать различие конверсии в 10%. Для этого выборки должны быть по 3,360 пользователей в каждой группе. В нашем тесте и та, и другая выборка содержит меньше пользователей. Значит, мощности теста недостаточно. Это отразится на результате тестирования."
   ]
  },
  {
   "cell_type": "markdown",
   "id": "0de00c9d",
   "metadata": {},
   "source": [
    "**Рассчитаем лайфтайм каждого события и отбросим те, что старше 14 дней с момента регистрации**"
   ]
  },
  {
   "cell_type": "code",
   "execution_count": 54,
   "id": "0afebdb3",
   "metadata": {
    "scrolled": false
   },
   "outputs": [
    {
     "data": {
      "text/html": [
       "<div>\n",
       "<style scoped>\n",
       "    .dataframe tbody tr th:only-of-type {\n",
       "        vertical-align: middle;\n",
       "    }\n",
       "\n",
       "    .dataframe tbody tr th {\n",
       "        vertical-align: top;\n",
       "    }\n",
       "\n",
       "    .dataframe thead th {\n",
       "        text-align: right;\n",
       "    }\n",
       "</style>\n",
       "<table border=\"1\" class=\"dataframe\">\n",
       "  <thead>\n",
       "    <tr style=\"text-align: right;\">\n",
       "      <th></th>\n",
       "      <th>user_id</th>\n",
       "      <th>event_dt</th>\n",
       "      <th>event_name</th>\n",
       "      <th>details</th>\n",
       "      <th>group</th>\n",
       "      <th>ab_test</th>\n",
       "      <th>first_date</th>\n",
       "      <th>region</th>\n",
       "      <th>device</th>\n",
       "      <th>lifetime</th>\n",
       "    </tr>\n",
       "  </thead>\n",
       "  <tbody>\n",
       "    <tr>\n",
       "      <th>0</th>\n",
       "      <td>831887FE7F2D6CBA</td>\n",
       "      <td>2020-12-07</td>\n",
       "      <td>purchase</td>\n",
       "      <td>4.99</td>\n",
       "      <td>A</td>\n",
       "      <td>recommender_system_test</td>\n",
       "      <td>2020-12-07</td>\n",
       "      <td>EU</td>\n",
       "      <td>Android</td>\n",
       "      <td>0 days</td>\n",
       "    </tr>\n",
       "    <tr>\n",
       "      <th>1</th>\n",
       "      <td>831887FE7F2D6CBA</td>\n",
       "      <td>2020-12-09</td>\n",
       "      <td>purchase</td>\n",
       "      <td>99.99</td>\n",
       "      <td>A</td>\n",
       "      <td>recommender_system_test</td>\n",
       "      <td>2020-12-07</td>\n",
       "      <td>EU</td>\n",
       "      <td>Android</td>\n",
       "      <td>2 days</td>\n",
       "    </tr>\n",
       "    <tr>\n",
       "      <th>2</th>\n",
       "      <td>831887FE7F2D6CBA</td>\n",
       "      <td>2020-12-07</td>\n",
       "      <td>product_cart</td>\n",
       "      <td>NaN</td>\n",
       "      <td>A</td>\n",
       "      <td>recommender_system_test</td>\n",
       "      <td>2020-12-07</td>\n",
       "      <td>EU</td>\n",
       "      <td>Android</td>\n",
       "      <td>0 days</td>\n",
       "    </tr>\n",
       "    <tr>\n",
       "      <th>3</th>\n",
       "      <td>831887FE7F2D6CBA</td>\n",
       "      <td>2020-12-08</td>\n",
       "      <td>product_cart</td>\n",
       "      <td>NaN</td>\n",
       "      <td>A</td>\n",
       "      <td>recommender_system_test</td>\n",
       "      <td>2020-12-07</td>\n",
       "      <td>EU</td>\n",
       "      <td>Android</td>\n",
       "      <td>1 days</td>\n",
       "    </tr>\n",
       "    <tr>\n",
       "      <th>4</th>\n",
       "      <td>831887FE7F2D6CBA</td>\n",
       "      <td>2020-12-09</td>\n",
       "      <td>product_cart</td>\n",
       "      <td>NaN</td>\n",
       "      <td>A</td>\n",
       "      <td>recommender_system_test</td>\n",
       "      <td>2020-12-07</td>\n",
       "      <td>EU</td>\n",
       "      <td>Android</td>\n",
       "      <td>2 days</td>\n",
       "    </tr>\n",
       "    <tr>\n",
       "      <th>...</th>\n",
       "      <td>...</td>\n",
       "      <td>...</td>\n",
       "      <td>...</td>\n",
       "      <td>...</td>\n",
       "      <td>...</td>\n",
       "      <td>...</td>\n",
       "      <td>...</td>\n",
       "      <td>...</td>\n",
       "      <td>...</td>\n",
       "      <td>...</td>\n",
       "    </tr>\n",
       "    <tr>\n",
       "      <th>17521</th>\n",
       "      <td>64597B30278462F5</td>\n",
       "      <td>2020-12-23</td>\n",
       "      <td>login</td>\n",
       "      <td>NaN</td>\n",
       "      <td>A</td>\n",
       "      <td>recommender_system_test</td>\n",
       "      <td>2020-12-21</td>\n",
       "      <td>EU</td>\n",
       "      <td>Android</td>\n",
       "      <td>2 days</td>\n",
       "    </tr>\n",
       "    <tr>\n",
       "      <th>17522</th>\n",
       "      <td>1484BBF124DB1B18</td>\n",
       "      <td>2020-12-21</td>\n",
       "      <td>login</td>\n",
       "      <td>NaN</td>\n",
       "      <td>A</td>\n",
       "      <td>recommender_system_test</td>\n",
       "      <td>2020-12-21</td>\n",
       "      <td>EU</td>\n",
       "      <td>PC</td>\n",
       "      <td>0 days</td>\n",
       "    </tr>\n",
       "    <tr>\n",
       "      <th>17523</th>\n",
       "      <td>1484BBF124DB1B18</td>\n",
       "      <td>2020-12-22</td>\n",
       "      <td>login</td>\n",
       "      <td>NaN</td>\n",
       "      <td>A</td>\n",
       "      <td>recommender_system_test</td>\n",
       "      <td>2020-12-21</td>\n",
       "      <td>EU</td>\n",
       "      <td>PC</td>\n",
       "      <td>1 days</td>\n",
       "    </tr>\n",
       "    <tr>\n",
       "      <th>17524</th>\n",
       "      <td>1484BBF124DB1B18</td>\n",
       "      <td>2020-12-27</td>\n",
       "      <td>login</td>\n",
       "      <td>NaN</td>\n",
       "      <td>A</td>\n",
       "      <td>recommender_system_test</td>\n",
       "      <td>2020-12-21</td>\n",
       "      <td>EU</td>\n",
       "      <td>PC</td>\n",
       "      <td>6 days</td>\n",
       "    </tr>\n",
       "    <tr>\n",
       "      <th>17525</th>\n",
       "      <td>23DDD27AC3FEFA63</td>\n",
       "      <td>2020-12-21</td>\n",
       "      <td>login</td>\n",
       "      <td>NaN</td>\n",
       "      <td>A</td>\n",
       "      <td>recommender_system_test</td>\n",
       "      <td>2020-12-21</td>\n",
       "      <td>EU</td>\n",
       "      <td>PC</td>\n",
       "      <td>0 days</td>\n",
       "    </tr>\n",
       "  </tbody>\n",
       "</table>\n",
       "<p>17526 rows × 10 columns</p>\n",
       "</div>"
      ],
      "text/plain": [
       "                user_id   event_dt    event_name  details group  \\\n",
       "0      831887FE7F2D6CBA 2020-12-07      purchase     4.99     A   \n",
       "1      831887FE7F2D6CBA 2020-12-09      purchase    99.99     A   \n",
       "2      831887FE7F2D6CBA 2020-12-07  product_cart      NaN     A   \n",
       "3      831887FE7F2D6CBA 2020-12-08  product_cart      NaN     A   \n",
       "4      831887FE7F2D6CBA 2020-12-09  product_cart      NaN     A   \n",
       "...                 ...        ...           ...      ...   ...   \n",
       "17521  64597B30278462F5 2020-12-23         login      NaN     A   \n",
       "17522  1484BBF124DB1B18 2020-12-21         login      NaN     A   \n",
       "17523  1484BBF124DB1B18 2020-12-22         login      NaN     A   \n",
       "17524  1484BBF124DB1B18 2020-12-27         login      NaN     A   \n",
       "17525  23DDD27AC3FEFA63 2020-12-21         login      NaN     A   \n",
       "\n",
       "                       ab_test first_date region   device lifetime  \n",
       "0      recommender_system_test 2020-12-07     EU  Android   0 days  \n",
       "1      recommender_system_test 2020-12-07     EU  Android   2 days  \n",
       "2      recommender_system_test 2020-12-07     EU  Android   0 days  \n",
       "3      recommender_system_test 2020-12-07     EU  Android   1 days  \n",
       "4      recommender_system_test 2020-12-07     EU  Android   2 days  \n",
       "...                        ...        ...    ...      ...      ...  \n",
       "17521  recommender_system_test 2020-12-21     EU  Android   2 days  \n",
       "17522  recommender_system_test 2020-12-21     EU       PC   0 days  \n",
       "17523  recommender_system_test 2020-12-21     EU       PC   1 days  \n",
       "17524  recommender_system_test 2020-12-21     EU       PC   6 days  \n",
       "17525  recommender_system_test 2020-12-21     EU       PC   0 days  \n",
       "\n",
       "[17526 rows x 10 columns]"
      ]
     },
     "execution_count": 54,
     "metadata": {},
     "output_type": "execute_result"
    }
   ],
   "source": [
    "eu_events = eu_events.merge(eu_users, how='left', on='user_id')\n",
    "eu_events['event_dt'] = eu_events['event_dt'].astype('datetime64[D]')\n",
    "eu_events['lifetime'] = eu_events['event_dt'] - eu_events['first_date']\n",
    "eu_events"
   ]
  },
  {
   "cell_type": "code",
   "execution_count": 55,
   "id": "60dc935a",
   "metadata": {},
   "outputs": [
    {
     "data": {
      "text/plain": [
       "17526"
      ]
     },
     "execution_count": 55,
     "metadata": {},
     "output_type": "execute_result"
    }
   ],
   "source": [
    "eu_events['event_name'].count()"
   ]
  },
  {
   "cell_type": "code",
   "execution_count": 56,
   "id": "d706c3cb",
   "metadata": {},
   "outputs": [],
   "source": [
    "eu_events = eu_events[eu_events['lifetime'] <= '14 days']"
   ]
  },
  {
   "cell_type": "code",
   "execution_count": 57,
   "id": "0b464f8f",
   "metadata": {},
   "outputs": [
    {
     "data": {
      "text/plain": [
       "17087"
      ]
     },
     "execution_count": 57,
     "metadata": {},
     "output_type": "execute_result"
    }
   ],
   "source": [
    "eu_events['event_name'].count()"
   ]
  },
  {
   "cell_type": "markdown",
   "id": "3c98d699",
   "metadata": {},
   "source": [
    "Мы удалили 439 событий, которые не удовлетворяли условию: событие не должно быть старше 14 дней с момента регистрации."
   ]
  },
  {
   "cell_type": "markdown",
   "id": "ff7a42a3",
   "metadata": {},
   "source": [
    "## 3. Исследовательский анализ данных"
   ]
  },
  {
   "cell_type": "markdown",
   "id": "63a0eff6",
   "metadata": {},
   "source": [
    "**Количество событий на пользователя одинаково распределены в выборках?**"
   ]
  },
  {
   "cell_type": "code",
   "execution_count": 58,
   "id": "636e7150",
   "metadata": {
    "scrolled": false
   },
   "outputs": [
    {
     "data": {
      "text/html": [
       "<div>\n",
       "<style scoped>\n",
       "    .dataframe tbody tr th:only-of-type {\n",
       "        vertical-align: middle;\n",
       "    }\n",
       "\n",
       "    .dataframe tbody tr th {\n",
       "        vertical-align: top;\n",
       "    }\n",
       "\n",
       "    .dataframe thead th {\n",
       "        text-align: right;\n",
       "    }\n",
       "</style>\n",
       "<table border=\"1\" class=\"dataframe\">\n",
       "  <thead>\n",
       "    <tr style=\"text-align: right;\">\n",
       "      <th></th>\n",
       "      <th>event_name</th>\n",
       "    </tr>\n",
       "  </thead>\n",
       "  <tbody>\n",
       "    <tr>\n",
       "      <th>count</th>\n",
       "      <td>2604.000000</td>\n",
       "    </tr>\n",
       "    <tr>\n",
       "      <th>mean</th>\n",
       "      <td>7.031106</td>\n",
       "    </tr>\n",
       "    <tr>\n",
       "      <th>std</th>\n",
       "      <td>3.872263</td>\n",
       "    </tr>\n",
       "    <tr>\n",
       "      <th>min</th>\n",
       "      <td>1.000000</td>\n",
       "    </tr>\n",
       "    <tr>\n",
       "      <th>25%</th>\n",
       "      <td>4.000000</td>\n",
       "    </tr>\n",
       "    <tr>\n",
       "      <th>50%</th>\n",
       "      <td>6.000000</td>\n",
       "    </tr>\n",
       "    <tr>\n",
       "      <th>75%</th>\n",
       "      <td>9.000000</td>\n",
       "    </tr>\n",
       "    <tr>\n",
       "      <th>max</th>\n",
       "      <td>24.000000</td>\n",
       "    </tr>\n",
       "  </tbody>\n",
       "</table>\n",
       "</div>"
      ],
      "text/plain": [
       "        event_name\n",
       "count  2604.000000\n",
       "mean      7.031106\n",
       "std       3.872263\n",
       "min       1.000000\n",
       "25%       4.000000\n",
       "50%       6.000000\n",
       "75%       9.000000\n",
       "max      24.000000"
      ]
     },
     "execution_count": 58,
     "metadata": {},
     "output_type": "execute_result"
    }
   ],
   "source": [
    "# посчитаем количетсво действий на пользователя в группе А\n",
    "actions_A = groupA.groupby('user_id')['event_name'].count().to_frame().reset_index()\n",
    "actions_A.describe()"
   ]
  },
  {
   "cell_type": "code",
   "execution_count": 59,
   "id": "c3cdb948",
   "metadata": {
    "scrolled": true
   },
   "outputs": [
    {
     "data": {
      "text/html": [
       "<div>\n",
       "<style scoped>\n",
       "    .dataframe tbody tr th:only-of-type {\n",
       "        vertical-align: middle;\n",
       "    }\n",
       "\n",
       "    .dataframe tbody tr th {\n",
       "        vertical-align: top;\n",
       "    }\n",
       "\n",
       "    .dataframe thead th {\n",
       "        text-align: right;\n",
       "    }\n",
       "</style>\n",
       "<table border=\"1\" class=\"dataframe\">\n",
       "  <thead>\n",
       "    <tr style=\"text-align: right;\">\n",
       "      <th></th>\n",
       "      <th>event_name</th>\n",
       "    </tr>\n",
       "  </thead>\n",
       "  <tbody>\n",
       "    <tr>\n",
       "      <th>count</th>\n",
       "      <td>877.000000</td>\n",
       "    </tr>\n",
       "    <tr>\n",
       "      <th>mean</th>\n",
       "      <td>5.827822</td>\n",
       "    </tr>\n",
       "    <tr>\n",
       "      <th>std</th>\n",
       "      <td>3.492164</td>\n",
       "    </tr>\n",
       "    <tr>\n",
       "      <th>min</th>\n",
       "      <td>1.000000</td>\n",
       "    </tr>\n",
       "    <tr>\n",
       "      <th>25%</th>\n",
       "      <td>3.000000</td>\n",
       "    </tr>\n",
       "    <tr>\n",
       "      <th>50%</th>\n",
       "      <td>6.000000</td>\n",
       "    </tr>\n",
       "    <tr>\n",
       "      <th>75%</th>\n",
       "      <td>8.000000</td>\n",
       "    </tr>\n",
       "    <tr>\n",
       "      <th>max</th>\n",
       "      <td>28.000000</td>\n",
       "    </tr>\n",
       "  </tbody>\n",
       "</table>\n",
       "</div>"
      ],
      "text/plain": [
       "       event_name\n",
       "count  877.000000\n",
       "mean     5.827822\n",
       "std      3.492164\n",
       "min      1.000000\n",
       "25%      3.000000\n",
       "50%      6.000000\n",
       "75%      8.000000\n",
       "max     28.000000"
      ]
     },
     "execution_count": 59,
     "metadata": {},
     "output_type": "execute_result"
    }
   ],
   "source": [
    "# посчитаем количетсво действий на пользователя в группе B\n",
    "actions_B = groupB.groupby('user_id')['event_name'].count().to_frame().reset_index()\n",
    "actions_B.describe()"
   ]
  },
  {
   "cell_type": "code",
   "execution_count": 60,
   "id": "4c21b9d0",
   "metadata": {},
   "outputs": [
    {
     "data": {
      "image/png": "[encoded data removed]"
     },
     "metadata": {},
     "output_type": "display_data"
    }
   ],
   "source": [
    "# визуализируем результаты с помощью диаграммы рассеяния\n",
    "fig = go.Figure()\n",
    "\n",
    "fig.add_trace(go.Box(\n",
    "    y=actions_A['event_name'],\n",
    "    name='A',\n",
    "    marker_color='#3D9970'\n",
    "))\n",
    "fig.add_trace(go.Box(\n",
    "    y=actions_B['event_name'],\n",
    "    name='B',\n",
    "    marker_color='#FF4136'\n",
    "))\n",
    "\n",
    "fig.update_layout(title=dict({'text': 'Распределение количества событий на пользователя в группах'}))"
   ]
  },
  {
   "cell_type": "markdown",
   "id": "584d61cd",
   "metadata": {},
   "source": [
    "Количество событий на пользователя почти равно распределены в выборках:\n",
    "* Среднее количество событий в группе A - 6, в группе B - 5.\n",
    "* Минимальное количество - 1 событие. То есть у нас нет тех пользователей, кто не совершил ни одного действия.\n",
    "* Максимальное количество - 24 события."
   ]
  },
  {
   "cell_type": "markdown",
   "id": "269815ed",
   "metadata": {},
   "source": [
    "**Как число событий в выборках распределено по дням?**"
   ]
  },
  {
   "cell_type": "markdown",
   "id": "37beb3dd",
   "metadata": {},
   "source": [
    "Так как в предыдущих шагах мы отсекали события старше 14 дней с момента регистрации, рассмотрим еще раз диаграмму распределения количества событий в выборках по дням."
   ]
  },
  {
   "cell_type": "code",
   "execution_count": 61,
   "id": "c99da2db",
   "metadata": {},
   "outputs": [],
   "source": [
    "# формируем группы\n",
    "groupA = eu_events[eu_events['group']=='A']\n",
    "groupB = eu_events[eu_events['group']=='B']"
   ]
  },
  {
   "cell_type": "code",
   "execution_count": 62,
   "id": "39234a17",
   "metadata": {},
   "outputs": [],
   "source": [
    "# считаем количество событий в день в каждой группе\n",
    "actions_per_dayA = groupA.groupby('event_dt')['event_name'].count().to_frame().reset_index()\n",
    "actions_per_dayB = groupB.groupby('event_dt')['event_name'].count().to_frame().reset_index()"
   ]
  },
  {
   "cell_type": "code",
   "execution_count": 63,
   "id": "d10f5188",
   "metadata": {},
   "outputs": [
    {
     "data": {
      "text/html": [
       "<div>\n",
       "<style scoped>\n",
       "    .dataframe tbody tr th:only-of-type {\n",
       "        vertical-align: middle;\n",
       "    }\n",
       "\n",
       "    .dataframe tbody tr th {\n",
       "        vertical-align: top;\n",
       "    }\n",
       "\n",
       "    .dataframe thead th {\n",
       "        text-align: right;\n",
       "    }\n",
       "</style>\n",
       "<table border=\"1\" class=\"dataframe\">\n",
       "  <thead>\n",
       "    <tr style=\"text-align: right;\">\n",
       "      <th></th>\n",
       "      <th>date</th>\n",
       "      <th>group_A</th>\n",
       "      <th>group_B</th>\n",
       "    </tr>\n",
       "  </thead>\n",
       "  <tbody>\n",
       "    <tr>\n",
       "      <th>0</th>\n",
       "      <td>2020-12-07</td>\n",
       "      <td>221</td>\n",
       "      <td>268</td>\n",
       "    </tr>\n",
       "    <tr>\n",
       "      <th>1</th>\n",
       "      <td>2020-12-08</td>\n",
       "      <td>239</td>\n",
       "      <td>169</td>\n",
       "    </tr>\n",
       "    <tr>\n",
       "      <th>2</th>\n",
       "      <td>2020-12-09</td>\n",
       "      <td>282</td>\n",
       "      <td>250</td>\n",
       "    </tr>\n",
       "    <tr>\n",
       "      <th>3</th>\n",
       "      <td>2020-12-10</td>\n",
       "      <td>246</td>\n",
       "      <td>182</td>\n",
       "    </tr>\n",
       "    <tr>\n",
       "      <th>4</th>\n",
       "      <td>2020-12-11</td>\n",
       "      <td>264</td>\n",
       "      <td>115</td>\n",
       "    </tr>\n",
       "    <tr>\n",
       "      <th>5</th>\n",
       "      <td>2020-12-12</td>\n",
       "      <td>273</td>\n",
       "      <td>150</td>\n",
       "    </tr>\n",
       "    <tr>\n",
       "      <th>6</th>\n",
       "      <td>2020-12-13</td>\n",
       "      <td>233</td>\n",
       "      <td>103</td>\n",
       "    </tr>\n",
       "    <tr>\n",
       "      <th>7</th>\n",
       "      <td>2020-12-14</td>\n",
       "      <td>755</td>\n",
       "      <td>193</td>\n",
       "    </tr>\n",
       "    <tr>\n",
       "      <th>8</th>\n",
       "      <td>2020-12-15</td>\n",
       "      <td>780</td>\n",
       "      <td>164</td>\n",
       "    </tr>\n",
       "    <tr>\n",
       "      <th>9</th>\n",
       "      <td>2020-12-16</td>\n",
       "      <td>748</td>\n",
       "      <td>275</td>\n",
       "    </tr>\n",
       "    <tr>\n",
       "      <th>10</th>\n",
       "      <td>2020-12-17</td>\n",
       "      <td>875</td>\n",
       "      <td>194</td>\n",
       "    </tr>\n",
       "    <tr>\n",
       "      <th>11</th>\n",
       "      <td>2020-12-18</td>\n",
       "      <td>908</td>\n",
       "      <td>200</td>\n",
       "    </tr>\n",
       "    <tr>\n",
       "      <th>12</th>\n",
       "      <td>2020-12-19</td>\n",
       "      <td>1104</td>\n",
       "      <td>212</td>\n",
       "    </tr>\n",
       "    <tr>\n",
       "      <th>13</th>\n",
       "      <td>2020-12-20</td>\n",
       "      <td>1099</td>\n",
       "      <td>238</td>\n",
       "    </tr>\n",
       "    <tr>\n",
       "      <th>14</th>\n",
       "      <td>2020-12-21</td>\n",
       "      <td>1442</td>\n",
       "      <td>308</td>\n",
       "    </tr>\n",
       "    <tr>\n",
       "      <th>15</th>\n",
       "      <td>2020-12-22</td>\n",
       "      <td>943</td>\n",
       "      <td>123</td>\n",
       "    </tr>\n",
       "    <tr>\n",
       "      <th>16</th>\n",
       "      <td>2020-12-23</td>\n",
       "      <td>709</td>\n",
       "      <td>127</td>\n",
       "    </tr>\n",
       "    <tr>\n",
       "      <th>17</th>\n",
       "      <td>2020-12-24</td>\n",
       "      <td>601</td>\n",
       "      <td>89</td>\n",
       "    </tr>\n",
       "    <tr>\n",
       "      <th>18</th>\n",
       "      <td>2020-12-25</td>\n",
       "      <td>448</td>\n",
       "      <td>58</td>\n",
       "    </tr>\n",
       "    <tr>\n",
       "      <th>19</th>\n",
       "      <td>2020-12-26</td>\n",
       "      <td>388</td>\n",
       "      <td>48</td>\n",
       "    </tr>\n",
       "    <tr>\n",
       "      <th>20</th>\n",
       "      <td>2020-12-27</td>\n",
       "      <td>395</td>\n",
       "      <td>53</td>\n",
       "    </tr>\n",
       "    <tr>\n",
       "      <th>21</th>\n",
       "      <td>2020-12-28</td>\n",
       "      <td>307</td>\n",
       "      <td>47</td>\n",
       "    </tr>\n",
       "    <tr>\n",
       "      <th>22</th>\n",
       "      <td>2020-12-29</td>\n",
       "      <td>229</td>\n",
       "      <td>32</td>\n",
       "    </tr>\n",
       "  </tbody>\n",
       "</table>\n",
       "</div>"
      ],
      "text/plain": [
       "         date  group_A  group_B\n",
       "0  2020-12-07      221      268\n",
       "1  2020-12-08      239      169\n",
       "2  2020-12-09      282      250\n",
       "3  2020-12-10      246      182\n",
       "4  2020-12-11      264      115\n",
       "5  2020-12-12      273      150\n",
       "6  2020-12-13      233      103\n",
       "7  2020-12-14      755      193\n",
       "8  2020-12-15      780      164\n",
       "9  2020-12-16      748      275\n",
       "10 2020-12-17      875      194\n",
       "11 2020-12-18      908      200\n",
       "12 2020-12-19     1104      212\n",
       "13 2020-12-20     1099      238\n",
       "14 2020-12-21     1442      308\n",
       "15 2020-12-22      943      123\n",
       "16 2020-12-23      709      127\n",
       "17 2020-12-24      601       89\n",
       "18 2020-12-25      448       58\n",
       "19 2020-12-26      388       48\n",
       "20 2020-12-27      395       53\n",
       "21 2020-12-28      307       47\n",
       "22 2020-12-29      229       32"
      ]
     },
     "execution_count": 63,
     "metadata": {},
     "output_type": "execute_result"
    }
   ],
   "source": [
    "# объединяем две группы в одну табличку\n",
    "actions_per_day = actions_per_dayA.merge(actions_per_dayB, on='event_dt')\n",
    "actions_per_day.columns = ['date', 'group_A', 'group_B']\n",
    "actions_per_day"
   ]
  },
  {
   "cell_type": "code",
   "execution_count": 64,
   "id": "8ad9431f",
   "metadata": {},
   "outputs": [
    {
     "data": {
      "image/png": "[encoded data removed]"
     },
     "metadata": {},
     "output_type": "display_data"
    }
   ],
   "source": [
    "fig = px.bar(actions_per_day, x=\"date\", y=[\"group_A\", \"group_B\"], title=\"Распределение числа событий в выборках по дням\",\n",
    "            labels={'value': 'Количество событий', 'date': 'Дата'})\n",
    "fig.show()"
   ]
  },
  {
   "cell_type": "markdown",
   "id": "cf1962c0",
   "metadata": {},
   "source": [
    "Мы рассмотрели количество событий в выборках по дням, и вот, что выяснили:\n",
    "\n",
    "* Несмотря на то, что пользователей в группе А больше, чем в группе В, в начале теста количество событий в группах было почти одинаковым.\n",
    "* Мы заметили первый резкий скачок в количестве событий 14 декабря. В группе А в этот день почти в 4 раза было событий больше, чем в группе B.\n",
    "* C 19 по 21 декабря количество событий в первой группе превышало события во второй группе в 5 раз.\n",
    "* После 21 декабря в обоих выборках замечен спад."
   ]
  },
  {
   "cell_type": "markdown",
   "id": "ee91f3d3",
   "metadata": {},
   "source": [
    "**Как меняется конверсия в воронке в выборках на разных этапах?**"
   ]
  },
  {
   "cell_type": "code",
   "execution_count": 65,
   "id": "1bc416ac",
   "metadata": {
    "scrolled": true
   },
   "outputs": [
    {
     "data": {
      "text/html": [
       "<div>\n",
       "<style scoped>\n",
       "    .dataframe tbody tr th:only-of-type {\n",
       "        vertical-align: middle;\n",
       "    }\n",
       "\n",
       "    .dataframe tbody tr th {\n",
       "        vertical-align: top;\n",
       "    }\n",
       "\n",
       "    .dataframe thead th {\n",
       "        text-align: right;\n",
       "    }\n",
       "</style>\n",
       "<table border=\"1\" class=\"dataframe\">\n",
       "  <thead>\n",
       "    <tr style=\"text-align: right;\">\n",
       "      <th></th>\n",
       "      <th>event_name</th>\n",
       "      <th>user_id</th>\n",
       "    </tr>\n",
       "  </thead>\n",
       "  <tbody>\n",
       "    <tr>\n",
       "      <th>0</th>\n",
       "      <td>login</td>\n",
       "      <td>2593</td>\n",
       "    </tr>\n",
       "    <tr>\n",
       "      <th>1</th>\n",
       "      <td>product_page</td>\n",
       "      <td>1632</td>\n",
       "    </tr>\n",
       "    <tr>\n",
       "      <th>2</th>\n",
       "      <td>purchase</td>\n",
       "      <td>804</td>\n",
       "    </tr>\n",
       "    <tr>\n",
       "      <th>3</th>\n",
       "      <td>product_cart</td>\n",
       "      <td>773</td>\n",
       "    </tr>\n",
       "  </tbody>\n",
       "</table>\n",
       "</div>"
      ],
      "text/plain": [
       "     event_name  user_id\n",
       "0         login     2593\n",
       "1  product_page     1632\n",
       "2      purchase      804\n",
       "3  product_cart      773"
      ]
     },
     "execution_count": 65,
     "metadata": {},
     "output_type": "execute_result"
    }
   ],
   "source": [
    "funnel = eu_events.groupby('event_name')['user_id'].nunique()\\\n",
    "                  .to_frame()\\\n",
    "                  .sort_values(by='user_id', ascending = False)\\\n",
    "                  .reset_index()\n",
    "funnel"
   ]
  },
  {
   "cell_type": "markdown",
   "id": "805bca79",
   "metadata": {},
   "source": [
    "По нашим данным мы видим, что события не выстраиваются в логичном порядке.\n",
    "Порядок событий должен быть таким:\n",
    "\n",
    "1. login - регистрация\n",
    "2. product_page - просмотр страницы продукта\n",
    "3. product_cart - добавление в корзину\n",
    "4. purchase - покупка \n",
    "\n",
    "Какие-то пользователи перешли на этап покупки до добавления в корзины. Скорее всего это связано с тем, что приобрести товары можно в обход корзины (например, были совершены быстрые покупки без корзины)."
   ]
  },
  {
   "cell_type": "markdown",
   "id": "df846fdc",
   "metadata": {},
   "source": [
    "**Построим воронку в логичной последовательности и оценим конверсию переходов**"
   ]
  },
  {
   "cell_type": "code",
   "execution_count": 66,
   "id": "d3d62914",
   "metadata": {
    "scrolled": true
   },
   "outputs": [
    {
     "data": {
      "text/html": [
       "<div>\n",
       "<style scoped>\n",
       "    .dataframe tbody tr th:only-of-type {\n",
       "        vertical-align: middle;\n",
       "    }\n",
       "\n",
       "    .dataframe tbody tr th {\n",
       "        vertical-align: top;\n",
       "    }\n",
       "\n",
       "    .dataframe thead th {\n",
       "        text-align: right;\n",
       "    }\n",
       "</style>\n",
       "<table border=\"1\" class=\"dataframe\">\n",
       "  <thead>\n",
       "    <tr style=\"text-align: right;\">\n",
       "      <th>group</th>\n",
       "      <th>event_name</th>\n",
       "      <th>A</th>\n",
       "      <th>B</th>\n",
       "    </tr>\n",
       "  </thead>\n",
       "  <tbody>\n",
       "    <tr>\n",
       "      <th>0</th>\n",
       "      <td>login</td>\n",
       "      <td>1939</td>\n",
       "      <td>654</td>\n",
       "    </tr>\n",
       "    <tr>\n",
       "      <th>1</th>\n",
       "      <td>product_page</td>\n",
       "      <td>1265</td>\n",
       "      <td>367</td>\n",
       "    </tr>\n",
       "    <tr>\n",
       "      <th>2</th>\n",
       "      <td>purchase</td>\n",
       "      <td>613</td>\n",
       "      <td>191</td>\n",
       "    </tr>\n",
       "    <tr>\n",
       "      <th>3</th>\n",
       "      <td>product_cart</td>\n",
       "      <td>589</td>\n",
       "      <td>184</td>\n",
       "    </tr>\n",
       "  </tbody>\n",
       "</table>\n",
       "</div>"
      ],
      "text/plain": [
       "group    event_name     A    B\n",
       "0             login  1939  654\n",
       "1      product_page  1265  367\n",
       "2          purchase   613  191\n",
       "3      product_cart   589  184"
      ]
     },
     "execution_count": 66,
     "metadata": {},
     "output_type": "execute_result"
    }
   ],
   "source": [
    "events_group = eu_events.pivot_table(index='event_name', columns='group',values='user_id',aggfunc='nunique')\\\n",
    "                          .sort_values('A',ascending=False)\n",
    "events_group = events_group.reset_index()\n",
    "events_group"
   ]
  },
  {
   "cell_type": "code",
   "execution_count": 67,
   "id": "b013a0d7",
   "metadata": {},
   "outputs": [
    {
     "data": {
      "image/png": "[encoded data removed]"
     },
     "metadata": {},
     "output_type": "display_data"
    }
   ],
   "source": [
    "fig = go.Figure()\n",
    "\n",
    "fig.add_trace(go.Funnel(\n",
    "    name = 'A',\n",
    "    y = ['login', 'product_page', 'product_cart', 'purchase'],\n",
    "    x = [1939, 1265, 589, 613],\n",
    "    textinfo = \"value+percent previous\"))\n",
    "\n",
    "fig.add_trace(go.Funnel(\n",
    "    name = 'B',\n",
    "    orientation = \"h\",\n",
    "    y = ['login', 'product_page', 'product_cart', 'purchase'],\n",
    "    x = [654, 367, 184, 191],\n",
    "    textposition = \"inside\",\n",
    "    textinfo = \"value+percent previous\"))\n",
    "\n",
    "fig.update_layout(title=dict({'text': 'Воронка продаж'}))\n",
    "fig.show()"
   ]
  },
  {
   "cell_type": "markdown",
   "id": "ac9ebbe8",
   "metadata": {},
   "source": [
    "По воронке конверсии в целевое действие мы видим, что: \n",
    "- Больше половины пользователей переходит после регистрации на страницу продукта (в группе А - 65%, в группе В - 56%).\n",
    "- От просмотра продукта в корзину в группе А переходит 47% пользователей, а в группе В - 50%.\n",
    "- Количество покупок превышает количество переходов в корзину. От корзины к покупке в обоих группах переходит 104% пользователей. В обоих случаях - это почти 14% от зарегистрировавшихся пользователей."
   ]
  },
  {
   "cell_type": "markdown",
   "id": "7e23ec2b",
   "metadata": {},
   "source": [
    "Ожидаемый эффект от теста - за 14 дней с момента регистрации пользователи покажут улучшение каждой метрики не менее, чем на 10%:\n",
    "\n",
    "- конверсии в просмотр карточек товаров — событие `product_page`: в группе В конверсия на 9% меньше, чем в группе А.\n",
    "- конверсии в просмотр карточек товаров — событие `product_cart`: в группе В конверсия на 3% больше, чем в группе А.\n",
    "- покупки — `purchase`: конверсия в обоих группах почти одинаковая."
   ]
  },
  {
   "cell_type": "markdown",
   "id": "d52a4f60",
   "metadata": {},
   "source": [
    "**Какие особенности данных нужно учесть, прежде чем приступать к A/B-тестированию?**"
   ]
  },
  {
   "cell_type": "markdown",
   "id": "6124c084",
   "metadata": {},
   "source": [
    "Мы провели проверку экспериментальных групп - в наших группах только пользователи из Евросоюза, они не пересекаются между группами нашего теста и не пересекаются с конкурирующим тестом.\n",
    "\n",
    "В итоге у нас осталось 2593 пользователей:\n",
    "\n",
    "* в группе A 1939 пользователей\n",
    "* в группе B 655 пользователей\n",
    "\n",
    "Количество пользователей во второй группе почти в 2,8 раз меньше, чем в первой группе. Наши группы неравномерны, сформированы некорректно. Мощности теста недостаточно, выборки должны быть по 3360 человек в каждой группе. Это отразится на результате тестирования."
   ]
  },
  {
   "cell_type": "markdown",
   "id": "d48c0a5d",
   "metadata": {},
   "source": [
    "## 4. Оценим результаты A/B-тестирования"
   ]
  },
  {
   "cell_type": "markdown",
   "id": "430a4bb6",
   "metadata": {},
   "source": [
    "Проверим гипотезу о том, что конверсия увеличилась с внедрением улучшенной рекомендательной системы на каждом этапе."
   ]
  },
  {
   "cell_type": "code",
   "execution_count": 68,
   "id": "cf9444a7",
   "metadata": {},
   "outputs": [],
   "source": [
    "# функция для z-теста\n",
    "def z_test(successes1, successes2, trials1, trials2, alpha):\n",
    "    p1 = successes1 / trials1\n",
    "    p2 = successes2 / trials2\n",
    "    \n",
    "    p_combined = (successes1 + successes2) / (trials1 + trials2)\n",
    "    difference = p1 - p2\n",
    "    \n",
    "    z_value = difference / mth.sqrt(p_combined * (1 - p_combined) * (1/trials1 + 1/trials2)) \n",
    "    distr = stats.norm(0, 1)  \n",
    "    p_value = (1 - distr.cdf(abs(z_value))) * 2 \n",
    "    print('p-значение: ', p_value)\n",
    " \n",
    "    if (p_value < alpha): \n",
    "        print('Отвергаем нулевую гипотезу, между выборками есть статистически значимые различия')\n",
    "    else:\n",
    "        print('Не получилось отвергнуть нулевую гипотезу, статистически значимых различий в выборках нет')"
   ]
  },
  {
   "cell_type": "code",
   "execution_count": 69,
   "id": "2ebdb9c2",
   "metadata": {},
   "outputs": [],
   "source": [
    "# посчитаем количество пользователей в группах\n",
    "trials1 = groupA['user_id'].nunique() # группа А\n",
    "trials2 = groupB['user_id'].nunique() # группа B"
   ]
  },
  {
   "cell_type": "markdown",
   "id": "82d219ea",
   "metadata": {},
   "source": [
    "Так как далее у нас будет несколько сравнений, воспользуемся методом Бонферрони. Будем делить уровень значимости 0.05 на общее количество сравнений (у нас их будет 3)."
   ]
  },
  {
   "cell_type": "markdown",
   "id": "ae0147ff",
   "metadata": {},
   "source": [
    "**z-тест конверсии в product_page**"
   ]
  },
  {
   "cell_type": "markdown",
   "id": "3cc5ed8f",
   "metadata": {},
   "source": [
    "H0 - конверсия группы А на этапе product_page равна конверсии группы В\\\n",
    "H1 - конверсии групп не равны"
   ]
  },
  {
   "cell_type": "code",
   "execution_count": 70,
   "id": "0128292d",
   "metadata": {},
   "outputs": [],
   "source": [
    "# посчитаем количество успехов - конверсия в product_page\n",
    "successes1 = events_group['A'][1]\n",
    "successes2 = events_group['B'][1]"
   ]
  },
  {
   "cell_type": "code",
   "execution_count": 71,
   "id": "4f3da122",
   "metadata": {},
   "outputs": [
    {
     "name": "stdout",
     "output_type": "stream",
     "text": [
      "p-значение:  2.457788807452843e-05\n",
      "Отвергаем нулевую гипотезу, между выборками есть статистически значимые различия\n"
     ]
    }
   ],
   "source": [
    "z_test(successes1, successes2, trials1, trials2, 0.05/3)"
   ]
  },
  {
   "cell_type": "markdown",
   "id": "e8e51211",
   "metadata": {},
   "source": [
    "**z-тест конверсии в product_cart**"
   ]
  },
  {
   "cell_type": "markdown",
   "id": "2aff6322",
   "metadata": {},
   "source": [
    "H0 - конверсия группы А на этапе product_cart равна конверсии группы В\\\n",
    "H1 - конверсии групп не равны"
   ]
  },
  {
   "cell_type": "code",
   "execution_count": 72,
   "id": "42fe8903",
   "metadata": {},
   "outputs": [],
   "source": [
    "# посчитаем количество успехов - конверсия в product_cart\n",
    "successes1 = events_group['A'][3]\n",
    "successes2 = events_group['B'][3]"
   ]
  },
  {
   "cell_type": "code",
   "execution_count": 73,
   "id": "69489d78",
   "metadata": {},
   "outputs": [
    {
     "name": "stdout",
     "output_type": "stream",
     "text": [
      "p-значение:  0.26899325584838074\n",
      "Не получилось отвергнуть нулевую гипотезу, статистически значимых различий в выборках нет\n"
     ]
    }
   ],
   "source": [
    "z_test(successes1, successes2, trials1, trials2, 0.05/3)"
   ]
  },
  {
   "cell_type": "markdown",
   "id": "8049cefe",
   "metadata": {},
   "source": [
    "**z-тест конверсии в purchase**"
   ]
  },
  {
   "cell_type": "markdown",
   "id": "dfb527df",
   "metadata": {},
   "source": [
    "H0 - конверсия группы А на этапе purchase равна конверсии группы В\\\n",
    "H1 - конверсии групп не равны"
   ]
  },
  {
   "cell_type": "code",
   "execution_count": 74,
   "id": "6b026b19",
   "metadata": {},
   "outputs": [],
   "source": [
    "# посчитаем количество успехов - конверсия в purchase\n",
    "successes1 = events_group['A'][2]\n",
    "successes2 = events_group['B'][2]"
   ]
  },
  {
   "cell_type": "code",
   "execution_count": 75,
   "id": "7900f490",
   "metadata": {},
   "outputs": [
    {
     "name": "stdout",
     "output_type": "stream",
     "text": [
      "p-значение:  0.24035836270660704\n",
      "Не получилось отвергнуть нулевую гипотезу, статистически значимых различий в выборках нет\n"
     ]
    }
   ],
   "source": [
    "z_test(successes1, successes2, trials1, trials2, 0.05/3)"
   ]
  },
  {
   "cell_type": "markdown",
   "id": "0387cde3",
   "metadata": {},
   "source": [
    "Что можно сказать по результатам z-теста:\n",
    "* Конверсия в просмотр продукта: между выборками есть статистически значимые различия. Группа А показала себя лучше, чем группа B.\n",
    "* Конверсия в просмотр корзины: между выборками нет статистически значимых различий.\n",
    "* Конверсия в покупку: между выборками нет статистически значимых различий.\n",
    "\n",
    "Результат теста говорит о том, что группа В не показала себя лучше, чем группа А."
   ]
  },
  {
   "cell_type": "markdown",
   "id": "4f472871",
   "metadata": {},
   "source": [
    "## Общие выводы"
   ]
  },
  {
   "cell_type": "markdown",
   "id": "f69fe150",
   "metadata": {},
   "source": [
    "**Выводы по исследовательскому анализу:**\n",
    "* Количество событий на пользователя почти равно распределены в выборках. В группе A - 6 событий, в группе B - 5.\n",
    "* Исходя из того, что в группе А изначально больше пользователей, мы получили логичное распределение количества событий по дням. В группе A событий больше, чем в группе B. C 19 по 21 декабря количество событий в первой группе превышало события во второй группе в 5 раз.\n",
    "* По воронке конверсии в целевое действие мы видим, что: \n",
    "    - Больше половины пользователей переходит после регистрации на страницу продукта (в группе А - 65%, в группе В - 56%).\n",
    "    - От просмотра продукта в корзину в группе А переходит 47% пользователей, а в группе В - 50%.\n",
    "    - Количество покупок превышает количество переходов в корзину. От корзины к покупке в обоих группах переходит 104% пользователей. В обоих случаях - это почти 14% от зарегистрировавшихся пользователей.\n",
    "\n",
    "* Ожидаемый эффект от теста - за 14 дней с момента регистрации пользователи покажут улучшение каждой метрики не менее, чем на 10%:\n",
    "    - конверсии в просмотр карточек товаров — событие product_page: в группе В конверсия на 9% меньше, чем в группе А.\n",
    "    -конверсии в просмотр карточек товаров — событие product_cart: в группе В конверсия на 3% больше, чем в группе А.\n",
    "    -покупки — purchase: конверсия в обоих группах почти одинаковая.\n",
    "\n",
    "**Выводы по A/B тесту:**\n",
    "\n",
    "* Конверсия в просмотр продукта: между выборками есть статистически значимые различия. Группа А показала себя лучше, чем группа B.\n",
    "* Конверсия в просмотр корзины: между выборками нет статистически значимых различий.\n",
    "* Конверсия в покупку: между выборками нет статистически значимых различий.\n",
    "\n",
    "Итог: Результат теста говорит о том, что группа В не показала себя лучше, чем группа А.\n",
    "\n",
    "Мы получили общие выводы, но их нельзя считать корректными. Различия в размерах выборок критичные, возможно, не отражающие реальную картину. Тест следует провести повторно, но на этот раз учесть время проведения маркетинговых активностей (тест не должен с ними пересекаться), наладить процессы фиксации пользователей и набрать нужное количество пользователей для корректного размера выборки."
   ]
  }
 ],
 "metadata": {
  "kernelspec": {
   "display_name": "Python 3 (ipykernel)",
   "language": "python",
   "name": "python3"
  },
  "language_info": {
   "codemirror_mode": {
    "name": "ipython",
    "version": 3
   },
   "file_extension": ".py",
   "mimetype": "text/x-python",
   "name": "python",
   "nbconvert_exporter": "python",
   "pygments_lexer": "ipython3",
   "version": "3.9.12"
  }
 },
 "nbformat": 4,
 "nbformat_minor": 5
}
