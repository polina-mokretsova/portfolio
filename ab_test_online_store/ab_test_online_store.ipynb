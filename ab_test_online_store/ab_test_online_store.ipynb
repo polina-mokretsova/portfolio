{
 "cells": [
  {
   "cell_type": "markdown",
   "metadata": {},
   "source": [
    "#  А/B-тест для интернет-магазина"
   ]
  },
  {
   "cell_type": "markdown",
   "metadata": {},
   "source": [
    "В ходе нашего исследования мы приоритизируем гипотезы, составленные отделом маркетинга, запустим A/B-тест и проанализируем результаты.\n",
    "\n",
    "**Цель** - провести A/B-тест, чтобы выяснить, что позволит интернет-магазину увеличить выручку.\n",
    "\n",
    "**Ход исследования:**\n",
    "1. Приоритизация гипотез.\n",
    "2. Анализ A/B-теста.\n",
    "\n",
    "**Описание данных:**\\\n",
    "\\\n",
    "*Файл /datasets/hypothesis.csv (информация о гипотезах)*\\\n",
    "\\\n",
    "`Hypothesis` — краткое описание гипотезы;\\\n",
    "`Reach` — охват пользователей по 10-балльной шкале;\\\n",
    "`Impact` — влияние на пользователей по 10-балльной шкале;\\\n",
    "`Confidence` — уверенность в гипотезе по 10-балльной шкале;\\\n",
    "`Efforts` — затраты ресурсов на проверку гипотезы по 10-балльной шкале.\\\n",
    "\\\n",
    "*Файл /datasets/orders.csv (информация о заказах)*\\\n",
    "\\\n",
    "`transactionId` — идентификатор заказа;\\\n",
    "`visitorId` — идентификатор пользователя, совершившего заказ;\\\n",
    "`date` — дата, когда был совершён заказ;\\\n",
    "`revenue` — выручка заказа;\\\n",
    "`group` — группа A/B-теста, в которую попал заказ.\\\n",
    "\\\n",
    "*Файл /datasets/visitors.csv (информация о посетителях)*\\\n",
    "\\\n",
    "`date` — дата;\\\n",
    "`group` — группа A/B-теста;\\\n",
    "`visitors` — количество пользователей в указанную дату в указанной группе A/B-теста\n",
    "\n",
    "\n",
    "\n"
   ]
  },
  {
   "cell_type": "markdown",
   "metadata": {},
   "source": [
    "## 1. Приоритизация гипотез"
   ]
  },
  {
   "cell_type": "code",
   "execution_count": 1,
   "metadata": {},
   "outputs": [],
   "source": [
    "# Импортируем библиотеки, необходимые для исследования\n",
    "\n",
    "import pandas as pd\n",
    "import datetime as dt\n",
    "import numpy as np\n",
    "import matplotlib.pyplot as plt\n",
    "from pandas.plotting import register_matplotlib_converters\n",
    "import scipy.stats as stats\n",
    "import warnings\n",
    "# конвертеры, которые позволяют использовать типы pandas в matplotlib  \n",
    "register_matplotlib_converters()"
   ]
  },
  {
   "cell_type": "code",
   "execution_count": 2,
   "metadata": {
    "scrolled": true
   },
   "outputs": [
    {
     "data": {
      "text/html": [
       "<div>\n",
       "<style scoped>\n",
       "    .dataframe tbody tr th:only-of-type {\n",
       "        vertical-align: middle;\n",
       "    }\n",
       "\n",
       "    .dataframe tbody tr th {\n",
       "        vertical-align: top;\n",
       "    }\n",
       "\n",
       "    .dataframe thead th {\n",
       "        text-align: right;\n",
       "    }\n",
       "</style>\n",
       "<table border=\"1\" class=\"dataframe\">\n",
       "  <thead>\n",
       "    <tr style=\"text-align: right;\">\n",
       "      <th></th>\n",
       "      <th>Hypothesis</th>\n",
       "      <th>Reach</th>\n",
       "      <th>Impact</th>\n",
       "      <th>Confidence</th>\n",
       "      <th>Efforts</th>\n",
       "    </tr>\n",
       "  </thead>\n",
       "  <tbody>\n",
       "    <tr>\n",
       "      <th>0</th>\n",
       "      <td>Добавить два новых канала привлечения трафика, что позволит привлекать на 30% больше пользователей</td>\n",
       "      <td>3</td>\n",
       "      <td>10</td>\n",
       "      <td>8</td>\n",
       "      <td>6</td>\n",
       "    </tr>\n",
       "    <tr>\n",
       "      <th>1</th>\n",
       "      <td>Запустить собственную службу доставки, что сократит срок доставки заказов</td>\n",
       "      <td>2</td>\n",
       "      <td>5</td>\n",
       "      <td>4</td>\n",
       "      <td>10</td>\n",
       "    </tr>\n",
       "    <tr>\n",
       "      <th>2</th>\n",
       "      <td>Добавить блоки рекомендаций товаров на сайт интернет магазина, чтобы повысить конверсию и средний чек заказа</td>\n",
       "      <td>8</td>\n",
       "      <td>3</td>\n",
       "      <td>7</td>\n",
       "      <td>3</td>\n",
       "    </tr>\n",
       "    <tr>\n",
       "      <th>3</th>\n",
       "      <td>Изменить структура категорий, что увеличит конверсию, т.к. пользователи быстрее найдут нужный товар</td>\n",
       "      <td>8</td>\n",
       "      <td>3</td>\n",
       "      <td>3</td>\n",
       "      <td>8</td>\n",
       "    </tr>\n",
       "    <tr>\n",
       "      <th>4</th>\n",
       "      <td>Изменить цвет фона главной страницы, чтобы увеличить вовлеченность пользователей</td>\n",
       "      <td>3</td>\n",
       "      <td>1</td>\n",
       "      <td>1</td>\n",
       "      <td>1</td>\n",
       "    </tr>\n",
       "    <tr>\n",
       "      <th>5</th>\n",
       "      <td>Добавить страницу отзывов клиентов о магазине, что позволит увеличить количество заказов</td>\n",
       "      <td>3</td>\n",
       "      <td>2</td>\n",
       "      <td>2</td>\n",
       "      <td>3</td>\n",
       "    </tr>\n",
       "    <tr>\n",
       "      <th>6</th>\n",
       "      <td>Показать на главной странице баннеры с актуальными акциями и распродажами, чтобы увеличить конверсию</td>\n",
       "      <td>5</td>\n",
       "      <td>3</td>\n",
       "      <td>8</td>\n",
       "      <td>3</td>\n",
       "    </tr>\n",
       "    <tr>\n",
       "      <th>7</th>\n",
       "      <td>Добавить форму подписки на все основные страницы, чтобы собрать базу клиентов для email-рассылок</td>\n",
       "      <td>10</td>\n",
       "      <td>7</td>\n",
       "      <td>8</td>\n",
       "      <td>5</td>\n",
       "    </tr>\n",
       "    <tr>\n",
       "      <th>8</th>\n",
       "      <td>Запустить акцию, дающую скидку на товар в день рождения</td>\n",
       "      <td>1</td>\n",
       "      <td>9</td>\n",
       "      <td>9</td>\n",
       "      <td>5</td>\n",
       "    </tr>\n",
       "  </tbody>\n",
       "</table>\n",
       "</div>"
      ],
      "text/plain": [
       "                                                                                                     Hypothesis  \\\n",
       "0            Добавить два новых канала привлечения трафика, что позволит привлекать на 30% больше пользователей   \n",
       "1                                     Запустить собственную службу доставки, что сократит срок доставки заказов   \n",
       "2  Добавить блоки рекомендаций товаров на сайт интернет магазина, чтобы повысить конверсию и средний чек заказа   \n",
       "3           Изменить структура категорий, что увеличит конверсию, т.к. пользователи быстрее найдут нужный товар   \n",
       "4                              Изменить цвет фона главной страницы, чтобы увеличить вовлеченность пользователей   \n",
       "5                      Добавить страницу отзывов клиентов о магазине, что позволит увеличить количество заказов   \n",
       "6          Показать на главной странице баннеры с актуальными акциями и распродажами, чтобы увеличить конверсию   \n",
       "7              Добавить форму подписки на все основные страницы, чтобы собрать базу клиентов для email-рассылок   \n",
       "8                                                       Запустить акцию, дающую скидку на товар в день рождения   \n",
       "\n",
       "   Reach  Impact  Confidence  Efforts  \n",
       "0      3      10           8        6  \n",
       "1      2       5           4       10  \n",
       "2      8       3           7        3  \n",
       "3      8       3           3        8  \n",
       "4      3       1           1        1  \n",
       "5      3       2           2        3  \n",
       "6      5       3           8        3  \n",
       "7     10       7           8        5  \n",
       "8      1       9           9        5  "
      ]
     },
     "execution_count": 2,
     "metadata": {},
     "output_type": "execute_result"
    }
   ],
   "source": [
    "pd.options.display.max_colwidth = 120\n",
    "data = pd.read_csv('/datasets/hypothesis.csv')\n",
    "data"
   ]
  },
  {
   "cell_type": "markdown",
   "metadata": {},
   "source": [
    "**Применим фреймворк ICE для приоритизации гипотез**"
   ]
  },
  {
   "cell_type": "code",
   "execution_count": 37,
   "metadata": {},
   "outputs": [
    {
     "data": {
      "text/html": [
       "<div>\n",
       "<style scoped>\n",
       "    .dataframe tbody tr th:only-of-type {\n",
       "        vertical-align: middle;\n",
       "    }\n",
       "\n",
       "    .dataframe tbody tr th {\n",
       "        vertical-align: top;\n",
       "    }\n",
       "\n",
       "    .dataframe thead th {\n",
       "        text-align: right;\n",
       "    }\n",
       "</style>\n",
       "<table border=\"1\" class=\"dataframe\">\n",
       "  <thead>\n",
       "    <tr style=\"text-align: right;\">\n",
       "      <th></th>\n",
       "      <th>Hypothesis</th>\n",
       "      <th>ICE</th>\n",
       "    </tr>\n",
       "  </thead>\n",
       "  <tbody>\n",
       "    <tr>\n",
       "      <th>8</th>\n",
       "      <td>Запустить акцию, дающую скидку на товар в день рождения</td>\n",
       "      <td>16.200000</td>\n",
       "    </tr>\n",
       "    <tr>\n",
       "      <th>0</th>\n",
       "      <td>Добавить два новых канала привлечения трафика, что позволит привлекать на 30% больше пользователей</td>\n",
       "      <td>13.333333</td>\n",
       "    </tr>\n",
       "    <tr>\n",
       "      <th>7</th>\n",
       "      <td>Добавить форму подписки на все основные страницы, чтобы собрать базу клиентов для email-рассылок</td>\n",
       "      <td>11.200000</td>\n",
       "    </tr>\n",
       "    <tr>\n",
       "      <th>6</th>\n",
       "      <td>Показать на главной странице баннеры с актуальными акциями и распродажами, чтобы увеличить конверсию</td>\n",
       "      <td>8.000000</td>\n",
       "    </tr>\n",
       "    <tr>\n",
       "      <th>2</th>\n",
       "      <td>Добавить блоки рекомендаций товаров на сайт интернет магазина, чтобы повысить конверсию и средний чек заказа</td>\n",
       "      <td>7.000000</td>\n",
       "    </tr>\n",
       "    <tr>\n",
       "      <th>1</th>\n",
       "      <td>Запустить собственную службу доставки, что сократит срок доставки заказов</td>\n",
       "      <td>2.000000</td>\n",
       "    </tr>\n",
       "    <tr>\n",
       "      <th>5</th>\n",
       "      <td>Добавить страницу отзывов клиентов о магазине, что позволит увеличить количество заказов</td>\n",
       "      <td>1.333333</td>\n",
       "    </tr>\n",
       "    <tr>\n",
       "      <th>3</th>\n",
       "      <td>Изменить структура категорий, что увеличит конверсию, т.к. пользователи быстрее найдут нужный товар</td>\n",
       "      <td>1.125000</td>\n",
       "    </tr>\n",
       "    <tr>\n",
       "      <th>4</th>\n",
       "      <td>Изменить цвет фона главной страницы, чтобы увеличить вовлеченность пользователей</td>\n",
       "      <td>1.000000</td>\n",
       "    </tr>\n",
       "  </tbody>\n",
       "</table>\n",
       "</div>"
      ],
      "text/plain": [
       "                                                                                                     Hypothesis  \\\n",
       "8                                                       Запустить акцию, дающую скидку на товар в день рождения   \n",
       "0            Добавить два новых канала привлечения трафика, что позволит привлекать на 30% больше пользователей   \n",
       "7              Добавить форму подписки на все основные страницы, чтобы собрать базу клиентов для email-рассылок   \n",
       "6          Показать на главной странице баннеры с актуальными акциями и распродажами, чтобы увеличить конверсию   \n",
       "2  Добавить блоки рекомендаций товаров на сайт интернет магазина, чтобы повысить конверсию и средний чек заказа   \n",
       "1                                     Запустить собственную службу доставки, что сократит срок доставки заказов   \n",
       "5                      Добавить страницу отзывов клиентов о магазине, что позволит увеличить количество заказов   \n",
       "3           Изменить структура категорий, что увеличит конверсию, т.к. пользователи быстрее найдут нужный товар   \n",
       "4                              Изменить цвет фона главной страницы, чтобы увеличить вовлеченность пользователей   \n",
       "\n",
       "         ICE  \n",
       "8  16.200000  \n",
       "0  13.333333  \n",
       "7  11.200000  \n",
       "6   8.000000  \n",
       "2   7.000000  \n",
       "1   2.000000  \n",
       "5   1.333333  \n",
       "3   1.125000  \n",
       "4   1.000000  "
      ]
     },
     "execution_count": 37,
     "metadata": {},
     "output_type": "execute_result"
    }
   ],
   "source": [
    "data['ICE'] = (data['Impact'] * data['Confidence']) / data['Efforts']\n",
    "data[['Hypothesis', 'ICE']].sort_values(by='ICE', ascending = False)"
   ]
  },
  {
   "cell_type": "markdown",
   "metadata": {},
   "source": [
    "Наиболее перспективные гипотезы по ICE - 8, 0, 7."
   ]
  },
  {
   "cell_type": "markdown",
   "metadata": {},
   "source": [
    "**Применим фреймворк RICE для приоритизации гипотез**"
   ]
  },
  {
   "cell_type": "code",
   "execution_count": 4,
   "metadata": {},
   "outputs": [
    {
     "data": {
      "text/html": [
       "<div>\n",
       "<style scoped>\n",
       "    .dataframe tbody tr th:only-of-type {\n",
       "        vertical-align: middle;\n",
       "    }\n",
       "\n",
       "    .dataframe tbody tr th {\n",
       "        vertical-align: top;\n",
       "    }\n",
       "\n",
       "    .dataframe thead th {\n",
       "        text-align: right;\n",
       "    }\n",
       "</style>\n",
       "<table border=\"1\" class=\"dataframe\">\n",
       "  <thead>\n",
       "    <tr style=\"text-align: right;\">\n",
       "      <th></th>\n",
       "      <th>Hypothesis</th>\n",
       "      <th>RICE</th>\n",
       "    </tr>\n",
       "  </thead>\n",
       "  <tbody>\n",
       "    <tr>\n",
       "      <th>7</th>\n",
       "      <td>Добавить форму подписки на все основные страницы, чтобы собрать базу клиентов для email-рассылок</td>\n",
       "      <td>112.0</td>\n",
       "    </tr>\n",
       "    <tr>\n",
       "      <th>2</th>\n",
       "      <td>Добавить блоки рекомендаций товаров на сайт интернет магазина, чтобы повысить конверсию и средний чек заказа</td>\n",
       "      <td>56.0</td>\n",
       "    </tr>\n",
       "    <tr>\n",
       "      <th>0</th>\n",
       "      <td>Добавить два новых канала привлечения трафика, что позволит привлекать на 30% больше пользователей</td>\n",
       "      <td>40.0</td>\n",
       "    </tr>\n",
       "    <tr>\n",
       "      <th>6</th>\n",
       "      <td>Показать на главной странице баннеры с актуальными акциями и распродажами, чтобы увеличить конверсию</td>\n",
       "      <td>40.0</td>\n",
       "    </tr>\n",
       "    <tr>\n",
       "      <th>8</th>\n",
       "      <td>Запустить акцию, дающую скидку на товар в день рождения</td>\n",
       "      <td>16.2</td>\n",
       "    </tr>\n",
       "    <tr>\n",
       "      <th>3</th>\n",
       "      <td>Изменить структура категорий, что увеличит конверсию, т.к. пользователи быстрее найдут нужный товар</td>\n",
       "      <td>9.0</td>\n",
       "    </tr>\n",
       "    <tr>\n",
       "      <th>1</th>\n",
       "      <td>Запустить собственную службу доставки, что сократит срок доставки заказов</td>\n",
       "      <td>4.0</td>\n",
       "    </tr>\n",
       "    <tr>\n",
       "      <th>5</th>\n",
       "      <td>Добавить страницу отзывов клиентов о магазине, что позволит увеличить количество заказов</td>\n",
       "      <td>4.0</td>\n",
       "    </tr>\n",
       "    <tr>\n",
       "      <th>4</th>\n",
       "      <td>Изменить цвет фона главной страницы, чтобы увеличить вовлеченность пользователей</td>\n",
       "      <td>3.0</td>\n",
       "    </tr>\n",
       "  </tbody>\n",
       "</table>\n",
       "</div>"
      ],
      "text/plain": [
       "                                                                                                     Hypothesis  \\\n",
       "7              Добавить форму подписки на все основные страницы, чтобы собрать базу клиентов для email-рассылок   \n",
       "2  Добавить блоки рекомендаций товаров на сайт интернет магазина, чтобы повысить конверсию и средний чек заказа   \n",
       "0            Добавить два новых канала привлечения трафика, что позволит привлекать на 30% больше пользователей   \n",
       "6          Показать на главной странице баннеры с актуальными акциями и распродажами, чтобы увеличить конверсию   \n",
       "8                                                       Запустить акцию, дающую скидку на товар в день рождения   \n",
       "3           Изменить структура категорий, что увеличит конверсию, т.к. пользователи быстрее найдут нужный товар   \n",
       "1                                     Запустить собственную службу доставки, что сократит срок доставки заказов   \n",
       "5                      Добавить страницу отзывов клиентов о магазине, что позволит увеличить количество заказов   \n",
       "4                              Изменить цвет фона главной страницы, чтобы увеличить вовлеченность пользователей   \n",
       "\n",
       "    RICE  \n",
       "7  112.0  \n",
       "2   56.0  \n",
       "0   40.0  \n",
       "6   40.0  \n",
       "8   16.2  \n",
       "3    9.0  \n",
       "1    4.0  \n",
       "5    4.0  \n",
       "4    3.0  "
      ]
     },
     "execution_count": 4,
     "metadata": {},
     "output_type": "execute_result"
    }
   ],
   "source": [
    "data['RICE'] = (data['Reach'] * data['Impact'] * data['Confidence']) / data['Efforts']\n",
    "data[['Hypothesis', 'RICE']].sort_values(by='RICE', ascending = False)"
   ]
  },
  {
   "cell_type": "markdown",
   "metadata": {},
   "source": [
    "Наиболее перспективные гипотезы по RICE - 7, 2, 0."
   ]
  },
  {
   "cell_type": "markdown",
   "metadata": {},
   "source": [
    "При применении RICE вместо ICE изменилась приоритизация гипотез. В первом случае мы получили 8 гипотезу, как наиболее перспективную, но у нее **низкий параметр Reach** (скольких пользователей затронет изменение, которое мы хотим внести) - всего 1. И правда, если запустить акцию, дающую скидку на товар в день рождения, она охватит не так много людей, как другие гипотезы. Поэтому при применении RICE, эта гипотеза ушла на более низкую позицию, и **приоритетными стали гипотезы - 7, 2, 0**."
   ]
  },
  {
   "cell_type": "markdown",
   "metadata": {},
   "source": [
    "## 2. Анализ A/B-теста"
   ]
  },
  {
   "cell_type": "markdown",
   "metadata": {},
   "source": [
    "**Мы провели A/B-тест и получили результаты, которые описаны в файлах:**"
   ]
  },
  {
   "cell_type": "code",
   "execution_count": 5,
   "metadata": {},
   "outputs": [],
   "source": [
    "# в отдельные датафрэймы поместим данные о заказах и посетителях интернет-магазина\n",
    "orders = pd.read_csv('/datasets/orders.csv')\n",
    "visitors = pd.read_csv('/datasets/visitors.csv')"
   ]
  },
  {
   "cell_type": "code",
   "execution_count": 6,
   "metadata": {
    "scrolled": true
   },
   "outputs": [
    {
     "data": {
      "text/html": [
       "<div>\n",
       "<style scoped>\n",
       "    .dataframe tbody tr th:only-of-type {\n",
       "        vertical-align: middle;\n",
       "    }\n",
       "\n",
       "    .dataframe tbody tr th {\n",
       "        vertical-align: top;\n",
       "    }\n",
       "\n",
       "    .dataframe thead th {\n",
       "        text-align: right;\n",
       "    }\n",
       "</style>\n",
       "<table border=\"1\" class=\"dataframe\">\n",
       "  <thead>\n",
       "    <tr style=\"text-align: right;\">\n",
       "      <th></th>\n",
       "      <th>transactionId</th>\n",
       "      <th>visitorId</th>\n",
       "      <th>date</th>\n",
       "      <th>revenue</th>\n",
       "      <th>group</th>\n",
       "    </tr>\n",
       "  </thead>\n",
       "  <tbody>\n",
       "    <tr>\n",
       "      <th>0</th>\n",
       "      <td>3667963787</td>\n",
       "      <td>3312258926</td>\n",
       "      <td>2019-08-15</td>\n",
       "      <td>1650</td>\n",
       "      <td>B</td>\n",
       "    </tr>\n",
       "    <tr>\n",
       "      <th>1</th>\n",
       "      <td>2804400009</td>\n",
       "      <td>3642806036</td>\n",
       "      <td>2019-08-15</td>\n",
       "      <td>730</td>\n",
       "      <td>B</td>\n",
       "    </tr>\n",
       "    <tr>\n",
       "      <th>2</th>\n",
       "      <td>2961555356</td>\n",
       "      <td>4069496402</td>\n",
       "      <td>2019-08-15</td>\n",
       "      <td>400</td>\n",
       "      <td>A</td>\n",
       "    </tr>\n",
       "    <tr>\n",
       "      <th>3</th>\n",
       "      <td>3797467345</td>\n",
       "      <td>1196621759</td>\n",
       "      <td>2019-08-15</td>\n",
       "      <td>9759</td>\n",
       "      <td>B</td>\n",
       "    </tr>\n",
       "    <tr>\n",
       "      <th>4</th>\n",
       "      <td>2282983706</td>\n",
       "      <td>2322279887</td>\n",
       "      <td>2019-08-15</td>\n",
       "      <td>2308</td>\n",
       "      <td>B</td>\n",
       "    </tr>\n",
       "    <tr>\n",
       "      <th>...</th>\n",
       "      <td>...</td>\n",
       "      <td>...</td>\n",
       "      <td>...</td>\n",
       "      <td>...</td>\n",
       "      <td>...</td>\n",
       "    </tr>\n",
       "    <tr>\n",
       "      <th>1192</th>\n",
       "      <td>2662137336</td>\n",
       "      <td>3733762160</td>\n",
       "      <td>2019-08-14</td>\n",
       "      <td>6490</td>\n",
       "      <td>B</td>\n",
       "    </tr>\n",
       "    <tr>\n",
       "      <th>1193</th>\n",
       "      <td>2203539145</td>\n",
       "      <td>370388673</td>\n",
       "      <td>2019-08-14</td>\n",
       "      <td>3190</td>\n",
       "      <td>A</td>\n",
       "    </tr>\n",
       "    <tr>\n",
       "      <th>1194</th>\n",
       "      <td>1807773912</td>\n",
       "      <td>573423106</td>\n",
       "      <td>2019-08-14</td>\n",
       "      <td>10550</td>\n",
       "      <td>A</td>\n",
       "    </tr>\n",
       "    <tr>\n",
       "      <th>1195</th>\n",
       "      <td>1947021204</td>\n",
       "      <td>1614305549</td>\n",
       "      <td>2019-08-14</td>\n",
       "      <td>100</td>\n",
       "      <td>A</td>\n",
       "    </tr>\n",
       "    <tr>\n",
       "      <th>1196</th>\n",
       "      <td>3936777065</td>\n",
       "      <td>2108080724</td>\n",
       "      <td>2019-08-15</td>\n",
       "      <td>202740</td>\n",
       "      <td>B</td>\n",
       "    </tr>\n",
       "  </tbody>\n",
       "</table>\n",
       "<p>1197 rows × 5 columns</p>\n",
       "</div>"
      ],
      "text/plain": [
       "      transactionId   visitorId        date  revenue group\n",
       "0        3667963787  3312258926  2019-08-15     1650     B\n",
       "1        2804400009  3642806036  2019-08-15      730     B\n",
       "2        2961555356  4069496402  2019-08-15      400     A\n",
       "3        3797467345  1196621759  2019-08-15     9759     B\n",
       "4        2282983706  2322279887  2019-08-15     2308     B\n",
       "...             ...         ...         ...      ...   ...\n",
       "1192     2662137336  3733762160  2019-08-14     6490     B\n",
       "1193     2203539145   370388673  2019-08-14     3190     A\n",
       "1194     1807773912   573423106  2019-08-14    10550     A\n",
       "1195     1947021204  1614305549  2019-08-14      100     A\n",
       "1196     3936777065  2108080724  2019-08-15   202740     B\n",
       "\n",
       "[1197 rows x 5 columns]"
      ]
     },
     "execution_count": 6,
     "metadata": {},
     "output_type": "execute_result"
    }
   ],
   "source": [
    "orders"
   ]
  },
  {
   "cell_type": "code",
   "execution_count": 7,
   "metadata": {},
   "outputs": [
    {
     "data": {
      "text/html": [
       "<div>\n",
       "<style scoped>\n",
       "    .dataframe tbody tr th:only-of-type {\n",
       "        vertical-align: middle;\n",
       "    }\n",
       "\n",
       "    .dataframe tbody tr th {\n",
       "        vertical-align: top;\n",
       "    }\n",
       "\n",
       "    .dataframe thead th {\n",
       "        text-align: right;\n",
       "    }\n",
       "</style>\n",
       "<table border=\"1\" class=\"dataframe\">\n",
       "  <thead>\n",
       "    <tr style=\"text-align: right;\">\n",
       "      <th></th>\n",
       "      <th>date</th>\n",
       "      <th>group</th>\n",
       "      <th>visitors</th>\n",
       "    </tr>\n",
       "  </thead>\n",
       "  <tbody>\n",
       "    <tr>\n",
       "      <th>0</th>\n",
       "      <td>2019-08-01</td>\n",
       "      <td>A</td>\n",
       "      <td>719</td>\n",
       "    </tr>\n",
       "    <tr>\n",
       "      <th>1</th>\n",
       "      <td>2019-08-02</td>\n",
       "      <td>A</td>\n",
       "      <td>619</td>\n",
       "    </tr>\n",
       "    <tr>\n",
       "      <th>2</th>\n",
       "      <td>2019-08-03</td>\n",
       "      <td>A</td>\n",
       "      <td>507</td>\n",
       "    </tr>\n",
       "    <tr>\n",
       "      <th>3</th>\n",
       "      <td>2019-08-04</td>\n",
       "      <td>A</td>\n",
       "      <td>717</td>\n",
       "    </tr>\n",
       "    <tr>\n",
       "      <th>4</th>\n",
       "      <td>2019-08-05</td>\n",
       "      <td>A</td>\n",
       "      <td>756</td>\n",
       "    </tr>\n",
       "    <tr>\n",
       "      <th>...</th>\n",
       "      <td>...</td>\n",
       "      <td>...</td>\n",
       "      <td>...</td>\n",
       "    </tr>\n",
       "    <tr>\n",
       "      <th>57</th>\n",
       "      <td>2019-08-27</td>\n",
       "      <td>B</td>\n",
       "      <td>720</td>\n",
       "    </tr>\n",
       "    <tr>\n",
       "      <th>58</th>\n",
       "      <td>2019-08-28</td>\n",
       "      <td>B</td>\n",
       "      <td>654</td>\n",
       "    </tr>\n",
       "    <tr>\n",
       "      <th>59</th>\n",
       "      <td>2019-08-29</td>\n",
       "      <td>B</td>\n",
       "      <td>531</td>\n",
       "    </tr>\n",
       "    <tr>\n",
       "      <th>60</th>\n",
       "      <td>2019-08-30</td>\n",
       "      <td>B</td>\n",
       "      <td>490</td>\n",
       "    </tr>\n",
       "    <tr>\n",
       "      <th>61</th>\n",
       "      <td>2019-08-31</td>\n",
       "      <td>B</td>\n",
       "      <td>718</td>\n",
       "    </tr>\n",
       "  </tbody>\n",
       "</table>\n",
       "<p>62 rows × 3 columns</p>\n",
       "</div>"
      ],
      "text/plain": [
       "          date group  visitors\n",
       "0   2019-08-01     A       719\n",
       "1   2019-08-02     A       619\n",
       "2   2019-08-03     A       507\n",
       "3   2019-08-04     A       717\n",
       "4   2019-08-05     A       756\n",
       "..         ...   ...       ...\n",
       "57  2019-08-27     B       720\n",
       "58  2019-08-28     B       654\n",
       "59  2019-08-29     B       531\n",
       "60  2019-08-30     B       490\n",
       "61  2019-08-31     B       718\n",
       "\n",
       "[62 rows x 3 columns]"
      ]
     },
     "execution_count": 7,
     "metadata": {},
     "output_type": "execute_result"
    }
   ],
   "source": [
    "visitors"
   ]
  },
  {
   "cell_type": "markdown",
   "metadata": {},
   "source": [
    "**Проведем предобработку данных, прежде чем их анализировать.**"
   ]
  },
  {
   "cell_type": "code",
   "execution_count": 8,
   "metadata": {
    "scrolled": false
   },
   "outputs": [
    {
     "name": "stdout",
     "output_type": "stream",
     "text": [
      "<class 'pandas.core.frame.DataFrame'>\n",
      "RangeIndex: 1197 entries, 0 to 1196\n",
      "Data columns (total 5 columns):\n",
      " #   Column         Non-Null Count  Dtype \n",
      "---  ------         --------------  ----- \n",
      " 0   transactionId  1197 non-null   int64 \n",
      " 1   visitorId      1197 non-null   int64 \n",
      " 2   date           1197 non-null   object\n",
      " 3   revenue        1197 non-null   int64 \n",
      " 4   group          1197 non-null   object\n",
      "dtypes: int64(3), object(2)\n",
      "memory usage: 46.9+ KB\n"
     ]
    }
   ],
   "source": [
    "orders.info()"
   ]
  },
  {
   "cell_type": "code",
   "execution_count": 9,
   "metadata": {},
   "outputs": [
    {
     "name": "stdout",
     "output_type": "stream",
     "text": [
      "<class 'pandas.core.frame.DataFrame'>\n",
      "RangeIndex: 62 entries, 0 to 61\n",
      "Data columns (total 3 columns):\n",
      " #   Column    Non-Null Count  Dtype \n",
      "---  ------    --------------  ----- \n",
      " 0   date      62 non-null     object\n",
      " 1   group     62 non-null     object\n",
      " 2   visitors  62 non-null     int64 \n",
      "dtypes: int64(1), object(2)\n",
      "memory usage: 1.6+ KB\n"
     ]
    }
   ],
   "source": [
    "visitors.info()"
   ]
  },
  {
   "cell_type": "code",
   "execution_count": 10,
   "metadata": {},
   "outputs": [],
   "source": [
    "# приведем названия столбцов к нижнему регистру в датафрэйме orders\n",
    "orders.columns = orders.columns.str.lower() "
   ]
  },
  {
   "cell_type": "code",
   "execution_count": 11,
   "metadata": {},
   "outputs": [],
   "source": [
    "# поменяем тип данных у дат в обоих датафрэймах\n",
    "orders['date'] = orders['date'].map(\n",
    "    lambda x: dt.datetime.strptime(x, '%Y-%m-%d')\n",
    ")\n",
    "\n",
    "visitors['date'] = visitors['date'].map(\n",
    "    lambda x: dt.datetime.strptime(x, '%Y-%m-%d')\n",
    ")"
   ]
  },
  {
   "cell_type": "code",
   "execution_count": 12,
   "metadata": {
    "scrolled": true
   },
   "outputs": [
    {
     "data": {
      "text/plain": [
       "transactionid    0\n",
       "visitorid        0\n",
       "date             0\n",
       "revenue          0\n",
       "group            0\n",
       "dtype: int64"
      ]
     },
     "execution_count": 12,
     "metadata": {},
     "output_type": "execute_result"
    }
   ],
   "source": [
    "# проверим данные на пропущенные значения \n",
    "orders.isna().sum()"
   ]
  },
  {
   "cell_type": "code",
   "execution_count": 13,
   "metadata": {
    "scrolled": true
   },
   "outputs": [
    {
     "data": {
      "text/plain": [
       "date        0\n",
       "group       0\n",
       "visitors    0\n",
       "dtype: int64"
      ]
     },
     "execution_count": 13,
     "metadata": {},
     "output_type": "execute_result"
    }
   ],
   "source": [
    "visitors.isna().sum()"
   ]
  },
  {
   "cell_type": "code",
   "execution_count": 14,
   "metadata": {},
   "outputs": [
    {
     "data": {
      "text/plain": [
       "0"
      ]
     },
     "execution_count": 14,
     "metadata": {},
     "output_type": "execute_result"
    }
   ],
   "source": [
    "# проверим данные на дубликаты\n",
    "orders.duplicated().sum()"
   ]
  },
  {
   "cell_type": "code",
   "execution_count": 15,
   "metadata": {},
   "outputs": [
    {
     "data": {
      "text/plain": [
       "0"
      ]
     },
     "execution_count": 15,
     "metadata": {},
     "output_type": "execute_result"
    }
   ],
   "source": [
    "visitors.duplicated().sum()"
   ]
  },
  {
   "cell_type": "markdown",
   "metadata": {},
   "source": [
    "**Явных дубликатов нет. Посмотрим, сколько всего заказов и посетителей интернет-магазина было для того, чтобы проверить корректность разбиения пользователей на группы**"
   ]
  },
  {
   "cell_type": "code",
   "execution_count": 16,
   "metadata": {
    "scrolled": true
   },
   "outputs": [
    {
     "data": {
      "text/html": [
       "<div>\n",
       "<style scoped>\n",
       "    .dataframe tbody tr th:only-of-type {\n",
       "        vertical-align: middle;\n",
       "    }\n",
       "\n",
       "    .dataframe tbody tr th {\n",
       "        vertical-align: top;\n",
       "    }\n",
       "\n",
       "    .dataframe thead th {\n",
       "        text-align: right;\n",
       "    }\n",
       "</style>\n",
       "<table border=\"1\" class=\"dataframe\">\n",
       "  <thead>\n",
       "    <tr style=\"text-align: right;\">\n",
       "      <th></th>\n",
       "      <th>orders</th>\n",
       "      <th>visitors</th>\n",
       "    </tr>\n",
       "    <tr>\n",
       "      <th>group</th>\n",
       "      <th></th>\n",
       "      <th></th>\n",
       "    </tr>\n",
       "  </thead>\n",
       "  <tbody>\n",
       "    <tr>\n",
       "      <th>A</th>\n",
       "      <td>557</td>\n",
       "      <td>18736</td>\n",
       "    </tr>\n",
       "    <tr>\n",
       "      <th>B</th>\n",
       "      <td>640</td>\n",
       "      <td>18916</td>\n",
       "    </tr>\n",
       "  </tbody>\n",
       "</table>\n",
       "</div>"
      ],
      "text/plain": [
       "       orders  visitors\n",
       "group                  \n",
       "A         557     18736\n",
       "B         640     18916"
      ]
     },
     "metadata": {},
     "output_type": "display_data"
    }
   ],
   "source": [
    "groups = orders.groupby('group').agg({'transactionid':'count'}).rename(columns={'transactionid':'orders'})\\\n",
    "               .join((visitors.groupby('group').agg({'visitors':'sum'})))\n",
    "display(groups)"
   ]
  },
  {
   "cell_type": "markdown",
   "metadata": {},
   "source": [
    "**Проверим, нет ли пользователей, которые попали в обе группы теста?**"
   ]
  },
  {
   "cell_type": "code",
   "execution_count": 17,
   "metadata": {},
   "outputs": [
    {
     "name": "stdout",
     "output_type": "stream",
     "text": [
      "58\n"
     ]
    }
   ],
   "source": [
    "# создадим переменные, в которые сохраним ID пользователей в каждой группе\n",
    "visitorsA = orders[orders['group']=='A']['visitorid']\n",
    "visitorsB = orders[orders['group']=='B']['visitorid']\n",
    "\n",
    "# а теперь посмотрим, есть ли одни и те же пользователи, которые попали в обе группы сразу\n",
    "visitorsAB = orders.loc[orders['visitorid'].isin(visitorsA)& orders['visitorid'].isin(visitorsB),'visitorid'].unique()\n",
    "print(len(visitorsAB))"
   ]
  },
  {
   "cell_type": "markdown",
   "metadata": {},
   "source": [
    "Получатся, 58 пользователей попали и в группу А, и в группу B. Логично будет их удалить из обеих выборок."
   ]
  },
  {
   "cell_type": "code",
   "execution_count": 18,
   "metadata": {},
   "outputs": [],
   "source": [
    "orders = orders.query(\"visitorid not in @visitorsAB\")"
   ]
  },
  {
   "cell_type": "markdown",
   "metadata": {},
   "source": [
    "**Построим график кумулятивной выручки по группам**"
   ]
  },
  {
   "cell_type": "code",
   "execution_count": 19,
   "metadata": {},
   "outputs": [
    {
     "data": {
      "image/png": "[encoded data removed]",
      "text/plain": [
       "<Figure size 864x504 with 1 Axes>"
      ]
     },
     "metadata": {
      "needs_background": "light"
     },
     "output_type": "display_data"
    }
   ],
   "source": [
    "# создадим датафрейм datesGroups с уникальными парами значений 'date' и 'group', таблицы orders\n",
    "# избавимся от дубликатов методом drop_duplicates()\n",
    "datesGroups = orders[['date', 'group']].drop_duplicates()\n",
    "\n",
    "# добавим переменную с агрегированными кумулятивными по дням данные о заказах\n",
    "ordersAggregated = datesGroups.apply(\n",
    "    lambda x: orders[\n",
    "        np.logical_and(\n",
    "            orders['date'] <= x['date'], orders['group'] == x['group']\n",
    "        )\n",
    "    ].agg(\n",
    "        {\n",
    "            'date': 'max',\n",
    "            'group': 'max',\n",
    "            'transactionid': 'nunique',\n",
    "            'visitorid': 'nunique',\n",
    "            'revenue': 'sum',\n",
    "        }\n",
    "    ),\n",
    "    axis=1,\n",
    ").sort_values(by=['date', 'group'])\n",
    "\n",
    "# добавим переменную с агрегированными кумулятивными по дням данные о посетителях интернет-магазина\n",
    "visitorsAggregated = datesGroups.apply(\n",
    "    lambda x: visitors[\n",
    "        np.logical_and(\n",
    "            visitors['date'] <= x['date'], visitors['group'] == x['group']\n",
    "        )\n",
    "    ].agg({'date': 'max', 'group': 'max', 'visitors': 'sum'}),\n",
    "    axis=1,\n",
    ").sort_values(by=['date', 'group'])\n",
    "\n",
    "# объединяем кумулятивные данные в одной таблице и присваиваем ее столбцам понятные названия\n",
    "cumulativeData = ordersAggregated.merge(\n",
    "    visitorsAggregated, left_on=['date', 'group'], right_on=['date', 'group']\n",
    ")\n",
    "cumulativeData.columns = [\n",
    "    'date',\n",
    "    'group',\n",
    "    'orders',\n",
    "    'buyers',\n",
    "    'revenue',\n",
    "    'visitors',\n",
    "]\n",
    "\n",
    "# датафрейм с кумулятивным количеством заказов и кумулятивной выручкой по дням в группе А\n",
    "cumulativeRevenueA = cumulativeData[cumulativeData['group']=='A'][['date','revenue', 'orders']]\n",
    "# датафрейм с кумулятивным количеством заказов и кумулятивной выручкой по дням в группе B\n",
    "cumulativeRevenueB = cumulativeData[cumulativeData['group']=='B'][['date','revenue', 'orders']]\n",
    "\n",
    "# строим график выручки группы А\n",
    "plt.figure(figsize=(12,7))\n",
    "plt.plot(cumulativeRevenueA['date'], cumulativeRevenueA['revenue'], label='A')\n",
    "# строим график выручки группы А\n",
    "plt.plot(cumulativeRevenueB['date'], cumulativeRevenueB['revenue'], label='B')\n",
    "\n",
    "plt.legend() \n",
    "plt.xlabel('День')\n",
    "plt.ylabel('Выручка, млн.руб')\n",
    "plt.title('График кумулятивной выручки по группам')\n",
    "plt.show()"
   ]
  },
  {
   "cell_type": "markdown",
   "metadata": {},
   "source": [
    "По графику видно, что группа A растет линейно, а группа В почти с самого начала вырвалась вперед и продолжала лидировать до конца теста (кроме одного дня - 14 августа, где мы видим пересечение графиков групп А и В). Возможно, в группе B есть аномально большие заказы или необычно большое число заказов, из-за которых мы наблюдаем скачок в районе 18 августа. Проверим это позже."
   ]
  },
  {
   "cell_type": "markdown",
   "metadata": {},
   "source": [
    "**Построим график кумулятивного среднего чека по группам**"
   ]
  },
  {
   "cell_type": "code",
   "execution_count": 20,
   "metadata": {},
   "outputs": [
    {
     "data": {
      "image/png": "[encoded data removed]",
      "text/plain": [
       "<Figure size 864x504 with 1 Axes>"
      ]
     },
     "metadata": {
      "needs_background": "light"
     },
     "output_type": "display_data"
    }
   ],
   "source": [
    "plt.figure(figsize=(12,7))\n",
    "# строим график среднего чека группы А\n",
    "plt.plot(cumulativeRevenueA['date'], cumulativeRevenueA['revenue']/cumulativeRevenueA['orders'], label='A')\n",
    "# строим график среднего чека группы В\n",
    "plt.plot(cumulativeRevenueB['date'], cumulativeRevenueB['revenue']/cumulativeRevenueB['orders'], label='B')\n",
    "plt.legend() \n",
    "plt.xlabel('День')\n",
    "plt.ylabel('Сумма среднего чека, млн.руб')\n",
    "plt.title('График кумулятивного среднего чека по группам')\n",
    "plt.show()"
   ]
  },
  {
   "cell_type": "markdown",
   "metadata": {},
   "source": [
    "Кумулятивное значение среднего чека колеблется, то повышается, то падает и наоборот. В группе А средний чек с середины теста более стабильный. В то время как в группе B средний чек выше, но с резкими перепадами, например, в районе того самого 18 августа. Это может сигнализировать об аномально крупных заказах в выборке. "
   ]
  },
  {
   "cell_type": "markdown",
   "metadata": {},
   "source": [
    "**Построим график относительного изменения кумулятивного среднего чека группы B к группе A**"
   ]
  },
  {
   "cell_type": "code",
   "execution_count": 21,
   "metadata": {},
   "outputs": [
    {
     "data": {
      "image/png": "[encoded data removed]",
      "text/plain": [
       "<Figure size 864x504 with 1 Axes>"
      ]
     },
     "metadata": {
      "needs_background": "light"
     },
     "output_type": "display_data"
    }
   ],
   "source": [
    "# собираем данные в одном датафрейме\n",
    "mergedCumulativeRevenue = cumulativeRevenueA.merge(cumulativeRevenueB, left_on='date', right_on='date', how='left', suffixes=['A', 'B'])\n",
    "\n",
    "# cтроим отношение средних чеков\n",
    "plt.figure(figsize=(12,7))\n",
    "plt.plot(mergedCumulativeRevenue['date'], (mergedCumulativeRevenue['revenueB']/mergedCumulativeRevenue['ordersB'])/(mergedCumulativeRevenue['revenueA']/mergedCumulativeRevenue['ordersA'])-1)\n",
    "plt.axhline(y=0, color='black', linestyle='--') \n",
    "plt.xlabel('День')\n",
    "plt.ylabel('Отношение среднего чека группы B к группе А')\n",
    "plt.title('График относительного изменения кумулятивного среднего чека группы B к группе A')\n",
    "plt.show()"
   ]
  },
  {
   "cell_type": "markdown",
   "metadata": {},
   "source": [
    "В нескольких точках график различия между сегментами резко «скачет». Скорее всего в выборках присутствуют крупные заказы. График относительного изменения кумулятивного среднего чека группы B к группе A подтверждает наши выводы - средний чек у группы B выше. "
   ]
  },
  {
   "cell_type": "markdown",
   "metadata": {},
   "source": [
    "**Построим график кумулятивной конверсии по группам**"
   ]
  },
  {
   "cell_type": "code",
   "execution_count": 22,
   "metadata": {},
   "outputs": [
    {
     "data": {
      "image/png": "[encoded data removed]",
      "text/plain": [
       "<Figure size 864x504 with 1 Axes>"
      ]
     },
     "metadata": {
      "needs_background": "light"
     },
     "output_type": "display_data"
    }
   ],
   "source": [
    "# считаем кумулятивную конверсию\n",
    "cumulativeData['conversion'] = cumulativeData['orders']/cumulativeData['visitors']\n",
    "\n",
    "# отделяем данные по группе A\n",
    "cumulativeDataA = cumulativeData[cumulativeData['group']=='A']\n",
    "\n",
    "# отделяем данные по группе B\n",
    "cumulativeDataB = cumulativeData[cumulativeData['group']=='B']\n",
    "\n",
    "plt.figure(figsize=(12,7))\n",
    "plt.plot(cumulativeDataA['date'], cumulativeDataA['conversion'], label='A')\n",
    "plt.plot(cumulativeDataB['date'], cumulativeDataB['conversion'], label='B')\n",
    "plt.legend()\n",
    "plt.xlabel('День')\n",
    "plt.ylabel('Конверсия')\n",
    "plt.title('График кумулятивной конверсии по группам')\n",
    "plt.show()"
   ]
  },
  {
   "cell_type": "markdown",
   "metadata": {},
   "source": [
    "График колеблется почти симметрично, кумулятивная конверсия у группы B выше."
   ]
  },
  {
   "cell_type": "markdown",
   "metadata": {},
   "source": [
    "**Построим график относительного изменения кумулятивной конверсии группы B к группе A**"
   ]
  },
  {
   "cell_type": "code",
   "execution_count": 23,
   "metadata": {},
   "outputs": [
    {
     "data": {
      "image/png": "[encoded data removed]",
      "text/plain": [
       "<Figure size 864x504 with 1 Axes>"
      ]
     },
     "metadata": {
      "needs_background": "light"
     },
     "output_type": "display_data"
    }
   ],
   "source": [
    "# объединим данные в табличку со значениями с накоплением\n",
    "mergedCumulativeConversions = cumulativeDataA[['date','conversion']].merge(cumulativeDataB[['date','conversion']], left_on='date', right_on='date', how='left', suffixes=['A', 'B'])\n",
    "\n",
    "# строим отношение конверсий\n",
    "plt.figure(figsize=(12,7))\n",
    "plt.plot(mergedCumulativeConversions['date'], mergedCumulativeConversions['conversionB']/mergedCumulativeConversions['conversionA']-1, label=\"Относительный прирост конверсии группы B относительно группы A\")\n",
    "plt.legend()\n",
    "plt.axhline(y=0, color='black', linestyle='--')\n",
    "plt.axhline(y=0.10, color='gray', linestyle='--')\n",
    "plt.xlabel('День')\n",
    "plt.ylabel('Отношение конверсии группы B к группе А')\n",
    "plt.title('График относительного изменения кумулятивной конверсии группы B к группе A')\n",
    "plt.show()"
   ]
  },
  {
   "cell_type": "markdown",
   "metadata": {},
   "source": [
    "В начале теста группа B проигрывала группе A, затем вырвалась вперёд. Её конверсия росла и снова падала, но теперь постепенно растёт. На протяжении почти всего теста конверсия группы B была выше на 10% конверсии группы А."
   ]
  },
  {
   "cell_type": "markdown",
   "metadata": {},
   "source": [
    "**Построим точечный график количества заказов по пользователям**"
   ]
  },
  {
   "cell_type": "code",
   "execution_count": 24,
   "metadata": {},
   "outputs": [
    {
     "name": "stdout",
     "output_type": "stream",
     "text": [
      "           user  orders\n",
      "908  3967698036       3\n",
      "55    249864742       3\n",
      "478  2108163459       3\n",
      "687  2988190573       3\n",
      "890  3908431265       3\n",
      "138   611059232       3\n",
      "632  2742574263       3\n",
      "157   678354126       2\n",
      "323  1404560065       2\n",
      "452  1985475298       2\n"
     ]
    },
    {
     "data": {
      "image/png": "[encoded data removed]",
      "text/plain": [
       "<Figure size 864x504 with 1 Axes>"
      ]
     },
     "metadata": {
      "needs_background": "light"
     },
     "output_type": "display_data"
    }
   ],
   "source": [
    "# Найдём число заказов по пользователям — создадим датафрейм c двумя столбцами\n",
    "ordersByUsers = (\n",
    "    orders.groupby('visitorid', as_index=False)\n",
    "    .agg({'transactionid': 'nunique'})\n",
    ")\n",
    "\n",
    "ordersByUsers.columns = ['user', 'orders']\n",
    "\n",
    "print(ordersByUsers.sort_values(by='orders', ascending=False).head(10))\n",
    "\n",
    "# серия из чисел от 0 до количества наблюдений в ordersByUsers\n",
    "x_values = pd.Series(range(0, len(ordersByUsers)))\n",
    "plt.figure(figsize=(12,7))\n",
    "plt.scatter(x_values, ordersByUsers['orders']) \n",
    "plt.xlabel('Количество пользоватеоей')\n",
    "plt.ylabel('Количество заказов')\n",
    "plt.title('Точечный график количества заказов по пользователям')\n",
    "plt.show()"
   ]
  },
  {
   "cell_type": "markdown",
   "metadata": {},
   "source": [
    "Пользователей, сделавших **более одного заказа** значитально меньше и они вполне могут быть аномальными. Узнаем, 1 заказ - это много или мало, посчитав перцентили."
   ]
  },
  {
   "cell_type": "markdown",
   "metadata": {},
   "source": [
    "**Посчитаем 95-й и 99-й перцентили количества заказов на пользователя.**"
   ]
  },
  {
   "cell_type": "code",
   "execution_count": 25,
   "metadata": {},
   "outputs": [
    {
     "name": "stdout",
     "output_type": "stream",
     "text": [
      "[1. 2.]\n"
     ]
    }
   ],
   "source": [
    "print(np.percentile(ordersByUsers['orders'], [95, 99]))"
   ]
  },
  {
   "cell_type": "markdown",
   "metadata": {},
   "source": [
    "Не более 5% пользователей сделавших больше 1 заказа, и не больше 1%, кто сделал больше 2 заказов. Аномальными будем считать пользователей, сделавших более 2 заказов."
   ]
  },
  {
   "cell_type": "markdown",
   "metadata": {},
   "source": [
    "**Построим точечный график стоимостей заказов**"
   ]
  },
  {
   "cell_type": "code",
   "execution_count": 26,
   "metadata": {
    "scrolled": true
   },
   "outputs": [
    {
     "data": {
      "image/png": "[encoded data removed]",
      "text/plain": [
       "<Figure size 864x504 with 1 Axes>"
      ]
     },
     "metadata": {
      "needs_background": "light"
     },
     "output_type": "display_data"
    }
   ],
   "source": [
    "x_values = pd.Series(range(0, len(orders['revenue'])))\n",
    "plt.figure(figsize=(12,7))\n",
    "plt.scatter(x_values, orders['revenue']) \n",
    "plt.xlabel('Количество пользоватеоей')\n",
    "plt.ylabel('Стоимость заказа')\n",
    "plt.title('Точечный график стоимостей заказов')\n",
    "plt.show()"
   ]
  },
  {
   "cell_type": "markdown",
   "metadata": {},
   "source": [
    "По графику мы видим выбросы в районе 200к и 1,3 млн. Остальные заказы по стоимости гораздо меньше."
   ]
  },
  {
   "cell_type": "markdown",
   "metadata": {},
   "source": [
    "**Посчитаем 95-й и 99-й перцентили стоимости заказов**"
   ]
  },
  {
   "cell_type": "code",
   "execution_count": 27,
   "metadata": {},
   "outputs": [
    {
     "name": "stdout",
     "output_type": "stream",
     "text": [
      "[26785. 53904.]\n"
     ]
    }
   ],
   "source": [
    "print(np.percentile(orders['revenue'], [95, 99]))"
   ]
  },
  {
   "cell_type": "markdown",
   "metadata": {},
   "source": [
    "Не более, чем у 5% пользователей заказ дороже, чем 27000 и не более, чем у 1% - дороже 54000. Аномальными будем считать заказы дороже 54000."
   ]
  },
  {
   "cell_type": "markdown",
   "metadata": {},
   "source": [
    "**Посчитаем статистическую значимость различий в конверсии между группами по «сырым» данным**\n"
   ]
  },
  {
   "cell_type": "code",
   "execution_count": 28,
   "metadata": {},
   "outputs": [],
   "source": [
    "# создадим переменные ordersByUsersA и ordersByUsersB со столбцами ['user', 'orders']\n",
    "# в них для пользователей, которые заказывали хотя бы 1 раз, укажем число совершённых заказов\n",
    "\n",
    "ordersByUsersA = (\n",
    "    orders[orders['group'] == 'A']\n",
    "    .groupby('visitorid', as_index=False)\n",
    "    .agg({'transactionid': pd.Series.nunique})\n",
    ")\n",
    "ordersByUsersA.columns = ['user', 'orders']\n",
    "\n",
    "\n",
    "ordersByUsersB = (\n",
    "    orders[orders['group'] == 'B']\n",
    "    \n",
    "    .groupby('visitorid', as_index=False)\n",
    "    .agg({'transactionid': pd.Series.nunique})\n",
    ")\n",
    "ordersByUsersB.columns = ['user', 'orders'] \n",
    "\n",
    "\n",
    "# объявим переменные\n",
    "sampleA = pd.concat([ordersByUsersA['orders'],\n",
    "                     pd.Series(0, index=np.arange(visitors[visitors['group']=='A']['visitors'].sum()\\\n",
    "                     - len(ordersByUsersA['orders'])), name='orders')],axis=0)\n",
    "\n",
    "sampleB = pd.concat([ordersByUsersB['orders'],\n",
    "                     pd.Series(0, index=np.arange(visitors[visitors['group']=='B']['visitors'].sum()\\\n",
    "                     - len(ordersByUsersB['orders'])), name='orders')],axis=0)"
   ]
  },
  {
   "cell_type": "markdown",
   "metadata": {},
   "source": [
    "Проверим гипотезы:\\\n",
    "H0 - конверсия группы А равна конверсии группы В\\\n",
    "H1 - конверсии групп не равны\\\n",
    "\\\n",
    "alpha = 0.05"
   ]
  },
  {
   "cell_type": "code",
   "execution_count": 29,
   "metadata": {},
   "outputs": [
    {
     "name": "stdout",
     "output_type": "stream",
     "text": [
      "p-value: 0.01102\n",
      "Относительный прирост конверсии группы B: 0.160\n"
     ]
    }
   ],
   "source": [
    "print(\"p-value: {0:.5f}\".format(stats.mannwhitneyu(sampleA, sampleB)[1]))\n",
    "print(\"Относительный прирост конверсии группы B: {0:.3f}\".format(sampleB.mean() / sampleA.mean() - 1))"
   ]
  },
  {
   "cell_type": "markdown",
   "metadata": {},
   "source": [
    "Так как p-value меньше 0.05, первую гипотезу мы отвергаем. Анализ \"сырых данных\" позволил нам выявить, что в конверсиях между группами наблюдается статистически значимая разница. Относительный прирост конверсии группы B - 16%."
   ]
  },
  {
   "cell_type": "markdown",
   "metadata": {},
   "source": [
    "**Посчитаем статистическую значимость различий в среднем чеке заказа между группами по «сырым» данным**"
   ]
  },
  {
   "cell_type": "code",
   "execution_count": 30,
   "metadata": {
    "scrolled": true
   },
   "outputs": [
    {
     "name": "stdout",
     "output_type": "stream",
     "text": [
      "Средний чек группы А: 7189.4358974358975\n",
      "Средний чек группы B: 9249.94890510949\n"
     ]
    }
   ],
   "source": [
    "raw_mean_revenueA = orders[orders['group']=='A']['revenue'].mean()\n",
    "raw_mean_revenueB = orders[orders['group']=='B']['revenue'].mean()\n",
    "print('Средний чек группы А:', raw_mean_revenueA)\n",
    "print('Средний чек группы B:', raw_mean_revenueB)"
   ]
  },
  {
   "cell_type": "markdown",
   "metadata": {},
   "source": [
    "Проверим гипотезы:\\\n",
    "H0 - средний чек группы А равен среднему чеку группы В\\\n",
    "H1 - средние чеки групп не равны\\\n",
    "\\\n",
    "alpha = 0.05"
   ]
  },
  {
   "cell_type": "code",
   "execution_count": 31,
   "metadata": {},
   "outputs": [
    {
     "name": "stdout",
     "output_type": "stream",
     "text": [
      "p_value:0.829\n",
      "Относительный прирост среднего чека группы B: 0.287\n"
     ]
    }
   ],
   "source": [
    "# применим статистический критерий Манна-Уитни\n",
    "print('p_value:{0:.3f}'.format(stats.mannwhitneyu(orders[orders['group']=='A']['revenue'], orders[orders['group']=='B']['revenue'])[1]))\n",
    "\n",
    "# выведем относительный прирост среднего чека группы B\n",
    "print(\"Относительный прирост среднего чека группы B: {0:.3f}\".format(orders[orders['group']=='B']['revenue'].mean()/orders[orders['group']=='A']['revenue'].mean()-1))"
   ]
  },
  {
   "cell_type": "markdown",
   "metadata": {},
   "source": [
    "P-value больше 0,05, потому статистически значимых различий в средних чеках групп А и В нет. Относительный прирост среднего чека группы B – 28,7%. Существенная относительная разница при отсутствии статистической значимости указывает на влияние выбросов на метрику."
   ]
  },
  {
   "cell_type": "markdown",
   "metadata": {},
   "source": [
    "**Посчитаем статистическую значимость различий в конверсии между группами по «очищенным» данным**"
   ]
  },
  {
   "cell_type": "code",
   "execution_count": 32,
   "metadata": {
    "scrolled": true
   },
   "outputs": [
    {
     "name": "stdout",
     "output_type": "stream",
     "text": [
      "1099    148427295\n",
      "33      249864742\n",
      "58      611059232\n",
      "949     887908475\n",
      "744     888512513\n",
      "dtype: int64\n"
     ]
    }
   ],
   "source": [
    "# примем за аномальных пользователей тех, кто совершил больше 2 заказов, или совершил заказ на сумму свыше 54 000 рублей\n",
    "usersWithManyOrders = pd.concat(\n",
    "    [\n",
    "        ordersByUsersA[ordersByUsersA['orders'] > 2]['user'],\n",
    "        ordersByUsersB[ordersByUsersB['orders'] > 2]['user'],\n",
    "    ],\n",
    "    axis=0,\n",
    ")\n",
    "usersWithExpensiveOrders = orders[orders['revenue'] > 54000]['visitorid']\n",
    "\n",
    "# объединим пользователей в таблице abnormalUsers, удалим дубликаты и отсортируйте по возрастанию\n",
    "abnormalUsers = (\n",
    "    pd.concat([usersWithManyOrders, usersWithExpensiveOrders], axis=0)\n",
    "    .drop_duplicates()\n",
    "    .sort_values()\n",
    ")\n",
    "print(abnormalUsers.head(5))"
   ]
  },
  {
   "cell_type": "code",
   "execution_count": 33,
   "metadata": {},
   "outputs": [],
   "source": [
    "# объявим переменные с \"очищенными данными\"\n",
    "sampleA_filtered = pd.concat([ordersByUsersA[np.logical_not(ordersByUsersA['user'].isin(abnormalUsers))]\\\n",
    "                  ['orders'], pd.Series(0, index=np.arange(visitors[visitors['group']=='A']['visitors']\\\n",
    "                  .sum() - len(ordersByUsersA['orders'])), name='orders')],axis=0) \n",
    "\n",
    "\n",
    "sampleB_filtered = pd.concat([ordersByUsersB[np.logical_not(ordersByUsersB['user'].isin(abnormalUsers))]\\\n",
    "                  ['orders'], pd.Series(0, index=np.arange(visitors[visitors['group']=='B']['visitors']\\\n",
    "                  .sum() - len(ordersByUsersB['orders'])), name='orders')],axis=0) "
   ]
  },
  {
   "cell_type": "markdown",
   "metadata": {},
   "source": [
    "Проверим гипотезы:\\\n",
    "H0 - конверсия группы А равна конверсии группы В\\\n",
    "H1 - конверсии групп не равны\\\n",
    "\\\n",
    "alpha = 0.05"
   ]
  },
  {
   "cell_type": "code",
   "execution_count": 34,
   "metadata": {},
   "outputs": [
    {
     "name": "stdout",
     "output_type": "stream",
     "text": [
      "p_value: 0.00702\n",
      "Относительный прирост конверсии группы B: 0.189\n"
     ]
    }
   ],
   "source": [
    "# применим статистический критерий Манна-Уитни к полученным выборкам\n",
    "print(\"p_value: {0:.5f}\".format(stats.mannwhitneyu(sampleA_filtered, sampleB_filtered)[1]))\n",
    "print(\"Относительный прирост конверсии группы B: {0:.3f}\".format(sampleB_filtered.mean() / sampleA_filtered.mean() - 1))"
   ]
  },
  {
   "cell_type": "markdown",
   "metadata": {},
   "source": [
    "Вновь p-value меньше 0.05. Анализ \"очищенных данных\" подтвердил, что в конверсиях между группами есть статистически значимые различия. Относительный прирост конверсии группы B - 18,9%."
   ]
  },
  {
   "cell_type": "markdown",
   "metadata": {},
   "source": [
    "**Посчитаем статистическую значимость различий в среднем чеке заказа между группами по «очищенным» данным**"
   ]
  },
  {
   "cell_type": "code",
   "execution_count": 35,
   "metadata": {},
   "outputs": [
    {
     "name": "stdout",
     "output_type": "stream",
     "text": [
      "Среднйи чек группы A: 6487.025\n",
      "Среднйи чек группы B: 6277.266\n"
     ]
    }
   ],
   "source": [
    "# Посчитаем средние чеки групп А и B\n",
    "print(\n",
    "    \"Среднйи чек группы A: {0:.3f}\".format(\n",
    "        orders[\n",
    "            np.logical_and(\n",
    "                orders['group'] == 'A',\n",
    "                np.logical_not(orders['visitorid'].isin(abnormalUsers)),\n",
    "            )\n",
    "        ]['revenue'].mean()))\n",
    "\n",
    "print(\n",
    "    \"Среднйи чек группы B: {0:.3f}\".format(\n",
    "        orders[\n",
    "            np.logical_and(\n",
    "                orders['group'] == 'B',\n",
    "                np.logical_not(orders['visitorid'].isin(abnormalUsers)),\n",
    "            )\n",
    "        ]['revenue'].mean()))"
   ]
  },
  {
   "cell_type": "markdown",
   "metadata": {},
   "source": [
    "Проверим гипотезы:\\\n",
    "H0 - средний чек группы А равен среднему чеку группы В\\\n",
    "H1 - средние чеки групп не равны\\\n",
    "\\\n",
    "alpha = 0.05"
   ]
  },
  {
   "cell_type": "code",
   "execution_count": 36,
   "metadata": {
    "scrolled": true
   },
   "outputs": [
    {
     "name": "stdout",
     "output_type": "stream",
     "text": [
      "p_value: 0.788\n",
      "Относительный прирост среднего чека группы B: -0.032\n"
     ]
    }
   ],
   "source": [
    "# применим статистический критерий Манна-Уитни к полученным выборкам\n",
    "print(\n",
    "    \"p_value: {0:.3f}\".format(\n",
    "        stats.mannwhitneyu(\n",
    "            orders[\n",
    "                np.logical_and(\n",
    "                    orders['group'] == 'A',\n",
    "                    np.logical_not(orders['visitorid'].isin(abnormalUsers)),\n",
    "                )\n",
    "            ]['revenue'],\n",
    "            orders[\n",
    "                np.logical_and(\n",
    "                    orders['group'] == 'B',\n",
    "                    np.logical_not(orders['visitorid'].isin(abnormalUsers)),\n",
    "                )\n",
    "            ]['revenue'],\n",
    "        )[1]\n",
    "    )\n",
    ")\n",
    "\n",
    "\n",
    "print(\n",
    "    \"Относительный прирост среднего чека группы B: {0:.3f}\".format(\n",
    "        orders[\n",
    "            np.logical_and(\n",
    "                orders['group'] == 'B',\n",
    "                np.logical_not(orders['visitorid'].isin(abnormalUsers)),\n",
    "            )\n",
    "        ]['revenue'].mean()\n",
    "        / orders[\n",
    "            np.logical_and(\n",
    "                orders['group'] == 'A',\n",
    "                np.logical_not(orders['visitorid'].isin(abnormalUsers)),\n",
    "            )\n",
    "        ]['revenue'].mean()\n",
    "        - 1\n",
    "    )\n",
    ")"
   ]
  },
  {
   "cell_type": "markdown",
   "metadata": {},
   "source": [
    "По анализу \"очищенных данных\" мы видим, что статичтически значимых различий между средними чеками в группах нет. Прирост среднего чека группы B отрицательный. Мы видим существенные различия результатов в сравнении с неочищенными данными, там картина была другой: средний чек был выше и относительный прирост тоже. "
   ]
  },
  {
   "cell_type": "markdown",
   "metadata": {},
   "source": [
    "# Выводы"
   ]
  },
  {
   "cell_type": "markdown",
   "metadata": {},
   "source": [
    "Мы провели исследование, в ходе которого приоритезировали гипотезы, провели A-B тест и вот какие результаты получили.\n",
    "\n",
    "**1. Статистическая значимость различий в конверсии между группами:**\n",
    "\n",
    "* **по \"сырым данным\":**\\\n",
    "p-value: 0.01102\\\n",
    "Относительный прирост конверсии группы B: 0.160\\\n",
    "Так как p-value меньше 0.05, первую гипотезу о равенстве конверсий мы отвергаем. Анализ \"сырых данных\" позволил нам выявить, что в конверсиях между группами есть различия, они не равны. Относительный прирост конверсии группы B - 16%.\n",
    "\n",
    "* **по \"очищенным данным\":**\\\n",
    "p_value: 0.00702\\\n",
    "Относительный прирост конверсии группы B: 0.189\\\n",
    "Вновь p-value меньше 0.05. Анализ \"очищенных данных\" подтвердил, что в конверсиях между группами есть различия. Относительный прирост конверсии группы B - 18,9%.\n",
    "\n",
    "Анализ статистической значимости различий в конверсии между группами по сырым и очищенным данным дал один результат: в конверсиях между группами есть статистическое различие, у группы B конверсия больше.\n",
    "\n",
    "**2. Статистическая значимость различий в среднем чеке между группами:**\n",
    "\n",
    "* **по \"сырым данным\":**\\\n",
    "Средний чек группы А: 7189.4358974358975\\\n",
    "Средний чек группы B: 9249.94890510949\\\n",
    "p_value:0.829\\\n",
    "Относительный прирост среднего чека группы B: 0.287\\\n",
    "P-value больше 0,05, потому статистически значимых различий в средних чеках групп А и В нет. Относительный прирост среднего чека группы B – 28,7%.\n",
    "\n",
    "* **по \"очищенным данным\":**\\\n",
    "\\\n",
    "Среднйи чек группы A: 6487.025\\\n",
    "Среднйи чек группы B: 6277.266\\\n",
    "p_value: 0.788\\\n",
    "Относительный прирост среднего чека группы B: -0.032\\\n",
    "По анализу \"очищенных данных\" мы видим, что статичтически значимых различий между средними чеками в группах нет. Но прирост среднего чека группы B отрицательный.\\\n",
    "\\\n",
    "Анализ статистической значимости различий в среднем чеке между группами показал колосальную разницу между \"сырыми\" и \"очищенными\" данными. При \"сырых\" данных средний чек группы B больше группы A, в то время, как при \"очищенных\" данных картина другая: средний чек у группы B меньше и относительного прироста нет.\\\n",
    "\\\n",
    "Исходя из обнаруженных фактов, мы можем сделать вывод, что тест следует остановить. **Группа B показала себя лучше.** Несмотря на то, что средний чек не меняется, конверсия ощутимо выше в группе В. С ростом конверсии будет расти и выручка интернет-магазина."
   ]
  }
 ],
 "metadata": {
  "ExecuteTimeLog": [
   {
    "duration": 420,
    "start_time": "2022-09-13T09:19:28.650Z"
   },
   {
    "duration": 63,
    "start_time": "2022-09-13T09:21:31.479Z"
   },
   {
    "duration": 11,
    "start_time": "2022-09-13T09:21:57.599Z"
   },
   {
    "duration": 7,
    "start_time": "2022-09-13T09:23:08.732Z"
   },
   {
    "duration": 13,
    "start_time": "2022-09-13T09:25:32.862Z"
   },
   {
    "duration": 7,
    "start_time": "2022-09-13T09:25:39.328Z"
   },
   {
    "duration": 216,
    "start_time": "2022-09-13T09:36:37.700Z"
   },
   {
    "duration": 41,
    "start_time": "2022-09-13T09:37:00.252Z"
   },
   {
    "duration": 75,
    "start_time": "2022-09-13T09:37:08.674Z"
   },
   {
    "duration": 93,
    "start_time": "2022-09-13T09:37:28.046Z"
   },
   {
    "duration": 57,
    "start_time": "2022-09-13T09:37:31.502Z"
   },
   {
    "duration": 386,
    "start_time": "2022-09-13T09:39:27.309Z"
   },
   {
    "duration": 30,
    "start_time": "2022-09-13T09:39:28.845Z"
   },
   {
    "duration": 9,
    "start_time": "2022-09-13T09:39:57.531Z"
   },
   {
    "duration": 1971,
    "start_time": "2022-09-13T09:40:33.940Z"
   },
   {
    "duration": 758,
    "start_time": "2022-09-13T09:40:49.347Z"
   },
   {
    "duration": 34,
    "start_time": "2022-09-13T09:40:50.107Z"
   },
   {
    "duration": 9,
    "start_time": "2022-09-13T09:40:50.142Z"
   },
   {
    "duration": 10,
    "start_time": "2022-09-13T09:40:50.152Z"
   },
   {
    "duration": 1465,
    "start_time": "2022-09-13T09:40:50.163Z"
   },
   {
    "duration": 414,
    "start_time": "2022-09-13T09:42:54.713Z"
   },
   {
    "duration": 67,
    "start_time": "2022-09-13T09:44:00.452Z"
   },
   {
    "duration": 26,
    "start_time": "2022-09-13T09:45:12.229Z"
   },
   {
    "duration": 11,
    "start_time": "2022-09-13T09:45:30.713Z"
   },
   {
    "duration": 9,
    "start_time": "2022-09-13T09:45:39.411Z"
   },
   {
    "duration": 460,
    "start_time": "2022-09-13T09:46:31.269Z"
   },
   {
    "duration": 528,
    "start_time": "2022-09-13T09:49:27.389Z"
   },
   {
    "duration": 466,
    "start_time": "2022-09-13T09:49:49.057Z"
   },
   {
    "duration": 380,
    "start_time": "2022-09-13T09:50:12.027Z"
   },
   {
    "duration": 451,
    "start_time": "2022-09-13T09:50:21.209Z"
   },
   {
    "duration": 410,
    "start_time": "2022-09-13T09:50:48.560Z"
   },
   {
    "duration": 409,
    "start_time": "2022-09-13T09:54:50.197Z"
   },
   {
    "duration": 430,
    "start_time": "2022-09-13T09:54:59.114Z"
   },
   {
    "duration": 447,
    "start_time": "2022-09-13T09:55:06.734Z"
   },
   {
    "duration": 468,
    "start_time": "2022-09-13T09:55:11.355Z"
   },
   {
    "duration": 453,
    "start_time": "2022-09-13T09:57:34.596Z"
   },
   {
    "duration": 487,
    "start_time": "2022-09-13T09:59:55.771Z"
   },
   {
    "duration": 161,
    "start_time": "2022-09-13T10:03:01.233Z"
   },
   {
    "duration": 254,
    "start_time": "2022-09-13T10:03:11.663Z"
   },
   {
    "duration": 183,
    "start_time": "2022-09-13T10:05:06.659Z"
   },
   {
    "duration": 217,
    "start_time": "2022-09-13T10:09:19.677Z"
   },
   {
    "duration": 266,
    "start_time": "2022-09-13T10:10:32.612Z"
   },
   {
    "duration": 465,
    "start_time": "2022-09-13T10:10:37.687Z"
   },
   {
    "duration": 186,
    "start_time": "2022-09-13T10:11:01.768Z"
   },
   {
    "duration": 195,
    "start_time": "2022-09-13T10:15:55.144Z"
   },
   {
    "duration": 287,
    "start_time": "2022-09-13T10:18:12.593Z"
   },
   {
    "duration": 260,
    "start_time": "2022-09-13T10:18:20.287Z"
   },
   {
    "duration": 182,
    "start_time": "2022-09-13T10:18:25.691Z"
   },
   {
    "duration": 77,
    "start_time": "2022-09-13T10:18:59.926Z"
   },
   {
    "duration": 283,
    "start_time": "2022-09-13T10:20:12.482Z"
   },
   {
    "duration": 338,
    "start_time": "2022-09-13T10:20:31.216Z"
   },
   {
    "duration": 273,
    "start_time": "2022-09-13T10:20:36.054Z"
   },
   {
    "duration": 270,
    "start_time": "2022-09-13T10:22:29.061Z"
   },
   {
    "duration": 8,
    "start_time": "2022-09-13T10:33:53.141Z"
   },
   {
    "duration": 14,
    "start_time": "2022-09-13T10:35:10.568Z"
   },
   {
    "duration": 125,
    "start_time": "2022-09-13T10:35:57.081Z"
   },
   {
    "duration": 10,
    "start_time": "2022-09-13T10:49:36.151Z"
   },
   {
    "duration": 106,
    "start_time": "2022-09-13T10:49:48.457Z"
   },
   {
    "duration": 8,
    "start_time": "2022-09-13T10:49:51.265Z"
   },
   {
    "duration": 8,
    "start_time": "2022-09-13T10:50:04.592Z"
   },
   {
    "duration": 9,
    "start_time": "2022-09-13T10:50:31.350Z"
   },
   {
    "duration": 14,
    "start_time": "2022-09-13T10:50:41.121Z"
   },
   {
    "duration": 8,
    "start_time": "2022-09-13T10:50:46.751Z"
   },
   {
    "duration": 9,
    "start_time": "2022-09-13T10:50:55.301Z"
   },
   {
    "duration": 8,
    "start_time": "2022-09-13T10:50:58.492Z"
   },
   {
    "duration": 8,
    "start_time": "2022-09-13T10:51:02.358Z"
   },
   {
    "duration": 25,
    "start_time": "2022-09-13T10:52:48.695Z"
   },
   {
    "duration": 7,
    "start_time": "2022-09-13T10:53:04.159Z"
   },
   {
    "duration": 8,
    "start_time": "2022-09-13T10:53:16.387Z"
   },
   {
    "duration": 146,
    "start_time": "2022-09-13T10:53:22.079Z"
   },
   {
    "duration": 9,
    "start_time": "2022-09-13T10:53:23.999Z"
   },
   {
    "duration": 8,
    "start_time": "2022-09-13T10:53:40.480Z"
   },
   {
    "duration": 10,
    "start_time": "2022-09-13T10:56:14.895Z"
   },
   {
    "duration": 12,
    "start_time": "2022-09-13T10:56:19.706Z"
   },
   {
    "duration": 10,
    "start_time": "2022-09-13T10:56:23.508Z"
   },
   {
    "duration": 8,
    "start_time": "2022-09-13T10:56:29.615Z"
   },
   {
    "duration": 120,
    "start_time": "2022-09-13T10:58:22.472Z"
   },
   {
    "duration": 90,
    "start_time": "2022-09-13T11:00:00.096Z"
   },
   {
    "duration": 4,
    "start_time": "2022-09-13T11:01:49.884Z"
   },
   {
    "duration": 75,
    "start_time": "2022-09-13T11:02:33.613Z"
   },
   {
    "duration": 116,
    "start_time": "2022-09-13T11:04:57.746Z"
   },
   {
    "duration": 115,
    "start_time": "2022-09-13T11:05:45.521Z"
   },
   {
    "duration": 129,
    "start_time": "2022-09-13T11:08:45.003Z"
   },
   {
    "duration": 83,
    "start_time": "2022-09-13T11:09:01.035Z"
   },
   {
    "duration": 133,
    "start_time": "2022-09-13T11:09:05.027Z"
   },
   {
    "duration": 131,
    "start_time": "2022-09-13T11:09:31.520Z"
   },
   {
    "duration": 5,
    "start_time": "2022-09-13T11:11:50.477Z"
   },
   {
    "duration": 99,
    "start_time": "2022-09-13T11:22:52.879Z"
   },
   {
    "duration": 97,
    "start_time": "2022-09-13T11:25:45.788Z"
   },
   {
    "duration": 338,
    "start_time": "2022-09-13T11:27:09.784Z"
   },
   {
    "duration": 1046,
    "start_time": "2022-09-13T11:27:37.164Z"
   },
   {
    "duration": 33,
    "start_time": "2022-09-13T11:27:38.212Z"
   },
   {
    "duration": 9,
    "start_time": "2022-09-13T11:27:38.246Z"
   },
   {
    "duration": 14,
    "start_time": "2022-09-13T11:27:38.256Z"
   },
   {
    "duration": 61,
    "start_time": "2022-09-13T11:27:38.272Z"
   },
   {
    "duration": 12,
    "start_time": "2022-09-13T11:27:38.335Z"
   },
   {
    "duration": 10,
    "start_time": "2022-09-13T11:27:38.348Z"
   },
   {
    "duration": 16,
    "start_time": "2022-09-13T11:27:38.360Z"
   },
   {
    "duration": 524,
    "start_time": "2022-09-13T11:27:38.377Z"
   },
   {
    "duration": 190,
    "start_time": "2022-09-13T11:27:38.902Z"
   },
   {
    "duration": 306,
    "start_time": "2022-09-13T11:27:39.093Z"
   },
   {
    "duration": 224,
    "start_time": "2022-09-13T11:27:39.401Z"
   },
   {
    "duration": 309,
    "start_time": "2022-09-13T11:27:39.627Z"
   },
   {
    "duration": 135,
    "start_time": "2022-09-13T11:27:39.938Z"
   },
   {
    "duration": 5,
    "start_time": "2022-09-13T11:27:40.074Z"
   },
   {
    "duration": 158,
    "start_time": "2022-09-13T11:27:40.080Z"
   },
   {
    "duration": 4,
    "start_time": "2022-09-13T11:27:40.239Z"
   },
   {
    "duration": 373,
    "start_time": "2022-09-13T11:27:40.245Z"
   },
   {
    "duration": 1171,
    "start_time": "2022-09-14T08:06:47.157Z"
   },
   {
    "duration": 67,
    "start_time": "2022-09-14T08:06:48.330Z"
   },
   {
    "duration": 9,
    "start_time": "2022-09-14T08:06:48.398Z"
   },
   {
    "duration": 8,
    "start_time": "2022-09-14T08:06:48.408Z"
   },
   {
    "duration": 137,
    "start_time": "2022-09-14T08:06:48.418Z"
   },
   {
    "duration": 12,
    "start_time": "2022-09-14T08:06:48.556Z"
   },
   {
    "duration": 11,
    "start_time": "2022-09-14T08:06:48.569Z"
   },
   {
    "duration": 10,
    "start_time": "2022-09-14T08:06:48.581Z"
   },
   {
    "duration": 516,
    "start_time": "2022-09-14T08:06:48.593Z"
   },
   {
    "duration": 201,
    "start_time": "2022-09-14T08:06:49.111Z"
   },
   {
    "duration": 314,
    "start_time": "2022-09-14T08:06:49.315Z"
   },
   {
    "duration": 215,
    "start_time": "2022-09-14T08:06:49.631Z"
   },
   {
    "duration": 299,
    "start_time": "2022-09-14T08:06:49.848Z"
   },
   {
    "duration": 123,
    "start_time": "2022-09-14T08:06:50.149Z"
   },
   {
    "duration": 4,
    "start_time": "2022-09-14T08:06:50.273Z"
   },
   {
    "duration": 143,
    "start_time": "2022-09-14T08:06:50.278Z"
   },
   {
    "duration": 3,
    "start_time": "2022-09-14T08:06:50.423Z"
   },
   {
    "duration": 193,
    "start_time": "2022-09-14T08:09:12.279Z"
   },
   {
    "duration": 250,
    "start_time": "2022-09-14T08:09:20.468Z"
   },
   {
    "duration": 499,
    "start_time": "2022-09-14T08:53:43.176Z"
   },
   {
    "duration": 556,
    "start_time": "2022-09-14T09:14:10.107Z"
   },
   {
    "duration": 405,
    "start_time": "2022-09-14T09:17:15.477Z"
   },
   {
    "duration": 415,
    "start_time": "2022-09-14T09:28:46.777Z"
   },
   {
    "duration": 339,
    "start_time": "2022-09-14T09:28:57.519Z"
   },
   {
    "duration": 416,
    "start_time": "2022-09-14T09:29:24.111Z"
   },
   {
    "duration": 322,
    "start_time": "2022-09-14T09:35:49.782Z"
   },
   {
    "duration": 356,
    "start_time": "2022-09-14T09:37:42.396Z"
   },
   {
    "duration": 1139,
    "start_time": "2022-09-14T09:38:02.310Z"
   },
   {
    "duration": 36,
    "start_time": "2022-09-14T09:38:03.452Z"
   },
   {
    "duration": 8,
    "start_time": "2022-09-14T09:38:03.490Z"
   },
   {
    "duration": 10,
    "start_time": "2022-09-14T09:38:03.500Z"
   },
   {
    "duration": 73,
    "start_time": "2022-09-14T09:38:03.511Z"
   },
   {
    "duration": 13,
    "start_time": "2022-09-14T09:38:03.585Z"
   },
   {
    "duration": 34,
    "start_time": "2022-09-14T09:38:03.599Z"
   },
   {
    "duration": 12,
    "start_time": "2022-09-14T09:38:03.635Z"
   },
   {
    "duration": 547,
    "start_time": "2022-09-14T09:38:03.650Z"
   },
   {
    "duration": 275,
    "start_time": "2022-09-14T09:38:04.200Z"
   },
   {
    "duration": 368,
    "start_time": "2022-09-14T09:38:04.476Z"
   },
   {
    "duration": 261,
    "start_time": "2022-09-14T09:38:04.846Z"
   },
   {
    "duration": 399,
    "start_time": "2022-09-14T09:38:05.110Z"
   },
   {
    "duration": 159,
    "start_time": "2022-09-14T09:38:05.511Z"
   },
   {
    "duration": 6,
    "start_time": "2022-09-14T09:38:05.672Z"
   },
   {
    "duration": 167,
    "start_time": "2022-09-14T09:38:05.680Z"
   },
   {
    "duration": 6,
    "start_time": "2022-09-14T09:38:05.849Z"
   },
   {
    "duration": 402,
    "start_time": "2022-09-14T09:38:05.857Z"
   },
   {
    "duration": 135,
    "start_time": "2022-09-14T09:48:02.160Z"
   },
   {
    "duration": 161,
    "start_time": "2022-09-14T09:49:33.562Z"
   },
   {
    "duration": 130,
    "start_time": "2022-09-14T09:52:42.190Z"
   },
   {
    "duration": 139,
    "start_time": "2022-09-14T09:53:55.469Z"
   },
   {
    "duration": 165,
    "start_time": "2022-09-14T09:55:30.743Z"
   },
   {
    "duration": 164,
    "start_time": "2022-09-14T09:56:34.789Z"
   },
   {
    "duration": 11,
    "start_time": "2022-09-14T10:16:02.935Z"
   },
   {
    "duration": 2570,
    "start_time": "2022-09-14T10:21:33.210Z"
   },
   {
    "duration": 169,
    "start_time": "2022-09-14T10:22:32.696Z"
   },
   {
    "duration": 9,
    "start_time": "2022-09-14T10:25:49.166Z"
   },
   {
    "duration": 11,
    "start_time": "2022-09-14T10:27:45.199Z"
   },
   {
    "duration": 14,
    "start_time": "2022-09-14T10:27:50.801Z"
   },
   {
    "duration": 153,
    "start_time": "2022-09-14T10:30:03.807Z"
   },
   {
    "duration": 15,
    "start_time": "2022-09-14T10:30:38.317Z"
   },
   {
    "duration": 206,
    "start_time": "2022-09-14T10:34:51.645Z"
   },
   {
    "duration": 64,
    "start_time": "2022-09-14T10:36:26.959Z"
   },
   {
    "duration": 72,
    "start_time": "2022-09-14T10:36:30.908Z"
   },
   {
    "duration": 58,
    "start_time": "2022-09-14T10:36:40.954Z"
   },
   {
    "duration": 60,
    "start_time": "2022-09-14T10:37:37.472Z"
   },
   {
    "duration": 62,
    "start_time": "2022-09-14T10:37:39.747Z"
   },
   {
    "duration": 160,
    "start_time": "2022-09-14T10:37:57.898Z"
   },
   {
    "duration": 156,
    "start_time": "2022-09-14T10:43:26.724Z"
   },
   {
    "duration": 57,
    "start_time": "2022-09-14T10:43:35.848Z"
   },
   {
    "duration": 13,
    "start_time": "2022-09-14T10:43:46.440Z"
   },
   {
    "duration": 1988,
    "start_time": "2022-09-14T11:06:49.387Z"
   },
   {
    "duration": 1871,
    "start_time": "2022-09-14T11:07:04.214Z"
   },
   {
    "duration": 1543,
    "start_time": "2022-09-14T11:07:08.019Z"
   },
   {
    "duration": 2971,
    "start_time": "2022-09-14T11:07:20.288Z"
   },
   {
    "duration": 2240,
    "start_time": "2022-09-14T11:08:05.542Z"
   },
   {
    "duration": 1193,
    "start_time": "2022-09-14T11:08:14.364Z"
   },
   {
    "duration": 37,
    "start_time": "2022-09-14T11:08:15.559Z"
   },
   {
    "duration": 29,
    "start_time": "2022-09-14T11:08:15.598Z"
   },
   {
    "duration": 19,
    "start_time": "2022-09-14T11:08:15.633Z"
   },
   {
    "duration": 89,
    "start_time": "2022-09-14T11:08:15.653Z"
   },
   {
    "duration": 19,
    "start_time": "2022-09-14T11:08:15.744Z"
   },
   {
    "duration": 13,
    "start_time": "2022-09-14T11:08:15.765Z"
   },
   {
    "duration": 14,
    "start_time": "2022-09-14T11:08:15.780Z"
   },
   {
    "duration": 685,
    "start_time": "2022-09-14T11:08:15.796Z"
   },
   {
    "duration": 228,
    "start_time": "2022-09-14T11:08:16.483Z"
   },
   {
    "duration": 344,
    "start_time": "2022-09-14T11:08:16.714Z"
   },
   {
    "duration": 236,
    "start_time": "2022-09-14T11:08:17.060Z"
   },
   {
    "duration": 364,
    "start_time": "2022-09-14T11:08:17.297Z"
   },
   {
    "duration": 189,
    "start_time": "2022-09-14T11:08:17.663Z"
   },
   {
    "duration": 4,
    "start_time": "2022-09-14T11:08:17.854Z"
   },
   {
    "duration": 195,
    "start_time": "2022-09-14T11:08:17.860Z"
   },
   {
    "duration": 4,
    "start_time": "2022-09-14T11:08:18.057Z"
   },
   {
    "duration": 184,
    "start_time": "2022-09-14T11:08:18.062Z"
   },
   {
    "duration": 11,
    "start_time": "2022-09-14T11:08:18.248Z"
   },
   {
    "duration": 1700,
    "start_time": "2022-09-14T11:08:18.260Z"
   },
   {
    "duration": 15,
    "start_time": "2022-09-14T11:08:31.798Z"
   },
   {
    "duration": 1597,
    "start_time": "2022-09-14T11:14:30.755Z"
   },
   {
    "duration": 1559,
    "start_time": "2022-09-14T11:18:41.339Z"
   },
   {
    "duration": 13,
    "start_time": "2022-09-14T11:19:09.883Z"
   },
   {
    "duration": 5,
    "start_time": "2022-09-14T11:19:16.690Z"
   },
   {
    "duration": 1244,
    "start_time": "2022-09-14T11:19:49.634Z"
   },
   {
    "duration": 1233,
    "start_time": "2022-09-14T11:20:23.957Z"
   },
   {
    "duration": 14,
    "start_time": "2022-09-14T11:20:39.872Z"
   },
   {
    "duration": 17,
    "start_time": "2022-09-14T11:20:49.442Z"
   },
   {
    "duration": 75,
    "start_time": "2022-09-14T11:22:24.602Z"
   },
   {
    "duration": 1204,
    "start_time": "2022-09-14T11:22:33.395Z"
   },
   {
    "duration": 117,
    "start_time": "2022-09-14T11:22:34.610Z"
   },
   {
    "duration": 19,
    "start_time": "2022-09-14T11:22:34.736Z"
   },
   {
    "duration": 52,
    "start_time": "2022-09-14T11:22:34.758Z"
   },
   {
    "duration": 246,
    "start_time": "2022-09-14T11:22:34.811Z"
   },
   {
    "duration": 15,
    "start_time": "2022-09-14T11:22:35.059Z"
   },
   {
    "duration": 77,
    "start_time": "2022-09-14T11:22:35.075Z"
   },
   {
    "duration": 24,
    "start_time": "2022-09-14T11:22:35.155Z"
   },
   {
    "duration": 713,
    "start_time": "2022-09-14T11:22:35.181Z"
   },
   {
    "duration": 243,
    "start_time": "2022-09-14T11:22:35.897Z"
   },
   {
    "duration": 375,
    "start_time": "2022-09-14T11:22:36.144Z"
   },
   {
    "duration": 253,
    "start_time": "2022-09-14T11:22:36.521Z"
   },
   {
    "duration": 391,
    "start_time": "2022-09-14T11:22:36.776Z"
   },
   {
    "duration": 153,
    "start_time": "2022-09-14T11:22:37.168Z"
   },
   {
    "duration": 9,
    "start_time": "2022-09-14T11:22:37.325Z"
   },
   {
    "duration": 179,
    "start_time": "2022-09-14T11:22:37.335Z"
   },
   {
    "duration": 6,
    "start_time": "2022-09-14T11:22:37.515Z"
   },
   {
    "duration": 170,
    "start_time": "2022-09-14T11:22:37.528Z"
   },
   {
    "duration": 21,
    "start_time": "2022-09-14T11:22:37.700Z"
   },
   {
    "duration": 27,
    "start_time": "2022-09-14T11:22:37.739Z"
   },
   {
    "duration": 1504,
    "start_time": "2022-09-14T11:22:37.770Z"
   },
   {
    "duration": 1709,
    "start_time": "2022-09-14T11:22:54.366Z"
   },
   {
    "duration": 19,
    "start_time": "2022-09-14T11:23:00.798Z"
   },
   {
    "duration": 6,
    "start_time": "2022-09-14T11:33:21.875Z"
   },
   {
    "duration": 8,
    "start_time": "2022-09-14T11:33:58.865Z"
   },
   {
    "duration": 39,
    "start_time": "2022-09-14T11:34:58.314Z"
   },
   {
    "duration": 43,
    "start_time": "2022-09-14T11:35:33.448Z"
   },
   {
    "duration": 99,
    "start_time": "2022-09-14T11:37:50.062Z"
   },
   {
    "duration": 64,
    "start_time": "2022-09-14T11:37:57.226Z"
   },
   {
    "duration": 5,
    "start_time": "2022-09-14T11:38:06.565Z"
   },
   {
    "duration": 11,
    "start_time": "2022-09-14T11:38:19.952Z"
   },
   {
    "duration": 8,
    "start_time": "2022-09-14T11:38:24.892Z"
   },
   {
    "duration": 10,
    "start_time": "2022-09-14T11:52:01.171Z"
   },
   {
    "duration": 12,
    "start_time": "2022-09-14T11:52:07.624Z"
   },
   {
    "duration": 18,
    "start_time": "2022-09-14T11:55:31.794Z"
   },
   {
    "duration": 9,
    "start_time": "2022-09-14T11:55:38.671Z"
   },
   {
    "duration": 11,
    "start_time": "2022-09-14T11:56:15.653Z"
   },
   {
    "duration": 165,
    "start_time": "2022-09-14T13:14:40.512Z"
   },
   {
    "duration": 13,
    "start_time": "2022-09-14T13:14:49.850Z"
   },
   {
    "duration": 14,
    "start_time": "2022-09-14T13:15:27.608Z"
   },
   {
    "duration": 349,
    "start_time": "2022-09-14T13:16:01.998Z"
   },
   {
    "duration": 12,
    "start_time": "2022-09-14T13:16:17.173Z"
   },
   {
    "duration": 3368,
    "start_time": "2022-09-14T13:16:43.882Z"
   },
   {
    "duration": 6,
    "start_time": "2022-09-14T13:16:59.689Z"
   },
   {
    "duration": 2602,
    "start_time": "2022-09-14T13:17:04.624Z"
   },
   {
    "duration": 9,
    "start_time": "2022-09-14T13:17:14.517Z"
   },
   {
    "duration": 12,
    "start_time": "2022-09-14T13:23:06.425Z"
   },
   {
    "duration": 28,
    "start_time": "2022-09-14T13:23:20.363Z"
   },
   {
    "duration": 7,
    "start_time": "2022-09-14T13:23:28.590Z"
   },
   {
    "duration": 1187,
    "start_time": "2022-09-14T13:23:47.030Z"
   },
   {
    "duration": 36,
    "start_time": "2022-09-14T13:23:48.219Z"
   },
   {
    "duration": 8,
    "start_time": "2022-09-14T13:23:48.257Z"
   },
   {
    "duration": 8,
    "start_time": "2022-09-14T13:23:48.267Z"
   },
   {
    "duration": 83,
    "start_time": "2022-09-14T13:23:48.277Z"
   },
   {
    "duration": 11,
    "start_time": "2022-09-14T13:23:48.362Z"
   },
   {
    "duration": 18,
    "start_time": "2022-09-14T13:23:48.375Z"
   },
   {
    "duration": 29,
    "start_time": "2022-09-14T13:23:48.395Z"
   },
   {
    "duration": 16,
    "start_time": "2022-09-14T13:23:48.425Z"
   },
   {
    "duration": 599,
    "start_time": "2022-09-14T13:23:48.443Z"
   },
   {
    "duration": 242,
    "start_time": "2022-09-14T13:23:49.043Z"
   },
   {
    "duration": 323,
    "start_time": "2022-09-14T13:23:49.287Z"
   },
   {
    "duration": 230,
    "start_time": "2022-09-14T13:23:49.614Z"
   },
   {
    "duration": 319,
    "start_time": "2022-09-14T13:23:49.846Z"
   },
   {
    "duration": 193,
    "start_time": "2022-09-14T13:23:50.166Z"
   },
   {
    "duration": 4,
    "start_time": "2022-09-14T13:23:50.361Z"
   },
   {
    "duration": 176,
    "start_time": "2022-09-14T13:23:50.367Z"
   },
   {
    "duration": 4,
    "start_time": "2022-09-14T13:23:50.545Z"
   },
   {
    "duration": 191,
    "start_time": "2022-09-14T13:23:50.550Z"
   },
   {
    "duration": 10,
    "start_time": "2022-09-14T13:23:50.742Z"
   },
   {
    "duration": 13,
    "start_time": "2022-09-14T13:23:50.754Z"
   },
   {
    "duration": 40,
    "start_time": "2022-09-14T13:23:50.769Z"
   },
   {
    "duration": 9,
    "start_time": "2022-09-14T13:32:37.724Z"
   },
   {
    "duration": 25,
    "start_time": "2022-09-14T13:32:41.352Z"
   },
   {
    "duration": 1279,
    "start_time": "2022-09-14T13:44:01.071Z"
   },
   {
    "duration": 1541,
    "start_time": "2022-09-14T13:44:16.281Z"
   },
   {
    "duration": 8,
    "start_time": "2022-09-14T13:48:12.047Z"
   },
   {
    "duration": 1765,
    "start_time": "2022-09-14T13:49:42.702Z"
   },
   {
    "duration": 1526,
    "start_time": "2022-09-14T13:53:04.146Z"
   },
   {
    "duration": 9,
    "start_time": "2022-09-14T13:53:28.680Z"
   },
   {
    "duration": 75,
    "start_time": "2022-09-14T13:54:37.989Z"
   },
   {
    "duration": 9,
    "start_time": "2022-09-14T13:54:40.180Z"
   },
   {
    "duration": 14,
    "start_time": "2022-09-14T13:55:37.955Z"
   },
   {
    "duration": 13,
    "start_time": "2022-09-14T13:57:27.868Z"
   },
   {
    "duration": 9,
    "start_time": "2022-09-14T14:02:32.793Z"
   },
   {
    "duration": 7,
    "start_time": "2022-09-14T14:03:29.785Z"
   },
   {
    "duration": 7,
    "start_time": "2022-09-14T14:11:42.408Z"
   },
   {
    "duration": 1600,
    "start_time": "2022-09-14T14:12:01.564Z"
   },
   {
    "duration": 2315,
    "start_time": "2022-09-14T14:12:17.756Z"
   },
   {
    "duration": 22,
    "start_time": "2022-09-14T14:13:23.064Z"
   },
   {
    "duration": 30,
    "start_time": "2022-09-14T14:17:49.115Z"
   },
   {
    "duration": 20,
    "start_time": "2022-09-14T14:18:24.622Z"
   },
   {
    "duration": 7,
    "start_time": "2022-09-14T14:36:56.573Z"
   },
   {
    "duration": 67,
    "start_time": "2022-09-14T14:41:25.521Z"
   },
   {
    "duration": 136,
    "start_time": "2022-09-14T14:41:29.790Z"
   },
   {
    "duration": 5,
    "start_time": "2022-09-14T14:41:37.213Z"
   },
   {
    "duration": 9,
    "start_time": "2022-09-14T14:41:58.247Z"
   },
   {
    "duration": 7,
    "start_time": "2022-09-14T14:42:36.702Z"
   },
   {
    "duration": 8,
    "start_time": "2022-09-14T14:50:17.242Z"
   },
   {
    "duration": 25,
    "start_time": "2022-09-14T14:50:20.898Z"
   },
   {
    "duration": 9,
    "start_time": "2022-09-14T14:51:38.631Z"
   },
   {
    "duration": 24,
    "start_time": "2022-09-14T14:51:42.164Z"
   },
   {
    "duration": 8,
    "start_time": "2022-09-14T14:52:09.190Z"
   },
   {
    "duration": 29,
    "start_time": "2022-09-14T14:52:11.457Z"
   },
   {
    "duration": 8,
    "start_time": "2022-09-14T14:52:20.393Z"
   },
   {
    "duration": 25,
    "start_time": "2022-09-14T14:52:28.746Z"
   },
   {
    "duration": 49,
    "start_time": "2022-09-15T07:40:11.827Z"
   },
   {
    "duration": 1450,
    "start_time": "2022-09-15T07:40:20.375Z"
   },
   {
    "duration": 96,
    "start_time": "2022-09-15T07:40:21.829Z"
   },
   {
    "duration": 9,
    "start_time": "2022-09-15T07:40:21.926Z"
   },
   {
    "duration": 10,
    "start_time": "2022-09-15T07:40:21.937Z"
   },
   {
    "duration": 146,
    "start_time": "2022-09-15T07:40:21.950Z"
   },
   {
    "duration": 11,
    "start_time": "2022-09-15T07:40:22.098Z"
   },
   {
    "duration": 16,
    "start_time": "2022-09-15T07:40:22.111Z"
   },
   {
    "duration": 12,
    "start_time": "2022-09-15T07:40:22.128Z"
   },
   {
    "duration": 10,
    "start_time": "2022-09-15T07:40:22.141Z"
   },
   {
    "duration": 552,
    "start_time": "2022-09-15T07:40:22.152Z"
   },
   {
    "duration": 255,
    "start_time": "2022-09-15T07:40:22.707Z"
   },
   {
    "duration": 329,
    "start_time": "2022-09-15T07:40:22.964Z"
   },
   {
    "duration": 185,
    "start_time": "2022-09-15T07:40:23.295Z"
   },
   {
    "duration": 306,
    "start_time": "2022-09-15T07:40:23.483Z"
   },
   {
    "duration": 163,
    "start_time": "2022-09-15T07:40:23.790Z"
   },
   {
    "duration": 4,
    "start_time": "2022-09-15T07:40:23.955Z"
   },
   {
    "duration": 186,
    "start_time": "2022-09-15T07:40:23.960Z"
   },
   {
    "duration": 5,
    "start_time": "2022-09-15T07:40:24.147Z"
   },
   {
    "duration": 120,
    "start_time": "2022-09-15T07:40:24.154Z"
   },
   {
    "duration": 0,
    "start_time": "2022-09-15T07:40:24.276Z"
   },
   {
    "duration": 0,
    "start_time": "2022-09-15T07:40:24.277Z"
   },
   {
    "duration": 0,
    "start_time": "2022-09-15T07:40:24.278Z"
   },
   {
    "duration": 0,
    "start_time": "2022-09-15T07:40:24.279Z"
   },
   {
    "duration": 0,
    "start_time": "2022-09-15T07:40:24.281Z"
   },
   {
    "duration": 0,
    "start_time": "2022-09-15T07:40:24.282Z"
   },
   {
    "duration": 0,
    "start_time": "2022-09-15T07:40:24.283Z"
   },
   {
    "duration": 32,
    "start_time": "2022-09-15T07:40:48.546Z"
   },
   {
    "duration": 32,
    "start_time": "2022-09-15T07:40:58.283Z"
   },
   {
    "duration": 32,
    "start_time": "2022-09-15T07:41:07.436Z"
   },
   {
    "duration": 1033,
    "start_time": "2022-09-15T07:41:15.953Z"
   },
   {
    "duration": 34,
    "start_time": "2022-09-15T07:41:16.988Z"
   },
   {
    "duration": 7,
    "start_time": "2022-09-15T07:41:17.024Z"
   },
   {
    "duration": 8,
    "start_time": "2022-09-15T07:41:17.033Z"
   },
   {
    "duration": 63,
    "start_time": "2022-09-15T07:41:17.042Z"
   },
   {
    "duration": 10,
    "start_time": "2022-09-15T07:41:17.107Z"
   },
   {
    "duration": 15,
    "start_time": "2022-09-15T07:41:17.118Z"
   },
   {
    "duration": 8,
    "start_time": "2022-09-15T07:41:17.134Z"
   },
   {
    "duration": 8,
    "start_time": "2022-09-15T07:41:17.144Z"
   },
   {
    "duration": 506,
    "start_time": "2022-09-15T07:41:17.154Z"
   },
   {
    "duration": 240,
    "start_time": "2022-09-15T07:41:17.662Z"
   },
   {
    "duration": 260,
    "start_time": "2022-09-15T07:41:17.904Z"
   },
   {
    "duration": 188,
    "start_time": "2022-09-15T07:41:18.166Z"
   },
   {
    "duration": 304,
    "start_time": "2022-09-15T07:41:18.356Z"
   },
   {
    "duration": 150,
    "start_time": "2022-09-15T07:41:18.662Z"
   },
   {
    "duration": 4,
    "start_time": "2022-09-15T07:41:18.814Z"
   },
   {
    "duration": 140,
    "start_time": "2022-09-15T07:41:18.820Z"
   },
   {
    "duration": 4,
    "start_time": "2022-09-15T07:41:18.962Z"
   },
   {
    "duration": 113,
    "start_time": "2022-09-15T07:41:18.968Z"
   },
   {
    "duration": 0,
    "start_time": "2022-09-15T07:41:19.083Z"
   },
   {
    "duration": 0,
    "start_time": "2022-09-15T07:41:19.084Z"
   },
   {
    "duration": 0,
    "start_time": "2022-09-15T07:41:19.085Z"
   },
   {
    "duration": 0,
    "start_time": "2022-09-15T07:41:19.086Z"
   },
   {
    "duration": 0,
    "start_time": "2022-09-15T07:41:19.087Z"
   },
   {
    "duration": 0,
    "start_time": "2022-09-15T07:41:19.089Z"
   },
   {
    "duration": 0,
    "start_time": "2022-09-15T07:41:19.090Z"
   },
   {
    "duration": 33,
    "start_time": "2022-09-15T07:41:51.918Z"
   },
   {
    "duration": 7,
    "start_time": "2022-09-15T07:41:56.050Z"
   },
   {
    "duration": 35,
    "start_time": "2022-09-15T07:42:10.142Z"
   },
   {
    "duration": 1053,
    "start_time": "2022-09-15T07:42:17.160Z"
   },
   {
    "duration": 37,
    "start_time": "2022-09-15T07:42:18.215Z"
   },
   {
    "duration": 9,
    "start_time": "2022-09-15T07:42:18.254Z"
   },
   {
    "duration": 8,
    "start_time": "2022-09-15T07:42:18.264Z"
   },
   {
    "duration": 72,
    "start_time": "2022-09-15T07:42:18.274Z"
   },
   {
    "duration": 15,
    "start_time": "2022-09-15T07:42:18.348Z"
   },
   {
    "duration": 13,
    "start_time": "2022-09-15T07:42:18.365Z"
   },
   {
    "duration": 7,
    "start_time": "2022-09-15T07:42:18.380Z"
   },
   {
    "duration": 5,
    "start_time": "2022-09-15T07:42:18.389Z"
   },
   {
    "duration": 514,
    "start_time": "2022-09-15T07:42:18.395Z"
   },
   {
    "duration": 224,
    "start_time": "2022-09-15T07:42:18.910Z"
   },
   {
    "duration": 278,
    "start_time": "2022-09-15T07:42:19.136Z"
   },
   {
    "duration": 191,
    "start_time": "2022-09-15T07:42:19.415Z"
   },
   {
    "duration": 281,
    "start_time": "2022-09-15T07:42:19.609Z"
   },
   {
    "duration": 147,
    "start_time": "2022-09-15T07:42:19.892Z"
   },
   {
    "duration": 4,
    "start_time": "2022-09-15T07:42:20.041Z"
   },
   {
    "duration": 145,
    "start_time": "2022-09-15T07:42:20.047Z"
   },
   {
    "duration": 4,
    "start_time": "2022-09-15T07:42:20.194Z"
   },
   {
    "duration": 99,
    "start_time": "2022-09-15T07:42:20.200Z"
   },
   {
    "duration": 0,
    "start_time": "2022-09-15T07:42:20.300Z"
   },
   {
    "duration": 0,
    "start_time": "2022-09-15T07:42:20.302Z"
   },
   {
    "duration": 0,
    "start_time": "2022-09-15T07:42:20.303Z"
   },
   {
    "duration": 0,
    "start_time": "2022-09-15T07:42:20.304Z"
   },
   {
    "duration": 0,
    "start_time": "2022-09-15T07:42:20.305Z"
   },
   {
    "duration": 0,
    "start_time": "2022-09-15T07:42:20.306Z"
   },
   {
    "duration": 0,
    "start_time": "2022-09-15T07:42:20.308Z"
   },
   {
    "duration": 72,
    "start_time": "2022-09-15T07:45:23.386Z"
   },
   {
    "duration": 292,
    "start_time": "2022-09-15T07:57:02.602Z"
   },
   {
    "duration": 371,
    "start_time": "2022-09-15T07:59:08.197Z"
   },
   {
    "duration": 214,
    "start_time": "2022-09-15T08:01:31.001Z"
   },
   {
    "duration": 220,
    "start_time": "2022-09-15T08:02:04.186Z"
   },
   {
    "duration": 281,
    "start_time": "2022-09-15T08:05:54.523Z"
   },
   {
    "duration": 141,
    "start_time": "2022-09-15T08:10:58.438Z"
   },
   {
    "duration": 119,
    "start_time": "2022-09-15T08:11:16.546Z"
   },
   {
    "duration": 132,
    "start_time": "2022-09-15T08:11:20.699Z"
   },
   {
    "duration": 10,
    "start_time": "2022-09-15T08:12:06.244Z"
   },
   {
    "duration": 17,
    "start_time": "2022-09-15T08:28:01.702Z"
   },
   {
    "duration": 126,
    "start_time": "2022-09-15T08:28:15.091Z"
   },
   {
    "duration": 21,
    "start_time": "2022-09-15T08:28:21.589Z"
   },
   {
    "duration": 990,
    "start_time": "2022-09-15T08:29:02.930Z"
   },
   {
    "duration": 36,
    "start_time": "2022-09-15T08:29:03.921Z"
   },
   {
    "duration": 9,
    "start_time": "2022-09-15T08:29:03.958Z"
   },
   {
    "duration": 13,
    "start_time": "2022-09-15T08:29:03.968Z"
   },
   {
    "duration": 66,
    "start_time": "2022-09-15T08:29:03.983Z"
   },
   {
    "duration": 12,
    "start_time": "2022-09-15T08:29:04.051Z"
   },
   {
    "duration": 14,
    "start_time": "2022-09-15T08:29:04.064Z"
   },
   {
    "duration": 11,
    "start_time": "2022-09-15T08:29:04.079Z"
   },
   {
    "duration": 20,
    "start_time": "2022-09-15T08:29:04.092Z"
   },
   {
    "duration": 511,
    "start_time": "2022-09-15T08:29:04.114Z"
   },
   {
    "duration": 208,
    "start_time": "2022-09-15T08:29:04.627Z"
   },
   {
    "duration": 289,
    "start_time": "2022-09-15T08:29:04.836Z"
   },
   {
    "duration": 205,
    "start_time": "2022-09-15T08:29:05.127Z"
   },
   {
    "duration": 309,
    "start_time": "2022-09-15T08:29:05.334Z"
   },
   {
    "duration": 175,
    "start_time": "2022-09-15T08:29:05.645Z"
   },
   {
    "duration": 4,
    "start_time": "2022-09-15T08:29:05.821Z"
   },
   {
    "duration": 153,
    "start_time": "2022-09-15T08:29:05.827Z"
   },
   {
    "duration": 4,
    "start_time": "2022-09-15T08:29:05.981Z"
   },
   {
    "duration": 143,
    "start_time": "2022-09-15T08:29:05.987Z"
   },
   {
    "duration": 20,
    "start_time": "2022-09-15T08:29:06.131Z"
   },
   {
    "duration": 25,
    "start_time": "2022-09-15T08:29:06.153Z"
   },
   {
    "duration": 14,
    "start_time": "2022-09-15T08:29:06.180Z"
   },
   {
    "duration": 8,
    "start_time": "2022-09-15T08:29:06.196Z"
   },
   {
    "duration": 25,
    "start_time": "2022-09-15T08:29:06.206Z"
   },
   {
    "duration": 8,
    "start_time": "2022-09-15T08:29:06.232Z"
   },
   {
    "duration": 40,
    "start_time": "2022-09-15T08:29:06.241Z"
   },
   {
    "duration": 8,
    "start_time": "2022-09-15T08:32:48.654Z"
   },
   {
    "duration": 7,
    "start_time": "2022-09-15T08:36:49.143Z"
   },
   {
    "duration": 1258,
    "start_time": "2022-09-15T08:36:56.674Z"
   },
   {
    "duration": 37,
    "start_time": "2022-09-15T08:36:57.934Z"
   },
   {
    "duration": 13,
    "start_time": "2022-09-15T08:36:57.973Z"
   },
   {
    "duration": 10,
    "start_time": "2022-09-15T08:36:57.988Z"
   },
   {
    "duration": 76,
    "start_time": "2022-09-15T08:36:58.000Z"
   },
   {
    "duration": 11,
    "start_time": "2022-09-15T08:36:58.077Z"
   },
   {
    "duration": 11,
    "start_time": "2022-09-15T08:36:58.090Z"
   },
   {
    "duration": 7,
    "start_time": "2022-09-15T08:36:58.103Z"
   },
   {
    "duration": 5,
    "start_time": "2022-09-15T08:36:58.111Z"
   },
   {
    "duration": 534,
    "start_time": "2022-09-15T08:36:58.119Z"
   },
   {
    "duration": 201,
    "start_time": "2022-09-15T08:36:58.654Z"
   },
   {
    "duration": 322,
    "start_time": "2022-09-15T08:36:58.857Z"
   },
   {
    "duration": 206,
    "start_time": "2022-09-15T08:36:59.181Z"
   },
   {
    "duration": 308,
    "start_time": "2022-09-15T08:36:59.389Z"
   },
   {
    "duration": 161,
    "start_time": "2022-09-15T08:36:59.699Z"
   },
   {
    "duration": 4,
    "start_time": "2022-09-15T08:36:59.862Z"
   },
   {
    "duration": 132,
    "start_time": "2022-09-15T08:36:59.876Z"
   },
   {
    "duration": 4,
    "start_time": "2022-09-15T08:37:00.009Z"
   },
   {
    "duration": 124,
    "start_time": "2022-09-15T08:37:00.015Z"
   },
   {
    "duration": 19,
    "start_time": "2022-09-15T08:37:00.140Z"
   },
   {
    "duration": 18,
    "start_time": "2022-09-15T08:37:00.160Z"
   },
   {
    "duration": 27,
    "start_time": "2022-09-15T08:37:00.179Z"
   },
   {
    "duration": 18,
    "start_time": "2022-09-15T08:37:00.208Z"
   },
   {
    "duration": 27,
    "start_time": "2022-09-15T08:37:00.227Z"
   },
   {
    "duration": 7,
    "start_time": "2022-09-15T08:37:00.255Z"
   },
   {
    "duration": 15,
    "start_time": "2022-09-15T08:37:00.263Z"
   },
   {
    "duration": 142,
    "start_time": "2022-09-15T08:57:32.018Z"
   },
   {
    "duration": 1433,
    "start_time": "2022-09-15T12:56:47.737Z"
   },
   {
    "duration": 84,
    "start_time": "2022-09-15T12:56:49.173Z"
   },
   {
    "duration": 10,
    "start_time": "2022-09-15T12:56:49.258Z"
   },
   {
    "duration": 12,
    "start_time": "2022-09-15T12:56:49.270Z"
   },
   {
    "duration": 239,
    "start_time": "2022-09-15T12:56:49.285Z"
   },
   {
    "duration": 13,
    "start_time": "2022-09-15T12:56:49.526Z"
   },
   {
    "duration": 14,
    "start_time": "2022-09-15T12:56:49.541Z"
   },
   {
    "duration": 18,
    "start_time": "2022-09-15T12:56:49.556Z"
   },
   {
    "duration": 19,
    "start_time": "2022-09-15T12:56:49.576Z"
   },
   {
    "duration": 606,
    "start_time": "2022-09-15T12:56:49.597Z"
   },
   {
    "duration": 249,
    "start_time": "2022-09-15T12:56:50.204Z"
   },
   {
    "duration": 322,
    "start_time": "2022-09-15T12:56:50.454Z"
   },
   {
    "duration": 237,
    "start_time": "2022-09-15T12:56:50.777Z"
   },
   {
    "duration": 357,
    "start_time": "2022-09-15T12:56:51.016Z"
   },
   {
    "duration": 189,
    "start_time": "2022-09-15T12:56:51.375Z"
   },
   {
    "duration": 4,
    "start_time": "2022-09-15T12:56:51.566Z"
   },
   {
    "duration": 208,
    "start_time": "2022-09-15T12:56:51.573Z"
   },
   {
    "duration": 5,
    "start_time": "2022-09-15T12:56:51.784Z"
   },
   {
    "duration": 195,
    "start_time": "2022-09-15T12:56:51.791Z"
   },
   {
    "duration": 23,
    "start_time": "2022-09-15T12:56:51.987Z"
   },
   {
    "duration": 9,
    "start_time": "2022-09-15T12:56:52.020Z"
   },
   {
    "duration": 31,
    "start_time": "2022-09-15T12:56:52.031Z"
   },
   {
    "duration": 26,
    "start_time": "2022-09-15T12:56:52.064Z"
   },
   {
    "duration": 34,
    "start_time": "2022-09-15T12:56:52.092Z"
   },
   {
    "duration": 26,
    "start_time": "2022-09-15T12:56:52.128Z"
   },
   {
    "duration": 31,
    "start_time": "2022-09-15T12:56:52.155Z"
   },
   {
    "duration": 48,
    "start_time": "2022-09-15T15:02:51.221Z"
   },
   {
    "duration": 1230,
    "start_time": "2022-09-15T15:03:07.126Z"
   },
   {
    "duration": 59,
    "start_time": "2022-09-15T15:03:08.357Z"
   },
   {
    "duration": 9,
    "start_time": "2022-09-15T15:03:08.418Z"
   },
   {
    "duration": 7,
    "start_time": "2022-09-15T15:03:08.429Z"
   },
   {
    "duration": 141,
    "start_time": "2022-09-15T15:03:08.437Z"
   },
   {
    "duration": 14,
    "start_time": "2022-09-15T15:03:08.580Z"
   },
   {
    "duration": 28,
    "start_time": "2022-09-15T15:03:08.595Z"
   },
   {
    "duration": 18,
    "start_time": "2022-09-15T15:03:08.625Z"
   },
   {
    "duration": 29,
    "start_time": "2022-09-15T15:03:08.644Z"
   },
   {
    "duration": 531,
    "start_time": "2022-09-15T15:03:08.676Z"
   },
   {
    "duration": 202,
    "start_time": "2022-09-15T15:03:09.209Z"
   },
   {
    "duration": 348,
    "start_time": "2022-09-15T15:03:09.412Z"
   },
   {
    "duration": 201,
    "start_time": "2022-09-15T15:03:09.762Z"
   },
   {
    "duration": 298,
    "start_time": "2022-09-15T15:03:09.964Z"
   },
   {
    "duration": 164,
    "start_time": "2022-09-15T15:03:10.263Z"
   },
   {
    "duration": 4,
    "start_time": "2022-09-15T15:03:10.428Z"
   },
   {
    "duration": 182,
    "start_time": "2022-09-15T15:03:10.433Z"
   },
   {
    "duration": 3,
    "start_time": "2022-09-15T15:03:10.617Z"
   },
   {
    "duration": 135,
    "start_time": "2022-09-15T15:03:10.621Z"
   },
   {
    "duration": 20,
    "start_time": "2022-09-15T15:03:10.758Z"
   },
   {
    "duration": 14,
    "start_time": "2022-09-15T15:03:10.779Z"
   },
   {
    "duration": 50,
    "start_time": "2022-09-15T15:03:10.795Z"
   },
   {
    "duration": 42,
    "start_time": "2022-09-15T15:03:10.846Z"
   },
   {
    "duration": 45,
    "start_time": "2022-09-15T15:03:10.889Z"
   },
   {
    "duration": 9,
    "start_time": "2022-09-15T15:03:10.936Z"
   },
   {
    "duration": 37,
    "start_time": "2022-09-15T15:03:10.947Z"
   },
   {
    "duration": 31,
    "start_time": "2022-09-15T15:03:43.939Z"
   },
   {
    "duration": 8,
    "start_time": "2022-09-15T15:03:48.141Z"
   },
   {
    "duration": 203,
    "start_time": "2022-09-16T08:04:04.924Z"
   },
   {
    "duration": 51,
    "start_time": "2022-09-16T08:12:51.562Z"
   },
   {
    "duration": 1226,
    "start_time": "2022-09-16T08:12:59.022Z"
   },
   {
    "duration": 76,
    "start_time": "2022-09-16T08:13:00.250Z"
   },
   {
    "duration": 9,
    "start_time": "2022-09-16T08:13:00.327Z"
   },
   {
    "duration": 22,
    "start_time": "2022-09-16T08:13:00.338Z"
   },
   {
    "duration": 224,
    "start_time": "2022-09-16T08:13:00.361Z"
   },
   {
    "duration": 11,
    "start_time": "2022-09-16T08:13:00.587Z"
   },
   {
    "duration": 209,
    "start_time": "2022-09-16T08:13:00.600Z"
   },
   {
    "duration": 0,
    "start_time": "2022-09-16T08:13:00.815Z"
   },
   {
    "duration": 0,
    "start_time": "2022-09-16T08:13:00.816Z"
   },
   {
    "duration": 0,
    "start_time": "2022-09-16T08:13:00.818Z"
   },
   {
    "duration": 0,
    "start_time": "2022-09-16T08:13:00.819Z"
   },
   {
    "duration": 0,
    "start_time": "2022-09-16T08:13:00.822Z"
   },
   {
    "duration": 0,
    "start_time": "2022-09-16T08:13:00.823Z"
   },
   {
    "duration": 0,
    "start_time": "2022-09-16T08:13:00.824Z"
   },
   {
    "duration": 0,
    "start_time": "2022-09-16T08:13:00.825Z"
   },
   {
    "duration": 0,
    "start_time": "2022-09-16T08:13:00.826Z"
   },
   {
    "duration": 0,
    "start_time": "2022-09-16T08:13:00.827Z"
   },
   {
    "duration": 0,
    "start_time": "2022-09-16T08:13:00.828Z"
   },
   {
    "duration": 0,
    "start_time": "2022-09-16T08:13:00.828Z"
   },
   {
    "duration": 0,
    "start_time": "2022-09-16T08:13:00.829Z"
   },
   {
    "duration": 0,
    "start_time": "2022-09-16T08:13:00.831Z"
   },
   {
    "duration": 0,
    "start_time": "2022-09-16T08:13:00.831Z"
   },
   {
    "duration": 0,
    "start_time": "2022-09-16T08:13:00.832Z"
   },
   {
    "duration": 0,
    "start_time": "2022-09-16T08:13:00.833Z"
   },
   {
    "duration": 0,
    "start_time": "2022-09-16T08:13:00.834Z"
   },
   {
    "duration": 0,
    "start_time": "2022-09-16T08:13:00.835Z"
   },
   {
    "duration": 72,
    "start_time": "2022-09-16T08:13:21.510Z"
   },
   {
    "duration": 10,
    "start_time": "2022-09-16T08:14:59.245Z"
   },
   {
    "duration": 12,
    "start_time": "2022-09-16T08:15:10.078Z"
   },
   {
    "duration": 1050,
    "start_time": "2022-09-16T08:15:18.240Z"
   },
   {
    "duration": 44,
    "start_time": "2022-09-16T08:15:19.293Z"
   },
   {
    "duration": 9,
    "start_time": "2022-09-16T08:15:19.338Z"
   },
   {
    "duration": 19,
    "start_time": "2022-09-16T08:15:19.349Z"
   },
   {
    "duration": 79,
    "start_time": "2022-09-16T08:15:19.369Z"
   },
   {
    "duration": 13,
    "start_time": "2022-09-16T08:15:19.450Z"
   },
   {
    "duration": 23,
    "start_time": "2022-09-16T08:15:19.465Z"
   },
   {
    "duration": 48,
    "start_time": "2022-09-16T08:15:19.489Z"
   },
   {
    "duration": 112,
    "start_time": "2022-09-16T08:15:19.538Z"
   },
   {
    "duration": 0,
    "start_time": "2022-09-16T08:15:19.652Z"
   },
   {
    "duration": 0,
    "start_time": "2022-09-16T08:15:19.654Z"
   },
   {
    "duration": 0,
    "start_time": "2022-09-16T08:15:19.656Z"
   },
   {
    "duration": 0,
    "start_time": "2022-09-16T08:15:19.657Z"
   },
   {
    "duration": 0,
    "start_time": "2022-09-16T08:15:19.658Z"
   },
   {
    "duration": 0,
    "start_time": "2022-09-16T08:15:19.660Z"
   },
   {
    "duration": 0,
    "start_time": "2022-09-16T08:15:19.661Z"
   },
   {
    "duration": 0,
    "start_time": "2022-09-16T08:15:19.662Z"
   },
   {
    "duration": 0,
    "start_time": "2022-09-16T08:15:19.664Z"
   },
   {
    "duration": 0,
    "start_time": "2022-09-16T08:15:19.665Z"
   },
   {
    "duration": 0,
    "start_time": "2022-09-16T08:15:19.667Z"
   },
   {
    "duration": 0,
    "start_time": "2022-09-16T08:15:19.668Z"
   },
   {
    "duration": 0,
    "start_time": "2022-09-16T08:15:19.669Z"
   },
   {
    "duration": 0,
    "start_time": "2022-09-16T08:15:19.671Z"
   },
   {
    "duration": 0,
    "start_time": "2022-09-16T08:15:19.672Z"
   },
   {
    "duration": 0,
    "start_time": "2022-09-16T08:15:19.703Z"
   },
   {
    "duration": 0,
    "start_time": "2022-09-16T08:15:19.704Z"
   },
   {
    "duration": 0,
    "start_time": "2022-09-16T08:15:19.707Z"
   },
   {
    "duration": 0,
    "start_time": "2022-09-16T08:15:19.708Z"
   },
   {
    "duration": 12,
    "start_time": "2022-09-16T08:16:15.548Z"
   },
   {
    "duration": 10,
    "start_time": "2022-09-16T08:16:25.715Z"
   },
   {
    "duration": 12,
    "start_time": "2022-09-16T08:16:33.915Z"
   },
   {
    "duration": 13,
    "start_time": "2022-09-16T08:16:49.078Z"
   },
   {
    "duration": 310,
    "start_time": "2022-09-16T08:17:02.015Z"
   },
   {
    "duration": 1132,
    "start_time": "2022-09-16T08:17:13.357Z"
   },
   {
    "duration": 49,
    "start_time": "2022-09-16T08:17:14.492Z"
   },
   {
    "duration": 12,
    "start_time": "2022-09-16T08:17:14.543Z"
   },
   {
    "duration": 12,
    "start_time": "2022-09-16T08:17:14.558Z"
   },
   {
    "duration": 64,
    "start_time": "2022-09-16T08:17:14.572Z"
   },
   {
    "duration": 16,
    "start_time": "2022-09-16T08:17:14.641Z"
   },
   {
    "duration": 18,
    "start_time": "2022-09-16T08:17:14.659Z"
   },
   {
    "duration": 50,
    "start_time": "2022-09-16T08:17:14.679Z"
   },
   {
    "duration": 18,
    "start_time": "2022-09-16T08:17:14.731Z"
   },
   {
    "duration": 19,
    "start_time": "2022-09-16T08:17:14.751Z"
   },
   {
    "duration": 18,
    "start_time": "2022-09-16T08:17:14.773Z"
   },
   {
    "duration": 125,
    "start_time": "2022-09-16T08:17:14.793Z"
   },
   {
    "duration": 0,
    "start_time": "2022-09-16T08:17:14.920Z"
   },
   {
    "duration": 1,
    "start_time": "2022-09-16T08:17:14.921Z"
   },
   {
    "duration": 0,
    "start_time": "2022-09-16T08:17:14.923Z"
   },
   {
    "duration": 1,
    "start_time": "2022-09-16T08:17:14.923Z"
   },
   {
    "duration": 0,
    "start_time": "2022-09-16T08:17:14.925Z"
   },
   {
    "duration": 0,
    "start_time": "2022-09-16T08:17:14.926Z"
   },
   {
    "duration": 0,
    "start_time": "2022-09-16T08:17:14.926Z"
   },
   {
    "duration": 0,
    "start_time": "2022-09-16T08:17:14.928Z"
   },
   {
    "duration": 0,
    "start_time": "2022-09-16T08:17:14.929Z"
   },
   {
    "duration": 0,
    "start_time": "2022-09-16T08:17:14.930Z"
   },
   {
    "duration": 0,
    "start_time": "2022-09-16T08:17:14.931Z"
   },
   {
    "duration": 0,
    "start_time": "2022-09-16T08:17:14.932Z"
   },
   {
    "duration": 0,
    "start_time": "2022-09-16T08:17:14.933Z"
   },
   {
    "duration": 0,
    "start_time": "2022-09-16T08:17:14.934Z"
   },
   {
    "duration": 0,
    "start_time": "2022-09-16T08:17:14.935Z"
   },
   {
    "duration": 0,
    "start_time": "2022-09-16T08:17:14.936Z"
   },
   {
    "duration": 0,
    "start_time": "2022-09-16T08:17:14.936Z"
   },
   {
    "duration": 0,
    "start_time": "2022-09-16T08:17:14.937Z"
   },
   {
    "duration": 0,
    "start_time": "2022-09-16T08:17:14.938Z"
   },
   {
    "duration": 6,
    "start_time": "2022-09-16T08:20:21.520Z"
   },
   {
    "duration": 4,
    "start_time": "2022-09-16T08:21:31.439Z"
   },
   {
    "duration": 6,
    "start_time": "2022-09-16T08:23:04.343Z"
   },
   {
    "duration": 5,
    "start_time": "2022-09-16T08:23:17.549Z"
   },
   {
    "duration": 6,
    "start_time": "2022-09-16T08:24:02.088Z"
   },
   {
    "duration": 5,
    "start_time": "2022-09-16T08:24:05.682Z"
   },
   {
    "duration": 6,
    "start_time": "2022-09-16T08:25:13.593Z"
   },
   {
    "duration": 5,
    "start_time": "2022-09-16T08:25:15.086Z"
   },
   {
    "duration": 12,
    "start_time": "2022-09-16T08:25:34.925Z"
   },
   {
    "duration": 7,
    "start_time": "2022-09-16T08:26:23.072Z"
   },
   {
    "duration": 593,
    "start_time": "2022-09-16T08:30:35.832Z"
   },
   {
    "duration": 230,
    "start_time": "2022-09-16T08:31:38.722Z"
   },
   {
    "duration": 352,
    "start_time": "2022-09-16T08:33:17.581Z"
   },
   {
    "duration": 220,
    "start_time": "2022-09-16T08:33:31.561Z"
   },
   {
    "duration": 331,
    "start_time": "2022-09-16T08:35:45.527Z"
   },
   {
    "duration": 387,
    "start_time": "2022-09-16T08:36:11.177Z"
   },
   {
    "duration": 151,
    "start_time": "2022-09-16T08:37:49.358Z"
   },
   {
    "duration": 4,
    "start_time": "2022-09-16T08:38:13.686Z"
   },
   {
    "duration": 1090,
    "start_time": "2022-09-16T08:38:24.496Z"
   },
   {
    "duration": 47,
    "start_time": "2022-09-16T08:38:25.588Z"
   },
   {
    "duration": 8,
    "start_time": "2022-09-16T08:38:25.637Z"
   },
   {
    "duration": 10,
    "start_time": "2022-09-16T08:38:25.647Z"
   },
   {
    "duration": 71,
    "start_time": "2022-09-16T08:38:25.658Z"
   },
   {
    "duration": 12,
    "start_time": "2022-09-16T08:38:25.731Z"
   },
   {
    "duration": 9,
    "start_time": "2022-09-16T08:38:25.744Z"
   },
   {
    "duration": 11,
    "start_time": "2022-09-16T08:38:25.755Z"
   },
   {
    "duration": 10,
    "start_time": "2022-09-16T08:38:25.768Z"
   },
   {
    "duration": 5,
    "start_time": "2022-09-16T08:38:25.781Z"
   },
   {
    "duration": 18,
    "start_time": "2022-09-16T08:38:25.787Z"
   },
   {
    "duration": 34,
    "start_time": "2022-09-16T08:38:25.806Z"
   },
   {
    "duration": 13,
    "start_time": "2022-09-16T08:38:25.842Z"
   },
   {
    "duration": 8,
    "start_time": "2022-09-16T08:38:25.857Z"
   },
   {
    "duration": 5,
    "start_time": "2022-09-16T08:38:25.867Z"
   },
   {
    "duration": 16,
    "start_time": "2022-09-16T08:38:25.873Z"
   },
   {
    "duration": 41,
    "start_time": "2022-09-16T08:38:25.891Z"
   },
   {
    "duration": 18,
    "start_time": "2022-09-16T08:38:25.934Z"
   },
   {
    "duration": 601,
    "start_time": "2022-09-16T08:38:25.954Z"
   },
   {
    "duration": 210,
    "start_time": "2022-09-16T08:38:26.557Z"
   },
   {
    "duration": 362,
    "start_time": "2022-09-16T08:38:26.769Z"
   },
   {
    "duration": 222,
    "start_time": "2022-09-16T08:38:27.133Z"
   },
   {
    "duration": 320,
    "start_time": "2022-09-16T08:38:27.356Z"
   },
   {
    "duration": 190,
    "start_time": "2022-09-16T08:38:27.677Z"
   },
   {
    "duration": 4,
    "start_time": "2022-09-16T08:38:27.869Z"
   },
   {
    "duration": 174,
    "start_time": "2022-09-16T08:38:27.875Z"
   },
   {
    "duration": 4,
    "start_time": "2022-09-16T08:38:28.051Z"
   },
   {
    "duration": 122,
    "start_time": "2022-09-16T08:38:28.058Z"
   },
   {
    "duration": 0,
    "start_time": "2022-09-16T08:38:28.181Z"
   },
   {
    "duration": 0,
    "start_time": "2022-09-16T08:38:28.182Z"
   },
   {
    "duration": 0,
    "start_time": "2022-09-16T08:38:28.183Z"
   },
   {
    "duration": 0,
    "start_time": "2022-09-16T08:38:28.184Z"
   },
   {
    "duration": 0,
    "start_time": "2022-09-16T08:38:28.185Z"
   },
   {
    "duration": 0,
    "start_time": "2022-09-16T08:38:28.186Z"
   },
   {
    "duration": 0,
    "start_time": "2022-09-16T08:38:28.201Z"
   },
   {
    "duration": 5,
    "start_time": "2022-09-16T08:39:49.847Z"
   },
   {
    "duration": 5,
    "start_time": "2022-09-16T08:42:07.351Z"
   },
   {
    "duration": 151,
    "start_time": "2022-09-16T08:42:29.311Z"
   },
   {
    "duration": 225,
    "start_time": "2022-09-16T08:42:38.923Z"
   },
   {
    "duration": 9,
    "start_time": "2022-09-16T08:42:47.210Z"
   },
   {
    "duration": 166,
    "start_time": "2022-09-16T08:42:48.779Z"
   },
   {
    "duration": 5,
    "start_time": "2022-09-16T08:42:59.887Z"
   },
   {
    "duration": 148,
    "start_time": "2022-09-16T08:43:02.574Z"
   },
   {
    "duration": 31,
    "start_time": "2022-09-16T08:43:11.581Z"
   },
   {
    "duration": 67,
    "start_time": "2022-09-16T08:43:15.478Z"
   },
   {
    "duration": 29,
    "start_time": "2022-09-16T08:43:25.411Z"
   },
   {
    "duration": 6,
    "start_time": "2022-09-16T08:43:30.141Z"
   },
   {
    "duration": 155,
    "start_time": "2022-09-16T08:43:32.781Z"
   },
   {
    "duration": 5,
    "start_time": "2022-09-16T08:43:50.790Z"
   },
   {
    "duration": 172,
    "start_time": "2022-09-16T08:45:14.571Z"
   },
   {
    "duration": 6,
    "start_time": "2022-09-16T08:47:23.746Z"
   },
   {
    "duration": 19,
    "start_time": "2022-09-16T08:47:32.980Z"
   },
   {
    "duration": 10,
    "start_time": "2022-09-16T08:48:00.667Z"
   },
   {
    "duration": 1101,
    "start_time": "2022-09-16T08:48:29.479Z"
   },
   {
    "duration": 46,
    "start_time": "2022-09-16T08:48:30.582Z"
   },
   {
    "duration": 10,
    "start_time": "2022-09-16T08:48:30.631Z"
   },
   {
    "duration": 20,
    "start_time": "2022-09-16T08:48:30.643Z"
   },
   {
    "duration": 74,
    "start_time": "2022-09-16T08:48:30.665Z"
   },
   {
    "duration": 12,
    "start_time": "2022-09-16T08:48:30.741Z"
   },
   {
    "duration": 13,
    "start_time": "2022-09-16T08:48:30.755Z"
   },
   {
    "duration": 16,
    "start_time": "2022-09-16T08:48:30.770Z"
   },
   {
    "duration": 23,
    "start_time": "2022-09-16T08:48:30.788Z"
   },
   {
    "duration": 5,
    "start_time": "2022-09-16T08:48:30.814Z"
   },
   {
    "duration": 36,
    "start_time": "2022-09-16T08:48:30.820Z"
   },
   {
    "duration": 10,
    "start_time": "2022-09-16T08:48:30.858Z"
   },
   {
    "duration": 7,
    "start_time": "2022-09-16T08:48:30.870Z"
   },
   {
    "duration": 7,
    "start_time": "2022-09-16T08:48:30.879Z"
   },
   {
    "duration": 5,
    "start_time": "2022-09-16T08:48:30.887Z"
   },
   {
    "duration": 18,
    "start_time": "2022-09-16T08:48:30.894Z"
   },
   {
    "duration": 12,
    "start_time": "2022-09-16T08:48:30.913Z"
   },
   {
    "duration": 7,
    "start_time": "2022-09-16T08:48:30.926Z"
   },
   {
    "duration": 548,
    "start_time": "2022-09-16T08:48:30.935Z"
   },
   {
    "duration": 232,
    "start_time": "2022-09-16T08:48:31.485Z"
   },
   {
    "duration": 293,
    "start_time": "2022-09-16T08:48:31.718Z"
   },
   {
    "duration": 211,
    "start_time": "2022-09-16T08:48:32.015Z"
   },
   {
    "duration": 318,
    "start_time": "2022-09-16T08:48:32.227Z"
   },
   {
    "duration": 169,
    "start_time": "2022-09-16T08:48:32.547Z"
   },
   {
    "duration": 3,
    "start_time": "2022-09-16T08:48:32.718Z"
   },
   {
    "duration": 145,
    "start_time": "2022-09-16T08:48:32.723Z"
   },
   {
    "duration": 5,
    "start_time": "2022-09-16T08:48:32.869Z"
   },
   {
    "duration": 216,
    "start_time": "2022-09-16T08:48:32.876Z"
   },
   {
    "duration": 0,
    "start_time": "2022-09-16T08:48:33.094Z"
   },
   {
    "duration": 0,
    "start_time": "2022-09-16T08:48:33.094Z"
   },
   {
    "duration": 0,
    "start_time": "2022-09-16T08:48:33.102Z"
   },
   {
    "duration": 0,
    "start_time": "2022-09-16T08:48:33.102Z"
   },
   {
    "duration": 0,
    "start_time": "2022-09-16T08:48:33.103Z"
   },
   {
    "duration": 0,
    "start_time": "2022-09-16T08:48:33.103Z"
   },
   {
    "duration": 0,
    "start_time": "2022-09-16T08:48:33.104Z"
   },
   {
    "duration": 0,
    "start_time": "2022-09-16T08:48:33.104Z"
   },
   {
    "duration": 0,
    "start_time": "2022-09-16T08:48:33.105Z"
   },
   {
    "duration": 1049,
    "start_time": "2022-09-16T08:49:52.428Z"
   },
   {
    "duration": 39,
    "start_time": "2022-09-16T08:49:53.479Z"
   },
   {
    "duration": 9,
    "start_time": "2022-09-16T08:49:53.520Z"
   },
   {
    "duration": 8,
    "start_time": "2022-09-16T08:49:53.532Z"
   },
   {
    "duration": 58,
    "start_time": "2022-09-16T08:49:53.542Z"
   },
   {
    "duration": 12,
    "start_time": "2022-09-16T08:49:53.601Z"
   },
   {
    "duration": 21,
    "start_time": "2022-09-16T08:49:53.615Z"
   },
   {
    "duration": 16,
    "start_time": "2022-09-16T08:49:53.639Z"
   },
   {
    "duration": 14,
    "start_time": "2022-09-16T08:49:53.657Z"
   },
   {
    "duration": 9,
    "start_time": "2022-09-16T08:49:53.674Z"
   },
   {
    "duration": 21,
    "start_time": "2022-09-16T08:49:53.684Z"
   },
   {
    "duration": 13,
    "start_time": "2022-09-16T08:49:53.707Z"
   },
   {
    "duration": 8,
    "start_time": "2022-09-16T08:49:53.721Z"
   },
   {
    "duration": 12,
    "start_time": "2022-09-16T08:49:53.731Z"
   },
   {
    "duration": 8,
    "start_time": "2022-09-16T08:49:53.744Z"
   },
   {
    "duration": 25,
    "start_time": "2022-09-16T08:49:53.753Z"
   },
   {
    "duration": 17,
    "start_time": "2022-09-16T08:49:53.779Z"
   },
   {
    "duration": 8,
    "start_time": "2022-09-16T08:49:53.797Z"
   },
   {
    "duration": 578,
    "start_time": "2022-09-16T08:49:53.807Z"
   },
   {
    "duration": 259,
    "start_time": "2022-09-16T08:49:54.387Z"
   },
   {
    "duration": 268,
    "start_time": "2022-09-16T08:49:54.648Z"
   },
   {
    "duration": 205,
    "start_time": "2022-09-16T08:49:54.918Z"
   },
   {
    "duration": 311,
    "start_time": "2022-09-16T08:49:55.124Z"
   },
   {
    "duration": 165,
    "start_time": "2022-09-16T08:49:55.437Z"
   },
   {
    "duration": 4,
    "start_time": "2022-09-16T08:49:55.603Z"
   },
   {
    "duration": 160,
    "start_time": "2022-09-16T08:49:55.609Z"
   },
   {
    "duration": 4,
    "start_time": "2022-09-16T08:49:55.771Z"
   },
   {
    "duration": 150,
    "start_time": "2022-09-16T08:49:55.777Z"
   },
   {
    "duration": 19,
    "start_time": "2022-09-16T08:49:55.929Z"
   },
   {
    "duration": 7,
    "start_time": "2022-09-16T08:49:55.950Z"
   },
   {
    "duration": 20,
    "start_time": "2022-09-16T08:49:55.959Z"
   },
   {
    "duration": 1525,
    "start_time": "2022-09-16T08:49:55.981Z"
   },
   {
    "duration": 0,
    "start_time": "2022-09-16T08:49:57.507Z"
   },
   {
    "duration": 0,
    "start_time": "2022-09-16T08:49:57.509Z"
   },
   {
    "duration": 0,
    "start_time": "2022-09-16T08:49:57.510Z"
   },
   {
    "duration": 8,
    "start_time": "2022-09-16T08:50:53.490Z"
   },
   {
    "duration": 9,
    "start_time": "2022-09-16T08:53:16.725Z"
   },
   {
    "duration": 19,
    "start_time": "2022-09-16T08:53:19.383Z"
   },
   {
    "duration": 9,
    "start_time": "2022-09-16T08:53:51.444Z"
   },
   {
    "duration": 13,
    "start_time": "2022-09-16T08:54:25.555Z"
   },
   {
    "duration": 1010,
    "start_time": "2022-09-16T08:58:55.239Z"
   },
   {
    "duration": 36,
    "start_time": "2022-09-16T08:58:56.251Z"
   },
   {
    "duration": 8,
    "start_time": "2022-09-16T08:58:56.289Z"
   },
   {
    "duration": 16,
    "start_time": "2022-09-16T08:58:56.300Z"
   },
   {
    "duration": 64,
    "start_time": "2022-09-16T08:58:56.321Z"
   },
   {
    "duration": 12,
    "start_time": "2022-09-16T08:58:56.386Z"
   },
   {
    "duration": 15,
    "start_time": "2022-09-16T08:58:56.400Z"
   },
   {
    "duration": 15,
    "start_time": "2022-09-16T08:58:56.416Z"
   },
   {
    "duration": 19,
    "start_time": "2022-09-16T08:58:56.432Z"
   },
   {
    "duration": 5,
    "start_time": "2022-09-16T08:58:56.454Z"
   },
   {
    "duration": 15,
    "start_time": "2022-09-16T08:58:56.460Z"
   },
   {
    "duration": 8,
    "start_time": "2022-09-16T08:58:56.477Z"
   },
   {
    "duration": 6,
    "start_time": "2022-09-16T08:58:56.501Z"
   },
   {
    "duration": 10,
    "start_time": "2022-09-16T08:58:56.509Z"
   },
   {
    "duration": 5,
    "start_time": "2022-09-16T08:58:56.521Z"
   },
   {
    "duration": 13,
    "start_time": "2022-09-16T08:58:56.527Z"
   },
   {
    "duration": 17,
    "start_time": "2022-09-16T08:58:56.541Z"
   },
   {
    "duration": 5,
    "start_time": "2022-09-16T08:58:56.560Z"
   },
   {
    "duration": 549,
    "start_time": "2022-09-16T08:58:56.566Z"
   },
   {
    "duration": 200,
    "start_time": "2022-09-16T08:58:57.116Z"
   },
   {
    "duration": 286,
    "start_time": "2022-09-16T08:58:57.317Z"
   },
   {
    "duration": 208,
    "start_time": "2022-09-16T08:58:57.604Z"
   },
   {
    "duration": 312,
    "start_time": "2022-09-16T08:58:57.814Z"
   },
   {
    "duration": 177,
    "start_time": "2022-09-16T08:58:58.127Z"
   },
   {
    "duration": 4,
    "start_time": "2022-09-16T08:58:58.306Z"
   },
   {
    "duration": 166,
    "start_time": "2022-09-16T08:58:58.312Z"
   },
   {
    "duration": 5,
    "start_time": "2022-09-16T08:58:58.479Z"
   },
   {
    "duration": 134,
    "start_time": "2022-09-16T08:58:58.486Z"
   },
   {
    "duration": 21,
    "start_time": "2022-09-16T08:58:58.622Z"
   },
   {
    "duration": 7,
    "start_time": "2022-09-16T08:58:58.645Z"
   },
   {
    "duration": 9,
    "start_time": "2022-09-16T08:58:58.653Z"
   },
   {
    "duration": 8,
    "start_time": "2022-09-16T08:58:58.664Z"
   },
   {
    "duration": 9,
    "start_time": "2022-09-16T08:58:58.701Z"
   },
   {
    "duration": 20,
    "start_time": "2022-09-16T08:58:58.712Z"
   },
   {
    "duration": 7,
    "start_time": "2022-09-16T08:58:58.734Z"
   },
   {
    "duration": 14,
    "start_time": "2022-09-16T08:58:58.743Z"
   },
   {
    "duration": 1198,
    "start_time": "2022-09-18T17:32:01.913Z"
   },
   {
    "duration": 89,
    "start_time": "2022-09-18T17:32:03.113Z"
   },
   {
    "duration": 9,
    "start_time": "2022-09-18T17:32:03.204Z"
   },
   {
    "duration": 14,
    "start_time": "2022-09-18T17:32:03.214Z"
   },
   {
    "duration": 176,
    "start_time": "2022-09-18T17:32:03.231Z"
   },
   {
    "duration": 15,
    "start_time": "2022-09-18T17:32:03.414Z"
   },
   {
    "duration": 30,
    "start_time": "2022-09-18T17:32:03.432Z"
   },
   {
    "duration": 19,
    "start_time": "2022-09-18T17:32:03.464Z"
   },
   {
    "duration": 17,
    "start_time": "2022-09-18T17:32:03.485Z"
   },
   {
    "duration": 6,
    "start_time": "2022-09-18T17:32:03.504Z"
   },
   {
    "duration": 22,
    "start_time": "2022-09-18T17:32:03.512Z"
   },
   {
    "duration": 16,
    "start_time": "2022-09-18T17:32:03.535Z"
   },
   {
    "duration": 7,
    "start_time": "2022-09-18T17:32:03.553Z"
   },
   {
    "duration": 7,
    "start_time": "2022-09-18T17:32:03.563Z"
   },
   {
    "duration": 7,
    "start_time": "2022-09-18T17:32:03.572Z"
   },
   {
    "duration": 12,
    "start_time": "2022-09-18T17:32:03.580Z"
   },
   {
    "duration": 10,
    "start_time": "2022-09-18T17:32:03.593Z"
   },
   {
    "duration": 20,
    "start_time": "2022-09-18T17:32:03.604Z"
   },
   {
    "duration": 564,
    "start_time": "2022-09-18T17:32:03.627Z"
   },
   {
    "duration": 207,
    "start_time": "2022-09-18T17:32:04.193Z"
   },
   {
    "duration": 364,
    "start_time": "2022-09-18T17:32:04.401Z"
   },
   {
    "duration": 209,
    "start_time": "2022-09-18T17:32:04.767Z"
   },
   {
    "duration": 308,
    "start_time": "2022-09-18T17:32:04.978Z"
   },
   {
    "duration": 176,
    "start_time": "2022-09-18T17:32:05.288Z"
   },
   {
    "duration": 4,
    "start_time": "2022-09-18T17:32:05.466Z"
   },
   {
    "duration": 181,
    "start_time": "2022-09-18T17:32:05.471Z"
   },
   {
    "duration": 4,
    "start_time": "2022-09-18T17:32:05.654Z"
   },
   {
    "duration": 155,
    "start_time": "2022-09-18T17:32:05.659Z"
   },
   {
    "duration": 24,
    "start_time": "2022-09-18T17:32:05.824Z"
   },
   {
    "duration": 13,
    "start_time": "2022-09-18T17:32:05.850Z"
   },
   {
    "duration": 22,
    "start_time": "2022-09-18T17:32:05.864Z"
   },
   {
    "duration": 16,
    "start_time": "2022-09-18T17:32:05.888Z"
   },
   {
    "duration": 9,
    "start_time": "2022-09-18T17:32:05.905Z"
   },
   {
    "duration": 30,
    "start_time": "2022-09-18T17:32:05.915Z"
   },
   {
    "duration": 10,
    "start_time": "2022-09-18T17:32:05.946Z"
   },
   {
    "duration": 11,
    "start_time": "2022-09-18T17:32:05.958Z"
   },
   {
    "duration": 12,
    "start_time": "2022-09-18T17:32:28.459Z"
   }
  ],
  "kernelspec": {
   "display_name": "Python 3 (ipykernel)",
   "language": "python",
   "name": "python3"
  },
  "language_info": {
   "codemirror_mode": {
    "name": "ipython",
    "version": 3
   },
   "file_extension": ".py",
   "mimetype": "text/x-python",
   "name": "python",
   "nbconvert_exporter": "python",
   "pygments_lexer": "ipython3",
   "version": "3.9.12"
  },
  "toc": {
   "base_numbering": 1,
   "nav_menu": {},
   "number_sections": false,
   "sideBar": true,
   "skip_h1_title": false,
   "title_cell": "Table of Contents",
   "title_sidebar": "Contents",
   "toc_cell": false,
   "toc_position": {},
   "toc_section_display": true,
   "toc_window_display": true
  }
 },
 "nbformat": 4,
 "nbformat_minor": 2
}
